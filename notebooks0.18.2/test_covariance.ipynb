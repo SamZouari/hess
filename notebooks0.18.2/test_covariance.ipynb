{
 "cells": [
  {
   "cell_type": "code",
   "execution_count": null,
   "metadata": {},
   "outputs": [],
   "source": [
    "@staticmethod\n",
    "def _expand_factor_matrix(matrix, parameters):\n",
    "        \"\"\"Expand covariance matrix with zeros for frozen parameters\"\"\"\n",
    "        npars = len(parameters)\n",
    "        matrix_expanded = np.zeros((npars, npars))\n",
    "        mask_frozen = [par.frozen for par in parameters]\n",
    "        pars_index = [np.where(np.array(parameters) == p)[0][0] for p in parameters]\n",
    "        mask_duplicate = [pars_idx != idx for idx, pars_idx in enumerate(pars_index)]\n",
    "        mask = np.array(mask_frozen) | np.array(mask_duplicate)\n",
    "        free_parameters = ~(mask | mask[:, np.newaxis])\n",
    "        matrix_expanded[free_parameters] = matrix.ravel()\n",
    "        return matrix_expanded\n",
    "\n",
    "@classmethod\n",
    "def from_factor_matrix(cls, parameters, matrix):\n",
    "        \"\"\"Set covariance from factor covariance matrix.\n",
    "\n",
    "        Used in the optimizer interface.\n",
    "        \"\"\"\n",
    "        npars = len(parameters)\n",
    "\n",
    "        if not matrix.shape == (npars, npars):\n",
    "            matrix = cls._expand_factor_matrix(matrix, parameters)\n",
    "\n",
    "        scales = [par.scale for par in parameters]\n",
    "        scale_matrix = np.outer(scales, scales)\n",
    "        data = scale_matrix * matrix\n",
    "\n",
    "        return cls(parameters, data=data)"
   ]
  },
  {
   "cell_type": "code",
   "execution_count": null,
   "metadata": {},
   "outputs": [],
   "source": [
    "@property\n",
    "def _scale_matrix(self):\n",
    "        scales = [par.scale for par in self._parameters]\n",
    "        return np.outer(scales, scales)\n",
    "\n",
    "def _expand_factor_matrix(self, matrix):\n",
    "        \"\"\"Expand covariance matrix with zeros for frozen parameters\"\"\"\n",
    "        matrix_expanded = self._empty_covariance\n",
    "        mask = np.array([par.frozen for par in self._parameters])\n",
    "        free_parameters = ~(mask | mask[:, np.newaxis])\n",
    "        matrix_expanded[free_parameters] = matrix.ravel()\n",
    "        return matrix_expanded\n",
    "\n",
    "def set_covariance_factors(self, matrix):\n",
    "        \"\"\"Set covariance from factor covariance matrix.\n",
    "\n",
    "        Used in the optimizer interface.\n",
    "        \"\"\"\n",
    "        # FIXME: this is weird to do sqrt(size). Simplify\n",
    "        if not np.sqrt(matrix.size) == len(self):\n",
    "            matrix = self._expand_factor_matrix(matrix)\n",
    "\n",
    "        self.covariance = self._scale_matrix * matrix\n",
    "\n",
    "\n",
    "def autoscale(self, method=\"scale10\"):\n",
    "        \"\"\"Autoscale all parameters.\n",
    "\n",
    "        See :func:`~gammapy.modeling.Parameter.autoscale`\n",
    "\n",
    "        Parameters\n",
    "        ----------\n",
    "        method : {'factor1', 'scale10'}\n",
    "            Method to apply\n",
    "        \"\"\"\n",
    "        for par in self._parameters:\n",
    "            par.autoscale(method)"
   ]
  }
 ],
 "metadata": {
  "kernelspec": {
   "display_name": "Python 3",
   "language": "python",
   "name": "python3"
  },
  "language_info": {
   "codemirror_mode": {
    "name": "ipython",
    "version": 3
   },
   "file_extension": ".py",
   "mimetype": "text/x-python",
   "name": "python",
   "nbconvert_exporter": "python",
   "pygments_lexer": "ipython3",
   "version": "3.7.0"
  }
 },
 "nbformat": 4,
 "nbformat_minor": 4
}
