{
 "cells": [
  {
   "cell_type": "markdown",
   "metadata": {},
   "source": [
    "# Light Curves from the computed flux points"
   ]
  },
  {
   "cell_type": "code",
   "execution_count": 1,
   "metadata": {},
   "outputs": [],
   "source": [
    "%matplotlib inline\n",
    "import matplotlib.pyplot as plt\n",
    "import numpy as np\n",
    "from scipy.stats import norm\n",
    "\n",
    "import astropy.units as u\n",
    "from astropy.coordinates import SkyCoord, Angle\n",
    "from astropy.convolution import Tophat2DKernel\n",
    "from regions import CircleSkyRegion, RectangleSkyRegion\n",
    "\n",
    "from astropy.time import Time"
   ]
  },
  {
   "cell_type": "code",
   "execution_count": 2,
   "metadata": {},
   "outputs": [
    {
     "data": {
      "text/plain": [
       "'0.18.2'"
      ]
     },
     "execution_count": 2,
     "metadata": {},
     "output_type": "execute_result"
    }
   ],
   "source": [
    "#from gammapy.detect import compute_lima_on_off_image,compute_lima_image # quelle différence entre les deux ?\n",
    "\n",
    "from gammapy.data import DataStore\n",
    "from gammapy.irf import PSFKernel\n",
    "from gammapy.maps import Map, MapAxis, WcsGeom\n",
    "from gammapy.datasets import MapDataset, Datasets, FluxPointsDataset\n",
    "from gammapy.makers import (\n",
    "    MapDatasetMaker,\n",
    "    SafeMaskMaker,\n",
    "    FoVBackgroundMaker,\n",
    ")\n",
    "from gammapy.modeling import Fit\n",
    "from gammapy.modeling.models import (\n",
    "    Models,\n",
    "    SkyModel,\n",
    "    BackgroundModel,\n",
    "    PowerLawSpectralModel,\n",
    "    PowerLaw2SpectralModel,\n",
    "    PointSpatialModel,\n",
    "    ExpCutoffPowerLawSpectralModel,\n",
    "    TemplateSpatialModel,\n",
    "    GaussianSpatialModel,\n",
    "    FoVBackgroundModel\n",
    ")\n",
    "#from gammapy.stats import significance, excess # utiles ?\n",
    "from gammapy.estimators import (\n",
    "    #LiMaMapEstimator,\n",
    "    TSMapEstimator,\n",
    "    ExcessMapEstimator,\n",
    "    FluxPointsEstimator\n",
    ")\n",
    "\n",
    "\n",
    "import gammapy\n",
    "gammapy.__version__"
   ]
  },
  {
   "cell_type": "code",
   "execution_count": 3,
   "metadata": {},
   "outputs": [],
   "source": [
    "src_pos = SkyCoord(359.94, -0.04, unit=\"deg\", frame=\"galactic\")"
   ]
  },
  {
   "cell_type": "code",
   "execution_count": 4,
   "metadata": {},
   "outputs": [],
   "source": [
    "from pathlib import Path\n",
    "\n",
    "# Directory for outputs\n",
    "\n",
    "path = Path(\"../../../hess_results/GC_variability_0.18.2/hap-fr\")\n",
    "path.mkdir(exist_ok=True)\n",
    "\n",
    "pathma = Path(path/\"mapdatasets\")\n",
    "pathma.mkdir(exist_ok=True)\n",
    "\n",
    "pathmo = Path(path/\"models\")\n",
    "pathmo.mkdir(exist_ok=True)\n",
    "\n",
    "# for consistency we will use the template using exp cutoff for both the central source and the DE\n",
    "# but it will generally require that the cutoff of the DE be frozen and set to infinity (lambda = 0)\n",
    "\n",
    "model_name = pathmo/\"models_template_2cutoff.yaml\" \n",
    "\n",
    "pathres = Path(path/\"time_analysis_annee_par_annee_bis\")\n",
    "pathres.mkdir(exist_ok=True)"
   ]
  },
  {
   "cell_type": "code",
   "execution_count": 5,
   "metadata": {},
   "outputs": [],
   "source": [
    "emin, emax = [0.5, 100] * u.TeV\n",
    "\n",
    "e_bins = 20\n",
    "\n",
    "energy_axis = MapAxis.from_energy_bounds(\n",
    "    emin.value, emax.value, e_bins, unit=\"TeV\"\n",
    ")\n",
    "geom = WcsGeom.create(\n",
    "    skydir=(0, 0),\n",
    "    binsz=0.02,\n",
    "    width=(10, 8),\n",
    "    frame=\"galactic\",\n",
    "    proj=\"CAR\",\n",
    "    axes=[energy_axis],\n",
    ")\n",
    "\n",
    "geom2d = WcsGeom.create(\n",
    "    skydir=(0, 0),\n",
    "    binsz=0.02,\n",
    "    width=(10, 8),\n",
    "    frame=\"galactic\",\n",
    "    proj=\"CAR\",\n",
    ")\n",
    "\n",
    "emintrue, emaxtrue = [0.3,200] * u.TeV\n",
    "e_bins_true = 30\n",
    "\n",
    "energy_axis_true = MapAxis.from_energy_bounds(\n",
    "    emintrue.value, emaxtrue.value, e_bins_true, unit=\"TeV\", name=\"energy_true\"\n",
    ")"
   ]
  },
  {
   "cell_type": "markdown",
   "metadata": {},
   "source": [
    "## Creating the datasets"
   ]
  },
  {
   "cell_type": "code",
   "execution_count": 6,
   "metadata": {},
   "outputs": [],
   "source": [
    "datasets_year = Datasets.read(pathma/\"datasets_year.yaml\")"
   ]
  },
  {
   "cell_type": "markdown",
   "metadata": {},
   "source": [
    "## Reading the model template"
   ]
  },
  {
   "cell_type": "code",
   "execution_count": 7,
   "metadata": {},
   "outputs": [],
   "source": [
    "modelGC,modelG09, modeldiff= Models.read(model_name)"
   ]
  },
  {
   "cell_type": "code",
   "execution_count": 8,
   "metadata": {},
   "outputs": [],
   "source": [
    "# if needed\n",
    "modelGC.parameters[\"amplitude\"].frozen = False\n",
    "modelGC.parameters[\"amplitude\"].value = 3.0e-12\n",
    "\n",
    "modelGC.parameters[\"index\"].frozen = True\n",
    "modelGC.parameters[\"index\"].value = 1.77\n",
    "\n",
    "modelGC.spectral_model.parameters['lambda_'].frozen = True\n",
    "modelGC.spectral_model.parameters['lambda_'].value = 1/5.4\n",
    "\n",
    "modeldiff.parameters[\"amplitude\"].frozen = False\n",
    "modeldiff.parameters[\"amplitude\"].value = 3.0e-12\n",
    "\n",
    "modeldiff.parameters[\"index\"].frozen = True\n",
    "modeldiff.parameters[\"index\"].value = 2.24\n",
    "\n",
    "modeldiff.spectral_model.parameters['lambda_'].frozen = True\n",
    "modeldiff.spectral_model.parameters['lambda_'].value = 0.0"
   ]
  },
  {
   "cell_type": "markdown",
   "metadata": {},
   "source": [
    "## Constructing the mask"
   ]
  },
  {
   "cell_type": "code",
   "execution_count": 9,
   "metadata": {},
   "outputs": [],
   "source": [
    "fit_region = RectangleSkyRegion(src_pos, 4*u.deg, 2*u.deg)\n",
    "\n",
    "J1745_303_region = CircleSkyRegion(SkyCoord(358.6,  -0.6, unit=\"deg\", frame=\"galactic\"), 0.5 * u.deg)\n",
    "\n",
    "fit_mask = geom.region_mask([fit_region])*geom.region_mask([J1745_303_region] , inside=False)\n",
    "\n",
    "fit_mask = Map.from_geom(geom, data=fit_mask)"
   ]
  },
  {
   "cell_type": "markdown",
   "metadata": {},
   "source": [
    "## Applying the mask and the model template"
   ]
  },
  {
   "cell_type": "code",
   "execution_count": 10,
   "metadata": {},
   "outputs": [],
   "source": [
    "for year in range(2004,2020):\n",
    "    datasets_year[f'map_{year}'].fit_mask = fit_mask\n",
    "    bkg_model = FoVBackgroundModel(dataset_name=f\"map_{year}\")\n",
    "    datasets_year[f'map_{year}'].models =  [modelGC.copy(),modelG09.copy(),modeldiff.copy(),bkg_model]"
   ]
  },
  {
   "cell_type": "markdown",
   "metadata": {},
   "source": [
    "## Flux points"
   ]
  },
  {
   "cell_type": "markdown",
   "metadata": {},
   "source": [
    "One alternative way to assess spectral variability over the years is to compute flux points for each year (but on quite large energy bins since we will lack the data to compute more than a few points)."
   ]
  },
  {
   "cell_type": "code",
   "execution_count": 11,
   "metadata": {},
   "outputs": [],
   "source": [
    "def FluxPointsFitting(dataset, e_edges):\n",
    "    # this function has to be given the number of the source model in case of multiple models\n",
    "    # more parameters exist to initialise the estimator\n",
    "    \n",
    "    fpe = FluxPointsEstimator( energy_edges=e_edges, source =0) \n",
    "    flux_points = fpe.run(datasets=[dataset]) \n",
    "    return flux_points"
   ]
  },
  {
   "cell_type": "code",
   "execution_count": 12,
   "metadata": {},
   "outputs": [],
   "source": [
    "e_edges = np.array([0.5,1,2,5,10]) * u.TeV"
   ]
  },
  {
   "cell_type": "code",
   "execution_count": 13,
   "metadata": {},
   "outputs": [],
   "source": [
    "years = [k for k in range(2004,2020)]\n",
    "years.remove(2017)"
   ]
  },
  {
   "cell_type": "code",
   "execution_count": 14,
   "metadata": {},
   "outputs": [
    {
     "name": "stderr",
     "output_type": "stream",
     "text": [
      "HDU 'MASK_FIT' not found\n",
      "HDU 'MASK_FIT' not found\n",
      "HDU 'MASK_FIT' not found\n",
      "HDU 'MASK_FIT' not found\n",
      "HDU 'MASK_FIT' not found\n",
      "HDU 'MASK_FIT' not found\n",
      "HDU 'MASK_FIT' not found\n",
      "HDU 'MASK_FIT' not found\n",
      "HDU 'MASK_FIT' not found\n",
      "HDU 'MASK_FIT' not found\n",
      "HDU 'MASK_FIT' not found\n",
      "HDU 'MASK_FIT' not found\n",
      "HDU 'MASK_FIT' not found\n",
      "HDU 'MASK_FIT' not found\n",
      "HDU 'MASK_FIT' not found\n"
     ]
    }
   ],
   "source": [
    "flux_years = {0 : [], 1 : [], 2 : [], 3 : []}\n",
    "\n",
    "for year in years:\n",
    "    flux_points = FluxPointsFitting(datasets_year[f\"map_{year}\"], e_edges)\n",
    "    for k in range(len(e_edges) - 1):\n",
    "        flux_years[k].append(flux_points.table[k])"
   ]
  },
  {
   "cell_type": "code",
   "execution_count": 16,
   "metadata": {},
   "outputs": [],
   "source": [
    "import scipy.stats as stats\n",
    "\n",
    "from astropy.modeling import models, fitting\n",
    "\n",
    "from scipy.stats import chisquare, chi2\n",
    "\n",
    "# chi2 non réduit\n",
    "def chisq(obs, exp, error):\n",
    "    chisq = 0\n",
    "    for i in range(len(obs)):\n",
    "        chisq = chisq + ((obs[i]-exp)**2)/(error[i]**2)\n",
    "    return chisq\n",
    "\n",
    "# chi2 réduit\n",
    "def chisqr(obs, exp, error):\n",
    "    chisqr = 0\n",
    "    for i in range(len(obs)):\n",
    "        chisqr = chisqr + ((obs[i]-exp)**2)/(error[i]**2)\n",
    "    return chisqr/(len(obs) -1)\n",
    "\n",
    "def pval(obs, exp, error, nddl): # number of DoF is the number of points minus number of fitted parameters (1 for a constant)\n",
    "    chisq = 0\n",
    "    for i in range(len(obs)):\n",
    "        chisq = chisq + ((obs[i]-exp)**2)/(error[i]**2)\n",
    "    pval = 1 - chi2.cdf(chisq, nddl)\n",
    "    return pval"
   ]
  },
  {
   "cell_type": "code",
   "execution_count": 20,
   "metadata": {},
   "outputs": [
    {
     "name": "stderr",
     "output_type": "stream",
     "text": [
      "WARNING: Model is linear in parameters; consider using linear fitting methods. [astropy.modeling.fitting]\n",
      "WARNING: Model is linear in parameters; consider using linear fitting methods. [astropy.modeling.fitting]\n",
      "WARNING: Model is linear in parameters; consider using linear fitting methods. [astropy.modeling.fitting]\n",
      "WARNING: Model is linear in parameters; consider using linear fitting methods. [astropy.modeling.fitting]\n"
     ]
    },
    {
     "data": {
      "image/png": "[encoded data removed]",
      "text/plain": [
       "<Figure size 720x504 with 1 Axes>"
      ]
     },
     "metadata": {
      "needs_background": "light"
     },
     "output_type": "display_data"
    },
    {
     "data": {
      "image/png": "[encoded data removed]",
      "text/plain": [
       "<Figure size 720x504 with 1 Axes>"
      ]
     },
     "metadata": {
      "needs_background": "light"
     },
     "output_type": "display_data"
    },
    {
     "data": {
      "image/png": "[encoded data removed]",
      "text/plain": [
       "<Figure size 720x504 with 1 Axes>"
      ]
     },
     "metadata": {
      "needs_background": "light"
     },
     "output_type": "display_data"
    },
    {
     "data": {
      "image/png": "[encoded data removed]",
      "text/plain": [
       "<Figure size 720x504 with 1 Axes>"
      ]
     },
     "metadata": {
      "needs_background": "light"
     },
     "output_type": "display_data"
    }
   ],
   "source": [
    "#problem for 2011\n",
    "\n",
    "for k in range(len(e_edges) - 1) :\n",
    "    y = []\n",
    "    y_uncs = []\n",
    "    \n",
    "    years = [k for k in range(2004,2020)]\n",
    "    years.remove(2017)\n",
    "    \n",
    "    for l,year in zip(range(len(years)),years):\n",
    "        if k!=3 or (k==3 and year!=2011):\n",
    "            y.append(flux_years[k][l]['dnde'])\n",
    "            y_uncs.append(flux_years[k][l]['dnde_err'])\n",
    "    \n",
    "    if k == 3:\n",
    "        years.remove(2011)\n",
    "    x = years\n",
    "\n",
    "    \n",
    "    t_init = models.Const1D(1e-12)\n",
    "    fit_t = fitting.LevMarLSQFitter()\n",
    "    t = fit_t(t_init, x, y) #, weights=1.0/y_uncs)\n",
    "\n",
    "    A1 = y\n",
    "    A2 = t(2004)\n",
    "    err_bars = y_uncs\n",
    "    \n",
    "    pv = pval(A1, A2, err_bars, len(A1)-1)\n",
    "    \n",
    "    error_const = np.sqrt(sum([a**2 for a in err_bars]))/len(A1)\n",
    "\n",
    "    # Plot the data with the best-fit model\n",
    "    plt.figure(figsize=(10,7))\n",
    "    plt.plot(x, y, 'ko')\n",
    "    plt.errorbar(x, y, yerr=y_uncs, fmt='kx', label=\"data\")\n",
    "    plt.plot(x, t(x), label=f\"constant flux = {A2:0.2e} ± {error_const:0.1e}, pval = {pv:0.3f}\")\n",
    "    \n",
    "    plt.xlabel('year')\n",
    "    plt.ylabel('Flux (1/cm²s¹)')\n",
    "    \n",
    "    plt.legend(loc=1)\n",
    "    \n",
    "    plt.title(\"Flux points of HESS J1745-290 (\"+str(e_edges[k]) +\" - \"+ str(e_edges[k+1])+\")\")\n",
    "    name = \"GC_FP_bin\"+str(k)+\"_fr.pdf\"\n",
    "    plt.savefig(pathres/name)"
   ]
  },
  {
   "cell_type": "code",
   "execution_count": null,
   "metadata": {},
   "outputs": [],
   "source": []
  }
 ],
 "metadata": {
  "kernelspec": {
   "display_name": "Python 3",
   "language": "python",
   "name": "python3"
  },
  "language_info": {
   "codemirror_mode": {
    "name": "ipython",
    "version": 3
   },
   "file_extension": ".py",
   "mimetype": "text/x-python",
   "name": "python",
   "nbconvert_exporter": "python",
   "pygments_lexer": "ipython3",
   "version": "3.7.0"
  }
 },
 "nbformat": 4,
 "nbformat_minor": 4
}
