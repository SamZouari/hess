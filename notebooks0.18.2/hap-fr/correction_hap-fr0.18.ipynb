{
 "cells": [
  {
   "cell_type": "markdown",
   "metadata": {},
   "source": [
    "# Correction des noms d'extension dans les données HAP-fr"
   ]
  },
  {
   "cell_type": "code",
   "execution_count": 50,
   "metadata": {},
   "outputs": [],
   "source": [
    "import numpy as np\n",
    "import glob as glob\n",
    "from astropy.table import Table\n",
    "\n",
    "from pathlib import Path\n",
    "\n",
    "bkg_files = glob.glob(\"../../../../gammapy_data/ash_stereo_Prod17_Calib0834_thsq64/Background1.0/bkg_files/bkg*.fits.gz\")\n",
    "\n",
    "for filename in bkg_files:\n",
    "    table = Table.read(filename)\n",
    "    table.meta['EXTNAME']='BKG'\n",
    "    table.write(filename, overwrite=True)\n",
    "    \n",
    "hdutable = Table.read(\"../../../../gammapy_data/ash_stereo_Prod17_Calib0834_thsq64/hdu-index.fits.gz\")\n",
    "\n",
    "idx = np.where(hdutable[\"HDU_NAME\"]==\"BKG0\")[0]\n",
    "for i in idx:\n",
    "    hdutable[i][\"HDU_NAME\"]=\"BKG\" \n",
    "hdutable.write(\"../../../../gammapy_data/ash_stereo_Prod17_Calib0834_thsq64/hdu-index.fits.gz\", overwrite=True)"
   ]
  }
 ],
 "metadata": {
  "kernelspec": {
   "display_name": "Python 3",
   "language": "python",
   "name": "python3"
  },
  "language_info": {
   "codemirror_mode": {
    "name": "ipython",
    "version": 3
   },
   "file_extension": ".py",
   "mimetype": "text/x-python",
   "name": "python",
   "nbconvert_exporter": "python",
   "pygments_lexer": "ipython3",
   "version": "3.7.0"
  }
 },
 "nbformat": 4,
 "nbformat_minor": 4
}
