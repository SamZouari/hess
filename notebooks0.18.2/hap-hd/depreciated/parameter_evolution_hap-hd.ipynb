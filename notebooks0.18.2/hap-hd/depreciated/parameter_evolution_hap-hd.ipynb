{
 "cells": [
  {
   "cell_type": "markdown",
   "metadata": {},
   "source": [
    "# Time Evolution"
   ]
  },
  {
   "cell_type": "code",
   "execution_count": 1,
   "metadata": {},
   "outputs": [],
   "source": [
    "%matplotlib inline\n",
    "import matplotlib.pyplot as plt\n",
    "import numpy as np\n",
    "from scipy.stats import norm\n",
    "\n",
    "import astropy.units as u\n",
    "from astropy.coordinates import SkyCoord, Angle\n",
    "from astropy.convolution import Tophat2DKernel\n",
    "from regions import CircleSkyRegion, RectangleSkyRegion\n",
    "\n",
    "from astropy.time import Time"
   ]
  },
  {
   "cell_type": "code",
   "execution_count": 2,
   "metadata": {},
   "outputs": [
    {
     "data": {
      "text/plain": [
       "'0.18.2'"
      ]
     },
     "execution_count": 2,
     "metadata": {},
     "output_type": "execute_result"
    }
   ],
   "source": [
    "#from gammapy.detect import compute_lima_on_off_image,compute_lima_image # quelle différence entre les deux ?\n",
    "\n",
    "from gammapy.data import DataStore\n",
    "from gammapy.irf import PSFKernel\n",
    "from gammapy.maps import Map, MapAxis, WcsGeom\n",
    "from gammapy.datasets import MapDataset, Datasets, FluxPointsDataset\n",
    "from gammapy.makers import (\n",
    "    MapDatasetMaker,\n",
    "    SafeMaskMaker,\n",
    "    FoVBackgroundMaker,\n",
    ")\n",
    "from gammapy.modeling import Fit\n",
    "from gammapy.modeling.models import (\n",
    "    Models,\n",
    "    SkyModel,\n",
    "    BackgroundModel,\n",
    "    PowerLawSpectralModel,\n",
    "    PowerLaw2SpectralModel,\n",
    "    PointSpatialModel,\n",
    "    ExpCutoffPowerLawSpectralModel,\n",
    "    TemplateSpatialModel,\n",
    "    GaussianSpatialModel,\n",
    "    FoVBackgroundModel\n",
    ")\n",
    "#from gammapy.stats import significance, excess # utiles ?\n",
    "from gammapy.estimators import (\n",
    "    #LiMaMapEstimator,\n",
    "    TSMapEstimator,\n",
    "    ExcessMapEstimator,\n",
    "    FluxPointsEstimator\n",
    ")\n",
    "\n",
    "\n",
    "import gammapy\n",
    "gammapy.__version__"
   ]
  },
  {
   "cell_type": "code",
   "execution_count": 3,
   "metadata": {},
   "outputs": [],
   "source": [
    "src_pos = SkyCoord(359.94, -0.04, unit=\"deg\", frame=\"galactic\")"
   ]
  },
  {
   "cell_type": "code",
   "execution_count": 4,
   "metadata": {},
   "outputs": [],
   "source": [
    "emin, emax = [0.5, 100] * u.TeV\n",
    "\n",
    "e_bins = 20\n",
    "\n",
    "energy_axis = MapAxis.from_energy_bounds(\n",
    "    emin.value, emax.value, e_bins, unit=\"TeV\"\n",
    ")\n",
    "geom = WcsGeom.create(\n",
    "    skydir=(0, 0),\n",
    "    binsz=0.02,\n",
    "    width=(10, 8),\n",
    "    frame=\"galactic\",\n",
    "    proj=\"CAR\",\n",
    "    axes=[energy_axis],\n",
    ")\n",
    "\n",
    "geom2d = WcsGeom.create(\n",
    "    skydir=(0, 0),\n",
    "    binsz=0.02,\n",
    "    width=(10, 8),\n",
    "    frame=\"galactic\",\n",
    "    proj=\"CAR\",\n",
    ")\n",
    "\n",
    "emintrue, emaxtrue = [0.3,200] * u.TeV\n",
    "e_bins_true = 30\n",
    "\n",
    "energy_axis_true = MapAxis.from_energy_bounds(\n",
    "    emintrue.value, emaxtrue.value, e_bins_true, unit=\"TeV\", name=\"energy_true\"\n",
    ")"
   ]
  },
  {
   "cell_type": "code",
   "execution_count": 22,
   "metadata": {},
   "outputs": [],
   "source": [
    "from pathlib import Path\n",
    "\n",
    "# Directory for outputs\n",
    "\n",
    "path = Path(\"../../../hess_results/GC_variability_0.18.2/hap-hd\")\n",
    "path.mkdir(exist_ok=True)\n",
    "\n",
    "pathm = Path(path/\"mapdatasets\")\n",
    "pathm.mkdir(exist_ok=True)\n",
    "\n",
    "pathp = Path(path/\"parameter_stability\")\n",
    "pathp.mkdir(exist_ok=True)\n",
    "\n",
    "pathpar = Path(pathp/\"2amps_2indexes_2cutoff\")\n",
    "pathpar.mkdir(exist_ok=True)\n",
    "\n",
    "# To find the model template\n",
    "pathmo = Path(path/\"models\")\n",
    "pathmo.mkdir(exist_ok=True)\n",
    "\n",
    "model_name = pathmo/\"models_template_2cutoff.yaml\""
   ]
  },
  {
   "cell_type": "markdown",
   "metadata": {},
   "source": [
    "## Creating the datasets"
   ]
  },
  {
   "cell_type": "code",
   "execution_count": 23,
   "metadata": {},
   "outputs": [],
   "source": [
    "datasets_year = Datasets.read(pathm/\"datasets_year.yaml\")"
   ]
  },
  {
   "cell_type": "markdown",
   "metadata": {},
   "source": [
    "## Reading the model template"
   ]
  },
  {
   "cell_type": "code",
   "execution_count": 24,
   "metadata": {},
   "outputs": [],
   "source": [
    "modelGC,modelG09, modeldiff= Models.read(model_name)"
   ]
  },
  {
   "cell_type": "code",
   "execution_count": 25,
   "metadata": {},
   "outputs": [],
   "source": [
    "# if needed\n",
    "modelGC.parameters[\"amplitude\"].frozen = False\n",
    "modelGC.parameters[\"amplitude\"].value = 3.0e-12\n",
    "\n",
    "modelGC.parameters[\"index\"].frozen = False\n",
    "modelGC.parameters[\"index\"].value = 1.77\n",
    "\n",
    "modelGC.spectral_model.parameters['lambda_'].frozen = False\n",
    "modelGC.spectral_model.parameters['lambda_'].value = 1/5.4\n",
    "\n",
    "modeldiff.parameters[\"amplitude\"].frozen = False\n",
    "modeldiff.parameters[\"amplitude\"].value = 3.0e-12\n",
    "\n",
    "modeldiff.parameters[\"index\"].frozen = False\n",
    "modeldiff.parameters[\"index\"].value = 2.24\n",
    "\n",
    "modeldiff.spectral_model.parameters['lambda_'].frozen = False\n",
    "modeldiff.spectral_model.parameters['lambda_'].value = 0.0"
   ]
  },
  {
   "cell_type": "markdown",
   "metadata": {},
   "source": [
    "## Constructing the mask"
   ]
  },
  {
   "cell_type": "code",
   "execution_count": 26,
   "metadata": {},
   "outputs": [],
   "source": [
    "fit_region = RectangleSkyRegion(src_pos, 4*u.deg, 2*u.deg)\n",
    "\n",
    "J1745_303_region = CircleSkyRegion(SkyCoord(358.6,  -0.6, unit=\"deg\", frame=\"galactic\"), 0.5 * u.deg)\n",
    "\n",
    "fit_mask = geom.region_mask([fit_region])*geom.region_mask([J1745_303_region] , inside=False)\n",
    "\n",
    "fit_mask = Map.from_geom(geom, data=fit_mask)"
   ]
  },
  {
   "cell_type": "markdown",
   "metadata": {},
   "source": [
    "## Applying the mask and the model template"
   ]
  },
  {
   "cell_type": "code",
   "execution_count": 27,
   "metadata": {},
   "outputs": [],
   "source": [
    "for year in range(2004,2020):\n",
    "    datasets_year[f'map_{year}'].fit_mask = fit_mask\n",
    "    bkg_model = FoVBackgroundModel(dataset_name=f\"map_{year}\")\n",
    "    datasets_year[f'map_{year}'].models =  [modelGC.copy(),modelG09.copy(),modeldiff.copy(),bkg_model]"
   ]
  },
  {
   "cell_type": "markdown",
   "metadata": {},
   "source": [
    "# Fitting the datasets"
   ]
  },
  {
   "cell_type": "code",
   "execution_count": 28,
   "metadata": {},
   "outputs": [],
   "source": [
    "def fit_dataset(mapdataset):\n",
    "    fit = Fit([mapdataset])\n",
    "    result = fit.run()\n",
    "    \n",
    "    table = result.parameters.to_table()\n",
    "    \n",
    "    #cov = result.parameters.covariance\n",
    "    \n",
    "    return table, result# , cov"
   ]
  },
  {
   "cell_type": "code",
   "execution_count": 29,
   "metadata": {},
   "outputs": [
    {
     "name": "stderr",
     "output_type": "stream",
     "text": [
      "HDU 'MASK_FIT' not found\n",
      "HDU 'MASK_FIT' not found\n",
      "HDU 'MASK_FIT' not found\n",
      "HDU 'MASK_FIT' not found\n",
      "HDU 'MASK_FIT' not found\n",
      "HDU 'MASK_FIT' not found\n",
      "HDU 'MASK_FIT' not found\n",
      "HDU 'MASK_FIT' not found\n",
      "HDU 'MASK_FIT' not found\n",
      "HDU 'MASK_FIT' not found\n",
      "HDU 'MASK_FIT' not found\n",
      "HDU 'MASK_FIT' not found\n",
      "HDU 'MASK_FIT' not found\n",
      "HDU 'MASK_FIT' not found\n",
      "HDU 'MASK_FIT' not found\n",
      "HDU 'MASK_FIT' not found\n"
     ]
    },
    {
     "name": "stdout",
     "output_type": "stream",
     "text": [
      "CPU times: user 13min 54s, sys: 1min 18s, total: 15min 12s\n",
      "Wall time: 15min 13s\n"
     ]
    }
   ],
   "source": [
    "%%time\n",
    "\n",
    "results_per_year = dict()\n",
    "results = []\n",
    "cov_per_year = dict()\n",
    "\n",
    "for year in range(2004,2020):\n",
    "    \n",
    "    table, result = fit_dataset(datasets_year[f\"map_{year}\"])\n",
    "    \n",
    "    results.append(result)\n",
    "    \n",
    "    results_per_year[year] = table"
   ]
  },
  {
   "cell_type": "code",
   "execution_count": 30,
   "metadata": {},
   "outputs": [],
   "source": [
    "years = []\n",
    "for year in range(2004,2020):\n",
    "    if results[year-2004].message =='Optimization terminated successfully.':\n",
    "        years.append(year)"
   ]
  },
  {
   "cell_type": "markdown",
   "metadata": {},
   "source": [
    "# Extracting parameters (only one cell to run)"
   ]
  },
  {
   "cell_type": "code",
   "execution_count": 31,
   "metadata": {},
   "outputs": [],
   "source": [
    "# Spectral models with 2 cutoffs (both indexes unfrozen)\n",
    "\n",
    "indexGC = []\n",
    "indexGC_err = []\n",
    "ampsGC = []\n",
    "ampsGC_err = []\n",
    "lambdaGC = []\n",
    "lambdaGC_err = []\n",
    "\n",
    "indexdiff = []\n",
    "indexdiff_err = []\n",
    "ampsdiff = []\n",
    "ampsdiff_err = []\n",
    "lambdadiff = []\n",
    "lambdadiff_err = []\n",
    "\n",
    "norms = []\n",
    "norms_err = []\n",
    "\n",
    "\n",
    "for year in years:\n",
    "    modelGC = datasets_year[f'map_{year}'].models[0].spectral_model\n",
    "    modeldiff = datasets_year[f'map_{year}'].models[2].spectral_model\n",
    "    \n",
    "    indexGC.append(modelGC.index.value)\n",
    "    indexGC_err.append(modelGC.index.error)\n",
    "    ampsGC.append(modelGC.amplitude.value)\n",
    "    ampsGC_err.append(modelGC.amplitude.error)\n",
    "    lambdaGC.append(modelGC.lambda_.value)\n",
    "    lambdaGC_err.append(modelGC.lambda_.error)\n",
    "    \n",
    "    indexdiff.append(modeldiff.index.value)\n",
    "    indexdiff_err.append(modeldiff.index.error)    \n",
    "    ampsdiff.append(modeldiff.amplitude.value)\n",
    "    ampsdiff_err.append(modeldiff.amplitude.error)\n",
    "    lambdadiff.append(modeldiff.lambda_.value)\n",
    "    lambdadiff_err.append(modeldiff.lambda_.error)\n",
    "   \n",
    "    #norms.append(results_per_year[year]['value'][18])\n",
    "    #norms_err.append(results_per_year[year]['error'][18])"
   ]
  },
  {
   "cell_type": "markdown",
   "metadata": {},
   "source": [
    "# Saving the results"
   ]
  },
  {
   "cell_type": "markdown",
   "metadata": {},
   "source": [
    "## Fitting a time evolution model"
   ]
  },
  {
   "cell_type": "code",
   "execution_count": 32,
   "metadata": {},
   "outputs": [],
   "source": [
    "import scipy.stats as stats\n",
    "\n",
    "from astropy.modeling import models, fitting\n",
    "\n",
    "from scipy.stats import chisquare, chi2\n",
    "\n",
    "# chi2 non réduit\n",
    "def chisq(obs, exp, error):\n",
    "    chisq = 0\n",
    "    for i in range(len(obs)):\n",
    "        chisq = chisq + ((obs[i]-exp)**2)/(error[i]**2)\n",
    "    return chisq\n",
    "\n",
    "# chi2 réduit\n",
    "def chisqr(obs, exp, error):\n",
    "    chisqr = 0\n",
    "    for i in range(len(obs)):\n",
    "        chisqr = chisqr + ((obs[i]-exp)**2)/(error[i]**2)\n",
    "    return chisqr/(len(obs) -1)\n",
    "\n",
    "def pval(obs, exp, error, nddl): # number of DoF is the number of points minus number of fitted parameters (1 for a constant)\n",
    "    chisq = 0\n",
    "    for i in range(len(obs)):\n",
    "        chisq = chisq + ((obs[i]-exp)**2)/(error[i]**2)\n",
    "    pval = 1 - chi2.cdf(chisq, nddl)\n",
    "    return pval"
   ]
  },
  {
   "cell_type": "markdown",
   "metadata": {},
   "source": [
    "## Displaying parameters evolution"
   ]
  },
  {
   "cell_type": "code",
   "execution_count": 33,
   "metadata": {},
   "outputs": [
    {
     "name": "stderr",
     "output_type": "stream",
     "text": [
      "WARNING: Model is linear in parameters; consider using linear fitting methods. [astropy.modeling.fitting]\n"
     ]
    },
    {
     "data": {
      "image/png": "[encoded data removed]",
      "text/plain": [
       "<Figure size 720x504 with 1 Axes>"
      ]
     },
     "metadata": {
      "needs_background": "light"
     },
     "output_type": "display_data"
    }
   ],
   "source": [
    "x = years\n",
    "y = ampsGC\n",
    "y_uncs = ampsGC_err\n",
    "\n",
    "# Fit the data using a box model.\n",
    "# Bounds are not really needed but included here to demonstrate usage.\n",
    "t_init = models.Const1D(1e-12)\n",
    "fit_t = fitting.LevMarLSQFitter()\n",
    "t = fit_t(t_init, x, y) #, weights=1.0/y_uncs)\n",
    "\n",
    "# évaluation du chi2 réduit\n",
    "A1 = y\n",
    "A2 = t(2004)\n",
    "err_bars = y_uncs\n",
    "\n",
    "pv = pval(A1, A2, err_bars, len(A1)-1)\n",
    "error_const = np.sqrt(sum([a**2 for a in err_bars]))/len(A1)\n",
    "\n",
    "# Plot the data with the best-fit model\n",
    "plt.figure(figsize=(10,7))\n",
    "plt.plot(x, y, 'ko')\n",
    "plt.errorbar(x, y, yerr=y_uncs, fmt='kx', label=\"data\")\n",
    "plt.plot(x, t(x), label=f\"constant flux = {A2:0.2e} ± {error_const:0.1e}, pval = {pv:0.3f}\")\n",
    "plt.xlabel('year')\n",
    "plt.ylabel(r'Spectral amplitude $(cm^2.s^1.TeV^1)^{-1}$')\n",
    "plt.legend(loc=1)\n",
    "plt.title(\"HESS J1745-290 spectral amplitude (hap-fr)\")\n",
    "plt.savefig(pathpar/\"ampGC_hd.pdf\")"
   ]
  },
  {
   "cell_type": "code",
   "execution_count": 34,
   "metadata": {},
   "outputs": [
    {
     "name": "stderr",
     "output_type": "stream",
     "text": [
      "WARNING: Model is linear in parameters; consider using linear fitting methods. [astropy.modeling.fitting]\n"
     ]
    },
    {
     "data": {
      "image/png": "[encoded data removed]",
      "text/plain": [
       "<Figure size 720x504 with 1 Axes>"
      ]
     },
     "metadata": {
      "needs_background": "light"
     },
     "output_type": "display_data"
    }
   ],
   "source": [
    "x = years\n",
    "y = ampsdiff\n",
    "y_uncs = ampsdiff_err\n",
    "\n",
    "# Fit the data using a box model.\n",
    "# Bounds are not really needed but included here to demonstrate usage.\n",
    "t_init = models.Const1D(1)\n",
    "fit_t = fitting.LevMarLSQFitter()\n",
    "t = fit_t(t_init, x, y) #, weights=1.0/y_uncs)\n",
    "\n",
    "# évaluation du chi2 réduit\n",
    "A1 = y\n",
    "A2 = t(2004)\n",
    "err_bars = y_uncs\n",
    "\n",
    "pv = pval(A1, A2, err_bars, len(A1)-1)\n",
    "error_const = np.sqrt(sum([a**2 for a in err_bars]))/len(A1)\n",
    "\n",
    "# Plot the data with the best-fit model\n",
    "plt.figure(figsize=(10,7))\n",
    "plt.plot(x, y, 'ko')\n",
    "plt.errorbar(x, y, yerr=y_uncs, fmt='kx', label=\"data\")\n",
    "plt.plot(x, t(x), label=f\"constant flux = {A2:0.2e} ± {error_const:0.1e}, pval = {pv:0.3f}\")\n",
    "plt.xlabel('year')\n",
    "plt.ylabel(r'Spectral amplitude $(cm^2.s^1.TeV^1)^{-1}$')\n",
    "plt.legend(loc=1)\n",
    "plt.title(\"Diffuse emission spectral amplitude (hap-fr)\")\n",
    "plt.savefig(pathpar/\"ampdiff_hd.pdf\")"
   ]
  },
  {
   "cell_type": "code",
   "execution_count": 35,
   "metadata": {},
   "outputs": [
    {
     "name": "stderr",
     "output_type": "stream",
     "text": [
      "WARNING: Model is linear in parameters; consider using linear fitting methods. [astropy.modeling.fitting]\n"
     ]
    },
    {
     "data": {
      "image/png": "[encoded data removed]",
      "text/plain": [
       "<Figure size 720x504 with 1 Axes>"
      ]
     },
     "metadata": {
      "needs_background": "light"
     },
     "output_type": "display_data"
    }
   ],
   "source": [
    "x = years\n",
    "y = indexGC\n",
    "y_uncs = indexGC_err\n",
    "\n",
    "# Fit the data using a box model.\n",
    "# Bounds are not really needed but included here to demonstrate usage.\n",
    "t_init = models.Const1D(1)\n",
    "fit_t = fitting.LevMarLSQFitter()\n",
    "t = fit_t(t_init, x, y) #, weights=1.0/y_uncs)\n",
    "\n",
    "# évaluation du chi2 réduit\n",
    "A1 = y\n",
    "A2 = t(2004)\n",
    "err_bars = y_uncs\n",
    "\n",
    "pv = pval(A1, A2, err_bars, len(A1)-1)\n",
    "error_const = np.sqrt(sum([a**2 for a in err_bars]))/len(A1)\n",
    "\n",
    "# Plot the data with the best-fit model\n",
    "plt.figure(figsize=(10,7))\n",
    "plt.plot(x, y, 'ko')\n",
    "plt.errorbar(x, y, yerr=y_uncs, fmt='kx', label=\"data\")\n",
    "plt.plot(x, t(x), label=f\"constant index = {A2:0.2f} ± {error_const:0.1f}, pval = {pv:0.3e}\")\n",
    "plt.xlabel('year')\n",
    "plt.ylabel('Spectral index')\n",
    "plt.legend(loc=1)\n",
    "plt.title(\"HESS J1745-290 spectral index (hap-fr)\")\n",
    "plt.savefig(pathpar/\"index_GC_hd.pdf\")"
   ]
  },
  {
   "cell_type": "code",
   "execution_count": 36,
   "metadata": {},
   "outputs": [
    {
     "name": "stderr",
     "output_type": "stream",
     "text": [
      "WARNING: Model is linear in parameters; consider using linear fitting methods. [astropy.modeling.fitting]\n"
     ]
    },
    {
     "data": {
      "image/png": "[encoded data removed]",
      "text/plain": [
       "<Figure size 720x504 with 1 Axes>"
      ]
     },
     "metadata": {
      "needs_background": "light"
     },
     "output_type": "display_data"
    }
   ],
   "source": [
    "x = years\n",
    "y = indexdiff\n",
    "y_uncs = indexdiff_err\n",
    "\n",
    "# Fit the data using a box model.\n",
    "# Bounds are not really needed but included here to demonstrate usage.\n",
    "t_init = models.Const1D(1)\n",
    "fit_t = fitting.LevMarLSQFitter()\n",
    "t = fit_t(t_init, x, y) #, weights=1.0/y_uncs)\n",
    "\n",
    "# évaluation du chi2 réduit\n",
    "A1 = y\n",
    "A2 = t(2004)\n",
    "err_bars = y_uncs\n",
    "\n",
    "pv = pval(A1, A2, err_bars, len(A1)-1)\n",
    "error_const = np.sqrt(sum([a**2 for a in err_bars]))/len(A1)\n",
    "\n",
    "# Plot the data with the best-fit model\n",
    "plt.figure(figsize=(10,7))\n",
    "plt.plot(x, y, 'ko')\n",
    "plt.errorbar(x, y, yerr=y_uncs, fmt='kx', label=\"data\")\n",
    "plt.plot(x, t(x), label=f\"constant index = {A2:0.2f} ± {error_const:0.1f}, pval = {pv:0.3e}\")\n",
    "plt.xlabel('year')\n",
    "plt.ylabel('Spectral index')\n",
    "plt.legend(loc=1)\n",
    "plt.title(\"Diffuse emission spectral index (hap-fr)\")\n",
    "plt.savefig(pathpar/\"index_diff_hd.pdf\")"
   ]
  },
  {
   "cell_type": "code",
   "execution_count": 37,
   "metadata": {},
   "outputs": [
    {
     "name": "stderr",
     "output_type": "stream",
     "text": [
      "WARNING: Model is linear in parameters; consider using linear fitting methods. [astropy.modeling.fitting]\n"
     ]
    },
    {
     "data": {
      "image/png": "[encoded data removed]",
      "text/plain": [
       "<Figure size 720x504 with 1 Axes>"
      ]
     },
     "metadata": {
      "needs_background": "light"
     },
     "output_type": "display_data"
    }
   ],
   "source": [
    "x = years\n",
    "y = 1/np.array(lambdaGC)\n",
    "y_uncs = y*(np.array(lambdaGC_err)/np.array(lambdaGC))\n",
    "\n",
    "# Fit the data using a box model.\n",
    "# Bounds are not really needed but included here to demonstrate usage.\n",
    "t_init = models.Const1D(10)\n",
    "fit_t = fitting.LevMarLSQFitter()\n",
    "t = fit_t(t_init, x, y) #, weights=1.0/y_uncs)\n",
    "\n",
    "# évaluation du chi2 réduit\n",
    "A1 = y\n",
    "A2 = t(2004)\n",
    "err_bars = y_uncs\n",
    "\n",
    "pv = pval(A1, A2, err_bars, len(A1)-1)\n",
    "error_const = np.sqrt(sum([a**2 for a in err_bars]))/len(A1)\n",
    "\n",
    "# Plot the data with the best-fit model\n",
    "plt.figure(figsize=(10,7))\n",
    "plt.plot(x, y, 'ko')\n",
    "plt.errorbar(x, y, yerr=y_uncs, fmt='kx', label=\"data\")\n",
    "plt.plot(x, t(x), label=f\"constant cutoff energy = {A2:0.2f} ± {error_const:0.1f}, pval = {pv:0.3e}\")\n",
    "plt.xlabel('year')\n",
    "plt.ylabel('Cutoff energy (TeV)')\n",
    "plt.legend(loc=1)\n",
    "plt.title(\"HESS J1745-290 cutoff energy (hap-fr)\")\n",
    "plt.savefig(pathpar/\"cutoff_GC_hd.pdf\")"
   ]
  },
  {
   "cell_type": "code",
   "execution_count": 38,
   "metadata": {},
   "outputs": [
    {
     "name": "stderr",
     "output_type": "stream",
     "text": [
      "WARNING: Model is linear in parameters; consider using linear fitting methods. [astropy.modeling.fitting]\n"
     ]
    },
    {
     "data": {
      "image/png": "[encoded data removed]",
      "text/plain": [
       "<Figure size 720x504 with 1 Axes>"
      ]
     },
     "metadata": {
      "needs_background": "light"
     },
     "output_type": "display_data"
    }
   ],
   "source": [
    "x = years\n",
    "y = 1/np.array(lambdadiff)\n",
    "y_uncs = y*(np.array(lambdadiff_err)/np.array(lambdadiff))\n",
    "\n",
    "# Fit the data using a box model.\n",
    "# Bounds are not really needed but included here to demonstrate usage.\n",
    "t_init = models.Const1D(10)\n",
    "fit_t = fitting.LevMarLSQFitter()\n",
    "t = fit_t(t_init, x, y) #, weights=1.0/y_uncs)\n",
    "\n",
    "# évaluation du chi2 réduit\n",
    "A1 = y\n",
    "A2 = t(2004)\n",
    "err_bars = y_uncs\n",
    "\n",
    "pv = pval(A1, A2, err_bars, len(A1)-1)\n",
    "error_const = np.sqrt(sum([a**2 for a in err_bars]))/len(A1)\n",
    "\n",
    "# Plot the data with the best-fit model\n",
    "plt.figure(figsize=(10,7))\n",
    "plt.plot(x, y, 'ko')\n",
    "plt.errorbar(x, y, yerr=y_uncs, fmt='kx', label=\"data\")\n",
    "plt.plot(x, t(x), label=f\"constant cutoff energy = {A2:0.2f} ± {error_const:0.1f}, pval = {pv:0.3f}\")\n",
    "plt.xlabel('year')\n",
    "plt.ylabel(' ')\n",
    "plt.legend(loc=1)\n",
    "plt.title(\"Diffuse emission cutoff energy (hap-fr)\")\n",
    "plt.savefig(pathpar/\"cutoff_DE_hd.pdf\")"
   ]
  }
 ],
 "metadata": {
  "kernelspec": {
   "display_name": "Python 3",
   "language": "python",
   "name": "python3"
  },
  "language_info": {
   "codemirror_mode": {
    "name": "ipython",
    "version": 3
   },
   "file_extension": ".py",
   "mimetype": "text/x-python",
   "name": "python",
   "nbconvert_exporter": "python",
   "pygments_lexer": "ipython3",
   "version": "3.7.0"
  }
 },
 "nbformat": 4,
 "nbformat_minor": 4
}
