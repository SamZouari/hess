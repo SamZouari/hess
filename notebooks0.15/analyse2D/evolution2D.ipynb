{
 "cells": [
  {
   "cell_type": "code",
   "execution_count": 26,
   "metadata": {},
   "outputs": [],
   "source": [
    "%matplotlib inline\n",
    "import matplotlib.pyplot as plt\n",
    "import numpy as np\n",
    "from scipy.stats import norm\n",
    "import gammapy\n",
    "\n",
    "\n",
    "import astropy.units as u\n",
    "from astropy.coordinates import SkyCoord\n",
    "from astropy.convolution import Tophat2DKernel\n",
    "from regions import CircleSkyRegion, RectangleSkyRegion\n",
    "\n",
    "from gammapy.detect import compute_lima_on_off_image\n",
    "from gammapy.data import DataStore\n",
    "from gammapy.irf import make_mean_psf\n",
    "from gammapy.maps import Map, MapAxis, WcsGeom\n",
    "from gammapy.cube import (\n",
    "    MapDatasetMaker,\n",
    "    PSFKernel,\n",
    "    MapDataset,\n",
    "    RingBackgroundMaker,\n",
    "    SafeMaskMaker,\n",
    ")\n",
    "\n",
    "from astropy.coordinates import Angle\n",
    "\n",
    "from gammapy.modeling.models import (\n",
    "    SkyModel,\n",
    "    BackgroundModel,\n",
    "    PowerLawSpectralModel,\n",
    "    PowerLaw2SpectralModel,\n",
    "    PointSpatialModel,\n",
    "    ExpCutoffPowerLawSpectralModel,\n",
    "    SkyDiffuseCube,\n",
    "    TemplateSpatialModel\n",
    ")\n",
    "from gammapy.modeling import Fit\n",
    "from astropy.time import Time\n",
    "\n",
    "src_pos = SkyCoord(359.94, -0.04, unit=\"deg\", frame=\"galactic\")\n",
    "\n",
    "\n",
    "from gammapy.cube import (\n",
    "    SafeMaskMaker,\n",
    "    PSFKernel,\n",
    "    MapDataset,\n",
    "    MapDatasetMaker,\n",
    "    MapDatasetOnOff,\n",
    "    RingBackgroundMaker,\n",
    ")\n"
   ]
  },
  {
   "cell_type": "code",
   "execution_count": 7,
   "metadata": {},
   "outputs": [],
   "source": [
    "emin, emax = [0.5, 100] * u.TeV\n",
    "\n",
    "energy_axis = MapAxis.from_bounds(\n",
    "    emin.value, emax.value, 20, unit=\"TeV\", name=\"energy\", interp=\"log\"\n",
    ")\n",
    "geom = WcsGeom.create(\n",
    "    skydir=(0, 0),\n",
    "    binsz=0.02,\n",
    "    width=(10, 8),\n",
    "    coordsys=\"GAL\",\n",
    "    proj=\"CAR\",\n",
    "    axes=[energy_axis],\n",
    ")\n"
   ]
  },
  {
   "cell_type": "code",
   "execution_count": 8,
   "metadata": {},
   "outputs": [
    {
     "name": "stdout",
     "output_type": "stream",
     "text": [
      "Data store:\n",
      "HDU index table:\n",
      "BASE_DIR: /home/samuel/code/gammapy_data/ash_stereo_Prod17_Calib0834_thsq64\n",
      "Rows: 122853\n",
      "OBS_ID: 18092 -- 151486\n",
      "HDU_TYPE: ['aeff', 'bkg', 'edisp', 'events', 'gti', 'psf']\n",
      "HDU_CLASS: ['aeff_2d', 'bkg_2d', 'edisp_2d', 'events', 'gti', 'psf_3gauss', 'psf_table']\n",
      "\n",
      "\n",
      "Observation table:\n",
      "Observatory name: 'N/A'\n",
      "Number of observations: 20485\n",
      "\n"
     ]
    }
   ],
   "source": [
    "# Define which data to use and print some information\n",
    "data_store = DataStore.from_dir(\"$GAMMAPY_DATA/ash_stereo_Prod17_Calib0834_thsq64\")\n",
    "data_store.info()"
   ]
  },
  {
   "cell_type": "code",
   "execution_count": 9,
   "metadata": {},
   "outputs": [],
   "source": [
    "selection = dict(type='sky_circle', frame='galactic',\n",
    "                 lon=Angle(0, 'deg'),\n",
    "                 lat=Angle(0, 'deg'),\n",
    "                 radius=Angle(2, 'deg'),\n",
    "                 border=Angle(0, 'deg'))\n",
    "\n",
    "obs_table = data_store.obs_table.select_observations(selection)"
   ]
  },
  {
   "cell_type": "code",
   "execution_count": 10,
   "metadata": {},
   "outputs": [],
   "source": [
    "t2004  = dict(type='time_box', time_range= Time(['2004-01-01T00:00:00', '2004-12-31T23:59:59']))\n",
    "t2005  = dict(type='time_box', time_range= Time(['2005-01-01T00:00:00', '2005-12-31T23:59:59']))\n",
    "t2006  = dict(type='time_box', time_range= Time(['2006-01-01T00:00:00', '2006-12-31T23:59:59']))\n",
    "t2007  = dict(type='time_box', time_range= Time(['2007-01-01T00:00:00', '2007-12-31T23:59:59']))\n",
    "t2008  = dict(type='time_box', time_range= Time(['2008-01-01T00:00:00', '2008-12-31T23:59:59']))\n",
    "t2009  = dict(type='time_box', time_range= Time(['2009-01-01T00:00:00', '2009-12-31T23:59:59']))\n",
    "t2010  = dict(type='time_box', time_range= Time(['2010-01-01T00:00:00', '2010-12-31T23:59:59']))\n",
    "t2011  = dict(type='time_box', time_range= Time(['2011-01-01T00:00:00', '2011-12-31T23:59:59']))\n",
    "t2012  = dict(type='time_box', time_range= Time(['2012-01-01T00:00:00', '2012-12-31T23:59:59']))\n",
    "t2013  = dict(type='time_box', time_range= Time(['2013-01-01T00:00:00', '2013-12-31T23:59:59']))\n",
    "t2014  = dict(type='time_box', time_range= Time(['2014-01-01T00:00:00', '2014-12-31T23:59:59']))\n",
    "t2015  = dict(type='time_box', time_range= Time(['2015-01-01T00:00:00', '2015-12-31T23:59:59']))\n",
    "t2016  = dict(type='time_box', time_range= Time(['2016-01-01T00:00:00', '2016-12-31T23:59:59']))\n",
    "t2017  = dict(type='time_box', time_range= Time(['2017-01-01T00:00:00', '2017-12-31T23:59:59']))\n",
    "t2018  = dict(type='time_box', time_range= Time(['2018-01-01T00:00:00', '2018-12-31T23:59:59']))\n",
    "t2019  = dict(type='time_box', time_range= Time(['2019-01-01T00:00:00', '2019-12-31T23:59:59']))"
   ]
  },
  {
   "cell_type": "code",
   "execution_count": 11,
   "metadata": {},
   "outputs": [
    {
     "name": "stderr",
     "output_type": "stream",
     "text": [
      "Found multiple HDU matching: OBS_ID = 20191, HDU_TYPE = psf, HDU_CLASS = None. Returning the first entry, which has HDU_TYPE = psf and HDU_CLASS = psf_3gauss\n",
      "Found multiple HDU matching: OBS_ID = 20193, HDU_TYPE = psf, HDU_CLASS = None. Returning the first entry, which has HDU_TYPE = psf and HDU_CLASS = psf_3gauss\n",
      "Found multiple HDU matching: OBS_ID = 20194, HDU_TYPE = psf, HDU_CLASS = None. Returning the first entry, which has HDU_TYPE = psf and HDU_CLASS = psf_3gauss\n"
     ]
    },
    {
     "name": "stdout",
     "output_type": "stream",
     "text": [
      "Observation retirée : 20191\n",
      "Observation retirée : 20193\n",
      "Observation retirée : 20194\n",
      "Observation retirée : 31539\n",
      "Observation retirée : 31577\n",
      "Observation retirée : 31578\n",
      "Observation retirée : 31579\n",
      "Observation retirée : 31580\n"
     ]
    }
   ],
   "source": [
    "year_intervals = { 2004 : t2004, 2005 : t2005, 2006 : t2006, 2007 : t2007,\n",
    "                      2008 : t2008, 2009 : t2009, 2010 : t2010, 2011 : t2011,\n",
    "                      2012 : t2012, 2013 : t2013, 2014 : t2014, 2015 : t2015,\n",
    "                      2016 : t2016, 2017 : t2017, 2018 : t2018, 2019 : t2019}\n",
    "\n",
    "yearly_obs = dict()\n",
    "\n",
    "for year in range(2004,2020) :\n",
    "    \n",
    "    obs_table_year = obs_table.select_observations(year_intervals[year])\n",
    "    ids = obs_table_year[\"OBS_ID\"].tolist()\n",
    "    observations_year = data_store.get_observations(ids, skip_missing=True)\n",
    "    \n",
    "    for obs in observations_year:\n",
    "        try:\n",
    "            obs.aeff\n",
    "            obs.edisp\n",
    "            obs.psf\n",
    "        except:\n",
    "            ids.remove(obs.obs_id)\n",
    "            print(\"Observation retirée : \" + str(obs.obs_id))\n",
    "            \n",
    "    observations_year = data_store.get_observations(ids, skip_missing=True)\n",
    "    yearly_obs[year] = observations_year"
   ]
  },
  {
   "cell_type": "code",
   "execution_count": 12,
   "metadata": {},
   "outputs": [
    {
     "name": "stderr",
     "output_type": "stream",
     "text": [
      "WARNING: VerifyWarning: Invalid keyword for column 8: Column null option (TNULLn) is invalid for binary table columns of type '1E' (got -1).  The invalid value will be ignored for the purpose of formatting the data in this column. [astropy.io.fits.column]\n",
      "WARNING: VerifyWarning: Invalid keyword for column 21: Column null option (TNULLn) is invalid for binary table columns of type '1E' (got -1).  The invalid value will be ignored for the purpose of formatting the data in this column. [astropy.io.fits.column]\n",
      "WARNING: VerifyWarning: Invalid keyword for column 23: Column null option (TNULLn) is invalid for binary table columns of type '1E' (got -1).  The invalid value will be ignored for the purpose of formatting the data in this column. [astropy.io.fits.column]\n",
      "WARNING: VerifyWarning: Invalid keyword for column 25: Column null option (TNULLn) is invalid for binary table columns of type '1E' (got -1).  The invalid value will be ignored for the purpose of formatting the data in this column. [astropy.io.fits.column]\n",
      "WARNING: VerifyWarning: Invalid keyword for column 26: Column null option (TNULLn) is invalid for binary table columns of type '1D' (got -1).  The invalid value will be ignored for the purpose of formatting the data in this column. [astropy.io.fits.column]\n",
      "WARNING: VerifyWarning: Invalid keyword for column 27: Column null option (TNULLn) is invalid for binary table columns of type '1E' (got -1).  The invalid value will be ignored for the purpose of formatting the data in this column. [astropy.io.fits.column]\n",
      "WARNING: VerifyWarning: Invalid keyword for column 28: Column null option (TNULLn) is invalid for binary table columns of type '1E' (got -1).  The invalid value will be ignored for the purpose of formatting the data in this column. [astropy.io.fits.column]\n",
      "WARNING: VerifyWarning: Invalid keyword for column 29: Column null option (TNULLn) is invalid for binary table columns of type '1E' (got -1).  The invalid value will be ignored for the purpose of formatting the data in this column. [astropy.io.fits.column]\n",
      "WARNING: VerifyWarning: Invalid keyword for column 30: Column null option (TNULLn) is invalid for binary table columns of type '1E' (got -1).  The invalid value will be ignored for the purpose of formatting the data in this column. [astropy.io.fits.column]\n"
     ]
    },
    {
     "name": "stdout",
     "output_type": "stream",
     "text": [
      "CPU times: user 19min 54s, sys: 13.6 s, total: 20min 8s\n",
      "Wall time: 20min 15s\n"
     ]
    }
   ],
   "source": [
    "%%time\n",
    "\n",
    "stacked_datasets = dict()\n",
    "\n",
    "for year in range(2004,2020):\n",
    "    \n",
    "    stacked = MapDataset.create(geom)\n",
    "    datasets = []\n",
    "    \n",
    "    maker = MapDatasetMaker(selection=[\"counts\", \"exposure\", \"background\"])\n",
    "    maker_safe_mask = SafeMaskMaker(methods=[\"offset-max\"], offset_max=2.0 * u.deg)\n",
    "\n",
    "    for obs in yearly_obs[year]:\n",
    "        cutout = stacked.cutout(obs.pointing_radec, width=\"5 deg\")\n",
    "        dataset = maker.run(cutout, obs)\n",
    "        dataset = maker_safe_mask.run(dataset, obs)\n",
    "        datasets.append(dataset)\n",
    "        \n",
    "        stacked.stack(dataset)\n",
    "    \n",
    "    stacked_datasets[year] = stacked"
   ]
  },
  {
   "cell_type": "code",
   "execution_count": 13,
   "metadata": {},
   "outputs": [],
   "source": [
    "spectrum = PowerLaw2SpectralModel(index=2.3)\n",
    "\n",
    "maps2D = dict()\n",
    "\n",
    "for year in range(2004,2020):\n",
    "    \n",
    "    dataset_2d = stacked_datasets[year].to_image(spectrum=spectrum)\n",
    "\n",
    "    maps2D[year] = {\n",
    "        \"counts\": dataset_2d.counts,\n",
    "        \"exposure\": dataset_2d.exposure,\n",
    "        \"background\": dataset_2d.background_model.map,\n",
    "    }"
   ]
  },
  {
   "cell_type": "code",
   "execution_count": null,
   "metadata": {},
   "outputs": [],
   "source": [
    "# écriture des maps 2D\n",
    "\n"
   ]
  },
  {
   "cell_type": "code",
   "execution_count": 15,
   "metadata": {},
   "outputs": [],
   "source": [
    "src_pos = SkyCoord(359.94, -0.04, unit=\"deg\", frame=\"galactic\")\n",
    "\n",
    "psf_kernels = dict()\n",
    "\n",
    "for year in range(2004,2020):\n",
    "    # mean PSF\n",
    "\n",
    "    geom2d = maps2D[year][\"exposure\"].geom\n",
    "    \n",
    "    \n",
    "    table_psf = make_mean_psf(yearly_obs[year], src_pos)\n",
    "\n",
    "    table_psf_2d = table_psf.table_psf_in_energy_band(\n",
    "        (emin, emax), spectrum=spectrum\n",
    "    )\n",
    "\n",
    "    # PSF kernel used for the model convolution\n",
    "    psf_kernel = PSFKernel.from_table_psf(\n",
    "        table_psf_2d, geom2d, max_radius=\"0.3 deg\"\n",
    "    )\n",
    "    psf_kernels[year] = psf_kernel\n"
   ]
  },
  {
   "cell_type": "code",
   "execution_count": 17,
   "metadata": {},
   "outputs": [],
   "source": [
    "# define a mask \n",
    "\n",
    "fit_region = RectangleSkyRegion(src_pos, 3*u.deg, 1*u.deg)\n",
    "\n",
    "g0901_region = CircleSkyRegion(SkyCoord(0.8791,  +0.0893, unit=\"deg\", frame=\"galactic\"), 0.1*u.deg)\n",
    "\n",
    "bizarre_region = CircleSkyRegion(SkyCoord(358.6,  -0.6, unit=\"deg\", frame=\"galactic\"), 0.4 * u.deg)\n",
    "\n",
    "fit_mask = geom.region_mask([fit_region])*geom.region_mask([g0901_region ,bizarre_region ] , inside=False)\n",
    "\n",
    "fit_mask = Map.from_geom(geom, data=fit_mask)"
   ]
  },
  {
   "cell_type": "code",
   "execution_count": 18,
   "metadata": {},
   "outputs": [],
   "source": [
    "# Modèle de la source\n",
    "\n",
    "src_pos = SkyCoord(359.94, -0.04, unit=\"deg\", frame=\"galactic\")\n",
    "\n",
    "spatial_model = PointSpatialModel(\n",
    "            lon_0 = src_pos.l, \n",
    "            lat_0 = src_pos.b, \n",
    "            frame = \"galactic\")\n",
    "\n",
    "spectral_model = PowerLawSpectralModel(\n",
    "            #emin = 0.5* u.TeV, \n",
    "            #emax = 100* u.TeV, \n",
    "            reference = 1.0 * u.TeV,\n",
    "            index = 2.3, \n",
    "            amplitude = \"1.5e-12 cm-2 s-1 TeV-1\")\n",
    "\n",
    "model = SkyModel(\n",
    "            spatial_model = spatial_model, \n",
    "            spectral_model = spectral_model, \n",
    "            name = \"SgrA*\")\n",
    "\n",
    "model.parameters[\"index\"].frozen = True\n",
    "model.parameters[\"lon_0\"].frozen = True\n",
    "model.parameters[\"lat_0\"].frozen = True"
   ]
  },
  {
   "cell_type": "code",
   "execution_count": 27,
   "metadata": {},
   "outputs": [
    {
     "name": "stderr",
     "output_type": "stream",
     "text": [
      "Invalid value BUNIT='Count' in FITS header. Setting empty unit.\n"
     ]
    }
   ],
   "source": [
    "# Modèle de l'émission diffuse\n",
    "\n",
    "CSmap = Map.read(\"$GAMMAPY_DATA/CS_reproj.fits\") # à moduler par une gaussienne en longitude\n",
    "\n",
    "coords = CSmap.geom.get_coord()\n",
    "lon = coords.skycoord.l.wrap_at(180*u.deg).to_value('deg')\n",
    "factor = np.exp(-0.5*(lon)**2/1.0**2)\n",
    "\n",
    "# seuiller les valeurs pour enlever les valeurs négatives liées au bruit\n",
    "\n",
    "CSmap.data*=factor\n",
    "\n",
    "CSmap.data = CSmap.data.clip(10.0)\n",
    "\n",
    "total_CS = CSmap.quantity*CSmap.geom.solid_angle()\n",
    "\n",
    "CSmap.data /= total_CS.sum().value\n",
    "diffuse_gal = TemplateSpatialModel(CSmap)\n",
    "\n",
    "diffuse_gal.parameters[\"norm\"].value = 1.0\n",
    "diffuse_gal = TemplateSpatialModel(CSmap)\n",
    "\n",
    "powerlaw2 =  PowerLawSpectralModel(\n",
    "            #emin =0.5* u.TeV, \n",
    "            #emax = 100* u.TeV, \n",
    "            reference = 1.0 * u.TeV,\n",
    "            index = 2.3, \n",
    "            amplitude = \"1e-10 cm-2 s-1 TeV-1\")\n",
    "\n",
    "\n",
    "model_diff = SkyModel(\n",
    "            spatial_model = diffuse_gal, \n",
    "            spectral_model = powerlaw2, \n",
    "            name = \"DE\")\n",
    "\n",
    "model_diff.parameters[\"index\"].frozen = True\n",
    "model_diff.parameters[\"norm\"].frozen = True"
   ]
  },
  {
   "cell_type": "code",
   "execution_count": 31,
   "metadata": {},
   "outputs": [],
   "source": [
    "# modèle de fond (le faire année par année)\n",
    "bckgrd_models = dict()\n",
    "\n",
    "for year in range(2004,2020):\n",
    "    bckgrd_model = BackgroundModel(maps2D[year][\"background\"])\n",
    "    background_model.parameters[\"norm\"].frozen = True\n",
    "    background_model.parameters[\"tilt\"].frozen = True\n",
    "    \n",
    "    bckgrd_models[year] = bckgrd_model"
   ]
  },
  {
   "cell_type": "code",
   "execution_count": 34,
   "metadata": {},
   "outputs": [],
   "source": [
    "datasets2D = dict()\n",
    "\n",
    "for year in range(2004,2020):\n",
    "    dataset = MapDataset(\n",
    "        models=model.copy() + model_diff.copy(),\n",
    "        counts=maps2D[year][\"counts\"],\n",
    "        exposure=maps2D[year][\"exposure\"],\n",
    "        background_model=background_model,\n",
    "        mask_fit=fit_mask,\n",
    "        psf=psf_kernels[year],\n",
    "        )\n",
    "    datasets2D[year] = dataset"
   ]
  },
  {
   "cell_type": "code",
   "execution_count": 33,
   "metadata": {},
   "outputs": [
    {
     "ename": "RuntimeError",
     "evalue": "exception was raised in user function\nUser function arguments:\n    par_000_amplitude = +1.500000\n    par_001_amplitude = +1.000000\nOriginal python exception in user function:\nIndexError: boolean index did not match indexed array along dimension 0; dimension is 1 but corresponding boolean dimension is 20\n  File \"/home/samuel/anaconda3/envs/gammapy-0.15/lib/python3.7/site-packages/gammapy/modeling/iminuit.py\", line 17, in fcn\n    return self.function()\n  File \"/home/samuel/anaconda3/envs/gammapy-0.15/lib/python3.7/site-packages/gammapy/modeling/datasets.py\", line 129, in stat_sum\n    stat_sum += dataset.stat_sum()\n  File \"/home/samuel/anaconda3/envs/gammapy-0.15/lib/python3.7/site-packages/gammapy/cube/fit.py\", line 605, in stat_sum\n    return cash_sum_cython(counts[self.mask.data], npred[self.mask.data])\n",
     "output_type": "error",
     "traceback": [
      "\u001b[0;31m---------------------------------------------------------------------------\u001b[0m",
      "\u001b[0;31mRuntimeError\u001b[0m                              Traceback (most recent call last)",
      "\u001b[0;32m<timed exec>\u001b[0m in \u001b[0;36m<module>\u001b[0;34m\u001b[0m\n",
      "\u001b[0;32m~/anaconda3/envs/gammapy-0.15/lib/python3.7/site-packages/gammapy/modeling/fit.py\u001b[0m in \u001b[0;36mrun\u001b[0;34m(self, optimize_opts, covariance_opts)\u001b[0m\n\u001b[1;32m     95\u001b[0m         \u001b[0;32mif\u001b[0m \u001b[0moptimize_opts\u001b[0m \u001b[0;32mis\u001b[0m \u001b[0;32mNone\u001b[0m\u001b[0;34m:\u001b[0m\u001b[0;34m\u001b[0m\u001b[0m\n\u001b[1;32m     96\u001b[0m             \u001b[0moptimize_opts\u001b[0m \u001b[0;34m=\u001b[0m \u001b[0;34m{\u001b[0m\u001b[0;34m}\u001b[0m\u001b[0;34m\u001b[0m\u001b[0m\n\u001b[0;32m---> 97\u001b[0;31m         \u001b[0moptimize_result\u001b[0m \u001b[0;34m=\u001b[0m \u001b[0mself\u001b[0m\u001b[0;34m.\u001b[0m\u001b[0moptimize\u001b[0m\u001b[0;34m(\u001b[0m\u001b[0;34m**\u001b[0m\u001b[0moptimize_opts\u001b[0m\u001b[0;34m)\u001b[0m\u001b[0;34m\u001b[0m\u001b[0m\n\u001b[0m\u001b[1;32m     98\u001b[0m \u001b[0;34m\u001b[0m\u001b[0m\n\u001b[1;32m     99\u001b[0m         \u001b[0;32mif\u001b[0m \u001b[0mcovariance_opts\u001b[0m \u001b[0;32mis\u001b[0m \u001b[0;32mNone\u001b[0m\u001b[0;34m:\u001b[0m\u001b[0;34m\u001b[0m\u001b[0m\n",
      "\u001b[0;32m~/anaconda3/envs/gammapy-0.15/lib/python3.7/site-packages/gammapy/modeling/fit.py\u001b[0m in \u001b[0;36moptimize\u001b[0;34m(self, backend, **kwargs)\u001b[0m\n\u001b[1;32m    156\u001b[0m         \u001b[0;31m# and return something simpler, not a tuple of three things\u001b[0m\u001b[0;34m\u001b[0m\u001b[0;34m\u001b[0m\u001b[0m\n\u001b[1;32m    157\u001b[0m         factors, info, optimizer = compute(\n\u001b[0;32m--> 158\u001b[0;31m             \u001b[0mparameters\u001b[0m\u001b[0;34m=\u001b[0m\u001b[0mparameters\u001b[0m\u001b[0;34m,\u001b[0m \u001b[0mfunction\u001b[0m\u001b[0;34m=\u001b[0m\u001b[0mself\u001b[0m\u001b[0;34m.\u001b[0m\u001b[0mdatasets\u001b[0m\u001b[0;34m.\u001b[0m\u001b[0mstat_sum\u001b[0m\u001b[0;34m,\u001b[0m \u001b[0;34m**\u001b[0m\u001b[0mkwargs\u001b[0m\u001b[0;34m\u001b[0m\u001b[0m\n\u001b[0m\u001b[1;32m    159\u001b[0m         )\n\u001b[1;32m    160\u001b[0m \u001b[0;34m\u001b[0m\u001b[0m\n",
      "\u001b[0;32m~/anaconda3/envs/gammapy-0.15/lib/python3.7/site-packages/gammapy/modeling/iminuit.py\u001b[0m in \u001b[0;36moptimize_iminuit\u001b[0;34m(parameters, function, **kwargs)\u001b[0m\n\u001b[1;32m     51\u001b[0m     \u001b[0mtol\u001b[0m \u001b[0;34m=\u001b[0m \u001b[0mkwargs\u001b[0m\u001b[0;34m.\u001b[0m\u001b[0mpop\u001b[0m\u001b[0;34m(\u001b[0m\u001b[0;34m\"tol\"\u001b[0m\u001b[0;34m,\u001b[0m \u001b[0;36m0.1\u001b[0m\u001b[0;34m)\u001b[0m\u001b[0;34m\u001b[0m\u001b[0m\n\u001b[1;32m     52\u001b[0m     \u001b[0mminuit\u001b[0m \u001b[0;34m=\u001b[0m \u001b[0mMinuit\u001b[0m\u001b[0;34m(\u001b[0m\u001b[0mminuit_func\u001b[0m\u001b[0;34m.\u001b[0m\u001b[0mfcn\u001b[0m\u001b[0;34m,\u001b[0m \u001b[0;34m**\u001b[0m\u001b[0mkwargs\u001b[0m\u001b[0;34m)\u001b[0m\u001b[0;34m\u001b[0m\u001b[0m\n\u001b[0;32m---> 53\u001b[0;31m     \u001b[0mminuit\u001b[0m\u001b[0;34m.\u001b[0m\u001b[0mmigrad\u001b[0m\u001b[0;34m(\u001b[0m\u001b[0;34m**\u001b[0m\u001b[0mmigrad_opts\u001b[0m\u001b[0;34m)\u001b[0m\u001b[0;34m\u001b[0m\u001b[0m\n\u001b[0m\u001b[1;32m     54\u001b[0m     \u001b[0mminuit\u001b[0m\u001b[0;34m.\u001b[0m\u001b[0mtol\u001b[0m \u001b[0;34m=\u001b[0m \u001b[0mtol\u001b[0m\u001b[0;34m\u001b[0m\u001b[0m\n\u001b[1;32m     55\u001b[0m     \u001b[0mminuit\u001b[0m\u001b[0;34m.\u001b[0m\u001b[0mset_strategy\u001b[0m\u001b[0;34m(\u001b[0m\u001b[0mstrategy\u001b[0m\u001b[0;34m)\u001b[0m\u001b[0;34m\u001b[0m\u001b[0m\n",
      "\u001b[0;32miminuit/_libiminuit.pyx\u001b[0m in \u001b[0;36miminuit._libiminuit.Minuit.migrad\u001b[0;34m()\u001b[0m\n",
      "\u001b[0;31mRuntimeError\u001b[0m: exception was raised in user function\nUser function arguments:\n    par_000_amplitude = +1.500000\n    par_001_amplitude = +1.000000\nOriginal python exception in user function:\nIndexError: boolean index did not match indexed array along dimension 0; dimension is 1 but corresponding boolean dimension is 20\n  File \"/home/samuel/anaconda3/envs/gammapy-0.15/lib/python3.7/site-packages/gammapy/modeling/iminuit.py\", line 17, in fcn\n    return self.function()\n  File \"/home/samuel/anaconda3/envs/gammapy-0.15/lib/python3.7/site-packages/gammapy/modeling/datasets.py\", line 129, in stat_sum\n    stat_sum += dataset.stat_sum()\n  File \"/home/samuel/anaconda3/envs/gammapy-0.15/lib/python3.7/site-packages/gammapy/cube/fit.py\", line 605, in stat_sum\n    return cash_sum_cython(counts[self.mask.data], npred[self.mask.data])\n"
     ]
    }
   ],
   "source": [
    "%%time\n",
    "\n",
    "results = dict()\n",
    "\n",
    "for year in range(2004,2020):\n",
    "    fit = Fit([datasets2D[year]])\n",
    "    result = fit.run()\n",
    "    \n",
    "    results[year] = result"
   ]
  },
  {
   "cell_type": "code",
   "execution_count": null,
   "metadata": {},
   "outputs": [],
   "source": [
    "print(model)"
   ]
  },
  {
   "cell_type": "code",
   "execution_count": null,
   "metadata": {},
   "outputs": [],
   "source": [
    "result.parameters.to_table()"
   ]
  },
  {
   "cell_type": "code",
   "execution_count": null,
   "metadata": {},
   "outputs": [],
   "source": [
    "result.parameters.correlation[:4, :4]"
   ]
  }
 ],
 "metadata": {
  "kernelspec": {
   "display_name": "Python 3",
   "language": "python",
   "name": "python3"
  },
  "language_info": {
   "codemirror_mode": {
    "name": "ipython",
    "version": 3
   },
   "file_extension": ".py",
   "mimetype": "text/x-python",
   "name": "python",
   "nbconvert_exporter": "python",
   "pygments_lexer": "ipython3",
   "version": "3.7.0"
  }
 },
 "nbformat": 4,
 "nbformat_minor": 4
}
