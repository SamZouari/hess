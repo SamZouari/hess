{
 "cells": [
  {
   "cell_type": "code",
   "execution_count": 1,
   "metadata": {},
   "outputs": [],
   "source": [
    "%matplotlib inline\n",
    "import matplotlib.pyplot as plt\n",
    "import astropy.units as u\n",
    "import numpy as np\n",
    "from pathlib import Path\n",
    "from regions import CircleSkyRegion, RectangleSkyRegion\n",
    "from astropy.coordinates import SkyCoord\n",
    "from gammapy.analysis import Analysis, AnalysisConfig\n",
    "from gammapy.modeling.models import (\n",
    "    SkyModel,\n",
    "    ExpCutoffPowerLawSpectralModel,\n",
    "    PointSpatialModel,\n",
    "    SkyModels\n",
    ")\n",
    "from gammapy.modeling import Fit\n",
    "from gammapy.maps import Map\n",
    "from gammapy.data import DataStore\n",
    "from gammapy.maps import WcsGeom, MapAxis\n",
    "from gammapy.cube import MapDatasetMaker, MapDataset, SafeMaskMaker\n",
    "\n",
    "%matplotlib inline\n",
    "import matplotlib.pyplot as plt\n",
    "import astropy.units as u\n",
    "import numpy as np\n",
    "from pathlib import Path\n",
    "from regions import CircleSkyRegion\n",
    "from gammapy.analysis import Analysis, AnalysisConfig\n",
    "from gammapy.modeling.models import (\n",
    "    SkyModel,\n",
    "    ExpCutoffPowerLawSpectralModel,\n",
    "    PointSpatialModel,\n",
    "    SkyDiffuseCube,\n",
    "    SkyModels\n",
    ")\n",
    "from gammapy.modeling import Fit\n",
    "from gammapy.maps import Map\n",
    "from gammapy.data import DataStore\n",
    "from gammapy.maps import WcsGeom, MapAxis\n",
    "from gammapy.cube import MapDatasetMaker, MapDataset, SafeMaskMaker"
   ]
  },
  {
   "cell_type": "code",
   "execution_count": 2,
   "metadata": {},
   "outputs": [
    {
     "name": "stdout",
     "output_type": "stream",
     "text": [
      "AnalysisConfig\n",
      "\n",
      "    general:\n",
      "        log: {level: info, filename: null, filemode: null, format: null, datefmt: null}\n",
      "        outdir: .\n",
      "    observations:\n",
      "        datastore: $GAMMAPY_DATA/hess-dl3-dr1\n",
      "        obs_ids: []\n",
      "        obs_file: null\n",
      "        obs_cone: {frame: null, lon: null, lat: null, radius: null}\n",
      "        obs_time: {start: null, stop: null}\n",
      "    datasets:\n",
      "        type: 1d\n",
      "        stack: true\n",
      "        geom:\n",
      "            wcs:\n",
      "                skydir: {frame: null, lon: null, lat: null}\n",
      "                binsize: 0.02 deg\n",
      "                fov: {width: 5.0 deg, height: 5.0 deg}\n",
      "                binsize_irf: 0.2 deg\n",
      "            selection: {offset_max: 2.5 deg}\n",
      "            axes:\n",
      "                energy: {min: 0.1 TeV, max: 10.0 TeV, nbins: 30}\n",
      "                energy_true: {min: 0.1 TeV, max: 10.0 TeV, nbins: 30}\n",
      "        map_selection: [counts, exposure, background, psf, edisp]\n",
      "        background: {method: reflected, exclusion: null}\n",
      "        on_region: {frame: null, lon: null, lat: null, radius: null}\n",
      "        containment_correction: true\n",
      "    fit:\n",
      "        fit_range: {min: 0.1 TeV, max: 10.0 TeV}\n",
      "    flux_points:\n",
      "        energy: {min: 0.1 TeV, max: 10.0 TeV, nbins: 30}\n",
      "    \n"
     ]
    }
   ],
   "source": [
    "config = AnalysisConfig()\n",
    "print(config)"
   ]
  },
  {
   "cell_type": "code",
   "execution_count": 23,
   "metadata": {},
   "outputs": [
    {
     "name": "stdout",
     "output_type": "stream",
     "text": [
      "[]\n"
     ]
    }
   ],
   "source": [
    "# Selecting the observations\n",
    "config.observations.datastore = \"$GAMMAPY_DATA/ash_stereo_Prod17_Calib0834_thsq64\"\n",
    "config.observations.obs_cone ={\"frame\": \"galactic\" , \"lon\": \"0.0 deg\", \"lat\":\"0.01 deg\", \"radius\": \"6 deg\"}\n",
    "\n",
    "#ca c'est vide pour l'instant car on est dans la section observations du fichier de config \n",
    "print(config.observations.obs_ids)\n",
    "\n",
    "#selected_obs_table = data_store.obs_table.select_observations(selection)\n",
    "#observations = data_store.get_observations(selected_obs_table[\"OBS_ID\"])"
   ]
  },
  {
   "cell_type": "code",
   "execution_count": 24,
   "metadata": {},
   "outputs": [],
   "source": [
    "config.datasets.type = \"3d\"  \n",
    "\n",
    "config.datasets.geom.wcs.skydir = {\n",
    "    \"lon\": \"0 deg\",\n",
    "    \"lat\": \"0 deg\",\n",
    "    \"frame\": \"galactic\",\n",
    "    \n",
    "}  # The WCS geometry - centered on the galactic center\n",
    "config.datasets.geom.wcs.fov = {\"width\": \"10 deg\", \"height\": \"8 deg\"}\n",
    "config.datasets.geom.wcs.binsize = \"0.02 deg\"\n",
    "\n",
    "# The FoV offset cut\n",
    "config.datasets.geom.selection.offset_max = 2.0 * u.deg\n",
    "\n",
    "# We now fix the energy axis for the counts map - (the reconstructed energy binning)\n",
    "config.datasets.geom.axes.energy.min = \"0.2 TeV\"\n",
    "config.datasets.geom.axes.energy.max = \"50 TeV\"\n",
    "config.datasets.geom.axes.energy.nbins = 20\n",
    "\n",
    "# We now fix the energy axis for the IRF maps (exposure, etc) - (the true enery binning)\n",
    "config.datasets.geom.axes.energy_true.min = \"0.08 TeV\"\n",
    "config.datasets.geom.axes.energy_true.max = \"70 TeV\"\n",
    "config.datasets.geom.axes.energy_true.nbins = 30\n",
    "\n"
   ]
  },
  {
   "cell_type": "code",
   "execution_count": 26,
   "metadata": {},
   "outputs": [
    {
     "name": "stderr",
     "output_type": "stream",
     "text": [
      "Setting logging config: {'level': 'INFO', 'filename': None, 'filemode': None, 'format': None, 'datefmt': None}\n",
      "Fetching observations.\n",
      "Number of selected observations: 1782\n"
     ]
    },
    {
     "name": "stdout",
     "output_type": "stream",
     "text": [
      " Cut run number:  31539\n",
      " Cut run number:  31577\n",
      " Cut run number:  31578\n",
      " Cut run number:  31579\n",
      " Cut run number:  31580\n",
      " Cut run number:  31624\n",
      "1776\n"
     ]
    }
   ],
   "source": [
    "#select observations \n",
    "\n",
    "config.datasets.stack = True\n",
    "analysis_stacked = Analysis(config)\n",
    "\n",
    "# select observations:\n",
    "analysis_stacked.get_observations()\n",
    "\n",
    "#analysis.observations c'est deja une liste d'observations et on est deja plus dans la table datastore\n",
    "#donc je peux faire des filtres encore a ce stade mais en utilisant la liste des obs (soit une boucle sur les obs, soit je coupe la liste aux X premiers membres)\n",
    "selected_obs=analysis_stacked.observations[:3000]\n",
    "#print(selected_obs)\n",
    "#analysis_stacked.observations=selected_obs\n",
    "#print(analysis_stacked.observations)\n",
    "\n",
    "obs_IRFs=[]\n",
    "for obs in selected_obs:\n",
    "        try: \n",
    "            obs.aeff\n",
    "            obs.bkg\n",
    "            #obs.psf\n",
    "            obs_IRFs.append(obs)\n",
    "        except Exception:\n",
    "            print(\" Cut run number: \",obs.obs_id)\n",
    "            #cut_list.append(obs.obs_id)\n",
    "            #list_id.remove(obs.obs_id)   \n",
    "            continue\n",
    "            \n",
    "print(len(obs_IRFs))           \n",
    "observations=obs_IRFs"
   ]
  },
  {
   "cell_type": "code",
   "execution_count": 27,
   "metadata": {
    "jupyter": {
     "source_hidden": true
    }
   },
   "outputs": [],
   "source": [
    "##FoV background estimation\n",
    "import logging\n",
    "from gammapy.maps import Map\n",
    "from gammapy.modeling import Fit, Datasets\n",
    "\n",
    "\n",
    "class FoVBackgroundMaker:\n",
    "    \"\"\"Normalize template background on the whole field-of-view.\n",
    "\n",
    "    The dataset background model can be simply scaled (method=\"scale\") or fitted (method=\"fit\")\n",
    "    on the dataset counts.\n",
    "\n",
    "    The normalization is performed outside the exclusion mask that is passed on init.\n",
    "\n",
    "    If a SkyModel is set on the input dataset and method is 'fit', its are frozen during\n",
    "    the fov normalization fit.\n",
    "\n",
    "    Parameters\n",
    "    ----------\n",
    "    method : str in ['fit', 'scale']\n",
    "        the normalization method to be applied. Default 'scale'.\n",
    "    exclusion_mask : `~gammapy.maps.WcsNDMap`\n",
    "        Exclusion mask\n",
    "    \"\"\"\n",
    "\n",
    "    def __init__(self, method=\"scale\", exclusion_mask=None):\n",
    "        if method in [\"fit\", \"scale\"]:\n",
    "            self.method = method\n",
    "        else:\n",
    "            raise ValueError(f\"Incorrect method for FoVBackgroundMaker: {method}.\")\n",
    "        self.exclusion_mask = exclusion_mask\n",
    "\n",
    "\n",
    "    def run(self, dataset):\n",
    "        \"\"\"Run FoV background maker.\n",
    "\n",
    "        Fit the background model norm\n",
    "\n",
    "        Parameters\n",
    "        ----------\n",
    "        dataset : `~gammapy.cube.fit.MapDataset`\n",
    "            Input map dataset.\n",
    "\n",
    "        \"\"\"\n",
    "        mask_fit = dataset.mask_fit\n",
    "        dataset.mask_fit = self._reproject_exclusion_mask(dataset)\n",
    "\n",
    "        if self.method is \"fit\":\n",
    "            self._fit_bkg(dataset)\n",
    "        else:\n",
    "            self._scale_bkg(dataset)\n",
    "\n",
    "        dataset.mask_fit = mask_fit\n",
    "        return dataset\n",
    "\n",
    "\n",
    "    def _reproject_exclusion_mask(self, dataset):\n",
    "        \"\"\"Reproject the exclusion on the dataset geometry\"\"\"\n",
    "        mask_map = Map.from_geom(dataset.counts.geom)\n",
    "        if self.exclusion_mask is not None:\n",
    "            coords = dataset.counts.geom.get_coord()\n",
    "            vals = self.exclusion_mask.get_by_coord(coords)\n",
    "            mask_map.data += vals\n",
    "\n",
    "        return mask_map.data.astype(\"bool\")\n",
    "\n",
    "    def _fit_bkg(self, dataset):\n",
    "        \"\"\"Fit the FoV background model on the dataset counts data\"\"\"\n",
    "\n",
    "        # freeze all model components not related to background model\n",
    "        datasets = Datasets([dataset])\n",
    "\n",
    "        parameters_frozen = []\n",
    "        for par in datasets.parameters:\n",
    "            parameters_frozen.append(par.frozen)\n",
    "            if par not in dataset.background_model.parameters:\n",
    "                par.frozen = True\n",
    "\n",
    "        fit = Fit(datasets)\n",
    "        fit_result = fit.run()\n",
    "        if fit_result.success is False:\n",
    "            log.info(\n",
    "                f\"FoVBackgroundMaker failed. No fit convergence for {dataset.name}.\"\n",
    "            )\n",
    "\n",
    "        # Unfreeze parameters\n",
    "        for i, par in enumerate(datasets.parameters):\n",
    "            par.frozen = parameters_frozen[i]\n",
    "\n",
    "    def _scale_bkg(self, dataset):\n",
    "        \"\"\"Fit the FoV background model on the dataset counts data\"\"\"\n",
    "        mask = dataset.mask\n",
    "        count_tot = dataset.counts.data[mask].sum()\n",
    "        bkg_tot = dataset.background_model.map.data[mask].sum()\n",
    "\n",
    "        if count_tot <= 0.0:\n",
    "            log.info(\n",
    "                f\"FoVBackgroundMaker failed. No counts found outside exclusion mask for {dataset.name}.\"\n",
    "            )\n",
    "        elif bkg_tot <= 0.0:\n",
    "            log.info(\n",
    "                f\"FoVBackgroundMaker failed. No positive background found outside exclusion mask for {dataset.name}.\"\n",
    "            )\n",
    "        else:\n",
    "            scale = count_tot / bkg_tot\n",
    "            dataset.background_model.norm.value = scale\n",
    "\n"
   ]
  },
  {
   "cell_type": "code",
   "execution_count": 28,
   "metadata": {},
   "outputs": [
    {
     "name": "stdout",
     "output_type": "stream",
     "text": [
      "min=<Quantity 0.08 TeV> max=<Quantity 70. TeV> nbins=30\n"
     ]
    }
   ],
   "source": [
    "config.datasets.geom.wcs.skydir = {\n",
    "    \"lon\": \"0 deg\",\n",
    "    \"lat\": \"0 deg\",\n",
    "    \"frame\": \"galactic\",\n",
    "    \n",
    "}  # The WCS geometry - centered on the galactic center\n",
    "config.datasets.geom.wcs.fov = {\"width\": \"10 deg\", \"height\": \"8 deg\"}\n",
    "config.datasets.geom.wcs.binsize = \"0.02 deg\"\n",
    "\n",
    "# The FoV offset cut\n",
    "config.datasets.geom.selection.offset_max = 2.0 * u.deg\n",
    "\n",
    "# We now fix the energy axis for the counts map - (the reconstructed energy binning)\n",
    "config.datasets.geom.axes.energy.min = \"0.1 TeV\"\n",
    "config.datasets.geom.axes.energy.max = \"50 TeV\"\n",
    "config.datasets.geom.axes.energy.nbins = 13\n",
    "\n",
    "# We now fix the energy axis for the IRF maps (exposure, etc) - (the true enery binning)\n",
    "print(config.datasets.geom.axes.energy_true)\n",
    "ereco_axis = MapAxis.from_energy_bounds(0.1,50, 13, unit='TeV')\n",
    "etrue_axis = MapAxis.from_energy_bounds(0.08, 70., 20, unit='TeV')\n",
    "center = SkyCoord(0, 0, frame='galactic', unit='deg')\n",
    "\n",
    "geom = WcsGeom.create(skydir=center, width=['12 deg', '8 deg'], coordsys='GAL', binsz=0.02, axes=[ereco_axis])\n"
   ]
  },
  {
   "cell_type": "code",
   "execution_count": 29,
   "metadata": {},
   "outputs": [],
   "source": [
    "spatial_model_ridge = PointSpatialModel(lon_0=\"0.0 deg\", lat_0=\"0.04 deg\", frame=\"galactic\")\n",
    "spatial_model_S1 = PointSpatialModel(lon_0=\"3.75 deg\", lat_0=\"1.8 deg\", frame=\"galactic\")\n",
    "spatial_model_GC = PointSpatialModel(lon_0=\"0.0 deg\", lat_0=\"0.0 deg\", frame=\"galactic\")\n",
    "region1=RectangleSkyRegion(center=spatial_model_ridge.position, height=2.0 * u.deg,width=10.0 * u.deg)\n",
    "region2=CircleSkyRegion(center=spatial_model_S1.position, radius=0.28 * u.deg)\n",
    "region3=CircleSkyRegion(center=spatial_model_GC.position, radius=2.0 * u.deg)\n",
    "exclusion_mask = Map.from_geom(geom, data=geom.region_mask([region1,region2,region3], inside=False)) \n"
   ]
  },
  {
   "cell_type": "code",
   "execution_count": 30,
   "metadata": {},
   "outputs": [
    {
     "data": {
      "text/plain": [
       "(<Figure size 432x288 with 1 Axes>,\n",
       " <matplotlib.axes._subplots.WCSAxesSubplot at 0x7fecad8bb358>,\n",
       " None)"
      ]
     },
     "execution_count": 30,
     "metadata": {},
     "output_type": "execute_result"
    },
    {
     "data": {
      "image/png": "[encoded data removed]",
      "text/plain": [
       "<Figure size 432x288 with 1 Axes>"
      ]
     },
     "metadata": {
      "needs_background": "light"
     },
     "output_type": "display_data"
    }
   ],
   "source": [
    "exclusion_mask.sum_over_axes().plot()"
   ]
  },
  {
   "cell_type": "code",
   "execution_count": 31,
   "metadata": {},
   "outputs": [],
   "source": [
    "#for obs in observations:\n",
    "#    print(obs)"
   ]
  },
  {
   "cell_type": "code",
   "execution_count": null,
   "metadata": {},
   "outputs": [],
   "source": [
    "## run data reduction with high level tool\n",
    "#analysis_stacked.get_datasets()\n",
    "\n",
    "#run data reduction by hand\n",
    "#geom=analysis_stacked.datasets[0].geom\n",
    "\n",
    "\n",
    "analysis_stacked = MapDataset.create(geom=geom, energy_axis_true=etrue_axis, name=\"GC-stacked\")\n",
    "\n",
    "#data reduction\n",
    "\n",
    "#Create the maker class to be used \n",
    "maker = MapDatasetMaker()\n",
    "maker_safe_mask = SafeMaskMaker(methods=[\"offset-max\"], offset_max=config.datasets.geom.selection.offset_max)\n",
    "maker_bkg = FoVBackgroundMaker(\"scale\",exclusion_mask)\n",
    "                               \n",
    "#data reduction loop\n",
    "for obs in observations:\n",
    "         \n",
    "    #print(obs.obs_id)\n",
    "    # First a cutout of the target map is produced\n",
    "    cutout = analysis_stacked.cutout(obs.pointing_radec, width=2 * config.datasets.geom.selection.offset_max)\n",
    "    # A MapDataset is filled in this cutout geometry\n",
    "    dataset = maker.run(cutout, obs)\n",
    "    # The data quality cut is applied\n",
    "    dataset = maker_safe_mask.run(dataset, obs)\n",
    "   \n",
    "    #normalize the Bg out of exclusion mask\n",
    "    dataset=maker_bkg.run(dataset)\n",
    "    \n",
    "    # The resulting dataset cutout is stacked onto the final one\n",
    "    analysis_stacked.stack(dataset)\n",
    "\n",
    "\n",
    "\n",
    "#je recupere le dataset\n",
    "dataset_stacked = analysis_stacked\n",
    "\n",
    "##keep the data dataset to normalize the background and compare with simulation\n",
    "DATA_dataset_stacked=dataset_stacked.copy()\n"
   ]
  },
  {
   "cell_type": "code",
   "execution_count": null,
   "metadata": {},
   "outputs": [],
   "source": [
    "dataset_stacked.background_model.map.sum_over_axes().plot()"
   ]
  },
  {
   "cell_type": "code",
   "execution_count": null,
   "metadata": {},
   "outputs": [],
   "source": [
    "DATA_dataset_stacked.counts.sum_over_axes().smooth(0.07 * u.deg).plot(stretch=\"sqrt\", add_cbar=True)"
   ]
  },
  {
   "cell_type": "code",
   "execution_count": null,
   "metadata": {},
   "outputs": [],
   "source": [
    "DATA_dataset_stacked.background_model.evaluate().sum_over_axes().plot(stretch=\"sqrt\",add_cbar=True)"
   ]
  },
  {
   "cell_type": "code",
   "execution_count": null,
   "metadata": {},
   "outputs": [],
   "source": [
    "excess_map=DATA_dataset_stacked.counts.sum_over_axes() - DATA_dataset_stacked.background_model.evaluate().sum_over_axes()\n",
    "excess_map.smooth(0.1 * u.deg).plot(stretch=\"sqrt\",add_cbar=True, vmin=-1, vmax=20)"
   ]
  },
  {
   "cell_type": "code",
   "execution_count": 16,
   "metadata": {},
   "outputs": [
    {
     "name": "stdout",
     "output_type": "stream",
     "text": [
      "WcsNDMap\n",
      "\n",
      "\tgeom  : WcsGeom \n",
      " \taxes  : ['lon', 'lat', 'energy']\n",
      "\tshape : (600, 400, 2)\n",
      "\tndim  : 3\n",
      "\tunit  : \n",
      "\tdtype : float64\n",
      "\n",
      "WcsNDMap\n",
      "\n",
      "\tgeom  : WcsGeom \n",
      " \taxes  : ['lon', 'lat', 'energy']\n",
      "\tshape : (600, 400, 3)\n",
      "\tndim  : 3\n",
      "\tunit  : \n",
      "\tdtype : float64\n",
      "\n",
      "WcsNDMap\n",
      "\n",
      "\tgeom  : WcsGeom \n",
      " \taxes  : ['lon', 'lat', 'energy']\n",
      "\tshape : (600, 400, 3)\n",
      "\tndim  : 3\n",
      "\tunit  : \n",
      "\tdtype : float64\n",
      "\n"
     ]
    },
    {
     "data": {
      "text/plain": [
       "(<Figure size 432x288 with 2 Axes>,\n",
       " <matplotlib.axes._subplots.WCSAxesSubplot at 0x122069be0>,\n",
       " <matplotlib.colorbar.Colorbar at 0x12544bb70>)"
      ]
     },
     "execution_count": 16,
     "metadata": {},
     "output_type": "execute_result"
    },
    {
     "data": {
      "image/png": "[encoded data removed]",
      "text/plain": [
       "<Figure size 432x288 with 2 Axes>"
      ]
     },
     "metadata": {
      "needs_background": "light"
     },
     "output_type": "display_data"
    }
   ],
   "source": [
    "#excess_map.write(\"HESS_GC_5deg_Excess_Cube.fits\")\n",
    "#DATA_dataset_stacked.write(\"DATA_Set_GC_5deg_Cube.fits\")\n",
    "First_E_band=DATA_dataset_stacked.counts.slice_by_idx({'energy': slice(3, 5)})\n",
    "Second_E_band=DATA_dataset_stacked.counts.slice_by_idx({'energy': slice(6, 9)})\n",
    "Third_E_band=DATA_dataset_stacked.counts.slice_by_idx({'energy': slice(10, 13)})\n",
    "\n",
    "#prendre le background comme ca marche que si la dependance en E (tilt) est conforme \n",
    "#aux donnees car le Bg model est fite sur l'ensemble des counts.\n",
    "# augmenter les bins pour les effets de seuil\n",
    "# fiter le (le mettre libre) tilt quand je scale le bg sur les data\n",
    "First_E_bkg=DATA_dataset_stacked.background_model.evaluate().slice_by_idx({'energy': slice(3, 5)})\n",
    "Second_E_bkg=DATA_dataset_stacked.background_model.evaluate().slice_by_idx({'energy': slice(6, 9)})\n",
    "Third_E_bkg=DATA_dataset_stacked.background_model.evaluate().slice_by_idx({'energy': slice(10, 13)})\n",
    "\n",
    "print(First_E_bkg)\n",
    "print(Second_E_bkg)\n",
    "print(Third_E_bkg)\n",
    "\n",
    "First_E_excess=First_E_band.sum_over_axes() - First_E_bkg.sum_over_axes()\n",
    "Second_E_excess=Second_E_band.sum_over_axes() - Second_E_bkg.sum_over_axes()\n",
    "Third_E_excess=Third_E_band.sum_over_axes() - Third_E_bkg.sum_over_axes()\n",
    "\n",
    "#First_E_bkg.sum_over_axes().plot(stretch=\"sqrt\", add_cbar=True)\n",
    "#Second_E_bkg.sum_over_axes().plot(stretch=\"linear\", add_cbar=True)\n",
    "Third_E_bkg.sum_over_axes().plot(stretch=\"linear\", add_cbar=True,vmax=2.9)\n",
    "\n",
    "#First_E_excess.write(\"LE_HESS_CG_5deg_excess.fits\")\n",
    "#Second_E_excess.write(\"ME_HESS_CG_5deg_excess.fits\")\n",
    "#Third_E_excess.write(\"HE_HESS_CG_5deg_excess.fits\")"
   ]
  },
  {
   "cell_type": "code",
   "execution_count": 17,
   "metadata": {},
   "outputs": [
    {
     "name": "stdout",
     "output_type": "stream",
     "text": [
      "1.0\n",
      "WcsNDMap\n",
      "\n",
      "\tgeom  : WcsGeom \n",
      " \taxes  : ['lon', 'lat']\n",
      "\tshape : (600, 400)\n",
      "\tndim  : 2\n",
      "\tunit  : \n",
      "\tdtype : float64\n",
      "\n"
     ]
    }
   ],
   "source": [
    "bkg=DATA_dataset_stacked.background_model.norm.value\n",
    "print(bkg)\n",
    "bkg_3=DATA_dataset_stacked.background_model.evaluate().slice_by_idx({'energy': 3})\n",
    "print(bkg_3)"
   ]
  },
  {
   "cell_type": "code",
   "execution_count": 18,
   "metadata": {},
   "outputs": [
    {
     "name": "stderr",
     "output_type": "stream",
     "text": [
      "WARNING: UnitsWarning: 'photon/cm2/s/MeV/sr' contains multiple slashes, which is discouraged by the FITS standard [astropy.units.format.generic]\n",
      "UnitsWarning: 'photon/cm2/s/MeV/sr' contains multiple slashes, which is discouraged by the FITS standard\n"
     ]
    },
    {
     "name": "stdout",
     "output_type": "stream",
     "text": [
      "SkyDiffuseCube\n",
      "\n",
      "   name     value   error unit min max frozen\n",
      "--------- --------- ----- ---- --- --- ------\n",
      "     norm 1.000e+00   nan      nan nan  False\n",
      "     tilt 0.000e+00   nan      nan nan   True\n",
      "reference 1.000e+00   nan  TeV nan nan   True\n"
     ]
    }
   ],
   "source": [
    "#Define model Simu\n",
    "#model_simu = SkyModel(\"/Users/alemiere/GAMMA_PI/gammapy-tutorials/datasets/1dc/models/cube_iem.fits.gz\")\n",
    "model_simu = SkyDiffuseCube.read(\"/Users/alemiere/GAMMA_PI/gammapy-tutorials/datasets/1dc/models/cube_iem.fits.gz\")\n",
    "#model_simu = SkyDiffuseCube.read(\"/Users/alemiere/GAMMA_PI/gammapy-tutorials/datasets/fermi-3fhl-gc/gll_iem_v06_gc.fits.gz\")\n",
    "print(model_simu)"
   ]
  },
  {
   "cell_type": "code",
   "execution_count": 19,
   "metadata": {},
   "outputs": [
    {
     "name": "stdout",
     "output_type": "stream",
     "text": [
      "SkyDiffuseCube\n",
      "\n",
      "   name     value   error unit min max frozen\n",
      "--------- --------- ----- ---- --- --- ------\n",
      "     norm 3.000e-01   nan      nan nan   True\n",
      "     tilt 0.000e+00   nan      nan nan   True\n",
      "reference 1.000e+00   nan  TeV nan nan   True\n"
     ]
    }
   ],
   "source": [
    "model_simu.norm.value=0.3\n",
    "##model_simu.parameters['norm']=0.9\n",
    "model_simu.norm.frozen=True\n",
    "print(model_simu)"
   ]
  },
  {
   "cell_type": "code",
   "execution_count": 20,
   "metadata": {},
   "outputs": [],
   "source": [
    "# on ne comprend pas pourquoi il faut faire cette manip au vol puisque skydiffusecube est par def un skymodel\n",
    "models = SkyModels([model_simu])"
   ]
  },
  {
   "cell_type": "code",
   "execution_count": 21,
   "metadata": {},
   "outputs": [
    {
     "name": "stderr",
     "output_type": "stream",
     "text": [
      "/Users/alemiere/anaconda2/envs/gammapy-0.15/lib/python3.7/site-packages/astropy/units/quantity.py:464: RuntimeWarning: invalid value encountered in true_divide\n",
      "  result = super().__array_ufunc__(function, method, *arrays, **kwargs)\n",
      "/Users/alemiere/anaconda2/envs/gammapy-0.15/lib/python3.7/site-packages/gammapy/cube/psf_kernel.py:109: RuntimeWarning: invalid value encountered in true_divide\n",
      "  img += vals.value / vals.sum().value\n"
     ]
    },
    {
     "name": "stdout",
     "output_type": "stream",
     "text": [
      "MapDataset\n",
      "\n",
      "    Name                            : GC-stacked \n",
      "\n",
      "    Total counts                    : 1201920 \n",
      "    Total predicted counts          : 1199794.31\n",
      "    Total background counts         : 1156429.92\n",
      "\n",
      "    Exposure min                    : 0.00e+00 m2 s\n",
      "    Exposure max                    : 8.19e+11 m2 s\n",
      "\n",
      "    Number of total bins            : 3120000 \n",
      "    Number of fit bins              : 3120000 \n",
      "\n",
      "    Fit statistic type              : cash\n",
      "    Fit statistic value (-2 log(L)) : 1083489.75\n",
      "\n",
      "    Number of models                : 2 \n",
      "    Number of parameters            : 6\n",
      "    Number of free parameters       : 1\n",
      "\n",
      "    Component 0: \n",
      "        Name                        : cube_iem.fits\n",
      "        Type                        : SkyDiffuseCube\n",
      "        Parameters:\n",
      "            norm         (frozen)   : 0.300  \n",
      "            tilt         (frozen)   : 0.000  \n",
      "            reference    (frozen)   : 1.000  TeV\n",
      "\n",
      "    Component 1: \n",
      "        Name                        : background\n",
      "        Type                        : BackgroundModel\n",
      "        Parameters:\n",
      "            norm                    : 1.000  \n",
      "            tilt         (frozen)   : 0.000  \n",
      "            reference    (frozen)   : 1.000  TeV\n",
      "\n",
      "\n"
     ]
    }
   ],
   "source": [
    "# Add the model on the dataset and Poission fluctuate\n",
    "dataset_stacked.models = models\n",
    "dataset_stacked.fake()\n",
    "# Do a print on the dataset - there is now a counts maps\n",
    "print(dataset_stacked)"
   ]
  },
  {
   "cell_type": "code",
   "execution_count": 22,
   "metadata": {},
   "outputs": [
    {
     "data": {
      "text/plain": [
       "(<Figure size 432x288 with 2 Axes>,\n",
       " <matplotlib.axes._subplots.WCSAxesSubplot at 0x11da71ba8>,\n",
       " <matplotlib.colorbar.Colorbar at 0x11e1a6908>)"
      ]
     },
     "execution_count": 22,
     "metadata": {},
     "output_type": "execute_result"
    },
    {
     "data": {
      "image/png": "[encoded data removed]",
      "text/plain": [
       "<Figure size 432x288 with 2 Axes>"
      ]
     },
     "metadata": {
      "needs_background": "light"
     },
     "output_type": "display_data"
    }
   ],
   "source": [
    "#look at the simulated counts map\n",
    "dataset_stacked.counts.sum_over_axes().smooth(0.1 * u.deg).plot(stretch=\"linear\", add_cbar=True,vmax=20)"
   ]
  },
  {
   "cell_type": "code",
   "execution_count": 23,
   "metadata": {},
   "outputs": [
    {
     "data": {
      "text/plain": [
       "(<Figure size 432x288 with 2 Axes>,\n",
       " <matplotlib.axes._subplots.WCSAxesSubplot at 0x11e14ee80>,\n",
       " <matplotlib.colorbar.Colorbar at 0x11fc6eeb8>)"
      ]
     },
     "execution_count": 23,
     "metadata": {},
     "output_type": "execute_result"
    },
    {
     "data": {
      "image/png": "[encoded data removed]",
      "text/plain": [
       "<Figure size 432x288 with 2 Axes>"
      ]
     },
     "metadata": {
      "needs_background": "light"
     },
     "output_type": "display_data"
    }
   ],
   "source": [
    "DATA_dataset_stacked.counts.sum_over_axes().smooth(0.1 * u.deg).plot(stretch=\"linear\", add_cbar=True,vmax=20)"
   ]
  },
  {
   "cell_type": "code",
   "execution_count": 24,
   "metadata": {},
   "outputs": [
    {
     "data": {
      "text/plain": [
       "(<Figure size 432x288 with 2 Axes>,\n",
       " <matplotlib.axes._subplots.WCSAxesSubplot at 0x12037a7f0>,\n",
       " <matplotlib.colorbar.Colorbar at 0x12099c828>)"
      ]
     },
     "execution_count": 24,
     "metadata": {},
     "output_type": "execute_result"
    },
    {
     "data": {
      "image/png": "[encoded data removed]",
      "text/plain": [
       "<Figure size 432x288 with 2 Axes>"
      ]
     },
     "metadata": {
      "needs_background": "light"
     },
     "output_type": "display_data"
    }
   ],
   "source": [
    "sub_maps = DATA_dataset_stacked.counts.sum_over_axes() - dataset_stacked.counts.sum_over_axes()\n",
    "sub_maps.smooth(0.15 * u.deg).plot(stretch=\"linear\", add_cbar=True, vmin=-5, vmax=10)"
   ]
  },
  {
   "cell_type": "code",
   "execution_count": 25,
   "metadata": {},
   "outputs": [
    {
     "name": "stderr",
     "output_type": "stream",
     "text": [
      "WARNING: AstropyDeprecationWarning: The truth value of a Quantity is ambiguous. In the future this will raise a ValueError. [astropy.units.quantity]\n",
      "AstropyDeprecationWarning: The truth value of a Quantity is ambiguous. In the future this will raise a ValueError.\n"
     ]
    },
    {
     "name": "stdout",
     "output_type": "stream",
     "text": [
      "Info for OBS_ID = 150101\n",
      "- Start time: 51910.68\n",
      "- Pointing pos: RA 267.38 deg / Dec -25.96 deg\n",
      "- Observation duration: 1681.0 s\n",
      "- Dead-time fraction: 1.277 %\n",
      "\n",
      "Info for OBS_ID = 1\n",
      "- Pointing pos: RA 266.89 deg / Dec -26.19 deg\n",
      "- Livetime duration: 360000.0 s\n",
      "\n"
     ]
    },
    {
     "name": "stderr",
     "output_type": "stream",
     "text": [
      "/Users/alemiere/anaconda2/envs/gammapy-0.15/lib/python3.7/site-packages/astropy/units/quantity.py:464: RuntimeWarning: invalid value encountered in true_divide\n",
      "  result = super().__array_ufunc__(function, method, *arrays, **kwargs)\n",
      "/Users/alemiere/anaconda2/envs/gammapy-0.15/lib/python3.7/site-packages/gammapy/cube/psf_kernel.py:109: RuntimeWarning: invalid value encountered in true_divide\n",
      "  img += vals.value / vals.sum().value\n"
     ]
    },
    {
     "name": "stdout",
     "output_type": "stream",
     "text": [
      "MapDataset\n",
      "\n",
      "    Name                            : obs_1 \n",
      "\n",
      "    Total counts                    : 284637 \n",
      "    Total predicted counts          : 284394.14\n",
      "    Total background counts         : 275318.46\n",
      "\n",
      "    Exposure min                    : 2.44e+00 m2 s\n",
      "    Exposure max                    : 1.95e+11 m2 s\n",
      "\n",
      "    Number of total bins            : 3120000 \n",
      "    Number of fit bins              : 638326 \n",
      "\n",
      "    Fit statistic type              : cash\n",
      "    Fit statistic value (-2 log(L)) : 580838.73\n",
      "\n",
      "    Number of models                : 2 \n",
      "    Number of parameters            : 6\n",
      "    Number of free parameters       : 1\n",
      "\n",
      "    Component 0: \n",
      "        Name                        : cube_iem.fits\n",
      "        Type                        : SkyDiffuseCube\n",
      "        Parameters:\n",
      "            norm         (frozen)   : 0.300  \n",
      "            tilt         (frozen)   : 0.000  \n",
      "            reference    (frozen)   : 1.000  TeV\n",
      "\n",
      "    Component 1: \n",
      "        Name                        : background\n",
      "        Type                        : BackgroundModel\n",
      "        Parameters:\n",
      "            norm                    : 1.000  \n",
      "            tilt         (frozen)   : 0.000  \n",
      "            reference    (frozen)   : 1.000  TeV\n",
      "\n",
      "\n"
     ]
    }
   ],
   "source": [
    "## rajouter du temps d'observation :\n",
    "livetime = 100.0 * u.hr\n",
    "\n",
    "data_store = DataStore.from_dir(\"/Users/alemiere/GAMMA_PI/Prod_2019_V015/he_stereo_Prod17_Calib0834_thsq64/\")\n",
    "#selected_obs_table = data_store.obs_table.select_observations(selection)\n",
    "#obs = data_store.get_observations(selected_obs_table[\"OBS_ID\"])\n",
    "#run de 2018 qui un pas mal place\n",
    "#list_ids=[138961]\n",
    "#list_ids=[138962]\n",
    "#list_ids=[149948]\n",
    "list_ids=[150101]\n",
    "obs=data_store.get_observations(list_ids)[0]\n",
    "#attention ici, ce run est trop vieux !! il faut faire avec un run HESS1U\n",
    "\n",
    "print(obs)\n",
    "\n",
    "irfs={}\n",
    "#irfs[\"bkg\"] = obs.bkg\n",
    "irfs[\"aeff\"] = obs.aeff\n",
    "irfs[\"psf\"] = obs.psf\n",
    "irfs[\"edisp\"] = obs.edisp\n",
    "irfs[\"bkg\"] = obs.bkg \n",
    "\n",
    "from gammapy.data import Observation\n",
    "\n",
    "pointing = SkyCoord(2.57, 1.06, unit=\"deg\", frame=\"galactic\")\n",
    "\n",
    "# Create an in-memory observation\n",
    "Simu_New_obs = Observation.create(pointing=pointing, livetime=livetime, irfs=irfs)\n",
    "print(Simu_New_obs)\n",
    "\n",
    "\n",
    "\n",
    "# Make the MapDataset\n",
    "empty = MapDataset.create(geom)\n",
    "maker = MapDatasetMaker(selection=[\"exposure\", \"background\", \"psf\", \"edisp\"])\n",
    "maker_safe_mask = SafeMaskMaker(methods=[\"offset-max\"], offset_max=2.5 * u.deg)\n",
    "dataset = maker.run(empty, Simu_New_obs)\n",
    "dataset = maker_safe_mask.run(dataset, Simu_New_obs)\n",
    "#print(dataset)\n",
    "\n",
    "# Add the model on the dataset and Poission fluctuate\n",
    "dataset.models = models\n",
    "dataset.fake()\n",
    "print(dataset)\n",
    "# pour le bakground, il faut le prendre dans 3-4 runs : "
   ]
  },
  {
   "cell_type": "code",
   "execution_count": 26,
   "metadata": {},
   "outputs": [
    {
     "data": {
      "text/plain": [
       "(<Figure size 432x288 with 2 Axes>,\n",
       " <matplotlib.axes._subplots.WCSAxesSubplot at 0x12164ec88>,\n",
       " <matplotlib.colorbar.Colorbar at 0x11f8c6e80>)"
      ]
     },
     "execution_count": 26,
     "metadata": {},
     "output_type": "execute_result"
    },
    {
     "data": {
      "image/png": "[encoded data removed]",
      "text/plain": [
       "<Figure size 432x288 with 2 Axes>"
      ]
     },
     "metadata": {
      "needs_background": "light"
     },
     "output_type": "display_data"
    }
   ],
   "source": [
    "#look at the simulated counts map\n",
    "dataset.counts.sum_over_axes().smooth(0.2 * u.deg).plot(stretch=\"linear\", add_cbar=True, vmax=12)\n",
    "#dataset.background_model.evaluate().sum_over_axes().plot(add_cbar=True)"
   ]
  },
  {
   "cell_type": "code",
   "execution_count": 27,
   "metadata": {},
   "outputs": [
    {
     "ename": "AttributeError",
     "evalue": "'MapDataset' object has no attribute 'sum_over_axes'",
     "output_type": "error",
     "traceback": [
      "\u001b[0;31m---------------------------------------------------------------------------\u001b[0m",
      "\u001b[0;31mAttributeError\u001b[0m                            Traceback (most recent call last)",
      "\u001b[0;32m<ipython-input-27-3ede876744b2>\u001b[0m in \u001b[0;36m<module>\u001b[0;34m\u001b[0m\n\u001b[1;32m      5\u001b[0m \u001b[0;31m#marche pas car on ne peut stacker que des cartes avec le meme cutout\u001b[0m\u001b[0;34m\u001b[0m\u001b[0;34m\u001b[0m\u001b[0m\n\u001b[1;32m      6\u001b[0m \u001b[0;34m\u001b[0m\u001b[0m\n\u001b[0;32m----> 7\u001b[0;31m \u001b[0mFinal_dataset\u001b[0m\u001b[0;34m.\u001b[0m\u001b[0msum_over_axes\u001b[0m\u001b[0;34m(\u001b[0m\u001b[0;34m)\u001b[0m\u001b[0;34m.\u001b[0m\u001b[0msmooth\u001b[0m\u001b[0;34m(\u001b[0m\u001b[0;36m0.1\u001b[0m \u001b[0;34m*\u001b[0m \u001b[0mu\u001b[0m\u001b[0;34m.\u001b[0m\u001b[0mdeg\u001b[0m\u001b[0;34m)\u001b[0m\u001b[0;34m.\u001b[0m\u001b[0mplot\u001b[0m\u001b[0;34m(\u001b[0m\u001b[0mstretch\u001b[0m\u001b[0;34m=\u001b[0m\u001b[0;34m\"linear\"\u001b[0m\u001b[0;34m,\u001b[0m \u001b[0madd_cbar\u001b[0m\u001b[0;34m=\u001b[0m\u001b[0;32mTrue\u001b[0m\u001b[0;34m,\u001b[0m \u001b[0mvmax\u001b[0m\u001b[0;34m=\u001b[0m\u001b[0;36m32\u001b[0m\u001b[0;34m)\u001b[0m\u001b[0;34m\u001b[0m\u001b[0m\n\u001b[0m",
      "\u001b[0;31mAttributeError\u001b[0m: 'MapDataset' object has no attribute 'sum_over_axes'"
     ]
    }
   ],
   "source": [
    "#add data_simulated_map and new_data_simulated_map :\n",
    "#Final_dataset = dataset_stacked.counts.sum_over_axes() + dataset.counts.sum_over_axes()\n",
    "Final_dataset=dataset_stacked.copy()\n",
    "#Final_dataset=Final_dataset.stack(dataset)\n",
    "#marche pas car on ne peut stacker que des cartes avec le meme cutout\n",
    "\n",
    "Final_dataset.sum_over_axes().smooth(0.1 * u.deg).plot(stretch=\"linear\", add_cbar=True, vmax=32)"
   ]
  },
  {
   "cell_type": "code",
   "execution_count": null,
   "metadata": {},
   "outputs": [],
   "source": [
    "Final_dataset.write('Total_simu_50h.fits', hdu='IMAGE')"
   ]
  },
  {
   "cell_type": "code",
   "execution_count": null,
   "metadata": {},
   "outputs": [],
   "source": [
    "dataset.counts.sum_over_axes().write('NewObs_simu_50h.fits', hdu='IMAGE')"
   ]
  },
  {
   "cell_type": "code",
   "execution_count": null,
   "metadata": {},
   "outputs": [],
   "source": [
    "dataset_stacked.counts.sum_over_axes().write('FromDataObs_simu.fits', hdu='IMAGE')"
   ]
  },
  {
   "cell_type": "code",
   "execution_count": null,
   "metadata": {},
   "outputs": [],
   "source": [
    "DATA_dataset_stacked.counts.sum_over_axes().write('DataObs.fits', hdu='IMAGE')"
   ]
  },
  {
   "cell_type": "code",
   "execution_count": null,
   "metadata": {},
   "outputs": [],
   "source": [
    "from astropy.convolution import Tophat2DKernel \n",
    "from gammapy.detect import compute_lima_image\n",
    "#il me faut des cartes en significativité ?...\n",
    "scale = geom.pixel_scales[0].to(\"deg\")\n",
    "theta = 0.2 * u.deg / scale\n",
    "tophat = Tophat2DKernel(theta)\n",
    "tophat.normalize(\"peak\")\n",
    "\n",
    "ds=DATA_dataset_stacked.to_image()\n",
    "lima_Data = compute_lima_image(ds.counts,ds.background_model.evaluate(),tophat)\n",
    "ds_sim = dataset_stacked.to_image()\n",
    "lima_Simu_OnData = compute_lima_image(ds_sim.counts,ds_sim.background_model.evaluate(),tophat)\n",
    "ds_sim_new = dataset.to_image()\n",
    "lima_SimuNew = compute_lima_image(ds_sim_new.counts,ds_sim_new.background_model.evaluate(),tophat)\n",
    "\n",
    "#ds_tot = Final_dataset.to_image()\n",
    "#lima_SimuTotal= compute_lima_image(ds_tot.counts,ds_tot.background_model.evaluate(),tophat)"
   ]
  },
  {
   "cell_type": "code",
   "execution_count": null,
   "metadata": {},
   "outputs": [],
   "source": [
    "lima_Data['significance'].sum_over_axes().plot( add_cbar=True, vmin=-3, vmax=15)"
   ]
  },
  {
   "cell_type": "code",
   "execution_count": null,
   "metadata": {},
   "outputs": [],
   "source": [
    "lima_Data['significance'].write(\"Significance_GC_5deg.fits\")"
   ]
  },
  {
   "cell_type": "code",
   "execution_count": null,
   "metadata": {},
   "outputs": [],
   "source": [
    "lima_SimuNew['significance'].sum_over_axes().plot(add_cbar=True, vmin=-3, vmax=12)"
   ]
  },
  {
   "cell_type": "code",
   "execution_count": null,
   "metadata": {},
   "outputs": [],
   "source": [
    "lima_Simu_OnData['significance'].sum_over_axes().plot(add_cbar=True, vmin=-3, vmax=15)"
   ]
  },
  {
   "cell_type": "code",
   "execution_count": null,
   "metadata": {},
   "outputs": [],
   "source": [
    "ds_sim.exposure.sum_over_axes().plot(add_cbar=True)"
   ]
  },
  {
   "cell_type": "code",
   "execution_count": null,
   "metadata": {},
   "outputs": [],
   "source": [
    "flux_Datamap = lima_Data['excess'].sum_over_axes() / ds.exposure.sum_over_axes()\n",
    "flux_SimuOnData= lima_Simu_OnData['excess'].sum_over_axes() / ds_sim.exposure.sum_over_axes()\n",
    "flux_NewSimu= lima_SimuNew['excess'].sum_over_axes() / ds_sim_new.exposure.sum_over_axes()"
   ]
  },
  {
   "cell_type": "code",
   "execution_count": null,
   "metadata": {},
   "outputs": [],
   "source": [
    "flux_Datamap.plot(add_cbar=True, vmin=-0.000000015, vmax=0.000000075)"
   ]
  },
  {
   "cell_type": "code",
   "execution_count": null,
   "metadata": {},
   "outputs": [],
   "source": [
    "flux_SimuOnData.plot(add_cbar=True, vmin=-0.000000015, vmax=0.000000075)"
   ]
  },
  {
   "cell_type": "code",
   "execution_count": null,
   "metadata": {},
   "outputs": [],
   "source": [
    "flux_NewSimu.plot(add_cbar=True, vmin=-0.000000015, vmax=0.000000075)"
   ]
  },
  {
   "cell_type": "code",
   "execution_count": null,
   "metadata": {},
   "outputs": [],
   "source": []
  }
 ],
 "metadata": {
  "kernelspec": {
   "display_name": "Python 3",
   "language": "python",
   "name": "python3"
  },
  "language_info": {
   "codemirror_mode": {
    "name": "ipython",
    "version": 3
   },
   "file_extension": ".py",
   "mimetype": "text/x-python",
   "name": "python",
   "nbconvert_exporter": "python",
   "pygments_lexer": "ipython3",
   "version": "3.7.0"
  }
 },
 "nbformat": 4,
 "nbformat_minor": 4
}
