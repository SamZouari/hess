{
 "cells": [
  {
   "cell_type": "markdown",
   "metadata": {},
   "source": [
    "# Courbe de lumière de Sagittarius A*"
   ]
  },
  {
   "cell_type": "markdown",
   "metadata": {},
   "source": [
    "On veut utiliser la nouvelle classe AnalysisConfig"
   ]
  },
  {
   "cell_type": "code",
   "execution_count": 30,
   "metadata": {},
   "outputs": [],
   "source": [
    "%matplotlib inline\n",
    "import matplotlib.pyplot as plt\n",
    "\n",
    "import astropy.units as u\n",
    "from astropy.coordinates import SkyCoord\n",
    "import logging\n",
    "\n",
    "from astropy.time import Time\n",
    "\n",
    "log = logging.getLogger(__name__)\n",
    "\n",
    "from astropy.coordinates import Angle"
   ]
  },
  {
   "cell_type": "code",
   "execution_count": 33,
   "metadata": {},
   "outputs": [],
   "source": [
    "from gammapy.data import DataStore\n",
    "\n",
    "from gammapy.modeling.models import PowerLawSpectralModel\n",
    "from gammapy.modeling.models import PointSpatialModel\n",
    "from gammapy.modeling.models import SkyModel, SkyModels\n",
    "from gammapy.time import LightCurveEstimator\n",
    "from gammapy.analysis import Analysis, AnalysisConfig"
   ]
  },
  {
   "cell_type": "code",
   "execution_count": 51,
   "metadata": {},
   "outputs": [],
   "source": [
    "t2004 = Time(['2004-01-01T00:00:00', '2004-12-31T23:59:59'])\n",
    "t2005 = Time(['2005-01-01T00:00:00', '2005-12-31T23:59:59'])\n",
    "t2006 = Time(['2006-01-01T00:00:00', '2006-12-31T23:59:59'])\n",
    "t2007 = Time(['2007-01-01T00:00:00', '2007-12-31T23:59:59'])\n",
    "t2008 = Time(['2008-01-01T00:00:00', '2008-12-31T23:59:59'])\n",
    "t2009 = Time(['2009-01-01T00:00:00', '2009-12-31T23:59:59'])\n",
    "t2010 = Time(['2010-01-01T00:00:00', '2010-12-31T23:59:59'])\n",
    "t2011 = Time(['2011-01-01T00:00:00', '2011-12-31T23:59:59'])\n",
    "t2012 = Time(['2012-01-01T00:00:00', '2012-12-31T23:59:59'])\n",
    "t2013 = Time(['2013-01-01T00:00:00', '2013-12-31T23:59:59'])\n",
    "t2014 = Time(['2014-01-01T00:00:00', '2014-12-31T23:59:59'])\n",
    "t2015 = Time(['2015-01-01T00:00:00', '2015-12-31T23:59:59'])\n",
    "t2016 = Time(['2016-01-01T00:00:00', '2016-12-31T23:59:59'])\n",
    "t2017 = Time(['2017-01-01T00:00:00', '2017-12-31T23:59:59'])\n",
    "t2018 = Time(['2018-01-01T00:00:00', '2018-12-31T23:59:59'])\n",
    "t2019 = Time(['2019-01-01T00:00:00', '2019-12-31T23:59:59'])\n",
    "\n",
    "time_intervals = [t2004, t2005, t2006, t2007, t2008, t2009, t2010, t2011, t2012, t2013, t2014, t2015, t2016, t2017, t2018, t2019]"
   ]
  },
  {
   "cell_type": "code",
   "execution_count": 60,
   "metadata": {},
   "outputs": [
    {
     "name": "stdout",
     "output_type": "stream",
     "text": [
      "Data store:\n",
      "HDU index table:\n",
      "BASE_DIR: ../data/ash_stereo_Prod17_Calib0834_thsq64\n",
      "Rows: 122853\n",
      "OBS_ID: 18092 -- 151486\n",
      "HDU_TYPE: ['aeff', 'bkg', 'edisp', 'events', 'gti', 'psf']\n",
      "HDU_CLASS: ['aeff_2d', 'bkg_2d', 'edisp_2d', 'events', 'gti', 'psf_3gauss', 'psf_table']\n",
      "\n",
      "\n",
      "Observation table:\n",
      "Observatory name: 'N/A'\n",
      "Number of observations: 20485\n",
      "\n"
     ]
    }
   ],
   "source": [
    "# Define which data to use and print some information\n",
    "data_store = DataStore.from_dir(\"../../data/ash_stereo_Prod17_Calib0834_thsq64\")\n",
    "#data_store.obs_table.meta.update(dict(TIME_FORMAT= \"absolute\"))\n",
    "data_store.info()"
   ]
  },
  {
   "cell_type": "code",
   "execution_count": 36,
   "metadata": {},
   "outputs": [],
   "source": [
    "src_pos = SkyCoord(359.94, -0.04, unit=\"deg\", frame=\"galactic\")\n",
    "\n",
    "selection = dict(type='sky_circle', frame='galactic',\n",
    "                 lon=src_pos.l ,\n",
    "                 lat=src_pos.b,\n",
    "                 radius=Angle(2, 'deg'),\n",
    "                 border=Angle(0, 'deg'))"
   ]
  },
  {
   "cell_type": "code",
   "execution_count": 65,
   "metadata": {},
   "outputs": [],
   "source": [
    "observations1 = data_store.obs_table.select_observations(selection)\n",
    "obs_ids = list(observations1[\"OBS_ID\"])\n",
    "observations = data_store.get_observations(obs_ids)"
   ]
  },
  {
   "cell_type": "code",
   "execution_count": 66,
   "metadata": {},
   "outputs": [],
   "source": [
    "obs2004 = observations.select_time(t2004)"
   ]
  },
  {
   "cell_type": "code",
   "execution_count": 67,
   "metadata": {},
   "outputs": [
    {
     "data": {
      "text/plain": [
       "0"
      ]
     },
     "execution_count": 67,
     "metadata": {},
     "output_type": "execute_result"
    }
   ],
   "source": [
    "len(obs2004)"
   ]
  },
  {
   "cell_type": "markdown",
   "metadata": {},
   "source": [
    "# Analysis configuration"
   ]
  },
  {
   "cell_type": "markdown",
   "metadata": {},
   "source": [
    "## Analyse 3D"
   ]
  },
  {
   "cell_type": "code",
   "execution_count": 27,
   "metadata": {},
   "outputs": [
    {
     "name": "stdout",
     "output_type": "stream",
     "text": [
      "AnalysisConfig\n",
      "\n",
      "    general:\n",
      "        log: {level: info, filename: null, filemode: null, format: null, datefmt: null}\n",
      "        outdir: .\n",
      "    observations:\n",
      "        datastore: ../data/ash_stereo_Prod17_Calib0834_thsq64\n",
      "        obs_ids: []\n",
      "        obs_file: null\n",
      "        obs_cone: {frame: null, lon: null, lat: null, radius: null}\n",
      "        obs_time: {start: null, stop: null}\n",
      "    datasets:\n",
      "        type: 1d\n",
      "        stack: true\n",
      "        geom:\n",
      "            wcs:\n",
      "                skydir: {frame: null, lon: null, lat: null}\n",
      "                binsize: 0.02 deg\n",
      "                fov: {width: 5.0 deg, height: 5.0 deg}\n",
      "                binsize_irf: 0.2 deg\n",
      "            selection: {offset_max: 2.5 deg}\n",
      "            axes:\n",
      "                energy: {min: 0.1 TeV, max: 10.0 TeV, nbins: 30}\n",
      "                energy_true: {min: 0.1 TeV, max: 10.0 TeV, nbins: 30}\n",
      "        map_selection: [counts, exposure, background, psf, edisp]\n",
      "        background: {method: reflected, exclusion: null}\n",
      "        on_region: {frame: null, lon: null, lat: null, radius: null}\n",
      "        containment_correction: true\n",
      "    fit:\n",
      "        fit_range: {min: 0.1 TeV, max: 10.0 TeV}\n",
      "    flux_points:\n",
      "        energy: {min: 0.1 TeV, max: 10.0 TeV, nbins: 30}\n",
      "    \n"
     ]
    }
   ],
   "source": [
    "conf_3d = AnalysisConfig()\n",
    "\n",
    "# We define the datastore containing the data\n",
    "conf_3d.observations.datastore = \"$GAMMAPY_DATA/ash_stereo_Prod17_Calib0834_thsq64\"\n",
    "\n",
    "print(conf_3d)"
   ]
  },
  {
   "cell_type": "code",
   "execution_count": 19,
   "metadata": {},
   "outputs": [],
   "source": [
    "# We want a 3D analysis\n",
    "conf_3d.datasets.type = \"3d\"\n",
    "\n",
    "# We want to extract the data by observation and therefore to not stack them\n",
    "conf_3d.datasets.stack = True\n",
    "\n",
    "# Here is the WCS geometry of the Maps\n",
    "conf_3d.datasets.geom.wcs.skydir = dict(\n",
    "    frame=\"icrs\", lon=359.94 * u.deg, lat=-0.04 * u.deg\n",
    ")\n",
    "conf_3d.datasets.geom.wcs.binsize = 0.02 * u.deg\n",
    "conf_3d.datasets.geom.wcs.fov = dict(width=2 * u.deg, height=2 * u.deg)\n",
    "\n",
    "# We define a value for the IRF Maps binsize\n",
    "conf_3d.datasets.geom.wcs.binsize_irf = 0.2 * u.deg\n",
    "\n",
    "# Define energy binning for the Maps\n",
    "conf_3d.datasets.geom.axes.energy = dict(\n",
    "    min=0.7 * u.TeV, max=10 * u.TeV, nbins=5\n",
    ")\n",
    "conf_3d.datasets.geom.axes.energy_true = dict(\n",
    "    min=0.3 * u.TeV, max=20 * u.TeV, nbins=10\n",
    ")"
   ]
  },
  {
   "cell_type": "code",
   "execution_count": 25,
   "metadata": {},
   "outputs": [],
   "source": [
    "conf_3d.observations.obs_time.start = '2004-01-01T00:00:00'\n",
    "conf_3d.observations.obs_time.stop = '2004-12-31T23:59:59'"
   ]
  },
  {
   "cell_type": "code",
   "execution_count": 28,
   "metadata": {},
   "outputs": [
    {
     "name": "stderr",
     "output_type": "stream",
     "text": [
      "Setting logging config: {'level': 'INFO', 'filename': None, 'filemode': None, 'format': None, 'datefmt': None}\n",
      "Fetching observations.\n",
      "Number of selected observations: 20485\n",
      "Reducing spectrum datasets.\n"
     ]
    },
    {
     "ename": "TypeError",
     "evalue": "The value must be a valid Python or Numpy numeric type.",
     "output_type": "error",
     "traceback": [
      "\u001b[0;31m---------------------------------------------------------------------------\u001b[0m",
      "\u001b[0;31mTypeError\u001b[0m                                 Traceback (most recent call last)",
      "\u001b[0;32m<ipython-input-28-c8b9987ba61e>\u001b[0m in \u001b[0;36m<module>\u001b[0;34m\u001b[0m\n\u001b[1;32m      1\u001b[0m \u001b[0manalysis_3d\u001b[0m \u001b[0;34m=\u001b[0m \u001b[0mAnalysis\u001b[0m\u001b[0;34m(\u001b[0m\u001b[0mconf_3d\u001b[0m\u001b[0;34m)\u001b[0m\u001b[0;34m\u001b[0m\u001b[0m\n\u001b[1;32m      2\u001b[0m \u001b[0manalysis_3d\u001b[0m\u001b[0;34m.\u001b[0m\u001b[0mget_observations\u001b[0m\u001b[0;34m(\u001b[0m\u001b[0;34m)\u001b[0m\u001b[0;34m\u001b[0m\u001b[0m\n\u001b[0;32m----> 3\u001b[0;31m \u001b[0manalysis_3d\u001b[0m\u001b[0;34m.\u001b[0m\u001b[0mget_datasets\u001b[0m\u001b[0;34m(\u001b[0m\u001b[0;34m)\u001b[0m\u001b[0;34m\u001b[0m\u001b[0m\n\u001b[0m",
      "\u001b[0;32m~/anaconda3/envs/gammapy-0.15/lib/python3.7/site-packages/gammapy/analysis/core.py\u001b[0m in \u001b[0;36mget_datasets\u001b[0;34m(self)\u001b[0m\n\u001b[1;32m    128\u001b[0m \u001b[0;34m\u001b[0m\u001b[0m\n\u001b[1;32m    129\u001b[0m         \u001b[0;32mif\u001b[0m \u001b[0mself\u001b[0m\u001b[0;34m.\u001b[0m\u001b[0mconfig\u001b[0m\u001b[0;34m.\u001b[0m\u001b[0mdatasets\u001b[0m\u001b[0;34m.\u001b[0m\u001b[0mtype\u001b[0m \u001b[0;34m==\u001b[0m \u001b[0;34m\"1d\"\u001b[0m\u001b[0;34m:\u001b[0m\u001b[0;34m\u001b[0m\u001b[0m\n\u001b[0;32m--> 130\u001b[0;31m             \u001b[0mself\u001b[0m\u001b[0;34m.\u001b[0m\u001b[0m_spectrum_extraction\u001b[0m\u001b[0;34m(\u001b[0m\u001b[0;34m)\u001b[0m\u001b[0;34m\u001b[0m\u001b[0m\n\u001b[0m\u001b[1;32m    131\u001b[0m         \u001b[0;32melif\u001b[0m \u001b[0mself\u001b[0m\u001b[0;34m.\u001b[0m\u001b[0mconfig\u001b[0m\u001b[0;34m.\u001b[0m\u001b[0mdatasets\u001b[0m\u001b[0;34m.\u001b[0m\u001b[0mtype\u001b[0m \u001b[0;34m==\u001b[0m \u001b[0;34m\"3d\"\u001b[0m\u001b[0;34m:\u001b[0m\u001b[0;34m\u001b[0m\u001b[0m\n\u001b[1;32m    132\u001b[0m             \u001b[0mself\u001b[0m\u001b[0;34m.\u001b[0m\u001b[0m_map_making\u001b[0m\u001b[0;34m(\u001b[0m\u001b[0;34m)\u001b[0m\u001b[0;34m\u001b[0m\u001b[0m\n",
      "\u001b[0;32m~/anaconda3/envs/gammapy-0.15/lib/python3.7/site-packages/gammapy/analysis/core.py\u001b[0m in \u001b[0;36m_spectrum_extraction\u001b[0;34m(self)\u001b[0m\n\u001b[1;32m    286\u001b[0m         \u001b[0mon_lon\u001b[0m \u001b[0;34m=\u001b[0m \u001b[0mdatasets_settings\u001b[0m\u001b[0;34m.\u001b[0m\u001b[0mon_region\u001b[0m\u001b[0;34m.\u001b[0m\u001b[0mlon\u001b[0m\u001b[0;34m\u001b[0m\u001b[0m\n\u001b[1;32m    287\u001b[0m         \u001b[0mon_lat\u001b[0m \u001b[0;34m=\u001b[0m \u001b[0mdatasets_settings\u001b[0m\u001b[0;34m.\u001b[0m\u001b[0mon_region\u001b[0m\u001b[0;34m.\u001b[0m\u001b[0mlat\u001b[0m\u001b[0;34m\u001b[0m\u001b[0m\n\u001b[0;32m--> 288\u001b[0;31m         \u001b[0mon_center\u001b[0m \u001b[0;34m=\u001b[0m \u001b[0mSkyCoord\u001b[0m\u001b[0;34m(\u001b[0m\u001b[0mon_lon\u001b[0m\u001b[0;34m,\u001b[0m \u001b[0mon_lat\u001b[0m\u001b[0;34m,\u001b[0m \u001b[0mframe\u001b[0m\u001b[0;34m=\u001b[0m\u001b[0mdatasets_settings\u001b[0m\u001b[0;34m.\u001b[0m\u001b[0mon_region\u001b[0m\u001b[0;34m.\u001b[0m\u001b[0mframe\u001b[0m\u001b[0;34m)\u001b[0m\u001b[0;34m\u001b[0m\u001b[0m\n\u001b[0m\u001b[1;32m    289\u001b[0m         \u001b[0mon_region\u001b[0m \u001b[0;34m=\u001b[0m \u001b[0mCircleSkyRegion\u001b[0m\u001b[0;34m(\u001b[0m\u001b[0mon_center\u001b[0m\u001b[0;34m,\u001b[0m \u001b[0mdatasets_settings\u001b[0m\u001b[0;34m.\u001b[0m\u001b[0mon_region\u001b[0m\u001b[0;34m.\u001b[0m\u001b[0mradius\u001b[0m\u001b[0;34m)\u001b[0m\u001b[0;34m\u001b[0m\u001b[0m\n\u001b[1;32m    290\u001b[0m \u001b[0;34m\u001b[0m\u001b[0m\n",
      "\u001b[0;32m~/anaconda3/envs/gammapy-0.15/lib/python3.7/site-packages/astropy/coordinates/sky_coordinate.py\u001b[0m in \u001b[0;36m__init__\u001b[0;34m(self, copy, *args, **kwargs)\u001b[0m\n\u001b[1;32m    255\u001b[0m             \u001b[0margs\u001b[0m \u001b[0;34m=\u001b[0m \u001b[0mlist\u001b[0m\u001b[0;34m(\u001b[0m\u001b[0margs\u001b[0m\u001b[0;34m)\u001b[0m  \u001b[0;31m# Make it mutable\u001b[0m\u001b[0;34m\u001b[0m\u001b[0m\n\u001b[1;32m    256\u001b[0m             skycoord_kwargs, components, info = _parse_coordinate_data(\n\u001b[0;32m--> 257\u001b[0;31m                 frame_cls(**frame_kwargs), args, kwargs)\n\u001b[0m\u001b[1;32m    258\u001b[0m \u001b[0;34m\u001b[0m\u001b[0m\n\u001b[1;32m    259\u001b[0m             \u001b[0;31m# In the above two parsing functions, these kwargs were identified\u001b[0m\u001b[0;34m\u001b[0m\u001b[0;34m\u001b[0m\u001b[0m\n",
      "\u001b[0;32m~/anaconda3/envs/gammapy-0.15/lib/python3.7/site-packages/astropy/coordinates/sky_coordinate_parsers.py\u001b[0m in \u001b[0;36m_parse_coordinate_data\u001b[0;34m(frame, args, kwargs)\u001b[0m\n\u001b[1;32m    298\u001b[0m                                                                   repr_attr_names, units):\n\u001b[1;32m    299\u001b[0m                 \u001b[0mattr_class\u001b[0m \u001b[0;34m=\u001b[0m \u001b[0mframe\u001b[0m\u001b[0;34m.\u001b[0m\u001b[0mrepresentation_type\u001b[0m\u001b[0;34m.\u001b[0m\u001b[0mattr_classes\u001b[0m\u001b[0;34m[\u001b[0m\u001b[0mrepr_attr_name\u001b[0m\u001b[0;34m]\u001b[0m\u001b[0;34m\u001b[0m\u001b[0m\n\u001b[0;32m--> 300\u001b[0;31m                 \u001b[0m_components\u001b[0m\u001b[0;34m[\u001b[0m\u001b[0mframe_attr_name\u001b[0m\u001b[0;34m]\u001b[0m \u001b[0;34m=\u001b[0m \u001b[0mattr_class\u001b[0m\u001b[0;34m(\u001b[0m\u001b[0marg\u001b[0m\u001b[0;34m,\u001b[0m \u001b[0munit\u001b[0m\u001b[0;34m=\u001b[0m\u001b[0munit\u001b[0m\u001b[0;34m)\u001b[0m\u001b[0;34m\u001b[0m\u001b[0m\n\u001b[0m\u001b[1;32m    301\u001b[0m \u001b[0;34m\u001b[0m\u001b[0m\n\u001b[1;32m    302\u001b[0m         \u001b[0;32melse\u001b[0m\u001b[0;34m:\u001b[0m\u001b[0;34m\u001b[0m\u001b[0m\n",
      "\u001b[0;32m~/anaconda3/envs/gammapy-0.15/lib/python3.7/site-packages/astropy/coordinates/angles.py\u001b[0m in \u001b[0;36m__new__\u001b[0;34m(cls, angle, unit, wrap_angle, **kwargs)\u001b[0m\n\u001b[1;32m    613\u001b[0m             raise TypeError(\"A Longitude angle cannot be created from \"\n\u001b[1;32m    614\u001b[0m                             \"a Latitude angle.\")\n\u001b[0;32m--> 615\u001b[0;31m         \u001b[0mself\u001b[0m \u001b[0;34m=\u001b[0m \u001b[0msuper\u001b[0m\u001b[0;34m(\u001b[0m\u001b[0;34m)\u001b[0m\u001b[0;34m.\u001b[0m\u001b[0m__new__\u001b[0m\u001b[0;34m(\u001b[0m\u001b[0mcls\u001b[0m\u001b[0;34m,\u001b[0m \u001b[0mangle\u001b[0m\u001b[0;34m,\u001b[0m \u001b[0munit\u001b[0m\u001b[0;34m=\u001b[0m\u001b[0munit\u001b[0m\u001b[0;34m,\u001b[0m \u001b[0;34m**\u001b[0m\u001b[0mkwargs\u001b[0m\u001b[0;34m)\u001b[0m\u001b[0;34m\u001b[0m\u001b[0m\n\u001b[0m\u001b[1;32m    616\u001b[0m         \u001b[0;32mif\u001b[0m \u001b[0mwrap_angle\u001b[0m \u001b[0;32mis\u001b[0m \u001b[0;32mNone\u001b[0m\u001b[0;34m:\u001b[0m\u001b[0;34m\u001b[0m\u001b[0m\n\u001b[1;32m    617\u001b[0m             \u001b[0mwrap_angle\u001b[0m \u001b[0;34m=\u001b[0m \u001b[0mgetattr\u001b[0m\u001b[0;34m(\u001b[0m\u001b[0mangle\u001b[0m\u001b[0;34m,\u001b[0m \u001b[0;34m'wrap_angle'\u001b[0m\u001b[0;34m,\u001b[0m \u001b[0mself\u001b[0m\u001b[0;34m.\u001b[0m\u001b[0m_default_wrap_angle\u001b[0m\u001b[0;34m)\u001b[0m\u001b[0;34m\u001b[0m\u001b[0m\n",
      "\u001b[0;32m~/anaconda3/envs/gammapy-0.15/lib/python3.7/site-packages/astropy/coordinates/angles.py\u001b[0m in \u001b[0;36m__new__\u001b[0;34m(cls, angle, unit, dtype, copy)\u001b[0m\n\u001b[1;32m    107\u001b[0m                 \u001b[0mangle\u001b[0m \u001b[0;34m=\u001b[0m \u001b[0;34m[\u001b[0m\u001b[0mAngle\u001b[0m\u001b[0;34m(\u001b[0m\u001b[0mx\u001b[0m\u001b[0;34m,\u001b[0m \u001b[0munit\u001b[0m\u001b[0;34m,\u001b[0m \u001b[0mcopy\u001b[0m\u001b[0;34m=\u001b[0m\u001b[0;32mFalse\u001b[0m\u001b[0;34m)\u001b[0m \u001b[0;32mfor\u001b[0m \u001b[0mx\u001b[0m \u001b[0;32min\u001b[0m \u001b[0mangle\u001b[0m\u001b[0;34m]\u001b[0m\u001b[0;34m\u001b[0m\u001b[0m\n\u001b[1;32m    108\u001b[0m \u001b[0;34m\u001b[0m\u001b[0m\n\u001b[0;32m--> 109\u001b[0;31m         \u001b[0;32mreturn\u001b[0m \u001b[0msuper\u001b[0m\u001b[0;34m(\u001b[0m\u001b[0;34m)\u001b[0m\u001b[0;34m.\u001b[0m\u001b[0m__new__\u001b[0m\u001b[0;34m(\u001b[0m\u001b[0mcls\u001b[0m\u001b[0;34m,\u001b[0m \u001b[0mangle\u001b[0m\u001b[0;34m,\u001b[0m \u001b[0munit\u001b[0m\u001b[0;34m,\u001b[0m \u001b[0mdtype\u001b[0m\u001b[0;34m=\u001b[0m\u001b[0mdtype\u001b[0m\u001b[0;34m,\u001b[0m \u001b[0mcopy\u001b[0m\u001b[0;34m=\u001b[0m\u001b[0mcopy\u001b[0m\u001b[0;34m)\u001b[0m\u001b[0;34m\u001b[0m\u001b[0m\n\u001b[0m\u001b[1;32m    110\u001b[0m \u001b[0;34m\u001b[0m\u001b[0m\n\u001b[1;32m    111\u001b[0m     \u001b[0;34m@\u001b[0m\u001b[0mstaticmethod\u001b[0m\u001b[0;34m\u001b[0m\u001b[0m\n",
      "\u001b[0;32m~/anaconda3/envs/gammapy-0.15/lib/python3.7/site-packages/astropy/units/quantity.py\u001b[0m in \u001b[0;36m__new__\u001b[0;34m(cls, value, unit, dtype, copy, order, subok, ndmin)\u001b[0m\n\u001b[1;32m    368\u001b[0m                  isinstance(value.item(() if value.ndim == 0 else 0),\n\u001b[1;32m    369\u001b[0m                             numbers.Number))):\n\u001b[0;32m--> 370\u001b[0;31m             raise TypeError(\"The value must be a valid Python or \"\n\u001b[0m\u001b[1;32m    371\u001b[0m                             \"Numpy numeric type.\")\n\u001b[1;32m    372\u001b[0m \u001b[0;34m\u001b[0m\u001b[0m\n",
      "\u001b[0;31mTypeError\u001b[0m: The value must be a valid Python or Numpy numeric type."
     ]
    }
   ],
   "source": [
    "analysis_3d = Analysis(conf_3d)\n",
    "analysis_3d.get_observations()\n",
    "analysis_3d.get_datasets()"
   ]
  },
  {
   "cell_type": "code",
   "execution_count": null,
   "metadata": {},
   "outputs": [],
   "source": []
  }
 ],
 "metadata": {
  "kernelspec": {
   "display_name": "Python 3",
   "language": "python",
   "name": "python3"
  },
  "language_info": {
   "codemirror_mode": {
    "name": "ipython",
    "version": 3
   },
   "file_extension": ".py",
   "mimetype": "text/x-python",
   "name": "python",
   "nbconvert_exporter": "python",
   "pygments_lexer": "ipython3",
   "version": "3.7.0"
  }
 },
 "nbformat": 4,
 "nbformat_minor": 4
}
