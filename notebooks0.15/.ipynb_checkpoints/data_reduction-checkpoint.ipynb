{
 "cells": [
  {
   "cell_type": "markdown",
   "metadata": {},
   "source": [
    "# Evolution de l'émission du centre galactique et de l'émission diffuse"
   ]
  },
  {
   "cell_type": "code",
   "execution_count": 2,
   "metadata": {},
   "outputs": [
    {
     "data": {
      "text/plain": [
       "'0.15'"
      ]
     },
     "execution_count": 2,
     "metadata": {},
     "output_type": "execute_result"
    }
   ],
   "source": [
    "%matplotlib inline\n",
    "import matplotlib.pyplot as plt\n",
    "import numpy as np\n",
    "from scipy.stats import norm\n",
    "\n",
    "import astropy.units as u\n",
    "from astropy.coordinates import SkyCoord\n",
    "from astropy.convolution import Tophat2DKernel\n",
    "from regions import CircleSkyRegion, RectangleSkyRegion\n",
    "\n",
    "from gammapy.detect import compute_lima_on_off_image\n",
    "from gammapy.data import DataStore\n",
    "from gammapy.irf import make_mean_psf\n",
    "from gammapy.maps import Map, MapAxis, WcsGeom\n",
    "from gammapy.cube import (\n",
    "    MapDatasetMaker,\n",
    "    PSFKernel,\n",
    "    MapDataset,\n",
    "    RingBackgroundMaker,\n",
    "    SafeMaskMaker,\n",
    "    #RingBackgroundEstimator,\n",
    ")\n",
    "from gammapy.modeling.models import (\n",
    "    SkyModel,\n",
    "    BackgroundModel,\n",
    "    PowerLawSpectralModel,\n",
    "    PowerLaw2SpectralModel,\n",
    "    PointSpatialModel,\n",
    "    ExpCutoffPowerLawSpectralModel,\n",
    "    SkyDiffuseCube,\n",
    "    TemplateSpatialModel\n",
    ")\n",
    "from gammapy.modeling import Fit\n",
    "from astropy.time import Time\n",
    "\n",
    "src_pos = SkyCoord(359.94, -0.04, unit=\"deg\", frame=\"galactic\")\n",
    "\n",
    "import gammapy\n",
    "gammapy.__version__"
   ]
  },
  {
   "cell_type": "code",
   "execution_count": 21,
   "metadata": {},
   "outputs": [
    {
     "name": "stderr",
     "output_type": "stream",
     "text": [
      "WARNING: UnitsWarning: 'degC' did not parse as fits unit: At col 0, Unit 'degC' not supported by the FITS standard. Did you mean deg? [astropy.units.core]\n",
      "WARNING: UnitsWarning: 'days' did not parse as fits unit: At col 0, Unit 'days' not supported by the FITS standard. Did you mean daS or das? [astropy.units.core]\n"
     ]
    }
   ],
   "source": [
    "from astropy.table import Table \n",
    "from gammapy.utils.time import time_relative_to_ref               \n",
    "\n",
    "\n",
    "table=Table.read(\"../../../gammapy_data/ash_stereo_Prod17_Calib0834_thsq64/obs-index.fits.gz\")\n",
    "\n",
    "tstart = time_relative_to_ref(Time(table['TSTART_STR'],scale='utc'), table.meta)                                                         \n",
    "\n",
    "tstop = time_relative_to_ref(Time(table['TSTOP_STR'],scale='utc'), table.meta)                                                          \n",
    "\n",
    "table['TSTART'][:]=tstart.to('s')                                                                                                       \n",
    "\n",
    "table['TSTOP'][:]=tstop.to('s')                                                                                                         \n",
    "\n",
    "table.write(\"../../../gammapy_data/ash_stereo_Prod17_Calib0834_thsq64/obs-index.fits.gz\", overwrite=True)"
   ]
  },
  {
   "cell_type": "markdown",
   "metadata": {},
   "source": [
    "Emprunt d'une classe implémentée en 0.16"
   ]
  },
  {
   "cell_type": "code",
   "execution_count": 22,
   "metadata": {},
   "outputs": [],
   "source": [
    "##FoV background estimation\n",
    "import logging\n",
    "from gammapy.maps import Map\n",
    "from gammapy.modeling import Fit, Datasets\n",
    "\n",
    "\n",
    "class FoVBackgroundMaker:\n",
    "    \"\"\"Normalize template background on the whole field-of-view.\n",
    "\n",
    "    The dataset background model can be simply scaled (method=\"scale\") or fitted (method=\"fit\")\n",
    "    on the dataset counts.\n",
    "\n",
    "    The normalization is performed outside the exclusion mask that is passed on init.\n",
    "\n",
    "    If a SkyModel is set on the input dataset and method is 'fit', its are frozen during\n",
    "    the fov normalization fit.\n",
    "\n",
    "    Parameters\n",
    "    ----------\n",
    "    method : str in ['fit', 'scale']\n",
    "        the normalization method to be applied. Default 'scale'.\n",
    "    exclusion_mask : `~gammapy.maps.WcsNDMap`\n",
    "        Exclusion mask\n",
    "    \"\"\"\n",
    "\n",
    "    def __init__(self, method=\"scale\", exclusion_mask=None):\n",
    "        if method in [\"fit\", \"scale\"]:\n",
    "            self.method = method\n",
    "        else:\n",
    "            raise ValueError(f\"Incorrect method for FoVBackgroundMaker: {method}.\")\n",
    "        self.exclusion_mask = exclusion_mask\n",
    "\n",
    "\n",
    "    def run(self, dataset):\n",
    "        \"\"\"Run FoV background maker.\n",
    "\n",
    "        Fit the background model norm\n",
    "\n",
    "        Parameters\n",
    "        ----------\n",
    "        dataset : `~gammapy.cube.fit.MapDataset`\n",
    "            Input map dataset.\n",
    "\n",
    "        \"\"\"\n",
    "        mask_fit = dataset.mask_fit\n",
    "        dataset.mask_fit = self._reproject_exclusion_mask(dataset)\n",
    "\n",
    "        if self.method is \"fit\":\n",
    "            self._fit_bkg(dataset)\n",
    "        else:\n",
    "            self._scale_bkg(dataset)\n",
    "\n",
    "        dataset.mask_fit = mask_fit\n",
    "        return dataset\n",
    "\n",
    "\n",
    "    def _reproject_exclusion_mask(self, dataset):\n",
    "        \"\"\"Reproject the exclusion on the dataset geometry\"\"\"\n",
    "        mask_map = Map.from_geom(dataset.counts.geom)\n",
    "        if self.exclusion_mask is not None:\n",
    "            coords = dataset.counts.geom.get_coord()\n",
    "            vals = self.exclusion_mask.get_by_coord(coords)\n",
    "            mask_map.data += vals\n",
    "\n",
    "        return mask_map.data.astype(\"bool\")\n",
    "\n",
    "    def _fit_bkg(self, dataset):\n",
    "        \"\"\"Fit the FoV background model on the dataset counts data\"\"\"\n",
    "\n",
    "        # freeze all model components not related to background model\n",
    "        datasets = Datasets([dataset])\n",
    "\n",
    "        parameters_frozen = []\n",
    "        for par in datasets.parameters:\n",
    "            parameters_frozen.append(par.frozen)\n",
    "            if par not in dataset.background_model.parameters:\n",
    "                par.frozen = True\n",
    "\n",
    "        #!!!AL: relax titlt : BE CARREFULL !!!\n",
    "        dataset.background_model.tilt.frozen=False\n",
    "        \n",
    "        fit = Fit(datasets)\n",
    "        fit_result = fit.run()\n",
    "        if fit_result.success is False:\n",
    "            print(\"FoVBackgroundMaker failed. No fit convergence\")\n",
    "            \n",
    "\n",
    "        # Unfreeze parameters\n",
    "        for i, par in enumerate(datasets.parameters):\n",
    "            par.frozen = parameters_frozen[i]\n",
    "\n",
    "    def _scale_bkg(self, dataset):\n",
    "        \"\"\"Fit the FoV background model on the dataset counts data\"\"\"\n",
    "        mask = dataset.mask\n",
    "        count_tot = dataset.counts.data[mask].sum()\n",
    "        bkg_tot = dataset.background_model.map.data[mask].sum()\n",
    "\n",
    "        if count_tot <= 0.0:\n",
    "            print(\"FoVBackgroundMaker failed. No counts found outside exclusion mask\")\n",
    "        elif bkg_tot <= 0.0:\n",
    "            print(\"FoVBackgroundMaker failed. No positive background found outside exclusion mask\")\n",
    "        else:\n",
    "            scale = count_tot / bkg_tot\n",
    "            dataset.background_model.norm.value = scale\n",
    "            #print(\"bkg scale = \",scale)"
   ]
  },
  {
   "cell_type": "markdown",
   "metadata": {},
   "source": [
    "## Fabrication des mapdatasets"
   ]
  },
  {
   "cell_type": "markdown",
   "metadata": {},
   "source": [
    "Define which data to use and print some information"
   ]
  },
  {
   "cell_type": "code",
   "execution_count": 23,
   "metadata": {},
   "outputs": [
    {
     "name": "stdout",
     "output_type": "stream",
     "text": [
      "Data store:\n",
      "HDU index table:\n",
      "BASE_DIR: /home/samuel/code/gammapy_data/ash_stereo_Prod17_Calib0834_thsq64\n",
      "Rows: 127056\n",
      "OBS_ID: 18092 -- 154591\n",
      "HDU_TYPE: ['aeff', 'bkg', 'edisp', 'events', 'gti', 'psf']\n",
      "HDU_CLASS: ['aeff_2d', 'bkg_2d', 'edisp_2d', 'events', 'gti', 'psf_table']\n",
      "\n",
      "\n",
      "Observation table:\n",
      "Observatory name: 'N/A'\n",
      "Number of observations: 21186\n",
      "\n"
     ]
    }
   ],
   "source": [
    "data_store = DataStore.from_dir(\"$GAMMAPY_DATA/ash_stereo_Prod17_Calib0834_thsq64\")\n",
    "data_store.info()\n",
    "\n",
    "# faire attention aux fichiers hdu-index et obs-index sur lequel le datastore pointe"
   ]
  },
  {
   "cell_type": "code",
   "execution_count": 24,
   "metadata": {},
   "outputs": [],
   "source": [
    "from astropy.coordinates import Angle\n",
    "\n",
    "\n",
    "selection = dict(type='sky_circle', frame='galactic',\n",
    "                 lon=Angle(0, 'deg'),\n",
    "                 lat=Angle(0, 'deg'),\n",
    "                 radius=Angle(2, 'deg'),\n",
    "                 border=Angle(0, 'deg'))\n",
    "\n",
    "obs_table = data_store.obs_table.select_observations(selection)\n",
    "\n",
    "#ok"
   ]
  },
  {
   "cell_type": "code",
   "execution_count": 85,
   "metadata": {},
   "outputs": [
    {
     "data": {
      "text/plain": [
       "<TableColumns names=('AIRTEMP','ALT_PNT','AZ_PNT','BKG_SCALE','BROKPIX','DATE_END','DATE_OBS','DEADC','DEC_OBJ','DEC_PNT','EFFAREA_MAX','EFFAREA_RECO_MAX','EVENT_COUNT','EVENT_DEC_MEDIAN','EVENT_ENERGY_MEDIAN','EVENT_RA_MEDIAN','EVENT_TIME_MAX','EVENT_TIME_MIN','GLAT_PNT','GLON_PNT','HI_THRES','LIVETIME','LO_THRES','MUONEFF','NSBLEVEL','N_TELS','OBJECT','OBS_ID','ONTIME','PRESSURE','QUALITY','RA_OBJ','RA_PNT','RELHUM','TELLIST','TIME_END','TIME_OBS','TMID','TMID_STR','TRGRATE','TSTART','TSTART_STR','TSTOP','TSTOP_STR','ZEN_PNT','ZTRGRATE','TC')>"
      ]
     },
     "execution_count": 85,
     "metadata": {},
     "output_type": "execute_result"
    }
   ],
   "source": [
    "obs_table.columns"
   ]
  },
  {
   "cell_type": "code",
   "execution_count": 25,
   "metadata": {},
   "outputs": [],
   "source": [
    "t2004  = dict(type='time_box', time_range= Time(['2004-01-01T00:00:00', '2004-12-31T23:59:59']))\n",
    "t2005  = dict(type='time_box', time_range= Time(['2005-01-01T00:00:00', '2005-12-31T23:59:59']))\n",
    "t2006  = dict(type='time_box', time_range= Time(['2006-01-01T00:00:00', '2006-12-31T23:59:59']))\n",
    "t2007  = dict(type='time_box', time_range= Time(['2007-01-01T00:00:00', '2007-12-31T23:59:59']))\n",
    "t2008  = dict(type='time_box', time_range= Time(['2008-01-01T00:00:00', '2008-12-31T23:59:59']))\n",
    "t2009  = dict(type='time_box', time_range= Time(['2009-01-01T00:00:00', '2009-12-31T23:59:59']))\n",
    "t2010  = dict(type='time_box', time_range= Time(['2010-01-01T00:00:00', '2010-12-31T23:59:59']))\n",
    "t2011  = dict(type='time_box', time_range= Time(['2011-01-01T00:00:00', '2011-12-31T23:59:59']))\n",
    "t2012  = dict(type='time_box', time_range= Time(['2012-01-01T00:00:00', '2012-12-31T23:59:59']))\n",
    "t2013  = dict(type='time_box', time_range= Time(['2013-01-01T00:00:00', '2013-12-31T23:59:59']))\n",
    "t2014  = dict(type='time_box', time_range= Time(['2014-01-01T00:00:00', '2014-12-31T23:59:59']))\n",
    "t2015  = dict(type='time_box', time_range= Time(['2015-01-01T00:00:00', '2015-12-31T23:59:59']))\n",
    "t2016  = dict(type='time_box', time_range= Time(['2016-01-01T00:00:00', '2016-12-31T23:59:59']))\n",
    "t2017  = dict(type='time_box', time_range= Time(['2017-01-01T00:00:00', '2017-12-31T23:59:59']))\n",
    "t2018  = dict(type='time_box', time_range= Time(['2018-01-01T00:00:00', '2018-12-31T23:59:59']))\n",
    "t2019  = dict(type='time_box', time_range= Time(['2019-01-01T00:00:00', '2019-12-31T23:59:59']))"
   ]
  },
  {
   "cell_type": "markdown",
   "metadata": {},
   "source": [
    "Sélection par année et tri des observations (on retire celles qui n'ont pas toutes les IRF)"
   ]
  },
  {
   "cell_type": "code",
   "execution_count": 84,
   "metadata": {},
   "outputs": [
    {
     "name": "stdout",
     "output_type": "stream",
     "text": [
      "Observation retirée : 31539\n",
      "Observation retirée : 31577\n",
      "Observation retirée : 31578\n",
      "Observation retirée : 31579\n",
      "Observation retirée : 31580\n",
      "Observation retirée : 129467\n",
      "Observation retirée : 129471\n",
      "Observation retirée : 130931\n",
      "Observation retirée : 130942\n",
      "Observation retirée : 132321\n",
      "Observation retirée : 153792\n",
      "Observation retirée : 146971\n",
      "Observation retirée : 147119\n",
      "Observation retirée : 151790\n",
      "Observation retirée : 153030\n",
      "Observation retirée : 153031\n",
      "Observation retirée : 153791\n",
      "Observation retirée : 153793\n",
      "Observation retirée : 153794\n",
      "Observation retirée : 153810\n",
      "Observation retirée : 153811\n",
      "Observation retirée : 153812\n",
      "Observation retirée : 153813\n",
      "Observation retirée : 153836\n",
      "Observation retirée : 153837\n",
      "Observation retirée : 153838\n",
      "Observation retirée : 153839\n",
      "Observation retirée : 153840\n",
      "Observation retirée : 153841\n"
     ]
    }
   ],
   "source": [
    "year_intervals = { 2004 : t2004, 2005 : t2005, 2006 : t2006, 2007 : t2007,\n",
    "                      2008 : t2008, 2009 : t2009, 2010 : t2010, 2011 : t2011,\n",
    "                      2012 : t2012, 2013 : t2013, 2014 : t2014, 2015 : t2015,\n",
    "                      2016 : t2016, 2017 : t2017, 2018 : t2018, 2019 : t2019}\n",
    "\n",
    "yearly_obs = dict()\n",
    "\n",
    "for year in range(2004,2020) :\n",
    "    \n",
    "    obs_table_year = obs_table.select_observations(year_intervals[year])\n",
    "    ids = obs_table_year[\"OBS_ID\"].tolist()\n",
    "    observations_year = data_store.get_observations(ids, skip_missing=True)\n",
    "    \n",
    "    for obs in observations_year:\n",
    "        try:\n",
    "            obs.aeff\n",
    "            obs.edisp\n",
    "            obs.psf\n",
    "            obs.bkg\n",
    "            \n",
    "        except:\n",
    "            ids.remove(obs.obs_id)\n",
    "            print(\"Observation retirée : \" + str(obs.obs_id))\n",
    "            \n",
    "    observations_year = data_store.get_observations(ids, skip_missing=True)\n",
    "    yearly_obs[year] = observations_year"
   ]
  },
  {
   "cell_type": "code",
   "execution_count": 28,
   "metadata": {},
   "outputs": [
    {
     "name": "stdout",
     "output_type": "stream",
     "text": [
      "AIRTEMP  ALT_PNT AZ_PNT BKG_SCALE ...  ZEN_PNT   ZTRGRATE  TC \n",
      "  degC     deg    deg             ...    deg        Hz        \n",
      "-------- ------- ------ --------- ... ---------- -------- ----\n",
      "14.23703    90.0  180.0      -1.0 ...   60.90057     -1.0 -1.0\n",
      "13.39651    90.0  180.0      -1.0 ...   54.16294     -1.0 -1.0\n",
      "13.63296    90.0  180.0      -1.0 ...   47.70625     -1.0 -1.0\n",
      " 14.1437    90.0  180.0      -1.0 ...   41.05625     -1.0 -1.0\n",
      "14.54974    90.0  180.0      -1.0 ...  34.719986     -1.0 -1.0\n",
      "15.21348    90.0  180.0      -1.0 ...  15.265533     -1.0 -1.0\n",
      "14.79698    90.0  180.0      -1.0 ...   9.241486     -1.0 -1.0\n",
      "16.51259    90.0  180.0      -1.0 ...  23.842133     -1.0 -1.0\n",
      "15.77368    90.0  180.0      -1.0 ...  17.490547     -1.0 -1.0\n",
      "15.61296    90.0  180.0      -1.0 ... 11.1931305     -1.0 -1.0\n",
      "     ...     ...    ...       ... ...        ...      ...  ...\n",
      "12.78308    90.0  180.0      -1.0 ...   32.25271     -1.0 -1.0\n",
      "15.33171    90.0  180.0      -1.0 ...    8.86731     -1.0 -1.0\n",
      "14.58752    90.0  180.0      -1.0 ...   14.51722     -1.0 -1.0\n",
      "12.58173    90.0  180.0      -1.0 ...  21.550896     -1.0 -1.0\n",
      "12.94493    90.0  180.0      -1.0 ...  28.022823     -1.0 -1.0\n",
      "11.17962    90.0  180.0      -1.0 ...   34.24051     -1.0 -1.0\n",
      " 11.6255    90.0  180.0      -1.0 ...   36.62882     -1.0 -1.0\n",
      "11.62088    90.0  180.0      -1.0 ...   42.34805     -1.0 -1.0\n",
      "17.85518    90.0  180.0      -1.0 ...  14.236092     -1.0 -1.0\n",
      "15.99012    90.0  180.0      -1.0 ...  19.621895     -1.0 -1.0\n",
      "Length = 124 rows\n"
     ]
    }
   ],
   "source": [
    "time_range= Time(['2004-01-01T00:00:00', '2004-12-31T23:59:59'])\n",
    "\n",
    "tstart = obs_table.time_start\n",
    "tstop = obs_table.time_stop\n",
    "\n",
    "mask1 = time_range[0] <= tstart\n",
    "mask2 = time_range[1] >= tstop\n",
    "\n",
    "mask = mask1 & mask2\n",
    "\n",
    "\n",
    "obs2004 = obs_table[mask]\n",
    "print(obs2004)"
   ]
  },
  {
   "cell_type": "code",
   "execution_count": 29,
   "metadata": {},
   "outputs": [
    {
     "data": {
      "text/plain": [
       "53005.0"
      ]
     },
     "execution_count": 29,
     "metadata": {},
     "output_type": "execute_result"
    }
   ],
   "source": [
    "time_range[0].mjd"
   ]
  },
  {
   "cell_type": "markdown",
   "metadata": {},
   "source": [
    "## Création de la géométrie"
   ]
  },
  {
   "cell_type": "code",
   "execution_count": 30,
   "metadata": {},
   "outputs": [],
   "source": [
    "emin, emax = [0.5, 100] * u.TeV\n",
    "\n",
    "energy_axis = MapAxis.from_bounds(\n",
    "    emin.value, emax.value, 20, unit=\"TeV\", name=\"energy\", interp=\"log\"\n",
    ")\n",
    "geom = WcsGeom.create(\n",
    "    skydir=(0, 0),\n",
    "    binsz=0.02,\n",
    "    width=(10, 8),\n",
    "    coordsys=\"GAL\",\n",
    "    proj=\"CAR\",\n",
    "    axes=[energy_axis],\n",
    ")\n",
    "\n",
    "energy_axis_true = MapAxis.from_bounds(\n",
    "    0.3, 200, 30, unit=\"TeV\", name=\"energy\", interp=\"log\"\n",
    ")\n",
    "\n",
    "# peut être passer à plus que 20 bins en énergie vraie ?"
   ]
  },
  {
   "cell_type": "code",
   "execution_count": 31,
   "metadata": {},
   "outputs": [],
   "source": [
    "mapdataset_dict = {}\n",
    "\n",
    "for k in range (2004,2020):\n",
    "    name = \"map\" + str(k)\n",
    "    mapdataset_dict[k] = MapDataset.create(\n",
    "    geom=geom, energy_axis_true=energy_axis_true, name=name)"
   ]
  },
  {
   "cell_type": "markdown",
   "metadata": {},
   "source": [
    "A noter que nos datasets ont un axe d'énergie vraie, pas biné très finement cela dit..."
   ]
  },
  {
   "cell_type": "markdown",
   "metadata": {},
   "source": [
    "## Fabrication des mapdatasets"
   ]
  },
  {
   "cell_type": "markdown",
   "metadata": {},
   "source": [
    "Graphe \"de contrôle\" : pour évaluer à quel point x ou y effet dû aux instruments influe sur les observations (année par année), on va vouloir extraire plusieurs infos des observation :\n",
    "- les énergies de seuils pour chaque observation\n",
    "- les offsets par rapport à la source au centre pour chaque observation (ou bien évènements par évènements ?), dans le premier cas c'est simple et ça se déduit simplement de l'offset max pris en compte et de la direction d'observation\n",
    "- les azimuts de la source au centre (idem on peut le faire pour chaque observation ou pour chaque évènement).\n",
    "- coeff de transparence\n",
    "\n",
    "Les offsets/azimuts pour le diffus sont moins intéressant car de toutes façons il est observé à plein d'offsets/azimuts différents. (2016 nous montre que les observations \"bizarres\" n'altèrent pas beaucoup le flux du diffus par rapport aux années précédentes)."
   ]
  },
  {
   "cell_type": "code",
   "execution_count": null,
   "metadata": {},
   "outputs": [],
   "source": [
    "%%time\n",
    "\n",
    "exclusion_region = RectangleSkyRegion(src_pos, 3*u.deg, 1*u.deg)\n",
    "exclusion_mask = geom.region_mask([exclusion_region], inside=False)\n",
    "exclusion_mask = Map.from_geom(geom, data=exclusion_mask)\n",
    "\n",
    "histo = dict()\n",
    "\n",
    "for year in range(2004,2020):\n",
    "    \n",
    "    offset_max = 1.8 * u.deg #on peut le réduire pour ne pas prendre les obs trop éloignées du centre de 2.0 deg à 1.8 deg\n",
    "    maker = MapDatasetMaker()\n",
    "    maker_safe_mask = SafeMaskMaker(methods=[\"offset-max\", \"bkg-peak\"], offset_max=offset_max)\n",
    "    maker_bkg = FoVBackgroundMaker(\"scale\", exclusion_mask)\n",
    "    \n",
    "    histo[year] = []\n",
    "    \n",
    "    # au lieu de \"scale\" prendre \"fit\" en donnant au dataset un masque sur les bin en énergie (prendre à partir de 1 TeV par ex, même si c'est déjà haut 500 GeV)\n",
    "    # ou alors on met \"bkg-peak\" pour le safemaskmaker (le premier bin en énergie est retiré)\n",
    "    \n",
    "    # refaire des mapdataset en excluant le premier bin pour voir si ça change\n",
    "    \n",
    "    spectrum = PowerLaw2SpectralModel(index=2.3)\n",
    "\n",
    "    for obs in yearly_obs[year]:\n",
    "        # First a cutout of the target map is produced\n",
    "        cutout = mapdataset_dict[year].cutout(obs.pointing_radec, width=2 * offset_max)\n",
    "\n",
    "        # A MapDataset is filled in this cutout geometry\n",
    "        dataset = maker.run(cutout, obs)\n",
    "        \n",
    "        # The data quality cut is applied\n",
    "        dataset = maker_safe_mask.run(dataset, obs)\n",
    "        \n",
    "        # pour faire un histogramme des énergies de seuil pour chaque observation\n",
    "        centre = dataset.mask_safe.data[:, 100,100]\n",
    "        i = np.where(centre == False, 1,0).sum() # +1\n",
    "        histo[year].append(energy_axis.edges[i].value)\n",
    "        \n",
    "        \n",
    "        \n",
    "        dataset = maker_bkg.run(dataset)\n",
    "        \n",
    "        # The resulting dataset cutout is stacked onto the final one\n",
    "        mapdataset_dict[year].stack(dataset)\n",
    "        \n",
    "    \n",
    "    # essayer de se placer systématiquement au dessus du seuil"
   ]
  },
  {
   "cell_type": "code",
   "execution_count": 71,
   "metadata": {},
   "outputs": [
    {
     "name": "stdout",
     "output_type": "stream",
     "text": [
      "1.8748431013651752\n",
      "1.5976793961421931\n",
      "2.0017192777444146\n",
      "1.860968933242926\n",
      "0.7071409302786615\n",
      "0.5058923800953947\n",
      "1.2483928960051063\n",
      "0.8059344409729441\n",
      "1.2486516904767182\n",
      "1.4613396123178317\n",
      "1.7541575320614256\n",
      "1.1386669410737733\n",
      "2.0408310512876175\n",
      "2.0408310512876175\n",
      "2.0408310512876175\n",
      "2.0408310512876175\n"
     ]
    }
   ],
   "source": [
    "# on extrait les offsets à la source centrale et les azimuts observation par observation\n",
    "\n",
    "sgra_pos = SkyCoord(359.94, -0.04, unit=\"deg\", frame=\"galactic\")\n",
    "\n",
    "histo_offset = dict()\n",
    "\n",
    "for year in range(2004,2020):\n",
    "    histo_offset[year] = []\n",
    "\n",
    "    for obs in yearly_obs[year]:\n",
    "        direction = obs.pointing_radec\n",
    "        sep = direction.separation(sgra_pos) #calcule la séparation \"on sky\" entre les deux coordonnées\n",
    "        histo_offset[year].append(sep.value)"
   ]
  },
  {
   "cell_type": "code",
   "execution_count": null,
   "metadata": {},
   "outputs": [],
   "source": [
    "histo_zen = dict()\n",
    "\n",
    "for year in range(2004,2020):  \n",
    "    histo_zen[year] = []\n",
    "    # les angles zénitaux sont dans obs_table\n",
    "    \n",
    "    for obs in yearly_obs[year]:\n",
    "        direction = obs.pointing_radec\n",
    "        sep = direction.separation(sgra_pos) #calcule la séparation \"on sky\" entre les deux coordonnées\n",
    "        histo_offset[year].append(sep.value)"
   ]
  },
  {
   "cell_type": "code",
   "execution_count": 81,
   "metadata": {},
   "outputs": [
    {
     "data": {
      "image/png": "[encoded data removed]",
      "text/plain": [
       "<Figure size 432x288 with 1 Axes>"
      ]
     },
     "metadata": {
      "needs_background": "light"
     },
     "output_type": "display_data"
    },
    {
     "data": {
      "image/png": "[encoded data removed]",
      "text/plain": [
       "<Figure size 432x288 with 1 Axes>"
      ]
     },
     "metadata": {
      "needs_background": "light"
     },
     "output_type": "display_data"
    },
    {
     "data": {
      "image/png": "[encoded data removed]",
      "text/plain": [
       "<Figure size 432x288 with 1 Axes>"
      ]
     },
     "metadata": {
      "needs_background": "light"
     },
     "output_type": "display_data"
    },
    {
     "data": {
      "image/png": "[encoded data removed]",
      "text/plain": [
       "<Figure size 432x288 with 1 Axes>"
      ]
     },
     "metadata": {
      "needs_background": "light"
     },
     "output_type": "display_data"
    },
    {
     "data": {
      "image/png": "[encoded data removed]",
      "text/plain": [
       "<Figure size 432x288 with 1 Axes>"
      ]
     },
     "metadata": {
      "needs_background": "light"
     },
     "output_type": "display_data"
    },
    {
     "data": {
      "image/png": "[encoded data removed]",
      "text/plain": [
       "<Figure size 432x288 with 1 Axes>"
      ]
     },
     "metadata": {
      "needs_background": "light"
     },
     "output_type": "display_data"
    },
    {
     "data": {
      "image/png": "[encoded data removed]",
      "text/plain": [
       "<Figure size 432x288 with 1 Axes>"
      ]
     },
     "metadata": {
      "needs_background": "light"
     },
     "output_type": "display_data"
    },
    {
     "data": {
      "image/png": "[encoded data removed]",
      "text/plain": [
       "<Figure size 432x288 with 1 Axes>"
      ]
     },
     "metadata": {
      "needs_background": "light"
     },
     "output_type": "display_data"
    },
    {
     "data": {
      "image/png": "[encoded data removed]",
      "text/plain": [
       "<Figure size 432x288 with 1 Axes>"
      ]
     },
     "metadata": {
      "needs_background": "light"
     },
     "output_type": "display_data"
    },
    {
     "data": {
      "image/png": "[encoded data removed]",
      "text/plain": [
       "<Figure size 432x288 with 1 Axes>"
      ]
     },
     "metadata": {
      "needs_background": "light"
     },
     "output_type": "display_data"
    },
    {
     "data": {
      "image/png": "[encoded data removed]",
      "text/plain": [
       "<Figure size 432x288 with 1 Axes>"
      ]
     },
     "metadata": {
      "needs_background": "light"
     },
     "output_type": "display_data"
    },
    {
     "data": {
      "image/png": "[encoded data removed]",
      "text/plain": [
       "<Figure size 432x288 with 1 Axes>"
      ]
     },
     "metadata": {
      "needs_background": "light"
     },
     "output_type": "display_data"
    },
    {
     "data": {
      "image/png": "[encoded data removed]",
      "text/plain": [
       "<Figure size 432x288 with 1 Axes>"
      ]
     },
     "metadata": {
      "needs_background": "light"
     },
     "output_type": "display_data"
    },
    {
     "data": {
      "image/png": "[encoded data removed]",
      "text/plain": [
       "<Figure size 432x288 with 1 Axes>"
      ]
     },
     "metadata": {
      "needs_background": "light"
     },
     "output_type": "display_data"
    },
    {
     "data": {
      "image/png": "[encoded data removed]",
      "text/plain": [
       "<Figure size 432x288 with 1 Axes>"
      ]
     },
     "metadata": {
      "needs_background": "light"
     },
     "output_type": "display_data"
    },
    {
     "data": {
      "image/png": "[encoded data removed]",
      "text/plain": [
       "<Figure size 432x288 with 1 Axes>"
      ]
     },
     "metadata": {
      "needs_background": "light"
     },
     "output_type": "display_data"
    }
   ],
   "source": [
    "for year in range(2004,2020):\n",
    "    \n",
    "    plt.figure()\n",
    "    plt.hist(histo_offset[year], 40, (0.0, 2.1))\n",
    "    \n",
    "    plt.grid()\n",
    "    plt.xlabel(\"Offset to the SgrA* source (deg)\")\n",
    "    plt.ylabel(\"Number of observations\")\n",
    "    \n",
    "    plt.savefig(\"offsets_\"+str(year)+\".pdf\", overwrite=True)"
   ]
  },
  {
   "cell_type": "markdown",
   "metadata": {},
   "source": [
    "Problème quand on affiche les histo de seuils : il semblerait que les energy-axis des mask_safe des dataset soient décalés pour certaines années.\n",
    "Normal en fait car la fonction hist ne s'embête pas avec toutes les valeurs à zéro"
   ]
  },
  {
   "cell_type": "code",
   "execution_count": 82,
   "metadata": {},
   "outputs": [
    {
     "ename": "KeyError",
     "evalue": "2005",
     "output_type": "error",
     "traceback": [
      "\u001b[0;31m---------------------------------------------------------------------------\u001b[0m",
      "\u001b[0;31mKeyError\u001b[0m                                  Traceback (most recent call last)",
      "\u001b[0;32m<ipython-input-82-acf6b2addaaa>\u001b[0m in \u001b[0;36m<module>\u001b[0;34m\u001b[0m\n\u001b[1;32m      2\u001b[0m \u001b[0;34m\u001b[0m\u001b[0m\n\u001b[1;32m      3\u001b[0m     \u001b[0mplt\u001b[0m\u001b[0;34m.\u001b[0m\u001b[0mfigure\u001b[0m\u001b[0;34m(\u001b[0m\u001b[0;34m)\u001b[0m\u001b[0;34m\u001b[0m\u001b[0m\n\u001b[0;32m----> 4\u001b[0;31m     \u001b[0mplt\u001b[0m\u001b[0;34m.\u001b[0m\u001b[0mhist\u001b[0m\u001b[0;34m(\u001b[0m\u001b[0mhisto\u001b[0m\u001b[0;34m[\u001b[0m\u001b[0myear\u001b[0m\u001b[0;34m]\u001b[0m\u001b[0;34m)\u001b[0m\u001b[0;34m\u001b[0m\u001b[0m\n\u001b[0m\u001b[1;32m      5\u001b[0m \u001b[0;34m\u001b[0m\u001b[0m\n\u001b[1;32m      6\u001b[0m     \u001b[0mplt\u001b[0m\u001b[0;34m.\u001b[0m\u001b[0mgrid\u001b[0m\u001b[0;34m(\u001b[0m\u001b[0;34m)\u001b[0m\u001b[0;34m\u001b[0m\u001b[0m\n",
      "\u001b[0;31mKeyError\u001b[0m: 2005"
     ]
    },
    {
     "data": {
      "image/png": "[encoded data removed]",
      "text/plain": [
       "<Figure size 432x288 with 1 Axes>"
      ]
     },
     "metadata": {
      "needs_background": "light"
     },
     "output_type": "display_data"
    },
    {
     "data": {
      "text/plain": [
       "<Figure size 432x288 with 0 Axes>"
      ]
     },
     "metadata": {},
     "output_type": "display_data"
    }
   ],
   "source": [
    "for year in range(2004,2020):\n",
    "    \n",
    "    plt.figure()\n",
    "    plt.hist(histo[year])\n",
    "    \n",
    "    plt.grid()\n",
    "    plt.xlabel(\"Energie de seuil (deg)\")\n",
    "    plt.ylabel(\"Nombre d'observations\")\n",
    "    \n",
    "    #plt.savefig(\"offsets_\"+str(year)+\".pdf\", overwrite=True)"
   ]
  },
  {
   "cell_type": "code",
   "execution_count": 169,
   "metadata": {},
   "outputs": [
    {
     "data": {
      "text/plain": [
       "[MapAxis\n",
       " \n",
       " \tname       : energy    \n",
       " \tunit       : 'TeV'     \n",
       " \tnbins      : 20        \n",
       " \tnode type  : edges     \n",
       " \tedges min  : 5.0e-01 TeV\n",
       " \tedges max  : 1.0e+02 TeV\n",
       " \tinterp     : log       ]"
      ]
     },
     "execution_count": 169,
     "metadata": {},
     "output_type": "execute_result"
    }
   ],
   "source": [
    "mapdataset_dict[2009].mask_safe.geom.axes"
   ]
  },
  {
   "cell_type": "code",
   "execution_count": 55,
   "metadata": {},
   "outputs": [],
   "source": [
    "# Pour information, la fonction associée à 'bkg-peak', rien à changer a priori, c'est simple et clair. ça fait ce que c'est censé faire, \n",
    "# à la limite on peut penser à d'autres méthodes pour couper en énergie\n",
    "\n",
    "def make_mask_energy_bkg_peak(dataset):\n",
    "        \"\"\"Make safe energy mask based on the binned background.\n",
    "\n",
    "        The energy threshold is defined as the upper edge of the energy\n",
    "        bin with the highest predicted background rate. This method is motivated\n",
    "        by its use in the HESS DL3 validation paper: https://arxiv.org/pdf/1910.08088.pdf\n",
    "\n",
    "        Parameters\n",
    "        ----------\n",
    "        dataset : `~gammapy.modeling.Dataset`\n",
    "            Dataset to compute mask for.\n",
    "\n",
    "        Returns\n",
    "        -------\n",
    "        mask_safe : `~numpy.ndarray`\n",
    "            Safe data range mask.\n",
    "        \"\"\"\n",
    "\n",
    "        if isinstance(dataset, (MapDataset, MapDatasetOnOff)):\n",
    "            background_spectrum = dataset.background_model.map.get_spectrum()\n",
    "            counts = dataset.counts.geom\n",
    "        else:\n",
    "            background_spectrum = dataset.background\n",
    "            counts = dataset.counts\n",
    "\n",
    "        idx = np.argmax(background_spectrum.data)         # trouve l'indice du max du spectre du bkg\n",
    "        e_min = background_spectrum.energy.edges[idx + 1] # identifie l'emin comme l'énergie suivante du max\n",
    "        return counts.energy_mask(emin=e_min)"
   ]
  },
  {
   "cell_type": "code",
   "execution_count": null,
   "metadata": {
    "jupyter": {
     "source_hidden": true
    }
   },
   "outputs": [],
   "source": [
    "# Pour information, la méthode 'stack' de la classe MapDataset, on a un mapdataset (self) auquel on en rajoute un autre (other)\n",
    "\n",
    "def stack(self, other):\n",
    "        \"\"\"Stack another dataset in place.\n",
    "\n",
    "        Parameters\n",
    "        ----------\n",
    "        other: `~gammapy.cube.MapDataset`\n",
    "            Map dataset to be stacked with this one.\n",
    "        \"\"\"\n",
    "\n",
    "        if self.counts and other.counts:\n",
    "            self.counts *= self.mask_safe\n",
    "            self.counts.stack(other.counts, weights=other.mask_safe)\n",
    "\n",
    "        if self.exposure and other.exposure:                                     # ICI\n",
    "            mask_image = self.mask_safe.reduce_over_axes(func=np.logical_or)\n",
    "            self.exposure *= mask_image.data\n",
    "            \n",
    "            # TODO: apply energy dependent mask to exposure. Does this require\n",
    "            #  a mask_safe in true energy?\n",
    "            \n",
    "            mask_image_other = other.mask_safe.reduce_over_axes(func=np.logical_or)\n",
    "            self.exposure.stack(other.exposure, weights=mask_image_other)\n",
    "            \n",
    "            # on applique reduce_over_axes aux deux safe_mask, donc on les réduit sur les axes non-spatiaux \n",
    "            # (mais on prend le meilleur masque si les énergies sont masquées différemment)\n",
    "            # donc on ne prend pas en compte le masquage éventuel en énergie lorsqu'on modifie l'exposure, \n",
    "            # dans : self.exposure *= mask_image.data (elle est multipliée d'un bloc)\n",
    "            \n",
    "            # derrière il semble avoir un souci entre énergie vraie et énergie recombinée\n",
    "            \n",
    "            # On finit avec la fonction stack de WcsNDMap, \n",
    "            # avec des weights qui RAJOUTENT le nouveau masque \n",
    "            # (s'il est plus grand, on supprime de nouveaux bins, s'il est plus petit, les bins effacés le restent), logique avec le concept de 'stack'\n",
    "            # la question est de savoir si appliquer un masque energie dépendant sur la carte d'exposition nécessite un mask safe en énergie vraie\n",
    "            # \n",
    "            \n",
    "        if self.background_model and other.background_model:    \n",
    "            bkg = self.background_model.evaluate()\n",
    "            bkg *= self.mask_safe\n",
    "            other_bkg = other.background_model.evaluate()\n",
    "            bkg.stack(other_bkg, weights=other.mask_safe)\n",
    "\n",
    "            self.background_model = BackgroundModel(\n",
    "                bkg, name=self.background_model.name\n",
    "            )\n",
    "\n",
    "        if self.mask_safe is not None and other.mask_safe is not None:            # ICI en fait non ya rien à changer ici\n",
    "            self.mask_safe.stack(other.mask_safe)\n",
    "            \n",
    "            # juste une fonction 'stack' celle de WcsNDMap\n",
    "\n",
    "        if self.psf and other.psf:\n",
    "            if isinstance(self.psf, PSFMap) and isinstance(other.psf, PSFMap):\n",
    "                mask_irf = self._mask_safe_irf(self.psf.psf_map, mask_image)\n",
    "                self.psf.psf_map *= mask_irf.data\n",
    "                self.psf.exposure_map *= mask_irf.data\n",
    "\n",
    "                mask_image_other = other.mask_safe.reduce_over_axes(func=np.logical_or)\n",
    "                mask_irf_other = self._mask_safe_irf(\n",
    "                    other.psf.psf_map, mask_image_other\n",
    "                )\n",
    "                self.psf.stack(other.psf, weights=mask_irf_other)\n",
    "            else:\n",
    "                raise ValueError(\"Stacking of PSF kernels not supported\")\n",
    "\n",
    "        if self.edisp and other.edisp:\n",
    "            if isinstance(self.edisp, EDispMap) and isinstance(other.edisp, EDispMap):\n",
    "                mask_irf = self._mask_safe_irf(self.edisp.edisp_map, mask_image)\n",
    "                self.edisp.edisp_map *= mask_irf.data\n",
    "                self.edisp.exposure_map *= mask_irf.data\n",
    "\n",
    "                mask_image_other = other.mask_safe.reduce_over_axes(func=np.logical_or)\n",
    "                mask_irf_other = self._mask_safe_irf(\n",
    "                    other.edisp.edisp_map, mask_image_other\n",
    "                )\n",
    "                self.edisp.stack(other.edisp, weights=mask_irf_other)\n",
    "            else:\n",
    "                raise ValueError(\"Stacking of edisp kernels not supported\")\n",
    "\n",
    "        if self.gti and other.gti:\n",
    "            self.gti = self.gti.stack(other.gti).union()"
   ]
  },
  {
   "cell_type": "code",
   "execution_count": null,
   "metadata": {
    "jupyter": {
     "source_hidden": true
    }
   },
   "outputs": [],
   "source": [
    "# Au sujet de l'énergie vraie : elle n'intervient que dans la fonction create où elle est donnée, et permet de créer les cubes pour l'exposition, la psf et l'edisp\n",
    "\n",
    "geom_image = geom.to_image() # on prend la geom 3d on a passe en 2d pour la repasser en 3d avec l'axe d'énergie vraie\n",
    "geom_exposure = geom_image.to_cube([energy_axis_true])\n",
    "geom_irf = geom_image.to_binsz(binsz=binsz_irf) # ça on y touche pas apparemment\n",
    "geom_psf = geom_irf.to_cube([rad_axis, energy_axis_true])\n",
    "geom_edisp = geom_irf.to_cube([migra_axis, energy_axis_true])"
   ]
  },
  {
   "cell_type": "code",
   "execution_count": 56,
   "metadata": {
    "jupyter": {
     "source_hidden": true
    }
   },
   "outputs": [],
   "source": [
    "# Conversion d'un masque en énergie recombinée en un masque en énergie vraie\n",
    "# sachant qu'a priori on veut pas masquer d'emblée toutes les énergies vraies en dessous du seuil en énergie recombinée\n",
    "# ça risque d'être lourd\n",
    "# on peut faire une execption si on a le même nombre de bins pour les deux\n",
    "\n",
    "def conv_mask_true(mask, erec, etrue):\n",
    "    # mask est une carte WcsNDMap de booléens\n",
    "    # erec et etrue sont des energy axis avec des edges et nbins a priori différents\n",
    "    \n",
    "    mask_true = mask.copy()\n",
    "    \n",
    "    # besoin d'une fonction qui pour un pixel regarde le dernièr bin en énergie rec masqué, et associe une liste de bin en énergie vraie masquée adéquatement"
   ]
  },
  {
   "cell_type": "code",
   "execution_count": null,
   "metadata": {
    "jupyter": {
     "source_hidden": true
    }
   },
   "outputs": [],
   "source": [
    "# Pour info, méthode stack de la classe WcsNDMap\n",
    "\n",
    "def stack(self, other, weights=None):\n",
    "        \"\"\"Stack cutout into map.\n",
    "\n",
    "        Parameters\n",
    "        ----------\n",
    "        other : `WcsNDMap`\n",
    "            Other map to stack\n",
    "        weights : `WcsNDMap`\n",
    "            Array to be used as weights.\n",
    "        \"\"\"\n",
    "        if self.geom == other.geom:\n",
    "            parent_slices, cutout_slices = None, None\n",
    "        elif self.geom.is_aligned(other.geom):\n",
    "            slices = other.geom.cutout_info[\"parent-slices\"]\n",
    "            parent_slices = Ellipsis, slices[0], slices[1]\n",
    "\n",
    "            slices = other.geom.cutout_info[\"cutout-slices\"]\n",
    "            cutout_slices = Ellipsis, slices[0], slices[1]\n",
    "        else:\n",
    "            raise ValueError(\n",
    "                \"Can only stack equivalent maps or cutout of the same map.\"\n",
    "            )\n",
    "\n",
    "        data = other.data[cutout_slices]\n",
    "\n",
    "        if weights is not None:\n",
    "            data = data * weights.data\n",
    "\n",
    "        self.data[parent_slices] += data"
   ]
  },
  {
   "cell_type": "code",
   "execution_count": 75,
   "metadata": {},
   "outputs": [
    {
     "data": {
      "text/plain": [
       "array([False, False, False, False, False, False, False, False, False,\n",
       "       False, False, False, False, False, False, False, False, False,\n",
       "       False, False])"
      ]
     },
     "execution_count": 75,
     "metadata": {},
     "output_type": "execute_result"
    }
   ],
   "source": [
    "mapdataset_dict[2004].mask_safe.data[:,250,250]"
   ]
  },
  {
   "cell_type": "code",
   "execution_count": 73,
   "metadata": {},
   "outputs": [
    {
     "name": "stdout",
     "output_type": "stream",
     "text": [
      "[  0.5          0.65166066   0.84932323   1.10694108   1.44269991\n",
      "   1.88030155   2.45063709   3.19396757   4.16276604   5.42542173\n",
      "   7.07106781   9.21587344  12.01124434  15.65451083  20.40285773\n",
      "  26.59147948  34.65724216  45.16952262  58.87040187  76.7270499\n",
      " 100.        ] TeV\n"
     ]
    }
   ],
   "source": [
    "print(energy_axis.edges)"
   ]
  },
  {
   "cell_type": "code",
   "execution_count": null,
   "metadata": {},
   "outputs": [],
   "source": [
    "# Pour masquer plus de bins que ce que fait le mask safe\n",
    "\n",
    "mask = dataset.mask_safe.copy()\n",
    "mask.data[0:3,:,:]=False\n",
    "dataset.mask_fit = mask"
   ]
  },
  {
   "cell_type": "markdown",
   "metadata": {},
   "source": [
    "Sauvegarde des mapdatasets"
   ]
  },
  {
   "cell_type": "code",
   "execution_count": null,
   "metadata": {},
   "outputs": [],
   "source": [
    "for year in range(2004,2020):\n",
    "    \n",
    "    filename = \"../../../gammapy_data/mapdataset_hess/mapsdataset_hap-hd_zeta/mapdataset\" +str(year)+\".fits.gz\"\n",
    "    mapdataset_dict[year].write(filename, overwrite=True)"
   ]
  }
 ],
 "metadata": {
  "kernelspec": {
   "display_name": "Python 3",
   "language": "python",
   "name": "python3"
  },
  "language_info": {
   "codemirror_mode": {
    "name": "ipython",
    "version": 3
   },
   "file_extension": ".py",
   "mimetype": "text/x-python",
   "name": "python",
   "nbconvert_exporter": "python",
   "pygments_lexer": "ipython3",
   "version": "3.7.0"
  }
 },
 "nbformat": 4,
 "nbformat_minor": 4
}
