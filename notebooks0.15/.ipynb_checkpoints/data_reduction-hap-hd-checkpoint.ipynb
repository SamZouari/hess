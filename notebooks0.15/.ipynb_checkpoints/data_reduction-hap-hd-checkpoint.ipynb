{
 "cells": [
  {
   "cell_type": "markdown",
   "metadata": {},
   "source": [
    "# Evolution de l'émission du centre galactique et de l'émission diffuse"
   ]
  },
  {
   "cell_type": "code",
   "execution_count": 1,
   "metadata": {},
   "outputs": [
    {
     "data": {
      "text/plain": [
       "'0.15'"
      ]
     },
     "execution_count": 1,
     "metadata": {},
     "output_type": "execute_result"
    }
   ],
   "source": [
    "%matplotlib inline\n",
    "import matplotlib.pyplot as plt\n",
    "import numpy as np\n",
    "from scipy.stats import norm\n",
    "\n",
    "import astropy.units as u\n",
    "from astropy.coordinates import SkyCoord\n",
    "from astropy.convolution import Tophat2DKernel\n",
    "from regions import CircleSkyRegion, RectangleSkyRegion\n",
    "\n",
    "from gammapy.detect import compute_lima_on_off_image\n",
    "from gammapy.data import DataStore\n",
    "from gammapy.irf import make_mean_psf\n",
    "from gammapy.maps import Map, MapAxis, WcsGeom\n",
    "from gammapy.cube import (\n",
    "    MapDatasetMaker,\n",
    "    PSFKernel,\n",
    "    MapDataset,\n",
    "    RingBackgroundMaker,\n",
    "    SafeMaskMaker,\n",
    "    #RingBackgroundEstimator,\n",
    ")\n",
    "from gammapy.modeling.models import (\n",
    "    SkyModel,\n",
    "    BackgroundModel,\n",
    "    PowerLawSpectralModel,\n",
    "    PowerLaw2SpectralModel,\n",
    "    PointSpatialModel,\n",
    "    ExpCutoffPowerLawSpectralModel,\n",
    "    SkyDiffuseCube,\n",
    "    TemplateSpatialModel\n",
    ")\n",
    "from gammapy.modeling import Fit\n",
    "from astropy.time import Time\n",
    "\n",
    "src_pos = SkyCoord(359.94, -0.04, unit=\"deg\", frame=\"galactic\")\n",
    "\n",
    "import gammapy\n",
    "gammapy.__version__"
   ]
  },
  {
   "cell_type": "markdown",
   "metadata": {},
   "source": [
    "Emprunt d'une classe implémentée en 0.16"
   ]
  },
  {
   "cell_type": "code",
   "execution_count": 2,
   "metadata": {},
   "outputs": [],
   "source": [
    "##FoV background estimation\n",
    "import logging\n",
    "from gammapy.maps import Map\n",
    "from gammapy.modeling import Fit, Datasets\n",
    "\n",
    "\n",
    "class FoVBackgroundMaker:\n",
    "    \"\"\"Normalize template background on the whole field-of-view.\n",
    "\n",
    "    The dataset background model can be simply scaled (method=\"scale\") or fitted (method=\"fit\")\n",
    "    on the dataset counts.\n",
    "\n",
    "    The normalization is performed outside the exclusion mask that is passed on init.\n",
    "\n",
    "    If a SkyModel is set on the input dataset and method is 'fit', its are frozen during\n",
    "    the fov normalization fit.\n",
    "\n",
    "    Parameters\n",
    "    ----------\n",
    "    method : str in ['fit', 'scale']\n",
    "        the normalization method to be applied. Default 'scale'.\n",
    "    exclusion_mask : `~gammapy.maps.WcsNDMap`\n",
    "        Exclusion mask\n",
    "    \"\"\"\n",
    "\n",
    "    def __init__(self, method=\"scale\", exclusion_mask=None):\n",
    "        if method in [\"fit\", \"scale\"]:\n",
    "            self.method = method\n",
    "        else:\n",
    "            raise ValueError(f\"Incorrect method for FoVBackgroundMaker: {method}.\")\n",
    "        self.exclusion_mask = exclusion_mask\n",
    "\n",
    "\n",
    "    def run(self, dataset):\n",
    "        \"\"\"Run FoV background maker.\n",
    "\n",
    "        Fit the background model norm\n",
    "\n",
    "        Parameters\n",
    "        ----------\n",
    "        dataset : `~gammapy.cube.fit.MapDataset`\n",
    "            Input map dataset.\n",
    "\n",
    "        \"\"\"\n",
    "        mask_fit = dataset.mask_fit\n",
    "        dataset.mask_fit = self._reproject_exclusion_mask(dataset)\n",
    "\n",
    "        if self.method is \"fit\":\n",
    "            self._fit_bkg(dataset)\n",
    "        else:\n",
    "            self._scale_bkg(dataset)\n",
    "\n",
    "        dataset.mask_fit = mask_fit\n",
    "        return dataset\n",
    "\n",
    "\n",
    "    def _reproject_exclusion_mask(self, dataset):\n",
    "        \"\"\"Reproject the exclusion on the dataset geometry\"\"\"\n",
    "        mask_map = Map.from_geom(dataset.counts.geom)\n",
    "        if self.exclusion_mask is not None:\n",
    "            coords = dataset.counts.geom.get_coord()\n",
    "            vals = self.exclusion_mask.get_by_coord(coords)\n",
    "            mask_map.data += vals\n",
    "\n",
    "        return mask_map.data.astype(\"bool\")\n",
    "\n",
    "    def _fit_bkg(self, dataset):\n",
    "        \"\"\"Fit the FoV background model on the dataset counts data\"\"\"\n",
    "\n",
    "        # freeze all model components not related to background model\n",
    "        datasets = Datasets([dataset])\n",
    "\n",
    "        parameters_frozen = []\n",
    "        for par in datasets.parameters:\n",
    "            parameters_frozen.append(par.frozen)\n",
    "            if par not in dataset.background_model.parameters:\n",
    "                par.frozen = True\n",
    "\n",
    "        #!!!AL: relax titlt : BE CARREFULL !!!\n",
    "        dataset.background_model.tilt.frozen=False\n",
    "        \n",
    "        fit = Fit(datasets)\n",
    "        fit_result = fit.run()\n",
    "        if fit_result.success is False:\n",
    "            print(\"FoVBackgroundMaker failed. No fit convergence\")\n",
    "            \n",
    "\n",
    "        # Unfreeze parameters\n",
    "        for i, par in enumerate(datasets.parameters):\n",
    "            par.frozen = parameters_frozen[i]\n",
    "\n",
    "    def _scale_bkg(self, dataset):\n",
    "        \"\"\"Fit the FoV background model on the dataset counts data\"\"\"\n",
    "        mask = dataset.mask\n",
    "        count_tot = dataset.counts.data[mask].sum()\n",
    "        bkg_tot = dataset.background_model.map.data[mask].sum()\n",
    "\n",
    "        if count_tot <= 0.0:\n",
    "            print(\"FoVBackgroundMaker failed. No counts found outside exclusion mask\")\n",
    "        elif bkg_tot <= 0.0:\n",
    "            print(\"FoVBackgroundMaker failed. No positive background found outside exclusion mask\")\n",
    "        else:\n",
    "            scale = count_tot / bkg_tot\n",
    "            dataset.background_model.norm.value = scale\n",
    "            #print(\"bkg scale = \",scale)"
   ]
  },
  {
   "cell_type": "markdown",
   "metadata": {},
   "source": [
    "## Fabrication des mapdatasets"
   ]
  },
  {
   "cell_type": "markdown",
   "metadata": {},
   "source": [
    "Define which data to use and print some information"
   ]
  },
  {
   "cell_type": "code",
   "execution_count": 3,
   "metadata": {},
   "outputs": [],
   "source": [
    "data_store_hess1 = DataStore.from_dir(\"$GAMMAPY_DATA/hap-hd_Prod05/hess1/std_ImPACT_fullEnclosure\")\n",
    "data_store_hess1u = DataStore.from_dir(\"$GAMMAPY_DATA/hap-hd_Prod05/hess1u/std_ImPACT_fullEnclosure\")\n",
    "data_store_hess2 = DataStore.from_dir(\"$GAMMAPY_DATA/hap-hd_Prod05/hess2/std_ImPACT_fullEnclosure\")"
   ]
  },
  {
   "cell_type": "code",
   "execution_count": 5,
   "metadata": {
    "collapsed": true,
    "jupyter": {
     "outputs_hidden": true
    }
   },
   "outputs": [
    {
     "data": {
      "text/html": [
       "<i>ObservationTable length=522</i>\n",
       "<table id=\"table140615753707704\" class=\"table-striped table-bordered table-condensed\">\n",
       "<thead><tr><th>ALT_PNT</th><th>AZ_PNT</th><th>DATE-END</th><th>DATE-OBS</th><th>DEADC</th><th>DEC_OBJ</th><th>DEC_PNT</th><th>EVENT_COUNT</th><th>EVENT_DEC_MEDIAN</th><th>EVENT_ENERGY_MEDIAN</th><th>EVENT_RA_MEDIAN</th><th>EVENT_TIME_MAX</th><th>EVENT_TIME_MIN</th><th>GLAT_PNT</th><th>GLON_PNT</th><th>LIVETIME</th><th>MUONCORR</th><th>MUONEFF</th><th>N_TELS</th><th>OBJECT</th><th>OBS_ID</th><th>ONTIME</th><th>QUALITY</th><th>RA_OBJ</th><th>RA_PNT</th><th>TELLIST</th><th>TIME-END</th><th>TIME-OBS</th><th>TSTART</th><th>TSTOP</th><th>ZEN_PNT</th><th>BKG_SCALE</th></tr></thead>\n",
       "<thead><tr><th>float32</th><th>float32</th><th>bytes10</th><th>bytes10</th><th>float32</th><th>float32</th><th>float32</th><th>int64</th><th>float32</th><th>float32</th><th>float32</th><th>float64</th><th>float64</th><th>float32</th><th>float32</th><th>float32</th><th>float32</th><th>float32</th><th>int64</th><th>bytes43</th><th>int64</th><th>float32</th><th>int64</th><th>float32</th><th>float32</th><th>bytes7</th><th>bytes12</th><th>bytes12</th><th>float64</th><th>float64</th><th>float32</th><th>float32</th></tr></thead>\n",
       "<tr><td>28.855574</td><td>110.35432</td><td>2004-03-29</td><td>2004-03-29</td><td>1.0</td><td>-28.805</td><td>-28.305</td><td>3914</td><td>-28.344795</td><td>2.1404822</td><td>266.23456</td><td>102296911.2984631</td><td>102295229.05562758</td><td>0.40773767</td><td>0.49051896</td><td>1682.0</td><td>1.2030563</td><td>0.08765043</td><td>4</td><td>Sgr A</td><td>20191</td><td>1682.0</td><td>0</td><td>266.3</td><td>266.3</td><td>1,2,3,4</td><td>23:49:35.184</td><td>23:21:33.184</td><td>102295229.0</td><td>102296911.0</td><td>61.144424</td><td>1.0</td></tr>\n",
       "<tr><td>35.368626</td><td>110.0</td><td>2004-03-30</td><td>2004-03-29</td><td>1.0</td><td>-28.805</td><td>-29.305</td><td>5637</td><td>-29.320742</td><td>1.181514</td><td>266.24774</td><td>102298723.39720225</td><td>102297041.08143759</td><td>-0.11404082</td><td>359.63742</td><td>1683.0</td><td>1.203973</td><td>0.087587625</td><td>4</td><td>Sgr A</td><td>20192</td><td>1683.0</td><td>0</td><td>266.3</td><td>266.3</td><td>1,2,3,4</td><td>00:19:47.184</td><td>23:51:44.184</td><td>102297040.0</td><td>102298723.0</td><td>54.631374</td><td>1.0</td></tr>\n",
       "<tr><td>41.932503</td><td>109.51842</td><td>2004-03-30</td><td>2004-03-30</td><td>1.0</td><td>-28.805</td><td>-28.305</td><td>5780</td><td>-28.33468</td><td>0.78779256</td><td>266.2587</td><td>102300533.32034159</td><td>102298851.58477426</td><td>0.40773767</td><td>0.49051896</td><td>1682.0</td><td>1.2148619</td><td>0.08678702</td><td>4</td><td>Sgr A</td><td>20193</td><td>1682.0</td><td>0</td><td>266.3</td><td>266.3</td><td>1,2,3,4</td><td>00:49:57.184</td><td>00:21:55.184</td><td>102298851.0</td><td>102300533.0</td><td>48.067497</td><td>1.0</td></tr>\n",
       "<tr><td>48.53655</td><td>107.47555</td><td>2004-03-30</td><td>2004-03-30</td><td>1.0</td><td>-28.805</td><td>-29.305</td><td>4998</td><td>-29.334808</td><td>0.6158066</td><td>266.26428</td><td>102302344.1883924</td><td>102300662.06362748</td><td>-0.11404082</td><td>359.63742</td><td>1682.0</td><td>1.2057185</td><td>0.08744691</td><td>4</td><td>Sgr A</td><td>20194</td><td>1682.0</td><td>0</td><td>266.3</td><td>266.3</td><td>1,2,3,4</td><td>01:20:08.184</td><td>00:52:06.184</td><td>102300662.0</td><td>102302344.0</td><td>41.46345</td><td>1.0</td></tr>\n",
       "<tr><td>55.19461</td><td>106.8426</td><td>2004-03-30</td><td>2004-03-30</td><td>1.0</td><td>-28.805</td><td>-28.305</td><td>3889</td><td>-28.31305</td><td>0.5187392</td><td>266.2168</td><td>102304164.61427951</td><td>102302484.2071011</td><td>0.40773767</td><td>0.49051896</td><td>1682.0</td><td>1.2029134</td><td>0.08768537</td><td>4</td><td>Sgr A</td><td>20195</td><td>1682.0</td><td>0</td><td>266.3</td><td>266.3</td><td>1,2,3,4</td><td>01:50:28.184</td><td>01:22:26.184</td><td>102302482.0</td><td>102304164.0</td><td>34.80539</td><td>1.0</td></tr>\n",
       "<tr><td>61.811905</td><td>107.94146</td><td>2004-03-30</td><td>2004-03-30</td><td>1.0</td><td>-28.805</td><td>-29.305</td><td>4316</td><td>-29.291157</td><td>0.39247394</td><td>266.24826</td><td>102305974.305341</td><td>102304293.43021011</td><td>-0.11404082</td><td>359.63742</td><td>1683.0</td><td>1.2026621</td><td>0.08766547</td><td>4</td><td>Sgr A</td><td>20196</td><td>1683.0</td><td>1</td><td>266.3</td><td>266.3</td><td>1,2,3,4</td><td>02:20:38.184</td><td>01:52:35.184</td><td>102304291.0</td><td>102305974.0</td><td>28.188097</td><td>1.0</td></tr>\n",
       "<tr><td>68.39362</td><td>110.03463</td><td>2004-03-30</td><td>2004-03-30</td><td>1.0</td><td>-28.805</td><td>-28.305</td><td>2485</td><td>-28.326609</td><td>0.3175874</td><td>266.28152</td><td>102307784.8874209</td><td>102306104.166816</td><td>0.40773767</td><td>0.49051896</td><td>1682.0</td><td>1.1994495</td><td>0.08788593</td><td>4</td><td>Sgr A</td><td>20197</td><td>1682.0</td><td>1</td><td>266.3</td><td>266.3</td><td>1,2,3,4</td><td>02:50:49.184</td><td>02:22:47.184</td><td>102306103.0</td><td>102307785.0</td><td>21.606379</td><td>1.0</td></tr>\n",
       "<tr><td>74.86551</td><td>115.11593</td><td>2004-03-30</td><td>2004-03-30</td><td>1.0</td><td>-28.805</td><td>-29.305</td><td>5487</td><td>-29.307285</td><td>0.2994675</td><td>266.2618</td><td>102309606.78759551</td><td>102307924.3550961</td><td>-0.11404082</td><td>359.63742</td><td>1682.0</td><td>1.2005181</td><td>0.08784131</td><td>4</td><td>Sgr A</td><td>20198</td><td>1682.0</td><td>0</td><td>266.3</td><td>266.3</td><td>1,2,3,4</td><td>03:21:10.184</td><td>02:53:08.184</td><td>102307924.0</td><td>102309606.0</td><td>15.134489</td><td>1.0</td></tr>\n",
       "<tr><td>80.466286</td><td>128.24359</td><td>2004-03-30</td><td>2004-03-30</td><td>1.0</td><td>-28.805</td><td>-28.305</td><td>3852</td><td>-28.255558</td><td>0.28016847</td><td>266.27402</td><td>102311173.89032936</td><td>102309742.45142674</td><td>0.40773767</td><td>0.49051896</td><td>1433.0</td><td>1.1971887</td><td>0.08806101</td><td>4</td><td>Sgr A</td><td>20199</td><td>1433.0</td><td>0</td><td>266.3</td><td>266.3</td><td>1,2,3,4</td><td>03:47:18.184</td><td>03:23:25.184</td><td>102309741.0</td><td>102311174.0</td><td>9.533717</td><td>1.0</td></tr>\n",
       "<tr><td>65.971275</td><td>109.78191</td><td>2004-04-26</td><td>2004-04-26</td><td>1.0</td><td>-29.007833</td><td>-28.507833</td><td>5802</td><td>-28.507355</td><td>0.33704144</td><td>266.38602</td><td>104633582.98507762</td><td>104631900.72988081</td><td>0.21442167</td><td>0.37093028</td><td>1683.0</td><td>1.1694468</td><td>0.09016444</td><td>4</td><td>Sgr A*</td><td>20549</td><td>1683.0</td><td>0</td><td>266.41666</td><td>266.41666</td><td>1,2,3,4</td><td>00:54:07.184</td><td>00:26:04.184</td><td>104631900.0</td><td>104633583.0</td><td>24.028727</td><td>1.0</td></tr>\n",
       "<tr><td>...</td><td>...</td><td>...</td><td>...</td><td>...</td><td>...</td><td>...</td><td>...</td><td>...</td><td>...</td><td>...</td><td>...</td><td>...</td><td>...</td><td>...</td><td>...</td><td>...</td><td>...</td><td>...</td><td>...</td><td>...</td><td>...</td><td>...</td><td>...</td><td>...</td><td>...</td><td>...</td><td>...</td><td>...</td><td>...</td><td>...</td><td>...</td></tr>\n",
       "<tr><td>77.93802</td><td>118.427574</td><td>2012-08-10</td><td>2012-08-10</td><td>1.0</td><td>-28.441444</td><td>-28.441444</td><td>1590</td><td>-28.368217</td><td>0.3618493</td><td>267.66388</td><td>366317531.7529962</td><td>366315984.4565203</td><td>-0.6999973</td><td>0.9999734</td><td>1548.0</td><td>1.0107108</td><td>0.071723</td><td>3</td><td>Galactic halo pointing</td><td>74963</td><td>1548.0</td><td>0</td><td>267.67703</td><td>267.67703</td><td>2,3,4</td><td>18:53:16.184</td><td>18:27:28.184</td><td>366315984.0</td><td>366317532.0</td><td>12.061983</td><td>1.0</td></tr>\n",
       "<tr><td>84.21601</td><td>161.74208</td><td>2012-08-11</td><td>2012-08-11</td><td>1.0</td><td>-28.441444</td><td>-28.441444</td><td>2574</td><td>-28.378887</td><td>0.3449821</td><td>267.7348</td><td>366406145.2197385</td><td>366404469.1494918</td><td>-0.6999973</td><td>0.9999734</td><td>1677.0</td><td>1.0219775</td><td>0.070935756</td><td>3</td><td>Galactic halo pointing</td><td>75001</td><td>1677.0</td><td>0</td><td>267.67703</td><td>267.67703</td><td>2,3,4</td><td>19:30:09.184</td><td>19:02:12.184</td><td>366404468.0</td><td>366406145.0</td><td>5.7839894</td><td>1.0</td></tr>\n",
       "<tr><td>84.09464</td><td>158.53336</td><td>2012-08-12</td><td>2012-08-12</td><td>1.0</td><td>-28.441444</td><td>-28.441444</td><td>2399</td><td>-28.34403</td><td>0.34019342</td><td>267.70935</td><td>366492212.91279435</td><td>366490536.15416694</td><td>-0.6999973</td><td>0.9999734</td><td>1677.0</td><td>1.018463</td><td>0.07119593</td><td>3</td><td>Galactic halo pointing</td><td>75042</td><td>1677.0</td><td>0</td><td>267.67703</td><td>267.67703</td><td>2,3,4</td><td>19:24:36.184</td><td>18:56:39.184</td><td>366490535.0</td><td>366492212.0</td><td>5.9053535</td><td>1.0</td></tr>\n",
       "<tr><td>84.321465</td><td>194.90782</td><td>2012-08-13</td><td>2012-08-13</td><td>1.0</td><td>-28.441444</td><td>-28.441444</td><td>1833</td><td>-28.36575</td><td>0.35642147</td><td>267.69174</td><td>366579394.8841157</td><td>366577728.0338993</td><td>-0.6999973</td><td>0.9999734</td><td>1669.0</td><td>1.0394549</td><td>0.06974408</td><td>3</td><td>Galactic halo pointing</td><td>75069</td><td>1669.0</td><td>0</td><td>267.67703</td><td>267.67703</td><td>2,3,4</td><td>19:37:39.184</td><td>19:09:50.184</td><td>366577726.0</td><td>366579395.0</td><td>5.678535</td><td>1.0</td></tr>\n",
       "<tr><td>83.9803</td><td>155.97188</td><td>2012-08-14</td><td>2012-08-14</td><td>1.0</td><td>-28.441444</td><td>-28.441444</td><td>1399</td><td>-28.479788</td><td>0.34992188</td><td>267.80334</td><td>366664460.8564913</td><td>366662786.7474296</td><td>-0.6999973</td><td>0.9999734</td><td>1677.0</td><td>1.0119807</td><td>0.07164218</td><td>3</td><td>Galactic halo pointing</td><td>75106</td><td>1677.0</td><td>1</td><td>267.67703</td><td>267.67703</td><td>2,3,4</td><td>19:15:24.184</td><td>18:47:27.184</td><td>366662783.0</td><td>366664460.0</td><td>6.0197</td><td>1.0</td></tr>\n",
       "<tr><td>82.54233</td><td>137.7199</td><td>2012-08-16</td><td>2012-08-16</td><td>1.0</td><td>-28.441444</td><td>-28.441444</td><td>2214</td><td>-28.258179</td><td>0.35253757</td><td>267.72467</td><td>366836084.5254836</td><td>366834423.892164</td><td>-0.6999973</td><td>0.9999734</td><td>1661.0</td><td>1.0318917</td><td>0.07027064</td><td>3</td><td>Galactic halo pointing</td><td>75182</td><td>1661.0</td><td>0</td><td>267.67703</td><td>267.67703</td><td>2,3,4</td><td>18:55:48.184</td><td>18:28:07.184</td><td>366834423.0</td><td>366836084.0</td><td>7.4576755</td><td>1.0</td></tr>\n",
       "<tr><td>84.144356</td><td>205.33192</td><td>2012-09-02</td><td>2012-09-02</td><td>1.0</td><td>-28.441444</td><td>-28.441444</td><td>1051</td><td>-28.381481</td><td>0.36074713</td><td>267.7936</td><td>368302546.4292908</td><td>368301649.0993762</td><td>-0.6999973</td><td>0.9999734</td><td>900.0</td><td>1.0524672</td><td>0.068877615</td><td>3</td><td>Galactic halo pointing</td><td>75671</td><td>900.0</td><td>0</td><td>267.67703</td><td>267.67703</td><td>2,3,4</td><td>18:16:51.184</td><td>18:01:51.184</td><td>368301647.0</td><td>368302547.0</td><td>5.8556447</td><td>1.0</td></tr>\n",
       "<tr><td>50.36282</td><td>252.03474</td><td>2012-10-06</td><td>2012-10-06</td><td>1.0</td><td>-29.007833</td><td>-29.007833</td><td>2234</td><td>-28.995785</td><td>0.7034241</td><td>267.26727</td><td>371242059.4462116</td><td>371240387.3533771</td><td>-0.644626</td><td>0.3066871</td><td>1674.0</td><td>1.0509619</td><td>0.06911827</td><td>4</td><td>Sgr A*</td><td>77284</td><td>1674.0</td><td>0</td><td>266.41647</td><td>267.21686</td><td>1,2,3,4</td><td>18:48:43.184</td><td>18:20:49.184</td><td>371240385.0</td><td>371242059.0</td><td>39.63718</td><td>1.0</td></tr>\n",
       "<tr><td>43.212112</td><td>250.32257</td><td>2012-10-06</td><td>2012-10-06</td><td>1.0</td><td>-29.007833</td><td>-29.007833</td><td>2210</td><td>-28.897371</td><td>1.0279951</td><td>265.81573</td><td>371244023.96463275</td><td>371242345.245862</td><td>0.5503692</td><td>359.57736</td><td>1681.0</td><td>1.0437368</td><td>0.06948036</td><td>4</td><td>Sgr A*</td><td>77287</td><td>1681.0</td><td>1</td><td>266.41647</td><td>265.61606</td><td>1,2,3,4</td><td>19:21:29.184</td><td>18:53:28.184</td><td>371242344.0</td><td>371244025.0</td><td>46.787888</td><td>1.0</td></tr>\n",
       "<tr><td>34.741432</td><td>110.0</td><td>2013-04-04</td><td>2013-04-04</td><td>1.0</td><td>-29.007833</td><td>-29.007833</td><td>3467</td><td>-28.988678</td><td>1.3795956</td><td>266.80997</td><td>386812431.4749086</td><td>386810750.56344295</td><td>-0.47330016</td><td>0.20347556</td><td>1681.0</td><td>0.86333174</td><td>0.06953643</td><td>3</td><td>Sgr A*</td><td>82904</td><td>1681.0</td><td>0</td><td>266.41647</td><td>266.98816</td><td>1,2,3</td><td>23:54:55.184</td><td>23:26:54.184</td><td>386810750.0</td><td>386812431.0</td><td>55.258568</td><td>1.0</td></tr>\n",
       "</table>"
      ],
      "text/plain": [
       "<ObservationTable length=522>\n",
       " ALT_PNT    AZ_PNT    DATE-END   DATE-OBS  ...    TSTOP     ZEN_PNT  BKG_SCALE\n",
       " float32   float32    bytes10    bytes10   ...   float64    float32   float32 \n",
       "--------- ---------- ---------- ---------- ... ----------- --------- ---------\n",
       "28.855574  110.35432 2004-03-29 2004-03-29 ... 102296911.0 61.144424       1.0\n",
       "35.368626      110.0 2004-03-30 2004-03-29 ... 102298723.0 54.631374       1.0\n",
       "41.932503  109.51842 2004-03-30 2004-03-30 ... 102300533.0 48.067497       1.0\n",
       " 48.53655  107.47555 2004-03-30 2004-03-30 ... 102302344.0  41.46345       1.0\n",
       " 55.19461   106.8426 2004-03-30 2004-03-30 ... 102304164.0  34.80539       1.0\n",
       "61.811905  107.94146 2004-03-30 2004-03-30 ... 102305974.0 28.188097       1.0\n",
       " 68.39362  110.03463 2004-03-30 2004-03-30 ... 102307785.0 21.606379       1.0\n",
       " 74.86551  115.11593 2004-03-30 2004-03-30 ... 102309606.0 15.134489       1.0\n",
       "80.466286  128.24359 2004-03-30 2004-03-30 ... 102311174.0  9.533717       1.0\n",
       "65.971275  109.78191 2004-04-26 2004-04-26 ... 104633583.0 24.028727       1.0\n",
       "      ...        ...        ...        ... ...         ...       ...       ...\n",
       " 77.93802 118.427574 2012-08-10 2012-08-10 ... 366317532.0 12.061983       1.0\n",
       " 84.21601  161.74208 2012-08-11 2012-08-11 ... 366406145.0 5.7839894       1.0\n",
       " 84.09464  158.53336 2012-08-12 2012-08-12 ... 366492212.0 5.9053535       1.0\n",
       "84.321465  194.90782 2012-08-13 2012-08-13 ... 366579395.0  5.678535       1.0\n",
       "  83.9803  155.97188 2012-08-14 2012-08-14 ... 366664460.0    6.0197       1.0\n",
       " 82.54233   137.7199 2012-08-16 2012-08-16 ... 366836084.0 7.4576755       1.0\n",
       "84.144356  205.33192 2012-09-02 2012-09-02 ... 368302547.0 5.8556447       1.0\n",
       " 50.36282  252.03474 2012-10-06 2012-10-06 ... 371242059.0  39.63718       1.0\n",
       "43.212112  250.32257 2012-10-06 2012-10-06 ... 371244025.0 46.787888       1.0\n",
       "34.741432      110.0 2013-04-04 2013-04-04 ... 386812431.0 55.258568       1.0"
      ]
     },
     "execution_count": 5,
     "metadata": {},
     "output_type": "execute_result"
    }
   ],
   "source": []
  },
  {
   "cell_type": "code",
   "execution_count": 12,
   "metadata": {},
   "outputs": [],
   "source": [
    "from astropy.coordinates import Angle\n",
    "\n",
    "\n",
    "# Ici on choisit la région du ciel dans laquelle on sélectionne nos observations (en fonction des directions d'observation)\n",
    "\n",
    "from astropy.coordinates import Angle\n",
    "\n",
    "selection = dict(type='sky_circle', frame='galactic',\n",
    "                 lon=Angle(0, 'deg'),\n",
    "                 lat=Angle(0, 'deg'),\n",
    "                 radius=Angle(1.5, 'deg'),\n",
    "                 border=Angle(0, 'deg'))\n",
    "\n",
    "\n",
    "# on veut sélectionner les observations avec un angle zénithal suffisamment petit (valeur \"neutre\" = 70 ou 80 deg)\n",
    "selectionZEN = dict(type='par_box', variable='ZEN_PNT', value_range=[0., 40.])\n",
    "\n",
    "#Attention entre hap-fr et hap-hd les angles zénithaux ne sont pas stockés de la même manière\n",
    "\n",
    "\n",
    "obs_table1 = data_store_hess1.obs_table.select_observations(selection)\n",
    "obs_table1 = obs_table1.select_observations(selectionZEN)\n",
    "\n",
    "obs_table1u = data_store_hess1u.obs_table.select_observations(selection)\n",
    "obs_table1u = obs_table1u.select_observations(selectionZEN)\n",
    "\n",
    "obs_table2 = data_store_hess2.obs_table.select_observations(selection)\n",
    "obs_table2 = obs_table2.select_observations(selectionZEN)"
   ]
  },
  {
   "cell_type": "code",
   "execution_count": 13,
   "metadata": {
    "collapsed": true,
    "jupyter": {
     "outputs_hidden": true
    }
   },
   "outputs": [
    {
     "data": {
      "text/plain": [
       "<Time object: scale='tt' format='mjd' value=[56452.86352065 56452.884435   56452.90534935 56452.92637944\n",
       " 56452.94730537 56452.96833546 56452.97964333 56453.00066185\n",
       " 56456.88909935 56456.91826602 56456.93928454 56456.96350907\n",
       " 56456.98452759 56457.00554611 56457.02656463 56457.04075444\n",
       " 56471.87213176 56472.87281463 56473.87053454 56473.89155306\n",
       " 56473.91258315 56473.93360167 56473.95462019 56474.85113639\n",
       " 56474.89372898 56474.93651833 56474.97874056 56476.85180769\n",
       " 56478.92235167 56478.96540722 56479.85420352 56479.8847475\n",
       " 56479.90576602 56479.92540722 56479.94642574 56479.96735167\n",
       " 56479.98837019 56480.0093887  56481.85418037 56481.90301139\n",
       " 56481.9169813  56481.93929611 56481.96031463 56482.83173824\n",
       " 56485.92038407 56508.89847435 56509.81369426 56509.90893731\n",
       " 56509.92986324 56510.78109009 56510.84712019 56510.88924981\n",
       " 56510.93243269 56511.80146046 56511.82238639 56511.84353222\n",
       " 56511.8607313  56511.891935   56511.91593963 56512.80900676\n",
       " 56512.87299981 56512.9006387  56512.92280306 56513.85158778\n",
       " 56513.8759512  56514.82747898 56514.85449287 56529.74952759\n",
       " 56529.7759975  56529.80384472 56529.82477065 56535.75071972\n",
       " 56535.77173824 56535.79267574 56535.81360167 56537.78679611\n",
       " 56537.82958546 56538.75176139 56538.77297667 56538.79400676\n",
       " 56538.81512944 56538.83614796 56538.85725907 56562.78799981\n",
       " 56563.7685438  56564.75769889 56568.76006    56569.76131\n",
       " 56721.14058083 56744.05590491 56748.05192343 56748.07333546\n",
       " 56748.0947475  56749.04103222 56749.06244426 56749.12742111\n",
       " 56749.14874056 56750.04392574 56750.06523361 56750.08655306\n",
       " 56750.10786093 56750.1291688  56752.05305769 56752.07436556\n",
       " 56752.095685   56752.11699287 56752.13830074 56776.05114796\n",
       " 56776.07246741 56776.09299981 56776.11430769 56776.13561556\n",
       " 56777.10021046 56777.12151833 56778.09360167 56778.13631\n",
       " 56779.02085861 56779.04178454 56779.08441185 56779.10581231\n",
       " 56779.12769889 56781.07509472 56781.11772204 56782.02348593\n",
       " 56782.04490954 56782.06621741 56784.99837019 56785.01967806\n",
       " 56802.99048824 56803.01171509 56805.95999056 56805.98102065\n",
       " 56806.00234009 56808.93337019 56808.95458546 56808.97581231\n",
       " 56810.0372938  56810.05842806 56810.08646046 56810.10739796\n",
       " 56811.01852065 56811.03973593 56811.0609512  56811.08217806\n",
       " 56811.11034935 56826.90102065 56829.90133315 56829.9238563\n",
       " 56829.94489796 56832.02745583 56832.04830074 56832.9401063\n",
       " 56834.02841648 56834.04972435 56835.00122898 56835.01752528\n",
       " 56835.03846278 56835.87728222 56835.89859009 56835.91971278\n",
       " 56835.98620583 56836.00548824 56836.0266225  56838.03593963\n",
       " 56838.85206231 56838.87328917 56838.89431926 56838.92137944\n",
       " 56838.96275676 56838.98378685 56839.00464333 56842.98163407\n",
       " 56843.01119426 56844.01641417 56845.01156463 56855.89956231\n",
       " 56856.86908778 56856.88994426 56856.91589333 56857.86678454\n",
       " 56857.88781463 56857.90865954 56858.85369426 56858.87490954\n",
       " 56858.89612481 56858.92676139 56859.86316185 56859.88444657\n",
       " 56859.90566185 56860.8190762  56860.84021046 56860.92426139\n",
       " 56861.8507313  56861.89317343 56862.86422667 56862.88161093\n",
       " 56863.85139102 56863.8722475  56863.89309241 56863.91430769\n",
       " 56864.85997898 56864.8740762  56864.88806926 56864.91112481\n",
       " 56865.81488639 56865.83610167 56865.85740954 56866.9040762\n",
       " 56867.86201602 56868.88450444 57130.02908778 57130.04982852\n",
       " 57130.07053454 57130.09195815 57130.11647204 57131.01546509\n",
       " 57131.08217806 57131.10288407 57131.12364796 57132.00171509\n",
       " 57132.02246741 57132.04332389 57132.06405306 57132.08477065\n",
       " 57132.09717806 57133.00707389 57133.02774519 57133.04840491\n",
       " 57133.0691225  57133.08985167 57133.11051139 57133.13119426\n",
       " 57133.99463176 57134.01531463 57134.0359975  57134.04985167\n",
       " 57134.07070815 57134.0913563  57134.11212019 57134.9997938\n",
       " 57135.02034935 57135.04089333 57135.06143731 57135.08213176\n",
       " 57135.10284935 57136.00144889 57136.02027991 57136.04414565\n",
       " 57136.07039565 57136.09168037 57137.99369426 57138.00173824\n",
       " 57138.01490954 57138.02381    57139.02967806 57140.10165722\n",
       " 57140.11569657 57141.07592806 57141.09665722 57154.95960861\n",
       " 57157.05815028 57159.05361324 57161.05196972 57161.99151833\n",
       " 57162.01538407 57162.02952759 57162.07134472 57164.04759472\n",
       " 57165.06409935 57166.03930769 57166.0597012  57166.08036093\n",
       " 57166.98959704 57167.01040722 57167.03117111 57167.05159935\n",
       " 57167.07203917 57182.95038407 57183.93578917 57183.95610167\n",
       " 57183.97701602 57211.84271046 57211.86302296 57211.88371741\n",
       " 57211.90445815 57211.9247475  57212.85634472 57212.8766688\n",
       " 57212.89730537 57212.9176063  57212.93790722 57212.95825444\n",
       " 57213.77107852 57213.79137944 57213.8116688  57213.83196972\n",
       " 57213.87828917 57213.8991688  57213.9194813  57213.96008315\n",
       " 57213.98039565 57214.85809241 57214.87869426 57214.89937713\n",
       " 57214.9197012  57214.94000213 57214.96030306 57214.98083546\n",
       " 57215.76891417 57215.78919194 57215.80949287 57215.82341648\n",
       " 57215.84371741 57215.86405306 57215.88457389 57215.90487481\n",
       " 57215.92519889 57215.94548824 57215.96578917 57215.98610167\n",
       " 57216.7612637  57216.78156463 57216.80184241 57216.82213176\n",
       " 57216.84243269 57216.86274519 57216.88328917 57216.93473593\n",
       " 57236.74464333 57236.76514102 57237.79273361 57272.82654148\n",
       " 57484.11676139 57484.12707389 57485.09815028 57486.06761787\n",
       " 57487.07404148 57487.09477065 57488.06297667 57488.08350907\n",
       " 57488.1028262  57488.12316185 57489.07200444 57489.09230537\n",
       " 57489.11259472 57490.06504843 57490.08588176 57492.05367111\n",
       " 57492.08173824 57492.10216648 57492.12250213 57493.04257157\n",
       " 57493.06293037 57493.08326602 57493.10357852 57493.13553454\n",
       " 57495.09589333 57496.11155306 57496.13184241 57497.11913407\n",
       " 57511.04696972 57512.02152991 57512.08622898 57513.01625213\n",
       " 57513.07764102 57513.09794194 57519.05681926 57522.02337019\n",
       " 57538.9937637  57539.99396046 57540.02457389 57540.99506\n",
       " 57542.9878725  57543.00950444 57543.02980537]>"
      ]
     },
     "execution_count": 13,
     "metadata": {},
     "output_type": "execute_result"
    }
   ],
   "source": [
    "obs_table2.time_start"
   ]
  },
  {
   "cell_type": "code",
   "execution_count": 14,
   "metadata": {},
   "outputs": [],
   "source": [
    "t2004  = dict(type='time_box', time_range= Time(['2004-01-01T00:00:00', '2004-12-31T23:59:59']))\n",
    "t2005  = dict(type='time_box', time_range= Time(['2005-01-01T00:00:00', '2005-12-31T23:59:59']))\n",
    "t2006  = dict(type='time_box', time_range= Time(['2006-01-01T00:00:00', '2006-12-31T23:59:59']))\n",
    "t2007  = dict(type='time_box', time_range= Time(['2007-01-01T00:00:00', '2007-12-31T23:59:59']))\n",
    "t2008  = dict(type='time_box', time_range= Time(['2008-01-01T00:00:00', '2008-12-31T23:59:59']))\n",
    "t2009  = dict(type='time_box', time_range= Time(['2009-01-01T00:00:00', '2009-12-31T23:59:59']))\n",
    "t2010  = dict(type='time_box', time_range= Time(['2010-01-01T00:00:00', '2010-12-31T23:59:59']))\n",
    "t2011  = dict(type='time_box', time_range= Time(['2011-01-01T00:00:00', '2011-12-31T23:59:59']))\n",
    "t2012  = dict(type='time_box', time_range= Time(['2012-01-01T00:00:00', '2012-12-31T23:59:59']))\n",
    "t2013  = dict(type='time_box', time_range= Time(['2013-01-01T00:00:00', '2013-12-31T23:59:59']))\n",
    "t2014  = dict(type='time_box', time_range= Time(['2014-01-01T00:00:00', '2014-12-31T23:59:59']))\n",
    "t2015  = dict(type='time_box', time_range= Time(['2015-01-01T00:00:00', '2015-12-31T23:59:59']))\n",
    "t2016  = dict(type='time_box', time_range= Time(['2016-01-01T00:00:00', '2016-12-31T23:59:59']))\n",
    "t2017  = dict(type='time_box', time_range= Time(['2017-01-01T00:00:00', '2017-12-31T23:59:59']))\n",
    "t2018  = dict(type='time_box', time_range= Time(['2018-01-01T00:00:00', '2018-12-31T23:59:59']))\n",
    "t2019  = dict(type='time_box', time_range= Time(['2019-01-01T00:00:00', '2019-12-31T23:59:59']))"
   ]
  },
  {
   "cell_type": "markdown",
   "metadata": {},
   "source": [
    "Sélection par année et tri des observations (on retire celles qui n'ont pas toutes les IRF)"
   ]
  },
  {
   "cell_type": "code",
   "execution_count": 15,
   "metadata": {},
   "outputs": [],
   "source": [
    "year_intervals = { 2004 : t2004, 2005 : t2005, 2006 : t2006, 2007 : t2007,\n",
    "                      2008 : t2008, 2009 : t2009, 2010 : t2010, 2011 : t2011,\n",
    "                      2012 : t2012, 2013 : t2013, 2014 : t2014, 2015 : t2015,\n",
    "                      2016 : t2016, 2017 : t2017, 2018 : t2018, 2019 : t2019}\n",
    "\n",
    "yearly_obs1 = dict()\n",
    "\n",
    "for year in range(2004,2020) :\n",
    "    \n",
    "    obs_table_year = obs_table1.select_observations(year_intervals[year])\n",
    "    ids = obs_table_year[\"OBS_ID\"].tolist()\n",
    "    observations_year = data_store_hess1.get_observations(ids, skip_missing=True)\n",
    "    \n",
    "    for obs in observations_year:\n",
    "        try:\n",
    "            obs.aeff\n",
    "            obs.edisp\n",
    "            obs.psf\n",
    "            obs.bkg\n",
    "        except:\n",
    "            ids.remove(obs.obs_id)\n",
    "            print(\"Observation retirée : \" + str(obs.obs_id))\n",
    "            \n",
    "    observations_year = data_store_hess1.get_observations(ids, skip_missing=True)\n",
    "    yearly_obs1[year] = observations_year"
   ]
  },
  {
   "cell_type": "code",
   "execution_count": 16,
   "metadata": {},
   "outputs": [],
   "source": [
    "yearly_obs1u = dict()\n",
    "\n",
    "for year in range(2004,2020) :\n",
    "    \n",
    "    obs_table_year = obs_table1u.select_observations(year_intervals[year])\n",
    "    ids = obs_table_year[\"OBS_ID\"].tolist()\n",
    "    observations_year = data_store_hess1u.get_observations(ids, skip_missing=True)\n",
    "    \n",
    "    for obs in observations_year:\n",
    "        try:\n",
    "            obs.aeff\n",
    "            obs.edisp\n",
    "            obs.psf\n",
    "            obs.bkg\n",
    "        except:\n",
    "            ids.remove(obs.obs_id)\n",
    "            print(\"Observation retirée : \" + str(obs.obs_id))\n",
    "            \n",
    "    observations_year = data_store_hess1u.get_observations(ids, skip_missing=True)\n",
    "    yearly_obs1u[year] = observations_year"
   ]
  },
  {
   "cell_type": "code",
   "execution_count": 17,
   "metadata": {},
   "outputs": [],
   "source": [
    "yearly_obs2 = dict()\n",
    "\n",
    "for year in range(2004,2020) :\n",
    "    \n",
    "    obs_table_year = obs_table2.select_observations(year_intervals[year])\n",
    "    ids = obs_table_year[\"OBS_ID\"].tolist()\n",
    "    observations_year = data_store_hess2.get_observations(ids, skip_missing=True)\n",
    "    \n",
    "    for obs in observations_year:\n",
    "        try:\n",
    "            obs.aeff\n",
    "            obs.edisp\n",
    "            obs.psf\n",
    "            obs.bkg\n",
    "        except:\n",
    "            ids.remove(obs.obs_id)\n",
    "            print(\"Observation retirée : \" + str(obs.obs_id))\n",
    "            \n",
    "    observations_year = data_store_hess2.get_observations(ids, skip_missing=True)\n",
    "    yearly_obs2[year] = observations_year"
   ]
  },
  {
   "cell_type": "code",
   "execution_count": 10,
   "metadata": {
    "collapsed": true,
    "jupyter": {
     "outputs_hidden": true
    }
   },
   "outputs": [
    {
     "data": {
      "text/html": [
       "<i>ObservationTable length=125</i>\n",
       "<table id=\"table140403832483624\" class=\"table-striped table-bordered table-condensed\">\n",
       "<thead><tr><th>ALT_PNT</th><th>AZ_PNT</th><th>DATE-END</th><th>DATE-OBS</th><th>DEADC</th><th>DEC_OBJ</th><th>DEC_PNT</th><th>EVENT_COUNT</th><th>EVENT_DEC_MEDIAN</th><th>EVENT_ENERGY_MEDIAN</th><th>EVENT_RA_MEDIAN</th><th>EVENT_TIME_MAX</th><th>EVENT_TIME_MIN</th><th>GLAT_PNT</th><th>GLON_PNT</th><th>LIVETIME</th><th>MUONCORR</th><th>MUONEFF</th><th>N_TELS</th><th>OBJECT</th><th>OBS_ID</th><th>ONTIME</th><th>QUALITY</th><th>RA_OBJ</th><th>RA_PNT</th><th>TELLIST</th><th>TIME-END</th><th>TIME-OBS</th><th>TSTART</th><th>TSTOP</th><th>ZEN_PNT</th><th>BKG_SCALE</th></tr></thead>\n",
       "<thead><tr><th>float32</th><th>float32</th><th>bytes10</th><th>bytes10</th><th>float32</th><th>float32</th><th>float32</th><th>int64</th><th>float32</th><th>float32</th><th>float32</th><th>float64</th><th>float64</th><th>float32</th><th>float32</th><th>float32</th><th>float32</th><th>float32</th><th>int64</th><th>bytes43</th><th>int64</th><th>float32</th><th>int64</th><th>float32</th><th>float32</th><th>bytes7</th><th>bytes12</th><th>bytes12</th><th>float64</th><th>float64</th><th>float32</th><th>float32</th></tr></thead>\n",
       "<tr><td>28.855574</td><td>110.35432</td><td>2004-03-29</td><td>2004-03-29</td><td>1.0</td><td>-28.805</td><td>-28.305</td><td>3914</td><td>-28.344795</td><td>2.1404822</td><td>266.23456</td><td>102296911.2984631</td><td>102295229.05562758</td><td>0.40773767</td><td>0.49051896</td><td>1682.0</td><td>1.2030563</td><td>0.08765043</td><td>4</td><td>Sgr A</td><td>20191</td><td>1682.0</td><td>0</td><td>266.3</td><td>266.3</td><td>1,2,3,4</td><td>23:49:35.184</td><td>23:21:33.184</td><td>102295229.0</td><td>102296911.0</td><td>61.144424</td><td>1.0</td></tr>\n",
       "<tr><td>35.368626</td><td>110.0</td><td>2004-03-30</td><td>2004-03-29</td><td>1.0</td><td>-28.805</td><td>-29.305</td><td>5637</td><td>-29.320742</td><td>1.181514</td><td>266.24774</td><td>102298723.39720225</td><td>102297041.08143759</td><td>-0.11404082</td><td>359.63742</td><td>1683.0</td><td>1.203973</td><td>0.087587625</td><td>4</td><td>Sgr A</td><td>20192</td><td>1683.0</td><td>0</td><td>266.3</td><td>266.3</td><td>1,2,3,4</td><td>00:19:47.184</td><td>23:51:44.184</td><td>102297040.0</td><td>102298723.0</td><td>54.631374</td><td>1.0</td></tr>\n",
       "<tr><td>41.932503</td><td>109.51842</td><td>2004-03-30</td><td>2004-03-30</td><td>1.0</td><td>-28.805</td><td>-28.305</td><td>5780</td><td>-28.33468</td><td>0.78779256</td><td>266.2587</td><td>102300533.32034159</td><td>102298851.58477426</td><td>0.40773767</td><td>0.49051896</td><td>1682.0</td><td>1.2148619</td><td>0.08678702</td><td>4</td><td>Sgr A</td><td>20193</td><td>1682.0</td><td>0</td><td>266.3</td><td>266.3</td><td>1,2,3,4</td><td>00:49:57.184</td><td>00:21:55.184</td><td>102298851.0</td><td>102300533.0</td><td>48.067497</td><td>1.0</td></tr>\n",
       "<tr><td>48.53655</td><td>107.47555</td><td>2004-03-30</td><td>2004-03-30</td><td>1.0</td><td>-28.805</td><td>-29.305</td><td>4998</td><td>-29.334808</td><td>0.6158066</td><td>266.26428</td><td>102302344.1883924</td><td>102300662.06362748</td><td>-0.11404082</td><td>359.63742</td><td>1682.0</td><td>1.2057185</td><td>0.08744691</td><td>4</td><td>Sgr A</td><td>20194</td><td>1682.0</td><td>0</td><td>266.3</td><td>266.3</td><td>1,2,3,4</td><td>01:20:08.184</td><td>00:52:06.184</td><td>102300662.0</td><td>102302344.0</td><td>41.46345</td><td>1.0</td></tr>\n",
       "<tr><td>55.19461</td><td>106.8426</td><td>2004-03-30</td><td>2004-03-30</td><td>1.0</td><td>-28.805</td><td>-28.305</td><td>3889</td><td>-28.31305</td><td>0.5187392</td><td>266.2168</td><td>102304164.61427951</td><td>102302484.2071011</td><td>0.40773767</td><td>0.49051896</td><td>1682.0</td><td>1.2029134</td><td>0.08768537</td><td>4</td><td>Sgr A</td><td>20195</td><td>1682.0</td><td>0</td><td>266.3</td><td>266.3</td><td>1,2,3,4</td><td>01:50:28.184</td><td>01:22:26.184</td><td>102302482.0</td><td>102304164.0</td><td>34.80539</td><td>1.0</td></tr>\n",
       "<tr><td>61.811905</td><td>107.94146</td><td>2004-03-30</td><td>2004-03-30</td><td>1.0</td><td>-28.805</td><td>-29.305</td><td>4316</td><td>-29.291157</td><td>0.39247394</td><td>266.24826</td><td>102305974.305341</td><td>102304293.43021011</td><td>-0.11404082</td><td>359.63742</td><td>1683.0</td><td>1.2026621</td><td>0.08766547</td><td>4</td><td>Sgr A</td><td>20196</td><td>1683.0</td><td>1</td><td>266.3</td><td>266.3</td><td>1,2,3,4</td><td>02:20:38.184</td><td>01:52:35.184</td><td>102304291.0</td><td>102305974.0</td><td>28.188097</td><td>1.0</td></tr>\n",
       "<tr><td>68.39362</td><td>110.03463</td><td>2004-03-30</td><td>2004-03-30</td><td>1.0</td><td>-28.805</td><td>-28.305</td><td>2485</td><td>-28.326609</td><td>0.3175874</td><td>266.28152</td><td>102307784.8874209</td><td>102306104.166816</td><td>0.40773767</td><td>0.49051896</td><td>1682.0</td><td>1.1994495</td><td>0.08788593</td><td>4</td><td>Sgr A</td><td>20197</td><td>1682.0</td><td>1</td><td>266.3</td><td>266.3</td><td>1,2,3,4</td><td>02:50:49.184</td><td>02:22:47.184</td><td>102306103.0</td><td>102307785.0</td><td>21.606379</td><td>1.0</td></tr>\n",
       "<tr><td>74.86551</td><td>115.11593</td><td>2004-03-30</td><td>2004-03-30</td><td>1.0</td><td>-28.805</td><td>-29.305</td><td>5487</td><td>-29.307285</td><td>0.2994675</td><td>266.2618</td><td>102309606.78759551</td><td>102307924.3550961</td><td>-0.11404082</td><td>359.63742</td><td>1682.0</td><td>1.2005181</td><td>0.08784131</td><td>4</td><td>Sgr A</td><td>20198</td><td>1682.0</td><td>0</td><td>266.3</td><td>266.3</td><td>1,2,3,4</td><td>03:21:10.184</td><td>02:53:08.184</td><td>102307924.0</td><td>102309606.0</td><td>15.134489</td><td>1.0</td></tr>\n",
       "<tr><td>80.466286</td><td>128.24359</td><td>2004-03-30</td><td>2004-03-30</td><td>1.0</td><td>-28.805</td><td>-28.305</td><td>3852</td><td>-28.255558</td><td>0.28016847</td><td>266.27402</td><td>102311173.89032936</td><td>102309742.45142674</td><td>0.40773767</td><td>0.49051896</td><td>1433.0</td><td>1.1971887</td><td>0.08806101</td><td>4</td><td>Sgr A</td><td>20199</td><td>1433.0</td><td>0</td><td>266.3</td><td>266.3</td><td>1,2,3,4</td><td>03:47:18.184</td><td>03:23:25.184</td><td>102309741.0</td><td>102311174.0</td><td>9.533717</td><td>1.0</td></tr>\n",
       "<tr><td>65.971275</td><td>109.78191</td><td>2004-04-26</td><td>2004-04-26</td><td>1.0</td><td>-29.007833</td><td>-28.507833</td><td>5802</td><td>-28.507355</td><td>0.33704144</td><td>266.38602</td><td>104633582.98507762</td><td>104631900.72988081</td><td>0.21442167</td><td>0.37093028</td><td>1683.0</td><td>1.1694468</td><td>0.09016444</td><td>4</td><td>Sgr A*</td><td>20549</td><td>1683.0</td><td>0</td><td>266.41666</td><td>266.41666</td><td>1,2,3,4</td><td>00:54:07.184</td><td>00:26:04.184</td><td>104631900.0</td><td>104633583.0</td><td>24.028727</td><td>1.0</td></tr>\n",
       "<tr><td>...</td><td>...</td><td>...</td><td>...</td><td>...</td><td>...</td><td>...</td><td>...</td><td>...</td><td>...</td><td>...</td><td>...</td><td>...</td><td>...</td><td>...</td><td>...</td><td>...</td><td>...</td><td>...</td><td>...</td><td>...</td><td>...</td><td>...</td><td>...</td><td>...</td><td>...</td><td>...</td><td>...</td><td>...</td><td>...</td><td>...</td><td>...</td></tr>\n",
       "<tr><td>57.49841</td><td>254.0</td><td>2004-09-03</td><td>2004-09-03</td><td>1.0</td><td>-28.156382</td><td>-28.414482</td><td>2811</td><td>-28.3481</td><td>0.43750873</td><td>267.35837</td><td>115935732.53701687</td><td>115934531.813802</td><td>-0.42974028</td><td>0.86978394</td><td>1202.0</td><td>0.8681823</td><td>0.08355758</td><td>4</td><td>G0.87+0.07</td><td>22281</td><td>1202.0</td><td>0</td><td>266.851</td><td>267.3373</td><td>1,2,3,4</td><td>20:23:17.184</td><td>20:03:15.184</td><td>115934531.0</td><td>115935733.0</td><td>32.50159</td><td>1.0</td></tr>\n",
       "<tr><td>81.59459</td><td>231.15189</td><td>2004-09-04</td><td>2004-09-04</td><td>1.0</td><td>-28.156382</td><td>-27.896582</td><td>5059</td><td>-27.899904</td><td>0.27149954</td><td>266.3346</td><td>116015374.70429325</td><td>116013692.4869175</td><td>0.57029</td><td>0.8698427</td><td>1682.0</td><td>0.8598068</td><td>0.08438214</td><td>4</td><td>G0.87+0.07</td><td>22290</td><td>1682.0</td><td>0</td><td>266.851</td><td>266.367</td><td>1,2,3,4</td><td>18:30:38.184</td><td>18:02:36.184</td><td>116013692.0</td><td>116015374.0</td><td>8.405409</td><td>1.0</td></tr>\n",
       "<tr><td>75.5394</td><td>246.79646</td><td>2004-09-04</td><td>2004-09-04</td><td>1.0</td><td>-28.156382</td><td>-28.414482</td><td>4636</td><td>-28.375519</td><td>0.2866534</td><td>267.30103</td><td>116017196.79568791</td><td>116015515.03258514</td><td>-0.42974028</td><td>0.86978394</td><td>1683.0</td><td>0.87646836</td><td>0.08278943</td><td>4</td><td>G0.87+0.07</td><td>22291</td><td>1683.0</td><td>0</td><td>266.851</td><td>267.3373</td><td>1,2,3,4</td><td>19:01:01.184</td><td>18:32:58.184</td><td>116015514.0</td><td>116017197.0</td><td>14.460599</td><td>1.0</td></tr>\n",
       "<tr><td>69.01057</td><td>251.59901</td><td>2004-09-04</td><td>2004-09-04</td><td>1.0</td><td>-28.156382</td><td>-27.896582</td><td>4752</td><td>-27.849186</td><td>0.32633093</td><td>266.31204</td><td>116019013.14526367</td><td>116017330.9944551</td><td>0.57029</td><td>0.8698427</td><td>1683.0</td><td>0.87121797</td><td>0.08326603</td><td>4</td><td>G0.87+0.07</td><td>22292</td><td>1683.0</td><td>0</td><td>266.851</td><td>266.367</td><td>1,2,3,4</td><td>19:31:17.184</td><td>19:03:14.184</td><td>116017330.0</td><td>116019013.0</td><td>20.989435</td><td>1.0</td></tr>\n",
       "<tr><td>62.393642</td><td>253.89946</td><td>2004-09-04</td><td>2004-09-04</td><td>1.0</td><td>-28.156382</td><td>-27.896582</td><td>4493</td><td>-27.881626</td><td>0.3763812</td><td>266.38562</td><td>116020819.35007548</td><td>116019137.34282517</td><td>0.57029</td><td>0.8698427</td><td>1682.0</td><td>0.87905484</td><td>0.08252074</td><td>4</td><td>G0.87+0.07</td><td>22293</td><td>1682.0</td><td>0</td><td>266.851</td><td>266.367</td><td>1,2,3,4</td><td>20:01:23.184</td><td>19:33:21.184</td><td>116019137.0</td><td>116020819.0</td><td>27.606358</td><td>1.0</td></tr>\n",
       "<tr><td>55.7051</td><td>254.0</td><td>2004-09-04</td><td>2004-09-04</td><td>1.0</td><td>-28.156382</td><td>-28.414482</td><td>3447</td><td>-28.417156</td><td>0.48522866</td><td>267.30222</td><td>116022635.40577221</td><td>116020954.28948116</td><td>-0.42974028</td><td>0.86978394</td><td>1682.0</td><td>0.8724937</td><td>0.083146624</td><td>4</td><td>G0.87+0.07</td><td>22294</td><td>1682.0</td><td>0</td><td>266.851</td><td>267.3373</td><td>1,2,3,4</td><td>20:31:40.184</td><td>20:03:38.184</td><td>116020954.0</td><td>116022636.0</td><td>34.2949</td><td>1.0</td></tr>\n",
       "<tr><td>53.801952</td><td>254.0</td><td>2004-09-06</td><td>2004-09-06</td><td>1.0</td><td>-28.156382</td><td>-27.896582</td><td>4294</td><td>-27.895872</td><td>0.4697024</td><td>266.36462</td><td>116195481.33093834</td><td>116193799.43662572</td><td>0.57029</td><td>0.8698427</td><td>1682.0</td><td>0.87676257</td><td>0.082758196</td><td>4</td><td>G0.87+0.07</td><td>22322</td><td>1682.0</td><td>0</td><td>266.851</td><td>266.367</td><td>1,2,3,4</td><td>20:32:25.184</td><td>20:04:23.184</td><td>116193799.0</td><td>116195481.0</td><td>36.198048</td><td>1.0</td></tr>\n",
       "<tr><td>47.153996</td><td>253.96848</td><td>2004-09-06</td><td>2004-09-06</td><td>1.0</td><td>-28.156382</td><td>-28.414482</td><td>3681</td><td>-28.357037</td><td>0.57973546</td><td>267.29868</td><td>116197289.05303144</td><td>116195607.51116705</td><td>-0.42974028</td><td>0.86978394</td><td>1682.0</td><td>0.8691908</td><td>0.08345364</td><td>4</td><td>G0.87+0.07</td><td>22323</td><td>1682.0</td><td>0</td><td>266.851</td><td>267.3373</td><td>1,2,3,4</td><td>21:02:33.184</td><td>20:34:31.184</td><td>116195607.0</td><td>116197289.0</td><td>42.846004</td><td>1.0</td></tr>\n",
       "<tr><td>76.4579</td><td>245.51402</td><td>2004-09-10</td><td>2004-09-10</td><td>1.0</td><td>-28.156382</td><td>-27.896582</td><td>3665</td><td>-27.87586</td><td>0.29466113</td><td>266.32245</td><td>116533919.18687606</td><td>116532238.04815125</td><td>0.57029</td><td>0.8698427</td><td>1682.0</td><td>0.8866587</td><td>0.08180284</td><td>4</td><td>G0.87+0.07</td><td>22384</td><td>1682.0</td><td>0</td><td>266.851</td><td>266.367</td><td>1,2,3,4</td><td>18:33:03.184</td><td>18:05:01.184</td><td>116532237.0</td><td>116533919.0</td><td>13.542096</td><td>1.0</td></tr>\n",
       "<tr><td>70.17828</td><td>250.9992</td><td>2004-09-10</td><td>2004-09-10</td><td>1.0</td><td>-28.156382</td><td>-28.414482</td><td>3591</td><td>-28.372309</td><td>0.33134347</td><td>267.2531</td><td>116535613.59041357</td><td>116534052.26537299</td><td>-0.42974028</td><td>0.86978394</td><td>1562.0</td><td>0.90009725</td><td>0.0805803</td><td>4</td><td>G0.87+0.07</td><td>22385</td><td>1562.0</td><td>0</td><td>266.851</td><td>267.3373</td><td>1,2,3,4</td><td>19:01:17.184</td><td>18:35:15.184</td><td>116534051.0</td><td>116535613.0</td><td>19.821718</td><td>1.0</td></tr>\n",
       "</table>"
      ],
      "text/plain": [
       "<ObservationTable length=125>\n",
       " ALT_PNT    AZ_PNT   DATE-END   DATE-OBS  ...    TSTOP     ZEN_PNT  BKG_SCALE\n",
       " float32   float32   bytes10    bytes10   ...   float64    float32   float32 \n",
       "--------- --------- ---------- ---------- ... ----------- --------- ---------\n",
       "28.855574 110.35432 2004-03-29 2004-03-29 ... 102296911.0 61.144424       1.0\n",
       "35.368626     110.0 2004-03-30 2004-03-29 ... 102298723.0 54.631374       1.0\n",
       "41.932503 109.51842 2004-03-30 2004-03-30 ... 102300533.0 48.067497       1.0\n",
       " 48.53655 107.47555 2004-03-30 2004-03-30 ... 102302344.0  41.46345       1.0\n",
       " 55.19461  106.8426 2004-03-30 2004-03-30 ... 102304164.0  34.80539       1.0\n",
       "61.811905 107.94146 2004-03-30 2004-03-30 ... 102305974.0 28.188097       1.0\n",
       " 68.39362 110.03463 2004-03-30 2004-03-30 ... 102307785.0 21.606379       1.0\n",
       " 74.86551 115.11593 2004-03-30 2004-03-30 ... 102309606.0 15.134489       1.0\n",
       "80.466286 128.24359 2004-03-30 2004-03-30 ... 102311174.0  9.533717       1.0\n",
       "65.971275 109.78191 2004-04-26 2004-04-26 ... 104633583.0 24.028727       1.0\n",
       "      ...       ...        ...        ... ...         ...       ...       ...\n",
       " 57.49841     254.0 2004-09-03 2004-09-03 ... 115935733.0  32.50159       1.0\n",
       " 81.59459 231.15189 2004-09-04 2004-09-04 ... 116015374.0  8.405409       1.0\n",
       "  75.5394 246.79646 2004-09-04 2004-09-04 ... 116017197.0 14.460599       1.0\n",
       " 69.01057 251.59901 2004-09-04 2004-09-04 ... 116019013.0 20.989435       1.0\n",
       "62.393642 253.89946 2004-09-04 2004-09-04 ... 116020819.0 27.606358       1.0\n",
       "  55.7051     254.0 2004-09-04 2004-09-04 ... 116022636.0   34.2949       1.0\n",
       "53.801952     254.0 2004-09-06 2004-09-06 ... 116195481.0 36.198048       1.0\n",
       "47.153996 253.96848 2004-09-06 2004-09-06 ... 116197289.0 42.846004       1.0\n",
       "  76.4579 245.51402 2004-09-10 2004-09-10 ... 116533919.0 13.542096       1.0\n",
       " 70.17828  250.9992 2004-09-10 2004-09-10 ... 116535613.0 19.821718       1.0"
      ]
     },
     "execution_count": 10,
     "metadata": {},
     "output_type": "execute_result"
    }
   ],
   "source": [
    "obs_table1.select_observations(year_intervals[2004])"
   ]
  },
  {
   "cell_type": "markdown",
   "metadata": {},
   "source": [
    "## Création de la géométrie"
   ]
  },
  {
   "cell_type": "code",
   "execution_count": 18,
   "metadata": {},
   "outputs": [],
   "source": [
    "emin, emax = [0.5, 100] * u.TeV\n",
    "\n",
    "energy_axis = MapAxis.from_bounds(\n",
    "    emin.value, emax.value, 20, unit=\"TeV\", name=\"energy\", interp=\"log\"\n",
    ")\n",
    "geom = WcsGeom.create(\n",
    "    skydir=(0, 0),\n",
    "    binsz=0.02,\n",
    "    width=(10, 8),\n",
    "    coordsys=\"GAL\",\n",
    "    proj=\"CAR\",\n",
    "    axes=[energy_axis],\n",
    ")\n",
    "\n",
    "energy_axis_true = MapAxis.from_bounds(\n",
    "    0.3, 200, 30, unit=\"TeV\", name=\"energy\", interp=\"log\"\n",
    ")\n",
    "\n",
    "# peut être passer à plus que 20 bins en énergie vraie ?"
   ]
  },
  {
   "cell_type": "code",
   "execution_count": 19,
   "metadata": {},
   "outputs": [],
   "source": [
    "mapdataset_dict = {}\n",
    "\n",
    "for k in range (2004,2020):\n",
    "    name = \"map\" + str(k)\n",
    "    mapdataset_dict[k] = MapDataset.create(\n",
    "    geom=geom, energy_axis_true=energy_axis_true, name=name)"
   ]
  },
  {
   "cell_type": "markdown",
   "metadata": {},
   "source": [
    "A noter que nos datasets ont un axe d'énergie vraie, pas biné très finement cela dit..."
   ]
  },
  {
   "cell_type": "markdown",
   "metadata": {},
   "source": [
    "## Fabrication des mapdatasets\n",
    "\n",
    "Région d'exclusion pour le FoVBackgroundMaker : un rectangle de 3 deg de longitude sur 1 en latitude\n",
    "Pour obtenir le masque d'exclusion c'est un peu plus subtil, il faut créer une région dont l'intérieur est False (le rectangle) et l'extérieur est True\n",
    "\n",
    "Pour le safe mask : on choisit la méthode \"offset-max\", et la méthode bkg-peak\n",
    "Pour le FoVBackgroundMaker : on prend la méthode \"scale\" (fit est également possible)\n",
    "\n",
    "\"bkg-peak\" applique automatiquement un masque sur les énergies inférieures à l'énergie où le modèle de fond atteint un pic.\n",
    "Il est possible de faire cette méthode pour voir quel seuil on a en général, puis manuellement définir le bin suivant comme le nouveau seuil\n",
    "L'importance de cette méthode est aussi de voir si cette méthode donne à peu près toujours le même résultat où si certaines observations admettent des seuils plus haut, et en quel proportion."
   ]
  },
  {
   "cell_type": "code",
   "execution_count": 20,
   "metadata": {},
   "outputs": [
    {
     "name": "stdout",
     "output_type": "stream",
     "text": [
      "CPU times: user 19min 13s, sys: 3.31 s, total: 19min 16s\n",
      "Wall time: 19min 22s\n"
     ]
    }
   ],
   "source": [
    "%%time\n",
    "\n",
    "exclusion_region = RectangleSkyRegion(src_pos, 3*u.deg, 1*u.deg)\n",
    "exclusion_mask = geom.region_mask([exclusion_region], inside=False)\n",
    "exclusion_mask = Map.from_geom(geom, data=exclusion_mask)\n",
    "\n",
    "histo = dict()\n",
    "\n",
    "for year in range(2004,2020):\n",
    "    \n",
    "    offset_max = 2.0 * u.deg\n",
    "    maker = MapDatasetMaker()\n",
    "    maker_safe_mask = SafeMaskMaker(methods=[\"offset-max\", \"bkg-peak\"], offset_max=offset_max)\n",
    "    maker_bkg = FoVBackgroundMaker(\"scale\", exclusion_mask)\n",
    "    \n",
    "    histo[year] = []\n",
    "    \n",
    "    # au lieu de \"scale\" prendre \"fit\" en donnant au dataset un masque sur les bin en énergie (prendre à partir de 1 TeV par ex, même si c'est déjà haut 500 GeV)\n",
    "    # ou alors on met \"bkg-peak\" pour le safemaskmaker (le premier bin en énergie est retiré)\n",
    "    \n",
    "    # refaire des mapdataset en excluant le premier bin pour voir si ça change\n",
    "    \n",
    "    spectrum = PowerLaw2SpectralModel(index=2.3)\n",
    "\n",
    "    for obs in yearly_obs1[year]:\n",
    "        # First a cutout of the target map is produced\n",
    "        cutout = mapdataset_dict[year].cutout(obs.pointing_radec, width=2 * offset_max)\n",
    "\n",
    "        # A MapDataset is filled in this cutout geometry\n",
    "        dataset = maker.run(cutout, obs)\n",
    "        \n",
    "        # The data quality cut is applied\n",
    "        dataset = maker_safe_mask.run(dataset, obs)\n",
    "        \n",
    "        # stocker la distributions des seuils par années (utiliser np.where(mask.data[:, 250,250]))\n",
    "        # pour faire un histogramme des énergies de seuil pour chaque observation\n",
    "        centre = dataset.mask_safe.data[:, 100,100]\n",
    "        i = np.where(centre == False, 1,0).sum() # +1\n",
    "        histo[year].append(energy_axis.edges[i].value)\n",
    "        \n",
    "        dataset = maker_bkg.run(dataset)\n",
    "        \n",
    "        # The resulting dataset cutout is stacked onto the final one\n",
    "        mapdataset_dict[year].stack(dataset)\n",
    "        \n",
    "    for obs in yearly_obs1u[year]:\n",
    "        # First a cutout of the target map is produced\n",
    "        cutout = mapdataset_dict[year].cutout(obs.pointing_radec, width=2 * offset_max)\n",
    "\n",
    "        # A MapDataset is filled in this cutout geometry\n",
    "        dataset = maker.run(cutout, obs)\n",
    "        \n",
    "        # The data quality cut is applied\n",
    "        dataset = maker_safe_mask.run(dataset, obs)\n",
    "        \n",
    "        # stocker la distributions des seuils par années (utiliser np.where(mask.data[:, 250,250]))\n",
    "        \n",
    "        # pour faire un histogramme des énergies de seuil pour chaque observation\n",
    "        centre = dataset.mask_safe.data[:, 100,100]\n",
    "        i = np.where(centre == False, 1,0).sum() # +1\n",
    "        histo[year].append(energy_axis.edges[i].value)\n",
    "        \n",
    "        dataset = maker_bkg.run(dataset)\n",
    "        \n",
    "        # The resulting dataset cutout is stacked onto the final one\n",
    "        mapdataset_dict[year].stack(dataset)\n",
    "        \n",
    "    for obs in yearly_obs2[year]:\n",
    "        # First a cutout of the target map is produced\n",
    "        cutout = mapdataset_dict[year].cutout(obs.pointing_radec, width=2 * offset_max)\n",
    "\n",
    "        # A MapDataset is filled in this cutout geometry\n",
    "        dataset = maker.run(cutout, obs)\n",
    "        \n",
    "        # The data quality cut is applied\n",
    "        dataset = maker_safe_mask.run(dataset, obs)\n",
    "        \n",
    "        # stocker la distributions des seuils par années (utiliser np.where(mask.data[:, 250,250]))\n",
    "        \n",
    "        # pour faire un histogramme des énergies de seuil pour chaque observation\n",
    "        centre = dataset.mask_safe.data[:, 100,100]\n",
    "        i = np.where(centre == False, 1,0).sum() # +1\n",
    "        histo[year].append(energy_axis.edges[i].value)\n",
    "        \n",
    "        dataset = maker_bkg.run(dataset)\n",
    "        \n",
    "        # The resulting dataset cutout is stacked onto the final one\n",
    "        mapdataset_dict[year].stack(dataset)\n",
    "        \n",
    "    #mask = dataset.mask_safe.copy()\n",
    "    #mask.data[0:3,:,:] = False\n",
    "    #dataset.mask_fit = mask\n",
    "    \n",
    "    # essayer de se placer systématiquement au dessus du seuil"
   ]
  },
  {
   "cell_type": "code",
   "execution_count": null,
   "metadata": {},
   "outputs": [],
   "source": [
    "# on extrait les offsets à la source centrale et les azimuts observation par observation\n",
    "\n",
    "sgra_pos = SkyCoord(359.94, -0.04, unit=\"deg\", frame=\"galactic\")\n",
    "\n",
    "histo_offset = dict()\n",
    "\n",
    "for year in range(2004,2020):\n",
    "    histo_offset[year] = []\n",
    "\n",
    "    for obs in yearly_obs[year]:\n",
    "        direction = obs.pointing_radec\n",
    "        sep = direction.separation(sgra_pos) #calcule la séparation \"on sky\" entre les deux coordonnées\n",
    "        histo_offset[year].append(sep.value)\n",
    "        \n",
    "    plt.figure()\n",
    "    plt.hist(histo_offset[year], 40, (0.0, 2.1))\n",
    "    \n",
    "    plt.grid()\n",
    "    plt.xlabel(\"Décalage angulaire par rapport à la source (deg)\")\n",
    "    plt.ylabel(\"Nombre d'observations\")\n",
    "    \n",
    "    #plt.savefig(\"offsets_\"+str(year)+\".pdf\", overwrite=True)"
   ]
  },
  {
   "cell_type": "code",
   "execution_count": null,
   "metadata": {},
   "outputs": [],
   "source": [
    "# création des historgrammes d'angles zénithaux de chaque obs, année par année\n",
    "\n",
    "histo_zen = dict()\n",
    "\n",
    "for year in range(2004,2020):  \n",
    "    histo_zen[year] = []\n",
    "    # les angles zénitaux sont juste stockés dans obs_table\n",
    "    \n",
    "    obs_table_year = obs_table.select_observations(year_intervals[year])\n",
    "    histo_zen[year] = obs_table_year[\"ZEN_PNT\"].tolist()\n",
    "    \n",
    "    plt.figure()\n",
    "    plt.hist(histo_zen[year], 40, (5.0, 65.0))\n",
    "    \n",
    "    plt.grid()\n",
    "    plt.xlabel(\"Angle zénithal de l'observation (deg)\")\n",
    "    plt.ylabel(\"Nombre d'observations\")\n",
    "    \n",
    "    #plt.savefig(\"angzen_\"+str(year)+\".pdf\", overwrite=True)"
   ]
  },
  {
   "cell_type": "code",
   "execution_count": null,
   "metadata": {},
   "outputs": [],
   "source": [
    "# affichage des histogrammes des énergies de seuil obtenu par bkg-peak, année par année\n",
    "\n",
    "for year in range(2004,2020):\n",
    "    \n",
    "    plt.figure()\n",
    "    plt.hist(histo[year], 20, (0.5, 3.5))\n",
    "    \n",
    "    plt.grid()\n",
    "    plt.xlabel(\"Energie de seuil (TeV)\")\n",
    "    plt.ylabel(\"Nombre d'observations\")\n",
    "    \n",
    "    plt.savefig(\"eseuils_\"+str(year)+\".pdf\", overwrite=True)"
   ]
  },
  {
   "cell_type": "code",
   "execution_count": 15,
   "metadata": {},
   "outputs": [],
   "source": [
    "safemask = mapdataset_dict[2004].mask_safe\n",
    "expo = mapdataset_dict[2004].exposure"
   ]
  },
  {
   "cell_type": "code",
   "execution_count": 16,
   "metadata": {},
   "outputs": [
    {
     "data": {
      "text/plain": [
       "array([False,  True,  True,  True,  True,  True,  True,  True,  True,\n",
       "        True,  True,  True,  True,  True,  True,  True,  True,  True,\n",
       "        True,  True])"
      ]
     },
     "execution_count": 16,
     "metadata": {},
     "output_type": "execute_result"
    }
   ],
   "source": [
    "reduce = safemask.reduce_over_axes(func=np.logical_or)\n",
    "safemask.data[:, 250 ,250]"
   ]
  },
  {
   "cell_type": "markdown",
   "metadata": {},
   "source": [
    "Lors du stack on n'est pas surs de comment les différents seuils sont pris en compte.\n",
    "Regardez les différentes énergies seuils, voir la distribution et enlever ceux qui sont trop haut. Ou bien juste partir beaucoup plus haut que le seuil donné par bkg-peak.\n",
    "\n",
    "Eventuellement participer à l'implémentation de"
   ]
  },
  {
   "cell_type": "code",
   "execution_count": 55,
   "metadata": {
    "jupyter": {
     "source_hidden": true
    }
   },
   "outputs": [],
   "source": [
    "# Pour information, la fonction associée à 'bkg-peak', rien à changer a priori, c'est simple et clair. ça fait ce que c'est censé faire, \n",
    "# à la limite on peut penser à d'autres méthodes pour couper en énergie\n",
    "\n",
    "def make_mask_energy_bkg_peak(dataset):\n",
    "        \"\"\"Make safe energy mask based on the binned background.\n",
    "\n",
    "        The energy threshold is defined as the upper edge of the energy\n",
    "        bin with the highest predicted background rate. This method is motivated\n",
    "        by its use in the HESS DL3 validation paper: https://arxiv.org/pdf/1910.08088.pdf\n",
    "\n",
    "        Parameters\n",
    "        ----------\n",
    "        dataset : `~gammapy.modeling.Dataset`\n",
    "            Dataset to compute mask for.\n",
    "\n",
    "        Returns\n",
    "        -------\n",
    "        mask_safe : `~numpy.ndarray`\n",
    "            Safe data range mask.\n",
    "        \"\"\"\n",
    "\n",
    "        if isinstance(dataset, (MapDataset, MapDatasetOnOff)):\n",
    "            background_spectrum = dataset.background_model.map.get_spectrum()\n",
    "            counts = dataset.counts.geom\n",
    "        else:\n",
    "            background_spectrum = dataset.background\n",
    "            counts = dataset.counts\n",
    "\n",
    "        idx = np.argmax(background_spectrum.data)         # trouve l'indice du max du spectre du bkg\n",
    "        e_min = background_spectrum.energy.edges[idx + 1] # identifie l'emin comme l'énergie suivante du max\n",
    "        return counts.energy_mask(emin=e_min)"
   ]
  },
  {
   "cell_type": "code",
   "execution_count": null,
   "metadata": {
    "jupyter": {
     "source_hidden": true
    }
   },
   "outputs": [],
   "source": [
    "# Pour information, la méthode 'stack' de la classe MapDataset, on a un mapdataset (self) auquel on en rajoute un autre (other)\n",
    "\n",
    "def stack(self, other):\n",
    "        \"\"\"Stack another dataset in place.\n",
    "\n",
    "        Parameters\n",
    "        ----------\n",
    "        other: `~gammapy.cube.MapDataset`\n",
    "            Map dataset to be stacked with this one.\n",
    "        \"\"\"\n",
    "\n",
    "        if self.counts and other.counts:\n",
    "            self.counts *= self.mask_safe\n",
    "            self.counts.stack(other.counts, weights=other.mask_safe)\n",
    "\n",
    "        if self.exposure and other.exposure:                                     # ICI\n",
    "            mask_image = self.mask_safe.reduce_over_axes(func=np.logical_or)\n",
    "            self.exposure *= mask_image.data\n",
    "            \n",
    "            # TODO: apply energy dependent mask to exposure. Does this require\n",
    "            #  a mask_safe in true energy?\n",
    "            \n",
    "            mask_image_other = other.mask_safe.reduce_over_axes(func=np.logical_or)\n",
    "            self.exposure.stack(other.exposure, weights=mask_image_other)\n",
    "            \n",
    "            # on applique reduce_over_axes aux deux safe_mask, donc on les réduit sur les axes non-spatiaux \n",
    "            # (mais on prend le meilleur masque si les énergies sont masquées différemment)\n",
    "            # donc on ne prend pas en compte le masquage éventuel en énergie lorsqu'on modifie l'exposure, \n",
    "            # dans : self.exposure *= mask_image.data (elle est multipliée d'un bloc)\n",
    "            \n",
    "            # derrière il semble avoir un souci entre énergie vraie et énergie recombinée\n",
    "            \n",
    "            # On finit avec la fonction stack de WcsNDMap, \n",
    "            # avec des weights qui RAJOUTENT le nouveau masque \n",
    "            # (s'il est plus grand, on supprime de nouveaux bins, s'il est plus petit, les bins effacés le restent), logique avec le concept de 'stack'\n",
    "            # la question est de savoir si appliquer un masque energie dépendant sur la carte d'exposition nécessite un mask safe en énergie vraie\n",
    "            # oui car l'exposition a des bins en énergie vraie et pas énergie recombinée\n",
    "            # mais il suffirait de \"faire la conversion\"\n",
    "            \n",
    "        if self.background_model and other.background_model:    \n",
    "            bkg = self.background_model.evaluate()\n",
    "            bkg *= self.mask_safe\n",
    "            other_bkg = other.background_model.evaluate()\n",
    "            bkg.stack(other_bkg, weights=other.mask_safe)\n",
    "\n",
    "            self.background_model = BackgroundModel(\n",
    "                bkg, name=self.background_model.name\n",
    "            )\n",
    "\n",
    "        if self.mask_safe is not None and other.mask_safe is not None:            # ICI en fait non ya rien à changer ici\n",
    "            self.mask_safe.stack(other.mask_safe)\n",
    "            \n",
    "            # juste une fonction 'stack' celle de WcsNDMap\n",
    "\n",
    "        if self.psf and other.psf:\n",
    "            if isinstance(self.psf, PSFMap) and isinstance(other.psf, PSFMap):\n",
    "                mask_irf = self._mask_safe_irf(self.psf.psf_map, mask_image)\n",
    "                self.psf.psf_map *= mask_irf.data\n",
    "                self.psf.exposure_map *= mask_irf.data\n",
    "\n",
    "                mask_image_other = other.mask_safe.reduce_over_axes(func=np.logical_or)\n",
    "                mask_irf_other = self._mask_safe_irf(\n",
    "                    other.psf.psf_map, mask_image_other\n",
    "                )\n",
    "                self.psf.stack(other.psf, weights=mask_irf_other)\n",
    "            else:\n",
    "                raise ValueError(\"Stacking of PSF kernels not supported\")\n",
    "\n",
    "        if self.edisp and other.edisp:\n",
    "            if isinstance(self.edisp, EDispMap) and isinstance(other.edisp, EDispMap):\n",
    "                mask_irf = self._mask_safe_irf(self.edisp.edisp_map, mask_image)\n",
    "                self.edisp.edisp_map *= mask_irf.data\n",
    "                self.edisp.exposure_map *= mask_irf.data\n",
    "\n",
    "                mask_image_other = other.mask_safe.reduce_over_axes(func=np.logical_or)\n",
    "                mask_irf_other = self._mask_safe_irf(\n",
    "                    other.edisp.edisp_map, mask_image_other\n",
    "                )\n",
    "                self.edisp.stack(other.edisp, weights=mask_irf_other)\n",
    "            else:\n",
    "                raise ValueError(\"Stacking of edisp kernels not supported\")\n",
    "\n",
    "        if self.gti and other.gti:\n",
    "            self.gti = self.gti.stack(other.gti).union()"
   ]
  },
  {
   "cell_type": "code",
   "execution_count": null,
   "metadata": {
    "jupyter": {
     "source_hidden": true
    }
   },
   "outputs": [],
   "source": [
    "# Au sujet de l'énergie vraie : elle n'intervient que dans la fonction create où elle est donnée, et permet de créer les cubes pour l'exposition, la psf et l'edisp\n",
    "\n",
    "geom_image = geom.to_image() # on prend la geom 3d on a passe en 2d pour la repasser en 3d avec l'axe d'énergie vraie\n",
    "geom_exposure = geom_image.to_cube([energy_axis_true])\n",
    "geom_irf = geom_image.to_binsz(binsz=binsz_irf) # ça on y touche pas apparemment\n",
    "geom_psf = geom_irf.to_cube([rad_axis, energy_axis_true])\n",
    "geom_edisp = geom_irf.to_cube([migra_axis, energy_axis_true])"
   ]
  },
  {
   "cell_type": "code",
   "execution_count": 56,
   "metadata": {
    "jupyter": {
     "source_hidden": true
    }
   },
   "outputs": [],
   "source": [
    "# Conversion d'un masque en énergie recombinée en un masque en énergie vraie\n",
    "# sachant qu'a priori on veut pas masquer d'emblée toutes les énergies vraies en dessous du seuil en énergie recombinée\n",
    "# ça risque d'être lourd\n",
    "# on peut faire une execption si on a le même nombre de bins pour les deux\n",
    "\n",
    "def conv_mask_true(mask, erec, etrue):\n",
    "    # mask est une carte WcsNDMap de booléens\n",
    "    # erec et etrue sont des energy axis avec des edges et nbins a priori différents\n",
    "    \n",
    "    mask_true = mask.copy()\n",
    "    \n",
    "    # besoin d'une fonction qui pour un pixel regarde le dernièr bin en énergie rec masqué, et associe une liste de bin en énergie vraie masquée adéquatement"
   ]
  },
  {
   "cell_type": "code",
   "execution_count": null,
   "metadata": {
    "jupyter": {
     "source_hidden": true
    }
   },
   "outputs": [],
   "source": [
    "# Pour info, méthode stack de la classe WcsNDMap\n",
    "\n",
    "def stack(self, other, weights=None):\n",
    "        \"\"\"Stack cutout into map.\n",
    "\n",
    "        Parameters\n",
    "        ----------\n",
    "        other : `WcsNDMap`\n",
    "            Other map to stack\n",
    "        weights : `WcsNDMap`\n",
    "            Array to be used as weights.\n",
    "        \"\"\"\n",
    "        if self.geom == other.geom:\n",
    "            parent_slices, cutout_slices = None, None\n",
    "        elif self.geom.is_aligned(other.geom):\n",
    "            slices = other.geom.cutout_info[\"parent-slices\"]\n",
    "            parent_slices = Ellipsis, slices[0], slices[1]\n",
    "\n",
    "            slices = other.geom.cutout_info[\"cutout-slices\"]\n",
    "            cutout_slices = Ellipsis, slices[0], slices[1]\n",
    "        else:\n",
    "            raise ValueError(\n",
    "                \"Can only stack equivalent maps or cutout of the same map.\"\n",
    "            )\n",
    "\n",
    "        data = other.data[cutout_slices]\n",
    "\n",
    "        if weights is not None:\n",
    "            data = data * weights.data\n",
    "\n",
    "        self.data[parent_slices] += data"
   ]
  },
  {
   "cell_type": "code",
   "execution_count": 17,
   "metadata": {},
   "outputs": [
    {
     "data": {
      "text/plain": [
       "array([False,  True,  True,  True,  True,  True,  True,  True,  True,\n",
       "        True,  True,  True,  True,  True,  True,  True,  True,  True,\n",
       "        True,  True])"
      ]
     },
     "execution_count": 17,
     "metadata": {},
     "output_type": "execute_result"
    }
   ],
   "source": [
    "mapdataset_dict[2006].mask_safe.data[:,250,250]"
   ]
  },
  {
   "cell_type": "code",
   "execution_count": 42,
   "metadata": {},
   "outputs": [
    {
     "name": "stdout",
     "output_type": "stream",
     "text": [
      "[  0.7          0.89710471   1.14970981   1.47344298   1.88833234\n",
      "   2.42004549   3.10147745   3.97478577   5.09399863   6.5283574\n",
      "   8.36660027  10.72245218  13.74166054  17.61101204  22.56988842\n",
      "  28.92507609  37.06974581  47.50777665  60.88492901  78.02879533\n",
      " 100.        ] TeV\n"
     ]
    }
   ],
   "source": [
    "print(energy_axis.edges)"
   ]
  },
  {
   "cell_type": "code",
   "execution_count": null,
   "metadata": {},
   "outputs": [],
   "source": [
    "# Pour masquer plus de bins que ce que fait le mask safe\n",
    "\n",
    "mask = dataset.mask_safe.copy()\n",
    "mask.data[0:3,:,:]=False\n",
    "dataset.mask_fit = mask"
   ]
  },
  {
   "cell_type": "markdown",
   "metadata": {},
   "source": [
    "Sauvegarde des mapdatasets"
   ]
  },
  {
   "cell_type": "code",
   "execution_count": 22,
   "metadata": {},
   "outputs": [],
   "source": [
    "from pathlib import Path\n",
    "\n",
    "#path = Path(\"../../../gamapy_data/mapdataset_hess/mapsdataset_hap-hd_zeta\")\n",
    "#path.mkdir(exist_ok=True)\n",
    "\n",
    "for year in range(2004,2020):\n",
    "    \n",
    "    filename = \"../../../gammapy_data/mapdataset_hess/mapsdataset_hap-hd_ImPACT_90arcmin_zen40//mapdataset\" +str(year)+\".fits.gz\"\n",
    "    mapdataset_dict[year].write(filename, overwrite=True)"
   ]
  },
  {
   "cell_type": "code",
   "execution_count": null,
   "metadata": {},
   "outputs": [],
   "source": []
  }
 ],
 "metadata": {
  "kernelspec": {
   "display_name": "Python 3",
   "language": "python",
   "name": "python3"
  },
  "language_info": {
   "codemirror_mode": {
    "name": "ipython",
    "version": 3
   },
   "file_extension": ".py",
   "mimetype": "text/x-python",
   "name": "python",
   "nbconvert_exporter": "python",
   "pygments_lexer": "ipython3",
   "version": "3.7.0"
  }
 },
 "nbformat": 4,
 "nbformat_minor": 4
}
