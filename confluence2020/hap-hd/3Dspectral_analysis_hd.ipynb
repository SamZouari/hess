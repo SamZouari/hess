{
 "cells": [
  {
   "cell_type": "markdown",
   "metadata": {},
   "source": [
    "# 3D spectral analysis of HESS J1745-290 (with HAP-fr)"
   ]
  },
  {
   "cell_type": "code",
   "execution_count": 169,
   "metadata": {},
   "outputs": [
    {
     "data": {
      "text/plain": [
       "'0.15'"
      ]
     },
     "execution_count": 169,
     "metadata": {},
     "output_type": "execute_result"
    }
   ],
   "source": [
    "%matplotlib inline\n",
    "import matplotlib.pyplot as plt\n",
    "import numpy as np\n",
    "from scipy.stats import norm\n",
    "\n",
    "import astropy.units as u\n",
    "from astropy.coordinates import SkyCoord, Angle\n",
    "from astropy.convolution import Tophat2DKernel\n",
    "from regions import CircleSkyRegion, RectangleSkyRegion\n",
    "\n",
    "from gammapy.detect import compute_lima_on_off_image,compute_lima_image # quelle différence entre les deux ?\n",
    "from gammapy.data import DataStore\n",
    "from gammapy.irf import make_mean_psf\n",
    "from gammapy.maps import Map, MapAxis, WcsGeom\n",
    "from gammapy.cube import (\n",
    "    MapDatasetMaker,\n",
    "    PSFKernel,\n",
    "    MapDataset,\n",
    "    RingBackgroundMaker,\n",
    "    SafeMaskMaker,\n",
    "    #RingBackgroundEstimator,\n",
    ")\n",
    "from gammapy.modeling.models import (\n",
    "    SkyModel,\n",
    "    SkyModels,\n",
    "    BackgroundModel,\n",
    "    PowerLawSpectralModel,\n",
    "    PowerLaw2SpectralModel,\n",
    "    PointSpatialModel,\n",
    "    ExpCutoffPowerLawSpectralModel,\n",
    "    SkyDiffuseCube,\n",
    "    TemplateSpatialModel,\n",
    "    GaussianSpatialModel\n",
    ")\n",
    "from gammapy.stats import significance, excess # utiles ?\n",
    "\n",
    "from gammapy.modeling import Fit, Datasets\n",
    "from astropy.time import Time\n",
    "\n",
    "src_pos = SkyCoord(359.94, -0.04, unit=\"deg\", frame=\"galactic\")\n",
    "\n",
    "import gammapy\n",
    "gammapy.__version__"
   ]
  },
  {
   "cell_type": "code",
   "execution_count": 170,
   "metadata": {},
   "outputs": [],
   "source": [
    "from pathlib import Path\n",
    "\n",
    "# General path (to select which analysis/set of data we work with)\n",
    "path = Path(\"../../../../gammapy_data/GC_variability2020_full/hap-hd\")\n",
    "path.mkdir(exist_ok=True)\n",
    "\n",
    "# To find the model template\n",
    "pathm = Path(path/\"models\")\n",
    "pathm.mkdir(exist_ok=True)\n",
    "\n",
    "model_name = pathm/\"models_template_2cutoff.yaml\"\n",
    "\n",
    "# Directory for outputs\n",
    "path3d = Path(path/\"3Dspectra\")\n",
    "path3d.mkdir(exist_ok=True)"
   ]
  },
  {
   "cell_type": "code",
   "execution_count": 171,
   "metadata": {},
   "outputs": [],
   "source": [
    "pathtry = Path(path3d/\"2amps_2indexes_2cutoff_bis\")\n",
    "pathtry.mkdir(exist_ok=True)"
   ]
  },
  {
   "cell_type": "markdown",
   "metadata": {},
   "source": [
    "## Creating the geometry"
   ]
  },
  {
   "cell_type": "code",
   "execution_count": 172,
   "metadata": {},
   "outputs": [],
   "source": [
    "emin, emax = [0.5, 100] * u.TeV\n",
    "\n",
    "e_bins = 20\n",
    "\n",
    "energy_axis = MapAxis.from_bounds(\n",
    "    emin.value, emax.value, e_bins, unit=\"TeV\", name=\"energy\", interp=\"log\"\n",
    ")\n",
    "geom = WcsGeom.create(\n",
    "    skydir=(0, 0),\n",
    "    binsz=0.02,\n",
    "    width=(10, 8),\n",
    "    coordsys=\"GAL\",\n",
    "    proj=\"CAR\",\n",
    "    axes=[energy_axis],\n",
    ")\n",
    "\n",
    "geom2d = WcsGeom.create(\n",
    "    skydir=(0, 0),\n",
    "    binsz=0.02,\n",
    "    width=(10, 8),\n",
    "    coordsys=\"GAL\",\n",
    "    proj=\"CAR\",\n",
    ")\n",
    "\n",
    "emintrue, emaxtrue = [0.3,200] * u.TeV\n",
    "e_bins_true = 30\n",
    "\n",
    "energy_axis_true = MapAxis.from_bounds(\n",
    "    emintrue.value, emaxtrue.value, e_bins_true, unit=\"TeV\", name=\"energy\", interp=\"log\"\n",
    ")"
   ]
  },
  {
   "cell_type": "code",
   "execution_count": 173,
   "metadata": {},
   "outputs": [],
   "source": [
    "# Creating the total dataset (potentially useless)\n",
    "\n",
    "mapdataset_tot = MapDataset.create(geom=geom, energy_axis_true=energy_axis_true)\n",
    "\n",
    "filename = \"mapdatasets/mapdataset_tot.fits.gz\"\n",
    "mapdataset_tot = MapDataset.read(path/filename)"
   ]
  },
  {
   "cell_type": "code",
   "execution_count": 174,
   "metadata": {},
   "outputs": [],
   "source": [
    "# Creating the three period datasets\n",
    "\n",
    "mapdataset_hess1 = MapDataset.create(geom=geom, energy_axis_true=energy_axis_true)\n",
    "\n",
    "filename = \"mapdatasets/mapdataset_hess1.fits.gz\"\n",
    "mapdataset_hess1 = MapDataset.read(path/filename)\n",
    "\n",
    "\n",
    "mapdataset_hess2 = MapDataset.create(geom=geom, energy_axis_true=energy_axis_true)\n",
    "\n",
    "filename = \"mapdatasets/mapdataset_hess2.fits.gz\"\n",
    "mapdataset_hess2 = MapDataset.read(path/filename)\n",
    "\n",
    "\n",
    "mapdataset_hess1u = MapDataset.create(geom=geom, energy_axis_true=energy_axis_true)\n",
    "\n",
    "filename = \"mapdatasets/mapdataset_hess1u.fits.gz\"\n",
    "mapdataset_hess1u = MapDataset.read(path/filename)"
   ]
  },
  {
   "cell_type": "markdown",
   "metadata": {},
   "source": [
    "## Reading the model template"
   ]
  },
  {
   "cell_type": "code",
   "execution_count": 175,
   "metadata": {},
   "outputs": [],
   "source": [
    "modelGC,modelG09, model_diff = SkyModels.read(model_name)"
   ]
  },
  {
   "cell_type": "markdown",
   "metadata": {},
   "source": [
    "## Setting which parameters will vary"
   ]
  },
  {
   "cell_type": "code",
   "execution_count": 176,
   "metadata": {},
   "outputs": [],
   "source": [
    "modelGC.parameters[\"index\"].frozen = False\n",
    "modelGC.parameters[\"index\"].value = 1.87\n",
    "\n",
    "modelGC.parameters[\"lon_0\"].frozen = True\n",
    "modelGC.parameters[\"lat_0\"].frozen = True\n",
    "modelGC.parameters[\"amplitude\"].frozen = False\n",
    "modelGC.parameters[\"reference\"].frozen = True \n",
    "\n",
    "modelG09.parameters[\"index\"].frozen = True\n",
    "modelG09.parameters[\"lon_0\"].frozen = True\n",
    "modelG09.parameters[\"lat_0\"].frozen = True\n",
    "modelG09.parameters[\"amplitude\"].frozen = False\n",
    "\n",
    "model_diff.parameters[\"index\"].frozen = False\n",
    "model_diff.parameters[\"index\"].value = 2.32\n",
    "\n",
    "model_diff.parameters[\"norm\"].frozen = True\n",
    "model_diff.parameters[\"amplitude\"].frozen = False\n",
    "model_diff.parameters[\"reference\"].frozen = True"
   ]
  },
  {
   "cell_type": "code",
   "execution_count": 177,
   "metadata": {},
   "outputs": [],
   "source": [
    "# if there are cutoffs in the spectra\n",
    "\n",
    "modelGC.parameters[\"lambda_\"].frozen = False\n",
    "modelGC.parameters[\"lambda_\"].value = 1/8.0\n",
    "model_diff.parameters[\"lambda_\"].frozen = False\n",
    "model_diff.parameters[\"lambda_\"].value = 1/20"
   ]
  },
  {
   "cell_type": "markdown",
   "metadata": {},
   "source": [
    "## Constructing the mask"
   ]
  },
  {
   "cell_type": "code",
   "execution_count": 178,
   "metadata": {},
   "outputs": [],
   "source": [
    "fit_region = RectangleSkyRegion(src_pos, 4*u.deg, 2*u.deg)\n",
    "\n",
    "#éventuellement étendre le masque\n",
    "\n",
    "J1745_303_region = CircleSkyRegion(SkyCoord(358.6,  -0.6, unit=\"deg\", frame=\"galactic\"), 0.5 * u.deg)\n",
    "\n",
    "fit_mask = geom.region_mask([fit_region])*geom.region_mask([J1745_303_region] , inside=False)\n",
    "\n",
    "fit_mask = Map.from_geom(geom, data=fit_mask)"
   ]
  },
  {
   "cell_type": "markdown",
   "metadata": {},
   "source": [
    "## Function used to fit a given dataset"
   ]
  },
  {
   "cell_type": "code",
   "execution_count": 179,
   "metadata": {},
   "outputs": [],
   "source": [
    "def fit_dataset(fit):\n",
    "\n",
    "    result = fit.run()\n",
    "    \n",
    "    table = result.parameters.to_table()\n",
    "    \n",
    "    return table, result"
   ]
  },
  {
   "cell_type": "markdown",
   "metadata": {},
   "source": [
    "# Fitting the many datasets"
   ]
  },
  {
   "cell_type": "markdown",
   "metadata": {},
   "source": [
    "Stacking all three datasets tends to give poor results, trying to fit HESS1+2 on the one hand, and HESS1U on the other might be more succesful."
   ]
  },
  {
   "cell_type": "markdown",
   "metadata": {},
   "source": [
    "### Fitting the dataset for each period separately"
   ]
  },
  {
   "cell_type": "code",
   "execution_count": 180,
   "metadata": {},
   "outputs": [],
   "source": [
    "#%%time\n",
    "\n",
    "#mapdataset_hess1.fit_mask = fit_mask\n",
    "#mapdataset_hess1.models =  modelGC.copy() + modelG09.copy()+ model_diff.copy()\n",
    "#mapdataset_hess1.background_model.parameters['norm'].value = 1.0\n",
    "\n",
    "#mapdataset_hess2.fit_mask = fit_mask\n",
    "#mapdataset_hess2.models =  modelGC.copy() + modelG09.copy()+ model_diff.copy()\n",
    "#mapdataset_hess2.background_model.parameters['norm'].value = 1.0\n",
    "\n",
    "#mapdataset_hess1u.fit_mask = fit_mask\n",
    "#mapdataset_hess1u.models =  modelGC.copy() + modelG09.copy()+ model_diff.copy()\n",
    "#mapdataset_hess1u.background_model.parameters['norm'].value = 1.0\n",
    "\n",
    "#fit1 = Fit([mapdataset_hess1])\n",
    "#table1,  result1 = fit_dataset(fit1)\n",
    "\n",
    "#models_hess1 = mapdataset_hess1.models.copy()\n",
    "\n",
    "#fit2 = Fit([mapdataset_hess2])\n",
    "#table2,  result2 = fit_dataset(fit2)\n",
    "\n",
    "#models_hess2 = mapdataset_hess2.models.copy()\n",
    "\n",
    "#fit1u = Fit([mapdataset_hess1u])\n",
    "#table1u,  result1u = fit_dataset(fit1u)\n",
    "\n",
    "#models_hess1u = mapdataset_hess1u.models.copy()"
   ]
  },
  {
   "cell_type": "markdown",
   "metadata": {},
   "source": [
    "### Fitting the joint dataset"
   ]
  },
  {
   "cell_type": "code",
   "execution_count": 181,
   "metadata": {},
   "outputs": [
    {
     "name": "stdout",
     "output_type": "stream",
     "text": [
      "CPU times: user 16min 13s, sys: 734 ms, total: 16min 14s\n",
      "Wall time: 16min 14s\n"
     ]
    }
   ],
   "source": [
    "%%time\n",
    "\n",
    "joint_dataset = [mapdataset_hess1, mapdataset_hess2, mapdataset_hess1u]\n",
    "models_joint =  modelGC.copy() + modelG09.copy()+ model_diff.copy()\n",
    "for dataset in joint_dataset:\n",
    "    dataset.models = models_joint\n",
    "    dataset.fit_mask = fit_mask\n",
    "    dataset.background_model.parameters['norm'].value = 1.0\n",
    "\n",
    "fit_joint = Fit(joint_dataset)\n",
    "table_joint, result_joint = fit_dataset(fit_joint)\n",
    "\n"
   ]
  },
  {
   "cell_type": "markdown",
   "metadata": {},
   "source": [
    "### Fitting the stacked dataset"
   ]
  },
  {
   "cell_type": "markdown",
   "metadata": {},
   "source": [
    "### Fitting the 'total dataset' (probably the same as above) "
   ]
  },
  {
   "cell_type": "code",
   "execution_count": 182,
   "metadata": {},
   "outputs": [],
   "source": [
    "#%%time\n",
    "\n",
    "#mapdataset_tot.fit_mask = fit_mask\n",
    "#mapdataset_tot.models =  modelGC.copy() + modelG09.copy()+ model_diff.copy()\n",
    "#mapdataset_tot.background_model.parameters['norm'].value = 1.0\n",
    "\n",
    "\n",
    "#fit_tot = Fit([mapdataset_tot])\n",
    "#table_tot, result_tot = fit_dataset(fit_tot)"
   ]
  },
  {
   "cell_type": "markdown",
   "metadata": {},
   "source": [
    "### Adding (covariance computed) errors to the model objects, shouldn't be necessary post-0.15 versions"
   ]
  },
  {
   "cell_type": "code",
   "execution_count": 183,
   "metadata": {},
   "outputs": [],
   "source": [
    "#models_hess1[0].spectral_model.parameters.covariance = (\n",
    "#    result1.parameters.covariance[2:7,2:7])\n",
    "\n",
    "#models_hess1[2].spectral_model.parameters.covariance = (\n",
    "#    result1.parameters.covariance[13:18,13:18])\n",
    "\n",
    "\n",
    "#models_hess2[0].spectral_model.parameters.covariance = (\n",
    "#    result2.parameters.covariance[2:7,2:7])\n",
    "\n",
    "#models_hess2[2].spectral_model.parameters.covariance = (\n",
    "#    result2.parameters.covariance[13:18,13:18])\n",
    "\n",
    "\n",
    "#models_hess1u[0].spectral_model.parameters.covariance = (\n",
    "#    result1u.parameters.covariance[2:7,2:7])\n",
    "\n",
    "#models_hess1u[2].spectral_model.parameters.covariance = (\n",
    "#    result1u.parameters.covariance[13:18,13:18])"
   ]
  },
  {
   "cell_type": "code",
   "execution_count": 184,
   "metadata": {},
   "outputs": [],
   "source": [
    "#mapdataset_tot.models[0].spectral_model.parameters.covariance = (\n",
    "#    result_tot.parameters.covariance[2:7,2:7])\n",
    "\n",
    "#mapdataset_tot.models[2].spectral_model.parameters.covariance = (\n",
    "#    result_tot.parameters.covariance[13:18,13:18])"
   ]
  },
  {
   "cell_type": "code",
   "execution_count": 185,
   "metadata": {},
   "outputs": [],
   "source": [
    "models_joint[0].spectral_model.parameters.covariance = (\n",
    "    result_joint.parameters.covariance[2:7,2:7])\n",
    "\n",
    "models_joint[2].spectral_model.parameters.covariance = (\n",
    "    result_joint.parameters.covariance[13:18,13:18])"
   ]
  },
  {
   "cell_type": "markdown",
   "metadata": {},
   "source": [
    "## Results"
   ]
  },
  {
   "cell_type": "markdown",
   "metadata": {},
   "source": [
    "### Spectrum"
   ]
  },
  {
   "cell_type": "code",
   "execution_count": 186,
   "metadata": {},
   "outputs": [],
   "source": [
    "def plot_spectrum(models, path ,namefile, name):\n",
    "    plt.figure(figsize=(12,8))\n",
    "    plot_kwargs = {\n",
    "        \"energy_range\": [0.1, 30] * u.TeV,\n",
    "        \"energy_power\": 2,\n",
    "        \"flux_unit\": \"erg-1 cm-2 s-1\",\n",
    "    }\n",
    "\n",
    "    ## central source\n",
    "    index = models[0].spectral_model.parameters[\"index\"].value\n",
    "    amp = models[0].spectral_model.parameters[\"amplitude\"].value\n",
    "    \n",
    "    if models[0].spectral_model.parameters[\"lambda_\"].value != 0:\n",
    "        cutoff = 1/models[0].spectral_model.parameters[\"lambda_\"].value\n",
    "        models[0].spectral_model.plot(\n",
    "        **plot_kwargs, label=r\"diffuse      : index = {0:03.3f} , amplitude = {1:03.2f}e-12 (cm^2 s TeV)^-1, cutoff = {2:03.3f} TeV\".format(index, 10**12*amp, cutoff))\n",
    "    else :  \n",
    "        models[0].spectral_model.plot(\n",
    "        **plot_kwargs, label=r\"diffuse      : index = {0:03.3f} , amplitude = {1:03.2f}e-12 (cm^2 s TeV)^-1\".format(index, 10**12*amp ))\n",
    "    models[0].spectral_model.plot_error(**plot_kwargs)\n",
    "\n",
    "    \n",
    "    ## diffuse model\n",
    "    index = models[2].spectral_model.parameters[\"index\"].value\n",
    "    amp = models[2].spectral_model.parameters[\"amplitude\"].value\n",
    "    \n",
    "    if models[2].spectral_model.parameters[\"lambda_\"].value != 0:\n",
    "        cutoff = 1/models[2].spectral_model.parameters[\"lambda_\"].value\n",
    "        models[2].spectral_model.plot(\n",
    "        **plot_kwargs, label=r\"diffuse      : index = {0:03.3f} , amplitude = {1:03.2f}e-12 (cm^2 s TeV)^-1, cutoff = {2:03.3f} TeV\".format(index, 10**12*amp, cutoff ))\n",
    "    else :  \n",
    "        models[2].spectral_model.plot(\n",
    "        **plot_kwargs, label=r\"diffuse      : index = {0:03.3f} , amplitude = {1:03.2f}e-12 (cm^2 s TeV)^-1\".format(index, 10**12*amp ))\n",
    "    models[2].spectral_model.plot_error(**plot_kwargs)\n",
    "\n",
    "    plt.title(\"Spectral models fitted for a constant GC source (\" + name + \")\")\n",
    "    plt.legend()\n",
    "    plt.savefig(path/namefile)"
   ]
  },
  {
   "cell_type": "code",
   "execution_count": 187,
   "metadata": {},
   "outputs": [],
   "source": [
    "#plot_spectrum(mapdataset_tot.models, pathtry,\"stacked_model_2cutoff_hd.pdf\", \"stacked\")"
   ]
  },
  {
   "cell_type": "code",
   "execution_count": 188,
   "metadata": {},
   "outputs": [
    {
     "data": {
      "image/png": "[encoded data removed]",
      "text/plain": [
       "<Figure size 864x576 with 1 Axes>"
      ]
     },
     "metadata": {
      "needs_background": "light"
     },
     "output_type": "display_data"
    }
   ],
   "source": [
    "plot_spectrum(models_joint, pathtry,\"joint_model_2cutoff_hd.pdf\", \"joint\")"
   ]
  },
  {
   "cell_type": "markdown",
   "metadata": {},
   "source": [
    "## Flux points"
   ]
  },
  {
   "cell_type": "code",
   "execution_count": 189,
   "metadata": {},
   "outputs": [],
   "source": [
    "from gammapy.spectrum import FluxPoints, FluxPointsDataset, FluxPointsEstimator"
   ]
  },
  {
   "cell_type": "code",
   "execution_count": 190,
   "metadata": {},
   "outputs": [],
   "source": [
    "def FluxPointsFitting(dataset, e_edges):\n",
    "    # this function has to be given the number of the source model in case of multiple models\n",
    "    # more parameters exist to initialise the estimator\n",
    "    fpe = FluxPointsEstimator(datasets=dataset, e_edges=e_edges, source=0) \n",
    "    flux_points = fpe.run()\n",
    "    return flux_points"
   ]
  },
  {
   "cell_type": "code",
   "execution_count": 191,
   "metadata": {},
   "outputs": [],
   "source": [
    "e_min, e_max = 0.5, 30\n",
    "e_edges = np.logspace(np.log10(e_min), np.log10(e_max), 11) * u.TeV"
   ]
  },
  {
   "cell_type": "code",
   "execution_count": 192,
   "metadata": {},
   "outputs": [],
   "source": [
    "flux_points = FluxPointsFitting(joint_dataset, e_edges)"
   ]
  },
  {
   "cell_type": "code",
   "execution_count": 193,
   "metadata": {},
   "outputs": [],
   "source": [
    "flux_points_dataset = FluxPointsDataset(\n",
    "    data=flux_points, models=models_joint[0]\n",
    ")"
   ]
  },
  {
   "cell_type": "code",
   "execution_count": 194,
   "metadata": {},
   "outputs": [
    {
     "data": {
      "image/png": "[encoded data removed]",
      "text/plain": [
       "<Figure size 720x576 with 2 Axes>"
      ]
     },
     "metadata": {
      "needs_background": "light"
     },
     "output_type": "display_data"
    }
   ],
   "source": [
    "plt.figure(figsize=(10, 8))\n",
    "flux_points_dataset.peek();\n",
    "plt.savefig(pathtry/\"fluxpoints_v_model_joint.pdf\")"
   ]
  },
  {
   "cell_type": "markdown",
   "metadata": {},
   "source": [
    "## Properly estimating the error on parameters (using likelihood)"
   ]
  },
  {
   "cell_type": "code",
   "execution_count": 195,
   "metadata": {},
   "outputs": [],
   "source": [
    "with open(pathtry/'errors.txt', \"a\") as out:\n",
    "    out.write(\"\")"
   ]
  },
  {
   "cell_type": "code",
   "execution_count": 196,
   "metadata": {},
   "outputs": [
    {
     "name": "stdout",
     "output_type": "stream",
     "text": [
      "CPU times: user 14min 57s, sys: 5.23 s, total: 15min 2s\n",
      "Wall time: 15min 3s\n"
     ]
    }
   ],
   "source": [
    "%%time\n",
    "\n",
    "param = models_joint[0].spectral_model.parameters[\"index\"]\n",
    "\n",
    "if param.frozen == False:\n",
    "    fit = Fit(joint_dataset)\n",
    "\n",
    "    fit.optimize()\n",
    "    confresult = fit.confidence(parameter = param, sigma=1)\n",
    "    \n",
    "    with open(pathtry/'errors.txt', \"a\") as out:\n",
    "        out.write(\n",
    "            \"GC index = {0:03.3f}, errp = {1:03.3f}, errn = {2:03.3f}, err_naive = {3:03.3f}\".format(\n",
    "                param.value, confresult['errp'], confresult['errp'], table_joint['error'][2]\n",
    "            )  + \"\\n\"\n",
    "        )"
   ]
  },
  {
   "cell_type": "code",
   "execution_count": 197,
   "metadata": {},
   "outputs": [
    {
     "name": "stdout",
     "output_type": "stream",
     "text": [
      "CPU times: user 14min 46s, sys: 636 ms, total: 14min 47s\n",
      "Wall time: 14min 46s\n"
     ]
    }
   ],
   "source": [
    "%%time\n",
    "\n",
    "param = models_joint[2].spectral_model.parameters[\"index\"]\n",
    "\n",
    "if param.frozen == False:\n",
    "    fit = Fit(joint_dataset)\n",
    "\n",
    "    fit.optimize()\n",
    "    confresult = fit.confidence(parameter = param, sigma=1)\n",
    "\n",
    "    with open(pathtry/'errors.txt', \"a\") as out:\n",
    "        out.write(\n",
    "            \"DE index = {0:03.3f}, errp = {1:03.3f}, errn = {2:03.3f}, err_naive = {3:03.3f}\".format(\n",
    "                param.value, confresult['errp'], confresult['errp'], table_joint['error'][13]\n",
    "            )  + \"\\n\"\n",
    "        )"
   ]
  },
  {
   "cell_type": "code",
   "execution_count": 198,
   "metadata": {},
   "outputs": [
    {
     "name": "stdout",
     "output_type": "stream",
     "text": [
      "CPU times: user 15min 5s, sys: 602 ms, total: 15min 6s\n",
      "Wall time: 21min 42s\n"
     ]
    }
   ],
   "source": [
    "%%time\n",
    "\n",
    "param = models_joint[0].spectral_model.parameters[\"lambda_\"]\n",
    "\n",
    "if param.frozen == False:\n",
    "    fit = Fit(joint_dataset)\n",
    "\n",
    "    fit.optimize()\n",
    "    confresult = fit.confidence(parameter = param, sigma=1)\n",
    "\n",
    "    with open(pathtry/'errors.txt', \"a\") as out:\n",
    "        out.write(\n",
    "            \"GC lambda = {0:03.4f}, errp = {1:03.4f}, errn = {2:03.4f}, err_naive = {3:03.4f}\".format(\n",
    "                param.value, confresult['errp'], confresult['errp'], table_joint['error'][5]\n",
    "            )  + \"\\n\"\n",
    "        )"
   ]
  },
  {
   "cell_type": "code",
   "execution_count": 199,
   "metadata": {},
   "outputs": [
    {
     "name": "stdout",
     "output_type": "stream",
     "text": [
      "CPU times: user 15min 9s, sys: 596 ms, total: 15min 10s\n",
      "Wall time: 15min 10s\n"
     ]
    }
   ],
   "source": [
    "%%time\n",
    "\n",
    "param = models_joint[2].spectral_model.parameters[\"lambda_\"]\n",
    "\n",
    "if param.frozen == False:\n",
    "    \n",
    "    fit = Fit(joint_dataset)\n",
    "\n",
    "    fit.optimize()\n",
    "    confresult = fit.confidence(parameter = param, sigma=1)\n",
    "\n",
    "    with open(pathtry/'errors.txt', \"a\") as out:\n",
    "        out.write(\n",
    "            \"DE lambda = {0:03.4f}, errp = {1:03.4f}, errn = {2:03.4f}, err_naive = {3:03.4f}\".format(\n",
    "                param.value, confresult['errp'], confresult['errp'], table_joint['error'][16]\n",
    "            )  + \"\\n\"\n",
    "        )"
   ]
  },
  {
   "cell_type": "code",
   "execution_count": null,
   "metadata": {},
   "outputs": [],
   "source": []
  }
 ],
 "metadata": {
  "kernelspec": {
   "display_name": "Python 3",
   "language": "python",
   "name": "python3"
  },
  "language_info": {
   "codemirror_mode": {
    "name": "ipython",
    "version": 3
   },
   "file_extension": ".py",
   "mimetype": "text/x-python",
   "name": "python",
   "nbconvert_exporter": "python",
   "pygments_lexer": "ipython3",
   "version": "3.7.0"
  }
 },
 "nbformat": 4,
 "nbformat_minor": 4
}
