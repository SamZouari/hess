{
 "cells": [
  {
   "cell_type": "markdown",
   "metadata": {},
   "source": [
    "# Time Evolution"
   ]
  },
  {
   "cell_type": "code",
   "execution_count": 2,
   "metadata": {},
   "outputs": [
    {
     "data": {
      "text/plain": [
       "'0.15'"
      ]
     },
     "execution_count": 2,
     "metadata": {},
     "output_type": "execute_result"
    }
   ],
   "source": [
    "%matplotlib inline\n",
    "import matplotlib.pyplot as plt\n",
    "import numpy as np\n",
    "from scipy.stats import norm\n",
    "\n",
    "import astropy.units as u\n",
    "from astropy.coordinates import SkyCoord\n",
    "from astropy.convolution import Tophat2DKernel\n",
    "from regions import CircleSkyRegion, RectangleSkyRegion\n",
    "\n",
    "from gammapy.detect import compute_lima_on_off_image,compute_lima_image # quelle différence entre les deux ?\n",
    "from gammapy.data import DataStore\n",
    "from gammapy.irf import make_mean_psf\n",
    "from gammapy.maps import Map, MapAxis, WcsGeom\n",
    "from gammapy.cube import (\n",
    "    MapDatasetMaker,\n",
    "    PSFKernel,\n",
    "    MapDataset,\n",
    "    RingBackgroundMaker,\n",
    "    SafeMaskMaker,\n",
    "    #RingBackgroundEstimator,\n",
    ")\n",
    "from gammapy.modeling.models import (\n",
    "    SkyModel,\n",
    "    SkyModels,\n",
    "    BackgroundModel,\n",
    "    PowerLawSpectralModel,\n",
    "    PowerLaw2SpectralModel,\n",
    "    PointSpatialModel,\n",
    "    ExpCutoffPowerLawSpectralModel,\n",
    "    SkyDiffuseCube,\n",
    "    TemplateSpatialModel,\n",
    "    GaussianSpatialModel\n",
    ")\n",
    "from gammapy.stats import significance, excess # utiles ?\n",
    "\n",
    "from gammapy.modeling import Fit\n",
    "from astropy.time import Time\n",
    "\n",
    "src_pos = SkyCoord(359.94, -0.04, unit=\"deg\", frame=\"galactic\")\n",
    "\n",
    "import gammapy\n",
    "gammapy.__version__"
   ]
  },
  {
   "cell_type": "code",
   "execution_count": 3,
   "metadata": {},
   "outputs": [],
   "source": [
    "emin, emax = [0.5, 100] * u.TeV\n",
    "\n",
    "energy_axis = MapAxis.from_bounds(\n",
    "    emin.value, emax.value, 20, unit=\"TeV\", name=\"energy\", interp=\"log\"\n",
    ")\n",
    "geom = WcsGeom.create(\n",
    "    skydir=(0, 0),\n",
    "    binsz=0.02,\n",
    "    width=(10, 8),\n",
    "    coordsys=\"GAL\",\n",
    "    proj=\"CAR\",\n",
    "    axes=[energy_axis],\n",
    ")\n",
    "\n",
    "geom2d = WcsGeom.create(\n",
    "    skydir=(0, 0),\n",
    "    binsz=0.02,\n",
    "    width=(10, 8),\n",
    "    coordsys=\"GAL\",\n",
    "    proj=\"CAR\",\n",
    ")\n",
    "\n",
    "energy_axis_true = MapAxis.from_bounds(\n",
    "    0.3, 200, 30, unit=\"TeV\", name=\"energy\", interp=\"log\"\n",
    ")"
   ]
  },
  {
   "cell_type": "code",
   "execution_count": 4,
   "metadata": {},
   "outputs": [],
   "source": [
    "from pathlib import Path\n",
    "\n",
    "# Directory for outputs\n",
    "\n",
    "path = Path(\"../../../../gammapy_data/GC_variability2020_full/hap-hd\")\n",
    "path.mkdir(exist_ok=True)\n",
    "\n",
    "pathm = Path(path/\"mapdatasets\")\n",
    "pathm.mkdir(exist_ok=True)\n",
    "\n",
    "pathp = Path(path/\"parameter_stability\")\n",
    "pathp.mkdir(exist_ok=True)\n",
    "\n",
    "pathpar = Path(pathp/\"2amps_0indexes_1cutoff\")\n",
    "pathpar.mkdir(exist_ok=True)\n",
    "\n",
    "# To find the model template\n",
    "pathmo = Path(path/\"models\")\n",
    "pathmo.mkdir(exist_ok=True)\n",
    "\n",
    "model_name = pathmo/\"models_template_2cutoff.yaml\""
   ]
  },
  {
   "cell_type": "markdown",
   "metadata": {},
   "source": [
    "## Creating the datasets"
   ]
  },
  {
   "cell_type": "code",
   "execution_count": 5,
   "metadata": {},
   "outputs": [],
   "source": [
    "mapdataset_dict = {}\n",
    "\n",
    "for k in range (2004,2020):\n",
    "    name = \"map\" + str(k)\n",
    "    mapdataset_dict[k] = MapDataset.create(\n",
    "    geom=geom, energy_axis_true=energy_axis_true, name=name)\n",
    "\n",
    "for year in range(2004,2020):\n",
    "    \n",
    "    filename = \"mapdataset\" +str(year)+\".fits.gz\"\n",
    "    mapdataset_dict[year] = MapDataset.read(pathm/filename)"
   ]
  },
  {
   "cell_type": "markdown",
   "metadata": {},
   "source": [
    "## Reading the model template"
   ]
  },
  {
   "cell_type": "code",
   "execution_count": 6,
   "metadata": {},
   "outputs": [],
   "source": [
    "modelGC,modelG09, model_diff = SkyModels.read(model_name)"
   ]
  },
  {
   "cell_type": "markdown",
   "metadata": {},
   "source": [
    "## Setting which parameters will vary"
   ]
  },
  {
   "cell_type": "code",
   "execution_count": 7,
   "metadata": {},
   "outputs": [],
   "source": [
    "modelGC.parameters[\"index\"].frozen = True\n",
    "modelGC.parameters[\"index\"].value = 1.8\n",
    "modelGC.parameters[\"lon_0\"].frozen = True\n",
    "modelGC.parameters[\"lat_0\"].frozen = True\n",
    "modelGC.parameters[\"amplitude\"].frozen = False\n",
    "modelGC.parameters[\"reference\"].frozen = True \n",
    "\n",
    "modelG09.parameters[\"index\"].frozen = True\n",
    "modelG09.parameters[\"lon_0\"].frozen = True\n",
    "modelG09.parameters[\"lat_0\"].frozen = True\n",
    "modelG09.parameters[\"amplitude\"].frozen = False\n",
    "\n",
    "model_diff.parameters[\"index\"].frozen = True\n",
    "model_diff.parameters[\"index\"].value = 2.3\n",
    "model_diff.parameters[\"norm\"].frozen = True\n",
    "model_diff.parameters[\"amplitude\"].frozen = False\n",
    "model_diff.parameters[\"reference\"].frozen = True"
   ]
  },
  {
   "cell_type": "code",
   "execution_count": 8,
   "metadata": {},
   "outputs": [],
   "source": [
    "# if there are cutoffs in the spectra\n",
    "\n",
    "modelGC.parameters[\"lambda_\"].frozen = False\n",
    "model_diff.parameters[\"lambda_\"].frozen = True\n",
    "model_diff.parameters[\"lambda_\"].value = 0.0"
   ]
  },
  {
   "cell_type": "markdown",
   "metadata": {},
   "source": [
    "## Constructing the mask"
   ]
  },
  {
   "cell_type": "code",
   "execution_count": 9,
   "metadata": {},
   "outputs": [],
   "source": [
    "fit_region = RectangleSkyRegion(src_pos, 4*u.deg, 2*u.deg)\n",
    "\n",
    "J1745_303_region = CircleSkyRegion(SkyCoord(358.6,  -0.6, unit=\"deg\", frame=\"galactic\"), 0.5 * u.deg)\n",
    "\n",
    "fit_mask = geom.region_mask([fit_region])*geom.region_mask([J1745_303_region] , inside=False)\n",
    "\n",
    "fit_mask = Map.from_geom(geom, data=fit_mask)"
   ]
  },
  {
   "cell_type": "markdown",
   "metadata": {},
   "source": [
    "## Applying the mask and the model template"
   ]
  },
  {
   "cell_type": "code",
   "execution_count": 10,
   "metadata": {},
   "outputs": [],
   "source": [
    "for year in range(2004,2020):\n",
    "    mapdataset_dict[year].fit_mask = fit_mask\n",
    "    mapdataset_dict[year].models =  modelGC.copy() + modelG09.copy() +  model_diff.copy()\n",
    "    mapdataset_dict[year].background_model.parameters['norm'].value = 1.0"
   ]
  },
  {
   "cell_type": "markdown",
   "metadata": {},
   "source": [
    "# Fitting the datasets"
   ]
  },
  {
   "cell_type": "code",
   "execution_count": 11,
   "metadata": {},
   "outputs": [],
   "source": [
    "def fit_dataset(mapdataset):\n",
    "    fit = Fit([mapdataset])\n",
    "    result = fit.run()\n",
    "    \n",
    "    table = result.parameters.to_table()\n",
    "\n",
    "    rescov = fit.covariance()\n",
    "    #ampSGRA = mapdataset.models.parameters[3]\n",
    "    #ampdiff = mapdataset.models.parameters[12]\n",
    "    #normbkg = mapdataset.background_model.parameters['norm']\n",
    "    \n",
    "    #cov= rescov.parameters.get_subcovariance([ampSGRA, ampdiff, normbkg])\n",
    "    \n",
    "    return table, rescov, result"
   ]
  },
  {
   "cell_type": "code",
   "execution_count": 12,
   "metadata": {},
   "outputs": [
    {
     "name": "stdout",
     "output_type": "stream",
     "text": [
      "CPU times: user 24min 38s, sys: 2min 3s, total: 26min 41s\n",
      "Wall time: 26min 43s\n"
     ]
    }
   ],
   "source": [
    "%%time\n",
    "\n",
    "results_per_year = dict()\n",
    "results = []\n",
    "cov_per_year = dict()\n",
    "\n",
    "\n",
    "for year in range(2004,2020):\n",
    "    \n",
    "    table, cov, result = fit_dataset(mapdataset_dict[year])\n",
    "    \n",
    "    results.append(result)\n",
    "    \n",
    "    results_per_year[year] = table\n",
    "    \n",
    "    cov_per_year[year] = cov\n",
    "    "
   ]
  },
  {
   "cell_type": "code",
   "execution_count": 13,
   "metadata": {},
   "outputs": [],
   "source": [
    "years = []\n",
    "for year in range(2004,2020):\n",
    "    if results[year-2004].message =='Optimization terminated successfully.':\n",
    "        years.append(year)"
   ]
  },
  {
   "cell_type": "code",
   "execution_count": 14,
   "metadata": {},
   "outputs": [
    {
     "data": {
      "text/plain": [
       "[OptimizeResult\n",
       " \n",
       " \tbackend    : minuit\n",
       " \tmethod     : minuit\n",
       " \tsuccess    : True\n",
       " \tmessage    : Optimization terminated successfully.\n",
       " \tnfev       : 138\n",
       " \ttotal stat : 399235.78, OptimizeResult\n",
       " \n",
       " \tbackend    : minuit\n",
       " \tmethod     : minuit\n",
       " \tsuccess    : True\n",
       " \tmessage    : Optimization terminated successfully.\n",
       " \tnfev       : 138\n",
       " \ttotal stat : 504022.57, OptimizeResult\n",
       " \n",
       " \tbackend    : minuit\n",
       " \tmethod     : minuit\n",
       " \tsuccess    : True\n",
       " \tmessage    : Optimization terminated successfully.\n",
       " \tnfev       : 138\n",
       " \ttotal stat : 262238.72, OptimizeResult\n",
       " \n",
       " \tbackend    : minuit\n",
       " \tmethod     : minuit\n",
       " \tsuccess    : True\n",
       " \tmessage    : Optimization terminated successfully.\n",
       " \tnfev       : 136\n",
       " \ttotal stat : 86793.40, OptimizeResult\n",
       " \n",
       " \tbackend    : minuit\n",
       " \tmethod     : minuit\n",
       " \tsuccess    : True\n",
       " \tmessage    : Optimization terminated successfully.\n",
       " \tnfev       : 136\n",
       " \ttotal stat : 141360.20, OptimizeResult\n",
       " \n",
       " \tbackend    : minuit\n",
       " \tmethod     : minuit\n",
       " \tsuccess    : True\n",
       " \tmessage    : Optimization terminated successfully.\n",
       " \tnfev       : 138\n",
       " \ttotal stat : 64706.31, OptimizeResult\n",
       " \n",
       " \tbackend    : minuit\n",
       " \tmethod     : minuit\n",
       " \tsuccess    : True\n",
       " \tmessage    : Optimization terminated successfully.\n",
       " \tnfev       : 133\n",
       " \ttotal stat : 102340.47, OptimizeResult\n",
       " \n",
       " \tbackend    : minuit\n",
       " \tmethod     : minuit\n",
       " \tsuccess    : True\n",
       " \tmessage    : Optimization terminated successfully.\n",
       " \tnfev       : 148\n",
       " \ttotal stat : 147439.29, OptimizeResult\n",
       " \n",
       " \tbackend    : minuit\n",
       " \tmethod     : minuit\n",
       " \tsuccess    : True\n",
       " \tmessage    : Optimization terminated successfully.\n",
       " \tnfev       : 137\n",
       " \ttotal stat : 275545.89, OptimizeResult\n",
       " \n",
       " \tbackend    : minuit\n",
       " \tmethod     : minuit\n",
       " \tsuccess    : True\n",
       " \tmessage    : Optimization terminated successfully.\n",
       " \tnfev       : 138\n",
       " \ttotal stat : 288043.57, OptimizeResult\n",
       " \n",
       " \tbackend    : minuit\n",
       " \tmethod     : minuit\n",
       " \tsuccess    : True\n",
       " \tmessage    : Optimization terminated successfully.\n",
       " \tnfev       : 149\n",
       " \ttotal stat : 407857.08, OptimizeResult\n",
       " \n",
       " \tbackend    : minuit\n",
       " \tmethod     : minuit\n",
       " \tsuccess    : True\n",
       " \tmessage    : Optimization terminated successfully.\n",
       " \tnfev       : 138\n",
       " \ttotal stat : 343030.09, OptimizeResult\n",
       " \n",
       " \tbackend    : minuit\n",
       " \tmethod     : minuit\n",
       " \tsuccess    : True\n",
       " \tmessage    : Optimization terminated successfully.\n",
       " \tnfev       : 137\n",
       " \ttotal stat : 157864.51, OptimizeResult\n",
       " \n",
       " \tbackend    : minuit\n",
       " \tmethod     : minuit\n",
       " \tsuccess    : True\n",
       " \tmessage    : Optimization terminated successfully.\n",
       " \tnfev       : 136\n",
       " \ttotal stat : 123308.04, OptimizeResult\n",
       " \n",
       " \tbackend    : minuit\n",
       " \tmethod     : minuit\n",
       " \tsuccess    : True\n",
       " \tmessage    : Optimization terminated successfully.\n",
       " \tnfev       : 136\n",
       " \ttotal stat : 145819.80, OptimizeResult\n",
       " \n",
       " \tbackend    : minuit\n",
       " \tmethod     : minuit\n",
       " \tsuccess    : True\n",
       " \tmessage    : Optimization terminated successfully.\n",
       " \tnfev       : 152\n",
       " \ttotal stat : 375560.44]"
      ]
     },
     "execution_count": 14,
     "metadata": {},
     "output_type": "execute_result"
    }
   ],
   "source": [
    "results"
   ]
  },
  {
   "cell_type": "code",
   "execution_count": 15,
   "metadata": {},
   "outputs": [
    {
     "data": {
      "text/html": [
       "<i>Table length=21</i>\n",
       "<table id=\"table140119919209664\" class=\"table-striped table-bordered table-condensed\">\n",
       "<thead><tr><th>name</th><th>value</th><th>error</th><th>unit</th><th>min</th><th>max</th><th>frozen</th></tr></thead>\n",
       "<thead><tr><th>str9</th><th>float64</th><th>float64</th><th>str14</th><th>float64</th><th>float64</th><th>bool</th></tr></thead>\n",
       "<tr><td>lon_0</td><td>3.599e+02</td><td>0.000e+00</td><td>deg</td><td>nan</td><td>nan</td><td>True</td></tr>\n",
       "<tr><td>lat_0</td><td>-4.000e-02</td><td>0.000e+00</td><td>deg</td><td>-9.000e+01</td><td>9.000e+01</td><td>True</td></tr>\n",
       "<tr><td>index</td><td>1.800e+00</td><td>0.000e+00</td><td></td><td>nan</td><td>nan</td><td>True</td></tr>\n",
       "<tr><td>amplitude</td><td>1.773e-12</td><td>1.311e-13</td><td>cm-2 s-1 TeV-1</td><td>nan</td><td>nan</td><td>False</td></tr>\n",
       "<tr><td>reference</td><td>1.000e+00</td><td>0.000e+00</td><td>TeV</td><td>nan</td><td>nan</td><td>True</td></tr>\n",
       "<tr><td>lambda_</td><td>1.303e-01</td><td>1.929e-02</td><td>TeV-1</td><td>nan</td><td>nan</td><td>False</td></tr>\n",
       "<tr><td>alpha</td><td>1.000e+00</td><td>0.000e+00</td><td></td><td>nan</td><td>nan</td><td>True</td></tr>\n",
       "<tr><td>lon_0</td><td>8.791e-01</td><td>0.000e+00</td><td>deg</td><td>nan</td><td>nan</td><td>True</td></tr>\n",
       "<tr><td>lat_0</td><td>8.930e-02</td><td>0.000e+00</td><td>deg</td><td>-9.000e+01</td><td>9.000e+01</td><td>True</td></tr>\n",
       "<tr><td>index</td><td>2.300e+00</td><td>0.000e+00</td><td></td><td>nan</td><td>nan</td><td>True</td></tr>\n",
       "<tr><td>amplitude</td><td>5.684e-13</td><td>6.190e-14</td><td>cm-2 s-1 TeV-1</td><td>nan</td><td>nan</td><td>False</td></tr>\n",
       "<tr><td>reference</td><td>1.000e+00</td><td>0.000e+00</td><td>TeV</td><td>nan</td><td>nan</td><td>True</td></tr>\n",
       "<tr><td>norm</td><td>1.000e+00</td><td>0.000e+00</td><td></td><td>nan</td><td>nan</td><td>True</td></tr>\n",
       "<tr><td>index</td><td>2.300e+00</td><td>0.000e+00</td><td></td><td>nan</td><td>nan</td><td>True</td></tr>\n",
       "<tr><td>amplitude</td><td>5.912e-12</td><td>3.220e-13</td><td>cm-2 s-1 TeV-1</td><td>nan</td><td>nan</td><td>False</td></tr>\n",
       "<tr><td>reference</td><td>1.000e+00</td><td>0.000e+00</td><td>TeV</td><td>nan</td><td>nan</td><td>True</td></tr>\n",
       "<tr><td>lambda_</td><td>0.000e+00</td><td>0.000e+00</td><td>TeV-1</td><td>nan</td><td>nan</td><td>True</td></tr>\n",
       "<tr><td>alpha</td><td>1.000e+00</td><td>0.000e+00</td><td></td><td>nan</td><td>nan</td><td>True</td></tr>\n",
       "<tr><td>norm</td><td>1.005e+00</td><td>4.057e-03</td><td></td><td>0.000e+00</td><td>nan</td><td>False</td></tr>\n",
       "<tr><td>tilt</td><td>0.000e+00</td><td>0.000e+00</td><td></td><td>nan</td><td>nan</td><td>True</td></tr>\n",
       "<tr><td>reference</td><td>1.000e+00</td><td>0.000e+00</td><td>TeV</td><td>nan</td><td>nan</td><td>True</td></tr>\n",
       "</table>"
      ],
      "text/plain": [
       "<Table length=21>\n",
       "   name     value      error        unit         min        max    frozen\n",
       "   str9    float64    float64      str14       float64    float64   bool \n",
       "--------- ---------- --------- -------------- ---------- --------- ------\n",
       "    lon_0  3.599e+02 0.000e+00            deg        nan       nan   True\n",
       "    lat_0 -4.000e-02 0.000e+00            deg -9.000e+01 9.000e+01   True\n",
       "    index  1.800e+00 0.000e+00                       nan       nan   True\n",
       "amplitude  1.773e-12 1.311e-13 cm-2 s-1 TeV-1        nan       nan  False\n",
       "reference  1.000e+00 0.000e+00            TeV        nan       nan   True\n",
       "  lambda_  1.303e-01 1.929e-02          TeV-1        nan       nan  False\n",
       "    alpha  1.000e+00 0.000e+00                       nan       nan   True\n",
       "    lon_0  8.791e-01 0.000e+00            deg        nan       nan   True\n",
       "    lat_0  8.930e-02 0.000e+00            deg -9.000e+01 9.000e+01   True\n",
       "    index  2.300e+00 0.000e+00                       nan       nan   True\n",
       "amplitude  5.684e-13 6.190e-14 cm-2 s-1 TeV-1        nan       nan  False\n",
       "reference  1.000e+00 0.000e+00            TeV        nan       nan   True\n",
       "     norm  1.000e+00 0.000e+00                       nan       nan   True\n",
       "    index  2.300e+00 0.000e+00                       nan       nan   True\n",
       "amplitude  5.912e-12 3.220e-13 cm-2 s-1 TeV-1        nan       nan  False\n",
       "reference  1.000e+00 0.000e+00            TeV        nan       nan   True\n",
       "  lambda_  0.000e+00 0.000e+00          TeV-1        nan       nan   True\n",
       "    alpha  1.000e+00 0.000e+00                       nan       nan   True\n",
       "     norm  1.005e+00 4.057e-03                 0.000e+00       nan  False\n",
       "     tilt  0.000e+00 0.000e+00                       nan       nan   True\n",
       "reference  1.000e+00 0.000e+00            TeV        nan       nan   True"
      ]
     },
     "execution_count": 15,
     "metadata": {},
     "output_type": "execute_result"
    }
   ],
   "source": [
    "table"
   ]
  },
  {
   "cell_type": "markdown",
   "metadata": {},
   "source": [
    "# Extracting parameters (only one cell to run)"
   ]
  },
  {
   "cell_type": "code",
   "execution_count": 19,
   "metadata": {
    "jupyter": {
     "source_hidden": true
    }
   },
   "outputs": [],
   "source": [
    "# Spectral models without cutoffs (indexes fixed)\n",
    "\n",
    "ampsGC = []\n",
    "ampsGC_err = []\n",
    "ampsdiff = []\n",
    "ampsdiff_err = []\n",
    "norms = []\n",
    "norms_err = []\n",
    "\n",
    "\n",
    "for year in years:\n",
    "\n",
    "    ampsGC.append(results_per_year[year]['value'][3])\n",
    "    ampsGC_err.append(results_per_year[year]['error'][3])\n",
    "    ampsdiff.append(results_per_year[year]['value'][12])\n",
    "    ampsdiff_err.append(results_per_year[year]['error'][12])\n",
    "   \n",
    "    norms.append(results_per_year[year]['value'][14])\n",
    "    norms_err.append(results_per_year[year]['error'][14])"
   ]
  },
  {
   "cell_type": "code",
   "execution_count": 131,
   "metadata": {
    "jupyter": {
     "source_hidden": true
    }
   },
   "outputs": [],
   "source": [
    "# Spectral models without cutoffs (indexes unfrozen)\n",
    "\n",
    "indexGC = []\n",
    "indexGC_err = []\n",
    "ampsGC = []\n",
    "ampsGC_err = []\n",
    "\n",
    "\n",
    "indexdiff = []\n",
    "indexdiff_err = []\n",
    "ampsdiff = []\n",
    "ampsdiff_err = []\n",
    "norms = []\n",
    "norms_err = []\n",
    "\n",
    "\n",
    "for year in years:\n",
    "    indexGC.append(results_per_year[year]['value'][2])\n",
    "    indexGC_err.append(results_per_year[year]['error'][2])\n",
    "    ampsGC.append(results_per_year[year]['value'][3])\n",
    "    ampsGC_err.append(results_per_year[year]['error'][3])\n",
    "    \n",
    "    indexdiff.append(results_per_year[year]['value'][11])\n",
    "    indexdiff_err.append(results_per_year[year]['error'][11])\n",
    "    ampsdiff.append(results_per_year[year]['value'][12])\n",
    "    ampsdiff_err.append(results_per_year[year]['error'][12])\n",
    "   \n",
    "    norms.append(results_per_year[year]['value'][14])\n",
    "    norms_err.append(results_per_year[year]['error'][14])"
   ]
  },
  {
   "cell_type": "code",
   "execution_count": 46,
   "metadata": {
    "jupyter": {
     "source_hidden": true
    }
   },
   "outputs": [],
   "source": [
    "# Spectral models with a cutoff for the central source (both indexes unfrozen)\n",
    "\n",
    "indexGC = []\n",
    "indexGC_err = []\n",
    "ampsGC = []\n",
    "ampsGC_err = []\n",
    "lambdaGC = []\n",
    "lambdaGC_err = []\n",
    "\n",
    "indexdiff = []\n",
    "indexdiff_err = []\n",
    "ampsdiff = []\n",
    "ampsdiff_err = []\n",
    "\n",
    "norms = []\n",
    "norms_err = []\n",
    "\n",
    "\n",
    "for year in years:\n",
    "\n",
    "    indexGC.append(results_per_year[year]['value'][2])\n",
    "    indexGC_err.append(results_per_year[year]['error'][2])\n",
    "    ampsGC.append(results_per_year[year]['value'][3])\n",
    "    ampsGC_err.append(results_per_year[year]['error'][3])\n",
    "    lambdaGC.append(results_per_year[year]['value'][5])\n",
    "    lambdaGC_err.append(results_per_year[year]['error'][5])\n",
    "    \n",
    "    indexdiff.append(results_per_year[year]['value'][13])\n",
    "    indexdiff_err.append(results_per_year[year]['error'][13])    \n",
    "    ampsdiff.append(results_per_year[year]['value'][14])\n",
    "    ampsdiff_err.append(results_per_year[year]['error'][14])\n",
    "   \n",
    "    norms.append(results_per_year[year]['value'][18])\n",
    "    norms_err.append(results_per_year[year]['error'][18])"
   ]
  },
  {
   "cell_type": "code",
   "execution_count": 16,
   "metadata": {},
   "outputs": [],
   "source": [
    "# Spectral models with 2 cutoffs (both indexes unfrozen)\n",
    "\n",
    "indexGC = []\n",
    "indexGC_err = []\n",
    "ampsGC = []\n",
    "ampsGC_err = []\n",
    "lambdaGC = []\n",
    "lambdaGC_err = []\n",
    "\n",
    "indexdiff = []\n",
    "indexdiff_err = []\n",
    "ampsdiff = []\n",
    "ampsdiff_err = []\n",
    "lambdadiff = []\n",
    "lambdadiff_err = []\n",
    "\n",
    "norms = []\n",
    "norms_err = []\n",
    "\n",
    "\n",
    "for year in years:\n",
    "\n",
    "    indexGC.append(results_per_year[year]['value'][2])\n",
    "    indexGC_err.append(results_per_year[year]['error'][2])\n",
    "    ampsGC.append(results_per_year[year]['value'][3])\n",
    "    ampsGC_err.append(results_per_year[year]['error'][3])\n",
    "    lambdaGC.append(results_per_year[year]['value'][5])\n",
    "    lambdaGC_err.append(results_per_year[year]['error'][5])\n",
    "    \n",
    "    indexdiff.append(results_per_year[year]['value'][13])\n",
    "    indexdiff_err.append(results_per_year[year]['error'][13])    \n",
    "    ampsdiff.append(results_per_year[year]['value'][14])\n",
    "    ampsdiff_err.append(results_per_year[year]['error'][14])\n",
    "    lambdadiff.append(results_per_year[year]['value'][15])\n",
    "    lambdadiff_err.append(results_per_year[year]['error'][15])\n",
    "   \n",
    "    norms.append(results_per_year[year]['value'][18])\n",
    "    norms_err.append(results_per_year[year]['error'][18])"
   ]
  },
  {
   "cell_type": "markdown",
   "metadata": {},
   "source": [
    "# Saving the results"
   ]
  },
  {
   "cell_type": "code",
   "execution_count": 197,
   "metadata": {},
   "outputs": [],
   "source": []
  },
  {
   "cell_type": "markdown",
   "metadata": {},
   "source": [
    "## Fitting a time evolution model"
   ]
  },
  {
   "cell_type": "code",
   "execution_count": 17,
   "metadata": {},
   "outputs": [],
   "source": [
    "import scipy.stats as stats\n",
    "\n",
    "from astropy.modeling import models, fitting\n",
    "\n",
    "from scipy.stats import chisquare, chi2\n",
    "\n",
    "# chi2 non réduit\n",
    "def chisq(obs, exp, error):\n",
    "    chisq = 0\n",
    "    for i in range(len(obs)):\n",
    "        chisq = chisq + ((obs[i]-exp)**2)/(error[i]**2)\n",
    "    return chisq\n",
    "\n",
    "# chi2 réduit\n",
    "def chisqr(obs, exp, error):\n",
    "    chisqr = 0\n",
    "    for i in range(len(obs)):\n",
    "        chisqr = chisqr + ((obs[i]-exp)**2)/(error[i]**2)\n",
    "    return chisqr/(len(obs) -1)\n",
    "\n",
    "def pval(obs, exp, error, nddl): # number of DoF is the number of points minus number of fitted parameters (1 for a constant)\n",
    "    chisq = 0\n",
    "    for i in range(len(obs)):\n",
    "        chisq = chisq + ((obs[i]-exp)**2)/(error[i]**2)\n",
    "    pval = 1 - chi2.cdf(chisq, nddl)\n",
    "    return pval"
   ]
  },
  {
   "cell_type": "markdown",
   "metadata": {},
   "source": [
    "## Displaying parameters evolution"
   ]
  },
  {
   "cell_type": "code",
   "execution_count": 18,
   "metadata": {},
   "outputs": [
    {
     "name": "stderr",
     "output_type": "stream",
     "text": [
      "WARNING: Model is linear in parameters; consider using linear fitting methods. [astropy.modeling.fitting]\n"
     ]
    },
    {
     "data": {
      "image/png": "[encoded data removed]",
      "text/plain": [
       "<Figure size 720x504 with 1 Axes>"
      ]
     },
     "metadata": {
      "needs_background": "light"
     },
     "output_type": "display_data"
    }
   ],
   "source": [
    "x = years\n",
    "y = ampsGC\n",
    "y_uncs = ampsGC_err\n",
    "\n",
    "# Fit the data using a box model.\n",
    "# Bounds are not really needed but included here to demonstrate usage.\n",
    "t_init = models.Const1D(1e-12)\n",
    "fit_t = fitting.LevMarLSQFitter()\n",
    "t = fit_t(t_init, x, y) #, weights=1.0/y_uncs)\n",
    "\n",
    "# évaluation du chi2 réduit\n",
    "A1 = y\n",
    "A2 = t(2004)\n",
    "err_bars = y_uncs\n",
    "\n",
    "pv = pval(A1, A2, err_bars, len(A1)-1)\n",
    "\n",
    "\n",
    "# Plot the data with the best-fit model\n",
    "plt.figure(figsize=(10,7))\n",
    "plt.plot(x, y, 'ko')\n",
    "plt.errorbar(x, y, yerr=y_uncs, fmt='kx', label=\"data\")\n",
    "plt.plot(x, t(x), label='constante = ' + str(round(t(2004), 14))+', pval = {0:0.6f}'.format(pv) )\n",
    "plt.xlabel('year')\n",
    "plt.ylabel(r'Spectral amplitude $(cm^2.s^1.TeV^1)^{-1}$')\n",
    "plt.legend(loc=1)\n",
    "plt.title(\" amp GC\")\n",
    "plt.savefig(pathpar/\"ampGC.pdf\")"
   ]
  },
  {
   "cell_type": "code",
   "execution_count": 19,
   "metadata": {},
   "outputs": [
    {
     "name": "stderr",
     "output_type": "stream",
     "text": [
      "WARNING: Model is linear in parameters; consider using linear fitting methods. [astropy.modeling.fitting]\n"
     ]
    },
    {
     "data": {
      "image/png": "[encoded data removed]",
      "text/plain": [
       "<Figure size 720x504 with 1 Axes>"
      ]
     },
     "metadata": {
      "needs_background": "light"
     },
     "output_type": "display_data"
    }
   ],
   "source": [
    "x = years\n",
    "y = ampsdiff\n",
    "y_uncs = ampsdiff_err\n",
    "\n",
    "# Fit the data using a box model.\n",
    "# Bounds are not really needed but included here to demonstrate usage.\n",
    "t_init = models.Const1D(1)\n",
    "fit_t = fitting.LevMarLSQFitter()\n",
    "t = fit_t(t_init, x, y) #, weights=1.0/y_uncs)\n",
    "\n",
    "# évaluation du chi2 réduit\n",
    "A1 = y\n",
    "A2 = t(2004)\n",
    "err_bars = y_uncs\n",
    "\n",
    "pv = pval(A1, A2, err_bars, len(A1)-1)\n",
    "\n",
    "\n",
    "# Plot the data with the best-fit model\n",
    "plt.figure(figsize=(10,7))\n",
    "plt.plot(x, y, 'ko')\n",
    "plt.errorbar(x, y, yerr=y_uncs, fmt='kx', label=\"données\")\n",
    "plt.plot(x, t(x), label='constante = ' + str(round(t(2004), 14))+ ', pval = {0:0.9f}'.format(pv) )\n",
    "plt.xlabel('year')\n",
    "plt.ylabel(r'Spectral amplitude $(cm^2.s^1.TeV^1)^{-1}$' )\n",
    "plt.legend(loc=1)\n",
    "plt.title(\" amp diff\" )\n",
    "plt.savefig(pathpar/\"ampdiff.pdf\")"
   ]
  },
  {
   "cell_type": "code",
   "execution_count": null,
   "metadata": {},
   "outputs": [],
   "source": []
  },
  {
   "cell_type": "code",
   "execution_count": 20,
   "metadata": {},
   "outputs": [
    {
     "name": "stderr",
     "output_type": "stream",
     "text": [
      "WARNING: Model is linear in parameters; consider using linear fitting methods. [astropy.modeling.fitting]\n"
     ]
    },
    {
     "data": {
      "image/png": "[encoded data removed]",
      "text/plain": [
       "<Figure size 720x504 with 1 Axes>"
      ]
     },
     "metadata": {
      "needs_background": "light"
     },
     "output_type": "display_data"
    }
   ],
   "source": [
    "x = years\n",
    "y = norms\n",
    "y_uncs = norms_err\n",
    "\n",
    "# Fit the data using a box model.\n",
    "# Bounds are not really needed but included here to demonstrate usage.\n",
    "t_init = models.Const1D(1)\n",
    "fit_t = fitting.LevMarLSQFitter()\n",
    "t = fit_t(t_init, x, y) #, weights=1.0/y_uncs)\n",
    "\n",
    "# évaluation du chi2 réduit\n",
    "A1 = y\n",
    "A2 = t(2004)\n",
    "err_bars = y_uncs\n",
    "\n",
    "pv = pval(A1, A2, err_bars, len(A1)-1)\n",
    "\n",
    "\n",
    "# Plot the data with the best-fit model\n",
    "plt.figure(figsize=(10,7))\n",
    "plt.plot(x, y, 'ko')\n",
    "plt.errorbar(x, y, yerr=y_uncs, fmt='kx', label=\"données\")\n",
    "plt.plot(x, t(x), label='constante = ' + str(round(t(2004), 14))+ \", pval = {0:0.9f}\".format(pv))\n",
    "plt.xlabel('year')\n",
    "plt.ylabel('Background normalisation')\n",
    "plt.legend(loc=1)\n",
    "plt.title(\" bkg norm\" )\n",
    "plt.savefig(pathpar/\"norm.pdf\")"
   ]
  },
  {
   "cell_type": "code",
   "execution_count": 21,
   "metadata": {},
   "outputs": [
    {
     "name": "stderr",
     "output_type": "stream",
     "text": [
      "WARNING: Model is linear in parameters; consider using linear fitting methods. [astropy.modeling.fitting]\n",
      "/home/samuel/anaconda3/envs/gammapy-0.15/lib/python3.7/site-packages/ipykernel_launcher.py:24: RuntimeWarning: invalid value encountered in double_scalars\n"
     ]
    },
    {
     "data": {
      "image/png": "[encoded data removed]",
      "text/plain": [
       "<Figure size 720x504 with 1 Axes>"
      ]
     },
     "metadata": {
      "needs_background": "light"
     },
     "output_type": "display_data"
    }
   ],
   "source": [
    "x = years\n",
    "y = indexGC\n",
    "y_uncs = indexGC_err\n",
    "\n",
    "# Fit the data using a box model.\n",
    "# Bounds are not really needed but included here to demonstrate usage.\n",
    "t_init = models.Const1D(1)\n",
    "fit_t = fitting.LevMarLSQFitter()\n",
    "t = fit_t(t_init, x, y) #, weights=1.0/y_uncs)\n",
    "\n",
    "# évaluation du chi2 réduit\n",
    "A1 = y\n",
    "A2 = t(2004)\n",
    "err_bars = y_uncs\n",
    "\n",
    "pv = pval(A1, A2, err_bars, len(A1)-1)\n",
    "\n",
    "\n",
    "# Plot the data with the best-fit model\n",
    "plt.figure(figsize=(10,7))\n",
    "plt.plot(x, y, 'ko')\n",
    "plt.errorbar(x, y, yerr=y_uncs, fmt='kx', label=\"données\")\n",
    "plt.plot(x, t(x), label='constante = ' + str(round(t(2004), 14))+ \", pval = {0:0.9f}\".format(pv))\n",
    "plt.xlabel('year')\n",
    "plt.ylabel('Spectral index')\n",
    "plt.legend(loc=1)\n",
    "plt.title(\" index GC\")\n",
    "plt.savefig(pathpar/\"index_GC.pdf\")"
   ]
  },
  {
   "cell_type": "code",
   "execution_count": 22,
   "metadata": {},
   "outputs": [
    {
     "name": "stderr",
     "output_type": "stream",
     "text": [
      "WARNING: Model is linear in parameters; consider using linear fitting methods. [astropy.modeling.fitting]\n",
      "/home/samuel/anaconda3/envs/gammapy-0.15/lib/python3.7/site-packages/ipykernel_launcher.py:24: RuntimeWarning: invalid value encountered in double_scalars\n"
     ]
    },
    {
     "data": {
      "image/png": "[encoded data removed]",
      "text/plain": [
       "<Figure size 720x504 with 1 Axes>"
      ]
     },
     "metadata": {
      "needs_background": "light"
     },
     "output_type": "display_data"
    }
   ],
   "source": [
    "x = years\n",
    "y = indexdiff\n",
    "y_uncs = indexdiff_err\n",
    "\n",
    "# Fit the data using a box model.\n",
    "# Bounds are not really needed but included here to demonstrate usage.\n",
    "t_init = models.Const1D(1)\n",
    "fit_t = fitting.LevMarLSQFitter()\n",
    "t = fit_t(t_init, x, y) #, weights=1.0/y_uncs)\n",
    "\n",
    "# évaluation du chi2 réduit\n",
    "A1 = y\n",
    "A2 = t(2004)\n",
    "err_bars = y_uncs\n",
    "\n",
    "pv = pval(A1, A2, err_bars, len(A1)-1)\n",
    "\n",
    "\n",
    "# Plot the data with the best-fit model\n",
    "plt.figure(figsize=(10,7))\n",
    "plt.plot(x, y, 'ko')\n",
    "plt.errorbar(x, y, yerr=y_uncs, fmt='kx', label=\"données\")\n",
    "plt.plot(x, t(x), label='constante = ' + str(round(t(2004), 14))+ \", pval = {0:0.9f}\".format(pv) )\n",
    "plt.xlabel('year')\n",
    "plt.ylabel('Spectral index')\n",
    "plt.legend(loc=1)\n",
    "plt.title(\" index diff\")\n",
    "plt.savefig(pathpar/\"index_diff.pdf\")"
   ]
  },
  {
   "cell_type": "code",
   "execution_count": 23,
   "metadata": {},
   "outputs": [
    {
     "name": "stderr",
     "output_type": "stream",
     "text": [
      "WARNING: Model is linear in parameters; consider using linear fitting methods. [astropy.modeling.fitting]\n"
     ]
    },
    {
     "data": {
      "image/png": "[encoded data removed]",
      "text/plain": [
       "<Figure size 720x504 with 1 Axes>"
      ]
     },
     "metadata": {
      "needs_background": "light"
     },
     "output_type": "display_data"
    }
   ],
   "source": [
    "x = years\n",
    "y = 1/np.array(lambdaGC)\n",
    "y_uncs = y*(np.array(lambdaGC_err)/np.array(lambdaGC))\n",
    "\n",
    "# Fit the data using a box model.\n",
    "# Bounds are not really needed but included here to demonstrate usage.\n",
    "t_init = models.Const1D(10)\n",
    "fit_t = fitting.LevMarLSQFitter()\n",
    "t = fit_t(t_init, x, y) #, weights=1.0/y_uncs)\n",
    "\n",
    "# évaluation du chi2 réduit\n",
    "A1 = y\n",
    "A2 = t(2004)\n",
    "err_bars = y_uncs\n",
    "\n",
    "pv = pval(A1, A2, err_bars, len(A1)-1)\n",
    "\n",
    "\n",
    "# Plot the data with the best-fit model\n",
    "plt.figure(figsize=(10,7))\n",
    "plt.plot(x, y, 'ko')\n",
    "plt.errorbar(x, y, yerr=y_uncs, fmt='kx', label=\"données\")\n",
    "plt.plot(x, t(x), label='constante = ' + str(round(t(2004), 14))+ \", pval = {0:0.9f}\".format(pv))\n",
    "plt.xlabel('year')\n",
    "plt.ylabel('Cutoff energy (TeV)')\n",
    "plt.legend(loc=1)\n",
    "plt.title(\" E cutoff GC\")\n",
    "plt.savefig(pathpar/\"cutoff_GC.pdf\")"
   ]
  },
  {
   "cell_type": "code",
   "execution_count": 24,
   "metadata": {},
   "outputs": [
    {
     "name": "stderr",
     "output_type": "stream",
     "text": [
      "WARNING: Model is linear in parameters; consider using linear fitting methods. [astropy.modeling.fitting]\n",
      "/home/samuel/anaconda3/envs/gammapy-0.15/lib/python3.7/site-packages/ipykernel_launcher.py:24: RuntimeWarning: invalid value encountered in double_scalars\n"
     ]
    },
    {
     "data": {
      "image/png": "[encoded data removed]",
      "text/plain": [
       "<Figure size 720x504 with 1 Axes>"
      ]
     },
     "metadata": {
      "needs_background": "light"
     },
     "output_type": "display_data"
    }
   ],
   "source": [
    "x = years\n",
    "y = 1/np.array(lambdadiff)\n",
    "y_uncs = y*(np.array(lambdadiff_err)/np.array(lambdadiff))\n",
    "\n",
    "# Fit the data using a box model.\n",
    "# Bounds are not really needed but included here to demonstrate usage.\n",
    "t_init = models.Const1D(10)\n",
    "fit_t = fitting.LevMarLSQFitter()\n",
    "t = fit_t(t_init, x, y) #, weights=1.0/y_uncs)\n",
    "\n",
    "# évaluation du chi2 réduit\n",
    "A1 = y\n",
    "A2 = t(2004)\n",
    "err_bars = y_uncs\n",
    "\n",
    "pv = pval(A1, A2, err_bars, len(A1)-1)\n",
    "\n",
    "\n",
    "# Plot the data with the best-fit model\n",
    "plt.figure(figsize=(10,7))\n",
    "plt.plot(x, y, 'ko')\n",
    "plt.errorbar(x, y, yerr=y_uncs, fmt='kx', label=\"données\")\n",
    "plt.plot(x, t(x), label='constante = ' + str(round(t(2004), 14))+ \", pval = {0:0.9f}\".format(pv))\n",
    "plt.xlabel('year')\n",
    "plt.ylabel('Cutoff energy (TeV)')\n",
    "plt.legend(loc=1)\n",
    "plt.title(\" E cutoff diff\")\n",
    "plt.savefig(pathpar/\"cutoff_diff.pdf\")"
   ]
  },
  {
   "cell_type": "code",
   "execution_count": null,
   "metadata": {},
   "outputs": [],
   "source": []
  },
  {
   "cell_type": "code",
   "execution_count": null,
   "metadata": {},
   "outputs": [],
   "source": []
  }
 ],
 "metadata": {
  "kernelspec": {
   "display_name": "Python 3",
   "language": "python",
   "name": "python3"
  },
  "language_info": {
   "codemirror_mode": {
    "name": "ipython",
    "version": 3
   },
   "file_extension": ".py",
   "mimetype": "text/x-python",
   "name": "python",
   "nbconvert_exporter": "python",
   "pygments_lexer": "ipython3",
   "version": "3.7.0"
  }
 },
 "nbformat": 4,
 "nbformat_minor": 4
}
