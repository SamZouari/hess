{
 "cells": [
  {
   "cell_type": "markdown",
   "metadata": {},
   "source": [
    "# 1D Spectrum Analysis"
   ]
  },
  {
   "cell_type": "code",
   "execution_count": 2,
   "metadata": {},
   "outputs": [
    {
     "data": {
      "text/plain": [
       "'0.15'"
      ]
     },
     "execution_count": 2,
     "metadata": {},
     "output_type": "execute_result"
    }
   ],
   "source": [
    "%matplotlib inline\n",
    "import matplotlib.pyplot as plt\n",
    "import numpy as np\n",
    "from scipy.stats import norm\n",
    "\n",
    "import astropy.units as u\n",
    "from astropy.coordinates import SkyCoord,Angle\n",
    "from astropy.convolution import Tophat2DKernel\n",
    "from regions import CircleSkyRegion, RectangleSkyRegion\n",
    "\n",
    "from gammapy.detect import compute_lima_on_off_image\n",
    "from gammapy.data import DataStore\n",
    "from gammapy.irf import make_mean_psf\n",
    "from gammapy.maps import Map, MapAxis, WcsGeom\n",
    "from gammapy.cube import (\n",
    "    MapDatasetMaker,\n",
    "    PSFKernel,\n",
    "    MapDataset,\n",
    "    RingBackgroundMaker,\n",
    "    SafeMaskMaker,\n",
    "    #RingBackgroundEstimator,\n",
    ")\n",
    "from gammapy.modeling import Datasets\n",
    "from gammapy.modeling.models import (\n",
    "    SkyModel,\n",
    "    BackgroundModel,\n",
    "    PowerLawSpectralModel,\n",
    "    PowerLaw2SpectralModel,\n",
    "    PointSpatialModel,\n",
    "    ExpCutoffPowerLawSpectralModel,\n",
    "    SkyDiffuseCube,\n",
    "    TemplateSpatialModel,\n",
    "    \n",
    ")\n",
    "\n",
    "from gammapy.spectrum import (\n",
    "    SpectrumDatasetMaker,\n",
    "    SpectrumDatasetOnOff,\n",
    "    SpectrumDataset,\n",
    "    FluxPointsEstimator,\n",
    "    FluxPointsDataset,\n",
    "    ReflectedRegionsBackgroundMaker,\n",
    "    plot_spectrum_datasets_off_regions,\n",
    ")\n",
    "from gammapy.modeling import Fit\n",
    "from astropy.time import Time\n",
    "\n",
    "src_pos = SkyCoord(359.94, -0.04, unit=\"deg\", frame=\"galactic\")\n",
    "\n",
    "import gammapy\n",
    "gammapy.__version__\n"
   ]
  },
  {
   "cell_type": "code",
   "execution_count": 3,
   "metadata": {},
   "outputs": [],
   "source": [
    "from pathlib import Path\n",
    "\n",
    "path = Path(\"../../../../gammapy_data/GC_variability2020/hap-fr/mapdatasets/mapdatasets1D\")\n",
    "path.mkdir(exist_ok=True)"
   ]
  },
  {
   "cell_type": "markdown",
   "metadata": {},
   "source": [
    "# Collecting data and sorting observations"
   ]
  },
  {
   "cell_type": "code",
   "execution_count": 4,
   "metadata": {},
   "outputs": [
    {
     "name": "stdout",
     "output_type": "stream",
     "text": [
      "Data store:\n",
      "HDU index table:\n",
      "BASE_DIR: /home/samuel/code/gammapy_data/ash_stereo_Prod17_Calib0834_thsq64\n",
      "Rows: 127056\n",
      "OBS_ID: 18092 -- 154591\n",
      "HDU_TYPE: ['aeff', 'bkg', 'edisp', 'events', 'gti', 'psf']\n",
      "HDU_CLASS: ['aeff_2d', 'bkg_2d', 'edisp_2d', 'events', 'gti', 'psf_table']\n",
      "\n",
      "\n",
      "Observation table:\n",
      "Observatory name: 'N/A'\n",
      "Number of observations: 21186\n",
      "\n"
     ]
    }
   ],
   "source": [
    "data_store = DataStore.from_dir(\"$GAMMAPY_DATA/ash_stereo_Prod17_Calib0834_thsq64\")\n",
    "data_store.info()"
   ]
  },
  {
   "cell_type": "code",
   "execution_count": 5,
   "metadata": {},
   "outputs": [],
   "source": [
    "# Sky region selection : observation pointing within this region will be selected \n",
    "#(this can be redundant with maximum offset selection, but using the max_offset should be prefered)\n",
    "\n",
    "from astropy.coordinates import Angle\n",
    "\n",
    "selection = dict(type='sky_circle', frame='galactic',\n",
    "                 lon=Angle(0, 'deg'),\n",
    "                 lat=Angle(0, 'deg'),\n",
    "                 radius=Angle(2, 'deg'),\n",
    "                 border=Angle(0, 'deg'))\n",
    "\n",
    "\n",
    "# selecting the admitted range of zenithal angle, such selection can be done for any column of the obs_table\n",
    "selectionZEN = dict(type='par_box', variable='ZEN_PNT', value_range=Angle([0., 90.], 'deg'))\n",
    "\n",
    "obs_table = data_store.obs_table.select_observations(selection)\n",
    "obs_table = obs_table.select_observations(selectionZEN)"
   ]
  },
  {
   "cell_type": "code",
   "execution_count": 6,
   "metadata": {},
   "outputs": [
    {
     "name": "stdout",
     "output_type": "stream",
     "text": [
      "Removed observations : 31539\n",
      "Removed observations : 31577\n",
      "Removed observations : 31578\n",
      "Removed observations : 31579\n",
      "Removed observations : 31580\n",
      "Removed observations : 129467\n",
      "Removed observations : 129471\n",
      "Removed observations : 130931\n",
      "Removed observations : 130942\n",
      "Removed observations : 132321\n",
      "Removed observations : 153792\n",
      "Removed observations : 146971\n",
      "Removed observations : 147119\n",
      "Removed observations : 151790\n",
      "Removed observations : 153030\n",
      "Removed observations : 153031\n",
      "Removed observations : 153791\n",
      "Removed observations : 153793\n",
      "Removed observations : 153794\n",
      "Removed observations : 153810\n",
      "Removed observations : 153811\n",
      "Removed observations : 153812\n",
      "Removed observations : 153813\n",
      "Removed observations : 153836\n",
      "Removed observations : 153837\n",
      "Removed observations : 153838\n",
      "Removed observations : 153839\n",
      "Removed observations : 153840\n",
      "Removed observations : 153841\n"
     ]
    }
   ],
   "source": [
    "# Removing observations lacking IRFs (effective area, energy dispersion, point spread function and background model)\n",
    "\n",
    "ids = obs_table[\"OBS_ID\"].tolist()\n",
    "observations = data_store.get_observations(ids, skip_missing=True)\n",
    "\n",
    "for obs in observations:\n",
    "    try:\n",
    "        obs.aeff\n",
    "        obs.edisp\n",
    "        obs.psf\n",
    "        obs.bkg\n",
    "            \n",
    "    except:\n",
    "        ids.remove(obs.obs_id)\n",
    "        print(\"Removed observations : \" + str(obs.obs_id))\n",
    "        \n",
    "observations = data_store.get_observations(ids, skip_missing=True)\n",
    "obs_table = obs_table.select_obs_id(ids)"
   ]
  },
  {
   "cell_type": "code",
   "execution_count": 7,
   "metadata": {},
   "outputs": [],
   "source": [
    "#time intervals used for selection\n",
    "\n",
    "t2004  = dict(type='time_box', time_range= Time(['2004-01-01T00:00:00', '2004-12-31T23:59:59']))\n",
    "t2005  = dict(type='time_box', time_range= Time(['2005-01-01T00:00:00', '2005-12-31T23:59:59']))\n",
    "t2006  = dict(type='time_box', time_range= Time(['2006-01-01T00:00:00', '2006-12-31T23:59:59']))\n",
    "t2007  = dict(type='time_box', time_range= Time(['2007-01-01T00:00:00', '2007-12-31T23:59:59']))\n",
    "t2008  = dict(type='time_box', time_range= Time(['2008-01-01T00:00:00', '2008-12-31T23:59:59']))\n",
    "t2009  = dict(type='time_box', time_range= Time(['2009-01-01T00:00:00', '2009-12-31T23:59:59']))\n",
    "t2010  = dict(type='time_box', time_range= Time(['2010-01-01T00:00:00', '2010-12-31T23:59:59']))\n",
    "t2011  = dict(type='time_box', time_range= Time(['2011-01-01T00:00:00', '2011-12-31T23:59:59']))\n",
    "t2012  = dict(type='time_box', time_range= Time(['2012-01-01T00:00:00', '2012-12-31T23:59:59']))\n",
    "t2013  = dict(type='time_box', time_range= Time(['2013-01-01T00:00:00', '2013-12-31T23:59:59']))\n",
    "t2014  = dict(type='time_box', time_range= Time(['2014-01-01T00:00:00', '2014-12-31T23:59:59']))\n",
    "t2015  = dict(type='time_box', time_range= Time(['2015-01-01T00:00:00', '2015-12-31T23:59:59']))\n",
    "t2016  = dict(type='time_box', time_range= Time(['2016-01-01T00:00:00', '2016-12-31T23:59:59']))\n",
    "t2017  = dict(type='time_box', time_range= Time(['2017-01-01T00:00:00', '2017-12-31T23:59:59']))\n",
    "t2018  = dict(type='time_box', time_range= Time(['2018-01-01T00:00:00', '2018-12-31T23:59:59']))\n",
    "t2019  = dict(type='time_box', time_range= Time(['2019-01-01T00:00:00', '2019-12-31T23:59:59']))"
   ]
  },
  {
   "cell_type": "code",
   "execution_count": 8,
   "metadata": {},
   "outputs": [],
   "source": [
    "year_intervals = { 2004 : t2004, 2005 : t2005, 2006 : t2006, 2007 : t2007,\n",
    "                      2008 : t2008, 2009 : t2009, 2010 : t2010, 2011 : t2011,\n",
    "                      2012 : t2012, 2013 : t2013, 2014 : t2014, 2015 : t2015,\n",
    "                      2016 : t2016, 2017 : t2017, 2018 : t2018, 2019 : t2019}\n",
    "\n",
    "yearly_obs = dict()\n",
    "\n",
    "for year in range(2004,2020) :\n",
    "    \n",
    "    obs_table_year = obs_table.select_observations(year_intervals[year])\n",
    "    ids = obs_table_year[\"OBS_ID\"].tolist()\n",
    "    observations_year = data_store.get_observations(ids, skip_missing=True)\n",
    "    yearly_obs[year] = observations_year"
   ]
  },
  {
   "cell_type": "markdown",
   "metadata": {},
   "source": [
    "## Setting the parameters of the analysis"
   ]
  },
  {
   "cell_type": "code",
   "execution_count": 9,
   "metadata": {},
   "outputs": [],
   "source": [
    "# Defining the \"on\" region over which the spectrum will be computed\n",
    "\n",
    "on_region_radius = Angle(\"0.1 deg\")\n",
    "on_region = CircleSkyRegion(center=src_pos, radius=on_region_radius)"
   ]
  },
  {
   "cell_type": "code",
   "execution_count": 10,
   "metadata": {},
   "outputs": [
    {
     "data": {
      "image/png": "[encoded data removed]",
      "text/plain": [
       "<Figure size 432x288 with 1 Axes>"
      ]
     },
     "metadata": {
      "needs_background": "light"
     },
     "output_type": "display_data"
    }
   ],
   "source": [
    "# We need to define an \"off\" region as well, to estimate the background level\n",
    "\n",
    "exclusion_region = RectangleSkyRegion(src_pos, 3*u.deg, 0.7*u.deg) #réduire en latitude\n",
    "skydir = src_pos.galactic\n",
    "\n",
    "# à rajouter au masque\n",
    "bizarre_region = CircleSkyRegion(SkyCoord(358.6,  -0.6, unit=\"deg\", frame=\"galactic\"), 0.5 * u.deg)\n",
    "\n",
    "\n",
    "exclusion_mask = Map.create(\n",
    "    npix=(100, 100), binsz=0.05, skydir=skydir, proj=\"TAN\", coordsys=\"GAL\"\n",
    ")\n",
    "\n",
    "mask = exclusion_mask.geom.region_mask([exclusion_region], inside=False)*exclusion_mask.geom.region_mask([bizarre_region] , inside=False)\n",
    "exclusion_mask.data = mask\n",
    "exclusion_mask.plot();"
   ]
  },
  {
   "cell_type": "code",
   "execution_count": 11,
   "metadata": {},
   "outputs": [],
   "source": [
    "e_reco = np.logspace(-1, np.log10(40), 20) * u.TeV\n",
    "\n",
    "e_true = np.logspace(np.log10(0.05) ,np.log10(200) , 100) * u.TeV\n",
    "\n",
    "\n",
    "dataset_empty = SpectrumDataset.create(\n",
    "    e_reco=e_reco, e_true=e_true, region=on_region\n",
    ")\n",
    "\n",
    "dataset_maker = SpectrumDatasetMaker(\n",
    "    containment_correction=False, selection=[\"counts\", \"aeff\", \"edisp\"]\n",
    ")\n",
    "bkg_maker = ReflectedRegionsBackgroundMaker(exclusion_mask=exclusion_mask)\n",
    "\n",
    "safe_mask_masker = SafeMaskMaker(methods=[\"aeff-max\"], aeff_percent=10)"
   ]
  },
  {
   "cell_type": "markdown",
   "metadata": {},
   "source": [
    "## Constructing the datasets"
   ]
  },
  {
   "cell_type": "code",
   "execution_count": 12,
   "metadata": {},
   "outputs": [
    {
     "name": "stderr",
     "output_type": "stream",
     "text": [
      "WARNING: VerifyWarning: Invalid keyword for column 8: Column null option (TNULLn) is invalid for binary table columns of type '1E' (got -1).  The invalid value will be ignored for the purpose of formatting the data in this column. [astropy.io.fits.column]\n",
      "WARNING: VerifyWarning: Invalid keyword for column 21: Column null option (TNULLn) is invalid for binary table columns of type '1E' (got -1).  The invalid value will be ignored for the purpose of formatting the data in this column. [astropy.io.fits.column]\n",
      "WARNING: VerifyWarning: Invalid keyword for column 23: Column null option (TNULLn) is invalid for binary table columns of type '1E' (got -1).  The invalid value will be ignored for the purpose of formatting the data in this column. [astropy.io.fits.column]\n",
      "WARNING: VerifyWarning: Invalid keyword for column 25: Column null option (TNULLn) is invalid for binary table columns of type '1E' (got -1).  The invalid value will be ignored for the purpose of formatting the data in this column. [astropy.io.fits.column]\n",
      "WARNING: VerifyWarning: Invalid keyword for column 26: Column null option (TNULLn) is invalid for binary table columns of type '1D' (got -1).  The invalid value will be ignored for the purpose of formatting the data in this column. [astropy.io.fits.column]\n",
      "WARNING: VerifyWarning: Invalid keyword for column 27: Column null option (TNULLn) is invalid for binary table columns of type '1E' (got -1).  The invalid value will be ignored for the purpose of formatting the data in this column. [astropy.io.fits.column]\n",
      "WARNING: VerifyWarning: Invalid keyword for column 28: Column null option (TNULLn) is invalid for binary table columns of type '1E' (got -1).  The invalid value will be ignored for the purpose of formatting the data in this column. [astropy.io.fits.column]\n",
      "WARNING: VerifyWarning: Invalid keyword for column 29: Column null option (TNULLn) is invalid for binary table columns of type '1E' (got -1).  The invalid value will be ignored for the purpose of formatting the data in this column. [astropy.io.fits.column]\n",
      "WARNING: VerifyWarning: Invalid keyword for column 30: Column null option (TNULLn) is invalid for binary table columns of type '1E' (got -1).  The invalid value will be ignored for the purpose of formatting the data in this column. [astropy.io.fits.column]\n"
     ]
    },
    {
     "name": "stdout",
     "output_type": "stream",
     "text": [
      "CPU times: user 8min 15s, sys: 2.56 s, total: 8min 17s\n",
      "Wall time: 8min 18s\n"
     ]
    }
   ],
   "source": [
    "%%time\n",
    "\n",
    "# constructing a dataset encompassing all 15 years of observations\n",
    "\n",
    "datasets = []\n",
    "\n",
    "for obs in observations:\n",
    "    dataset = dataset_maker.run(dataset_empty, obs)\n",
    "    dataset_on_off = bkg_maker.run(dataset, obs)\n",
    "    dataset_on_off = safe_mask_masker.run(dataset_on_off, obs)\n",
    "    datasets.append(dataset_on_off)"
   ]
  },
  {
   "cell_type": "code",
   "execution_count": null,
   "metadata": {},
   "outputs": [],
   "source": [
    "# not saving, too complicated\n",
    "filename = \"dataset_tot.fits.gz\"\n",
    "datasets.write(path/filename, overwrite=True)"
   ]
  },
  {
   "cell_type": "code",
   "execution_count": null,
   "metadata": {},
   "outputs": [],
   "source": [
    "%%time\n",
    "\n",
    "# constructing datasets for every year of observations\n",
    "\n",
    "year_datasets = dict()\n",
    "\n",
    "for year in range(2004,2020):\n",
    "    for obs in yearly_obs[year]:\n",
    "        dataset = dataset_maker.run(dataset_empty, obs)\n",
    "        dataset_on_off = bkg_maker.run(dataset, obs)\n",
    "        dataset_on_off = safe_mask_masker.run(dataset_on_off, obs)\n",
    "        year_datasets[year].append(dataset_on_off)"
   ]
  },
  {
   "cell_type": "code",
   "execution_count": null,
   "metadata": {},
   "outputs": [],
   "source": [
    "for year in range(2004,2020):\n",
    "    filename = \"dataset\"+str(year)+\".fits.gz\"\n",
    "    year_datasets[year].write(path/filename, overwrite=True)"
   ]
  },
  {
   "cell_type": "code",
   "execution_count": null,
   "metadata": {},
   "outputs": [],
   "source": [
    "%%time\n",
    "\n",
    "# constructing datasets for every stage of HESS (1,2,1U)\n",
    "\n",
    "datasetsHESS1 = []\n",
    "\n",
    "for obs in observations1:\n",
    "        dataset = dataset_maker.run(dataset_empty, obs)\n",
    "        dataset_on_off = bkg_maker.run(dataset, obs)\n",
    "        dataset_on_off = safe_mask_masker.run(dataset_on_off, obs)\n",
    "        datasetsHESS1.append(dataset_on_off)\n",
    "\n",
    "        \n",
    "datasetsHESS2 = []\n",
    "\n",
    "for obs in observations2:\n",
    "        dataset = dataset_maker.run(dataset_empty, obs)\n",
    "        dataset_on_off = bkg_maker.run(dataset, obs)\n",
    "        dataset_on_off = safe_mask_masker.run(dataset_on_off, obs)\n",
    "        datasetsHESS2.append(dataset_on_off)\n",
    "\n",
    "        \n",
    "datasetsHESS1U = []\n",
    "\n",
    "for obs in observations1U:\n",
    "        dataset = dataset_maker.run(dataset_empty, obs)\n",
    "        dataset_on_off = bkg_maker.run(dataset, obs)\n",
    "        dataset_on_off = safe_mask_masker.run(dataset_on_off, obs)\n",
    "        datasetsHESS1U.append(dataset_on_off)"
   ]
  },
  {
   "cell_type": "code",
   "execution_count": null,
   "metadata": {},
   "outputs": [],
   "source": [
    "filename = \"dataset_HESS1.fits.gz\"\n",
    "datasetsHESS1.write(path/filename, overwrite=True)\n",
    "\n",
    "filename = \"dataset_HESS2.fits.gz\"\n",
    "datasetsHESS2.write(path/filename, overwrite=True)\n",
    "\n",
    "filename = \"dataset_HESS1U.fits.gz\"\n",
    "datasetsHESS1U.write(path/filename, overwrite=True)"
   ]
  },
  {
   "cell_type": "markdown",
   "metadata": {},
   "source": [
    "# Analysis"
   ]
  },
  {
   "cell_type": "code",
   "execution_count": 48,
   "metadata": {},
   "outputs": [
    {
     "name": "stdout",
     "output_type": "stream",
     "text": [
      "915\n"
     ]
    }
   ],
   "source": [
    "# Some datasets don't have any off counts, we need to remove those to proceed\n",
    "\n",
    "dataclean = []\n",
    "for dataset in datasets:\n",
    "    if dataset.counts_off != None:\n",
    "        dataclean.append(dataset)"
   ]
  },
  {
   "cell_type": "code",
   "execution_count": 27,
   "metadata": {},
   "outputs": [
    {
     "data": {
      "image/png": "[encoded data removed]",
      "text/plain": [
       "<Figure size 1152x288 with 3 Axes>"
      ]
     },
     "metadata": {
      "needs_background": "light"
     },
     "output_type": "display_data"
    }
   ],
   "source": [
    "datasets_stacked = Datasets(dataclean).stack_reduce()\n",
    "datasets_stacked.peek()"
   ]
  },
  {
   "cell_type": "markdown",
   "metadata": {},
   "source": [
    "## Fitting without stacking"
   ]
  },
  {
   "cell_type": "code",
   "execution_count": 28,
   "metadata": {},
   "outputs": [],
   "source": [
    "spectral_model = ExpCutoffPowerLawSpectralModel(\n",
    "    index=2, amplitude=2e-11 * u.Unit(\"cm-2 s-1 TeV-1\"), reference=1 * u.TeV , lambda_= 1/(5*u.TeV) , alpha= 1\n",
    ")\n",
    "model_joint = SkyModel(spectral_model=spectral_model)\n",
    "model_stack = SkyModel(spectral_model=spectral_model)"
   ]
  },
  {
   "cell_type": "code",
   "execution_count": 29,
   "metadata": {},
   "outputs": [],
   "source": [
    "maskfit = datasets[0].counts.energy_mask(0.7*u.TeV, 100*u.TeV)\n",
    "\n",
    "for dataset in dataclean:\n",
    "    dataset.models = model_joint\n",
    "    dataset.mask_fit = maskfit\n",
    "\n",
    "fit_joint = Fit(copy)\n",
    "result_joint = fit_joint.run()\n",
    "\n",
    "# we make a copy here to compare it later\n",
    "model_best_joint = model_joint.copy()\n",
    "model_best_joint.spectral_model.parameters.covariance = (\n",
    "    result_joint.parameters.covariance\n",
    ")"
   ]
  },
  {
   "cell_type": "markdown",
   "metadata": {},
   "source": [
    "## Fitting after stacking"
   ]
  },
  {
   "cell_type": "code",
   "execution_count": 30,
   "metadata": {},
   "outputs": [],
   "source": [
    "maskfit = datasets_stacked.counts.energy_mask(0.7*u.TeV, 100*u.TeV)\n",
    "\n",
    "datasets_stacked.model = model_stack\n",
    "datasets_stacked.mask_fit = maskfit\n",
    "\n",
    "stacked_fit = Fit([datasets_stacked])\n",
    "result_stacked = stacked_fit.run()\n",
    "\n",
    "# make a copy to compare later\n",
    "model_best_stacked = model_stack.copy()"
   ]
  },
  {
   "cell_type": "code",
   "execution_count": 31,
   "metadata": {},
   "outputs": [],
   "source": [
    "# problème result_stacked.parameters.covariance n'a pas la bonne taille\n",
    "model_best_stacked.spectral_model.parameters.covariance = (\n",
    "    result_stacked.parameters.covariance\n",
    ")"
   ]
  },
  {
   "cell_type": "markdown",
   "metadata": {},
   "source": [
    "## Comparing the two fits"
   ]
  },
  {
   "cell_type": "code",
   "execution_count": 32,
   "metadata": {},
   "outputs": [
    {
     "data": {
      "text/html": [
       "<i>Table length=5</i>\n",
       "<table id=\"table139914352286016\" class=\"table-striped table-bordered table-condensed\">\n",
       "<thead><tr><th>name</th><th>value</th><th>error</th><th>unit</th><th>min</th><th>max</th><th>frozen</th></tr></thead>\n",
       "<thead><tr><th>str9</th><th>float64</th><th>float64</th><th>str14</th><th>float64</th><th>float64</th><th>bool</th></tr></thead>\n",
       "<tr><td>index</td><td>1.778e+00</td><td>6.832e-02</td><td></td><td>nan</td><td>nan</td><td>False</td></tr>\n",
       "<tr><td>amplitude</td><td>2.025e-12</td><td>5.804e-14</td><td>cm-2 s-1 TeV-1</td><td>nan</td><td>nan</td><td>False</td></tr>\n",
       "<tr><td>reference</td><td>1.000e+00</td><td>0.000e+00</td><td>TeV</td><td>nan</td><td>nan</td><td>True</td></tr>\n",
       "<tr><td>lambda_</td><td>2.004e-01</td><td>2.434e-02</td><td>TeV-1</td><td>nan</td><td>nan</td><td>False</td></tr>\n",
       "<tr><td>alpha</td><td>1.000e+00</td><td>0.000e+00</td><td></td><td>nan</td><td>nan</td><td>True</td></tr>\n",
       "</table>"
      ],
      "text/plain": [
       "<Table length=5>\n",
       "   name     value     error        unit        min     max   frozen\n",
       "   str9    float64   float64      str14      float64 float64  bool \n",
       "--------- --------- --------- -------------- ------- ------- ------\n",
       "    index 1.778e+00 6.832e-02                    nan     nan  False\n",
       "amplitude 2.025e-12 5.804e-14 cm-2 s-1 TeV-1     nan     nan  False\n",
       "reference 1.000e+00 0.000e+00            TeV     nan     nan   True\n",
       "  lambda_ 2.004e-01 2.434e-02          TeV-1     nan     nan  False\n",
       "    alpha 1.000e+00 0.000e+00                    nan     nan   True"
      ]
     },
     "execution_count": 32,
     "metadata": {},
     "output_type": "execute_result"
    }
   ],
   "source": [
    "model_best_joint.parameters.to_table()"
   ]
  },
  {
   "cell_type": "code",
   "execution_count": 33,
   "metadata": {},
   "outputs": [
    {
     "data": {
      "text/html": [
       "<i>Table length=5</i>\n",
       "<table id=\"table139914352285624\" class=\"table-striped table-bordered table-condensed\">\n",
       "<thead><tr><th>name</th><th>value</th><th>error</th><th>unit</th><th>min</th><th>max</th><th>frozen</th></tr></thead>\n",
       "<thead><tr><th>str9</th><th>float64</th><th>float64</th><th>str14</th><th>float64</th><th>float64</th><th>bool</th></tr></thead>\n",
       "<tr><td>index</td><td>1.778e+00</td><td>5.059e-02</td><td></td><td>nan</td><td>nan</td><td>False</td></tr>\n",
       "<tr><td>amplitude</td><td>2.025e-12</td><td>1.275e-13</td><td>cm-2 s-1 TeV-1</td><td>nan</td><td>nan</td><td>False</td></tr>\n",
       "<tr><td>reference</td><td>1.000e+00</td><td>0.000e+00</td><td>TeV</td><td>nan</td><td>nan</td><td>True</td></tr>\n",
       "<tr><td>lambda_</td><td>2.004e-01</td><td>8.737e-03</td><td>TeV-1</td><td>nan</td><td>nan</td><td>False</td></tr>\n",
       "<tr><td>alpha</td><td>1.000e+00</td><td>0.000e+00</td><td></td><td>nan</td><td>nan</td><td>True</td></tr>\n",
       "</table>"
      ],
      "text/plain": [
       "<Table length=5>\n",
       "   name     value     error        unit        min     max   frozen\n",
       "   str9    float64   float64      str14      float64 float64  bool \n",
       "--------- --------- --------- -------------- ------- ------- ------\n",
       "    index 1.778e+00 5.059e-02                    nan     nan  False\n",
       "amplitude 2.025e-12 1.275e-13 cm-2 s-1 TeV-1     nan     nan  False\n",
       "reference 1.000e+00 0.000e+00            TeV     nan     nan   True\n",
       "  lambda_ 2.004e-01 8.737e-03          TeV-1     nan     nan  False\n",
       "    alpha 1.000e+00 0.000e+00                    nan     nan   True"
      ]
     },
     "execution_count": 33,
     "metadata": {},
     "output_type": "execute_result"
    }
   ],
   "source": [
    "model_best_stacked.parameters.to_table()"
   ]
  },
  {
   "cell_type": "code",
   "execution_count": 34,
   "metadata": {},
   "outputs": [
    {
     "data": {
      "text/plain": [
       "<matplotlib.legend.Legend at 0x7f40596172b0>"
      ]
     },
     "execution_count": 34,
     "metadata": {},
     "output_type": "execute_result"
    },
    {
     "data": {
      "image/png": "[encoded data removed]",
      "text/plain": [
       "<Figure size 720x720 with 1 Axes>"
      ]
     },
     "metadata": {
      "needs_background": "light"
     },
     "output_type": "display_data"
    }
   ],
   "source": [
    "plt.figure(figsize=(10,10))\n",
    "plot_kwargs = {\n",
    "    \"energy_range\": [0.1, 30] * u.TeV,\n",
    "    \"energy_power\": 2,\n",
    "    \"flux_unit\": \"erg-1 cm-2 s-1\",\n",
    "}\n",
    "\n",
    "# plot stacked model\n",
    "model_best_stacked.spectral_model.plot(\n",
    "    **plot_kwargs, label=\"Stacked analysis result\"\n",
    ")\n",
    "#model_best_stacked.spectral_model.plot_error(**plot_kwargs)\n",
    "\n",
    "# plot joint model\n",
    "model_best_joint.spectral_model.plot(\n",
    "    **plot_kwargs, label=\"Joint analysis result\", ls=\"--\"\n",
    ")\n",
    "model_best_joint.spectral_model.plot_error(**plot_kwargs)\n",
    "\n",
    "plt.legend()"
   ]
  },
  {
   "cell_type": "code",
   "execution_count": 47,
   "metadata": {},
   "outputs": [
    {
     "data": {
      "image/png": "[encoded data removed]",
      "text/plain": [
       "<Figure size 648x504 with 2 Axes>"
      ]
     },
     "metadata": {
      "needs_background": "light"
     },
     "output_type": "display_data"
    }
   ],
   "source": [
    "plt.figure(figsize=(9, 7))\n",
    "ax_spectrum, ax_residual = datasets_stacked.plot_fit()\n",
    "#ax_spectrum.set_ylim(0.1, 40)"
   ]
  },
  {
   "cell_type": "code",
   "execution_count": 44,
   "metadata": {},
   "outputs": [
    {
     "data": {
      "text/plain": [
       "<matplotlib.axes._subplots.AxesSubplot at 0x7f4056c9e668>"
      ]
     },
     "execution_count": 44,
     "metadata": {},
     "output_type": "execute_result"
    },
    {
     "data": {
      "image/png": "[encoded data removed]",
      "text/plain": [
       "<Figure size 432x288 with 1 Axes>"
      ]
     },
     "metadata": {
      "needs_background": "light"
     },
     "output_type": "display_data"
    }
   ],
   "source": [
    "datasets_stacked.plot_residuals(method='diff/sqrt(model)'')"
   ]
  },
  {
   "cell_type": "markdown",
   "metadata": {},
   "source": [
    "## Computing Flux points"
   ]
  },
  {
   "cell_type": "code",
   "execution_count": 36,
   "metadata": {},
   "outputs": [],
   "source": [
    "e_min, e_max = 0.7, 30\n",
    "e_edges = np.logspace(np.log10(e_min), np.log10(e_max), 11) * u.TeV"
   ]
  },
  {
   "cell_type": "code",
   "execution_count": 37,
   "metadata": {},
   "outputs": [],
   "source": [
    "fpe = FluxPointsEstimator(datasets=copy, e_edges=e_edges)\n",
    "flux_points = fpe.run()"
   ]
  },
  {
   "cell_type": "code",
   "execution_count": 38,
   "metadata": {},
   "outputs": [
    {
     "data": {
      "text/plain": [
       "<matplotlib.axes._subplots.AxesSubplot at 0x7f4059528198>"
      ]
     },
     "execution_count": 38,
     "metadata": {},
     "output_type": "execute_result"
    },
    {
     "data": {
      "image/png": "[encoded data removed]",
      "text/plain": [
       "<Figure size 576x360 with 2 Axes>"
      ]
     },
     "metadata": {
      "needs_background": "light"
     },
     "output_type": "display_data"
    }
   ],
   "source": [
    "\n",
    "plt.figure(figsize=(8, 5))\n",
    "flux_points.table[\"is_ul\"] = flux_points.table[\"ts\"] < 4\n",
    "ax = flux_points.plot(\n",
    "    energy_power=2, flux_unit=\"erg-1 cm-2 s-1\", color=\"darkorange\"\n",
    ")\n",
    "flux_points.to_sed_type(\"e2dnde\").plot_ts_profiles(ax=ax)\n",
    "\n"
   ]
  },
  {
   "cell_type": "code",
   "execution_count": 39,
   "metadata": {},
   "outputs": [],
   "source": [
    "flux_points_dataset = FluxPointsDataset(\n",
    "    data=flux_points, models=model_best_joint\n",
    ")"
   ]
  },
  {
   "cell_type": "code",
   "execution_count": 40,
   "metadata": {},
   "outputs": [
    {
     "data": {
      "image/png": "[encoded data removed]",
      "text/plain": [
       "<Figure size 576x432 with 2 Axes>"
      ]
     },
     "metadata": {
      "needs_background": "light"
     },
     "output_type": "display_data"
    }
   ],
   "source": [
    "plt.figure(figsize=(8, 6))\n",
    "flux_points_dataset.peek();"
   ]
  },
  {
   "cell_type": "code",
   "execution_count": null,
   "metadata": {},
   "outputs": [],
   "source": []
  }
 ],
 "metadata": {
  "kernelspec": {
   "display_name": "Python 3",
   "language": "python",
   "name": "python3"
  },
  "language_info": {
   "codemirror_mode": {
    "name": "ipython",
    "version": 3
   },
   "file_extension": ".py",
   "mimetype": "text/x-python",
   "name": "python",
   "nbconvert_exporter": "python",
   "pygments_lexer": "ipython3",
   "version": "3.7.0"
  }
 },
 "nbformat": 4,
 "nbformat_minor": 4
}
