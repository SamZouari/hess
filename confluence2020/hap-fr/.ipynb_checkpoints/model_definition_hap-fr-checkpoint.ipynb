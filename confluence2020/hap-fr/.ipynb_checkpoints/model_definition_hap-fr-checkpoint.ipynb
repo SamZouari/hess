{
 "cells": [
  {
   "cell_type": "markdown",
   "metadata": {},
   "source": [
    "# Model definition (for hap-fr)"
   ]
  },
  {
   "cell_type": "code",
   "execution_count": 1,
   "metadata": {},
   "outputs": [
    {
     "data": {
      "text/plain": [
       "'0.15'"
      ]
     },
     "execution_count": 1,
     "metadata": {},
     "output_type": "execute_result"
    }
   ],
   "source": [
    "%matplotlib inline\n",
    "import matplotlib.pyplot as plt\n",
    "import numpy as np\n",
    "from scipy.stats import norm\n",
    "\n",
    "import astropy.units as u\n",
    "from astropy.coordinates import SkyCoord, Angle\n",
    "from astropy.convolution import Tophat2DKernel\n",
    "from regions import CircleSkyRegion, RectangleSkyRegion\n",
    "\n",
    "from gammapy.detect import compute_lima_on_off_image,compute_lima_image # quelle différence entre les deux ?\n",
    "from gammapy.data import DataStore\n",
    "from gammapy.irf import make_mean_psf\n",
    "from gammapy.maps import Map, MapAxis, WcsGeom\n",
    "from gammapy.cube import (\n",
    "    MapDatasetMaker,\n",
    "    PSFKernel,\n",
    "    MapDataset,\n",
    "    RingBackgroundMaker,\n",
    "    SafeMaskMaker,\n",
    "    #RingBackgroundEstimator,\n",
    ")\n",
    "from gammapy.modeling.models import (\n",
    "    SkyModel,\n",
    "    SkyModels,\n",
    "    BackgroundModel,\n",
    "    PowerLawSpectralModel,\n",
    "    PowerLaw2SpectralModel,\n",
    "    PointSpatialModel,\n",
    "    ExpCutoffPowerLawSpectralModel,\n",
    "    SkyDiffuseCube,\n",
    "    TemplateSpatialModel,\n",
    "    GaussianSpatialModel\n",
    ")\n",
    "from gammapy.stats import significance, excess # utiles ?\n",
    "\n",
    "from gammapy.modeling import Fit\n",
    "from astropy.time import Time\n",
    "\n",
    "src_pos = SkyCoord(359.94, -0.04, unit=\"deg\", frame=\"galactic\")\n",
    "\n",
    "import gammapy\n",
    "gammapy.__version__"
   ]
  },
  {
   "cell_type": "code",
   "execution_count": 2,
   "metadata": {},
   "outputs": [],
   "source": [
    "from pathlib import Path\n",
    "\n",
    "# Directory for outputs\n",
    "\n",
    "path = Path(\"../../../../gammapy_data/GC_variability2020/hap-fr\")\n",
    "path.mkdir(exist_ok=True)\n",
    "\n",
    "pathm = Path(\"../../../../gammapy_data/GC_variability2020/hap-fr/models\")\n",
    "pathm.mkdir(exist_ok=True)"
   ]
  },
  {
   "cell_type": "markdown",
   "metadata": {},
   "source": [
    "## Creating the geometry"
   ]
  },
  {
   "cell_type": "code",
   "execution_count": 3,
   "metadata": {},
   "outputs": [],
   "source": [
    "emin, emax = [0.5, 100] * u.TeV\n",
    "\n",
    "e_bins = 20\n",
    "\n",
    "energy_axis = MapAxis.from_bounds(\n",
    "    emin.value, emax.value, e_bins, unit=\"TeV\", name=\"energy\", interp=\"log\"\n",
    ")\n",
    "geom = WcsGeom.create(\n",
    "    skydir=(0, 0),\n",
    "    binsz=0.02,\n",
    "    width=(10, 8),\n",
    "    coordsys=\"GAL\",\n",
    "    proj=\"CAR\",\n",
    "    axes=[energy_axis],\n",
    ")\n",
    "\n",
    "geom2d = WcsGeom.create(\n",
    "    skydir=(0, 0),\n",
    "    binsz=0.02,\n",
    "    width=(10, 8),\n",
    "    coordsys=\"GAL\",\n",
    "    proj=\"CAR\",\n",
    ")\n",
    "\n",
    "emintrue, emaxtrue = [0.3,200] * u.TeV\n",
    "e_bins_true = 30\n",
    "\n",
    "energy_axis_true = MapAxis.from_bounds(\n",
    "    emintrue.value, emaxtrue.value, e_bins_true, unit=\"TeV\", name=\"energy\", interp=\"log\"\n",
    ")"
   ]
  },
  {
   "cell_type": "markdown",
   "metadata": {},
   "source": [
    "## Model for the central source (HESS J1745-290)"
   ]
  },
  {
   "cell_type": "code",
   "execution_count": 4,
   "metadata": {},
   "outputs": [],
   "source": [
    "src_pos = SkyCoord(359.94, -0.04, unit=\"deg\", frame=\"galactic\")\n",
    "\n",
    "spatial_model = PointSpatialModel(\n",
    "            lon_0 = src_pos.l, \n",
    "            lat_0 = src_pos.b, \n",
    "            frame = \"galactic\")\n",
    "\n",
    "spectral_model = PowerLawSpectralModel(\n",
    "            #emin = 0.5* u.TeV, \n",
    "            #emax = 100* u.TeV, \n",
    "            reference = 1.0 * u.TeV,\n",
    "            index = 2.3, \n",
    "            amplitude = \"2.9e-12 cm-2 s-1 TeV-1\")\n",
    "\n",
    "model = SkyModel(\n",
    "            spatial_model = spatial_model, \n",
    "            spectral_model = spectral_model, \n",
    "            name = \"SgrA*\")\n",
    "\n",
    "model.parameters[\"index\"].frozen = True\n",
    "model.parameters[\"lon_0\"].frozen = True\n",
    "model.parameters[\"lat_0\"].frozen = True\n",
    "model.parameters[\"amplitude\"].frozen = False\n",
    "model.parameters[\"reference\"].frozen = True # change très peu"
   ]
  },
  {
   "cell_type": "code",
   "execution_count": 5,
   "metadata": {},
   "outputs": [],
   "source": [
    "src_pos = SkyCoord(359.94, -0.04, unit=\"deg\", frame=\"galactic\")\n",
    "\n",
    "spatial_model = PointSpatialModel(\n",
    "            lon_0 = src_pos.l, \n",
    "            lat_0 = src_pos.b, \n",
    "            frame = \"galactic\")\n",
    "\n",
    "spectral_model = ExpCutoffPowerLawSpectralModel(\n",
    "        index=2, \n",
    "        amplitude=3e-12 * u.Unit(\"cm-2 s-1 TeV-1\"), \n",
    "        reference=1 * u.TeV , \n",
    "        lambda_= 1/(10*u.TeV) , \n",
    "        alpha= 1)\n",
    "\n",
    "modelCG_cutoff = SkyModel(\n",
    "            spatial_model = spatial_model, \n",
    "            spectral_model = spectral_model, \n",
    "            name = \"SgrA*\")\n",
    "\n",
    "modelCG_cutoff.parameters[\"index\"].frozen = False\n",
    "modelCG_cutoff.parameters[\"lambda_\"].frozen = False\n",
    "modelCG_cutoff.parameters[\"lon_0\"].frozen = True\n",
    "modelCG_cutoff.parameters[\"lat_0\"].frozen = True\n",
    "modelCG_cutoff.parameters[\"amplitude\"].frozen = False\n",
    "modelCG_cutoff.parameters[\"reference\"].frozen = True"
   ]
  },
  {
   "cell_type": "markdown",
   "metadata": {},
   "source": [
    "## Model for a nearby source (G09+01)"
   ]
  },
  {
   "cell_type": "code",
   "execution_count": 6,
   "metadata": {},
   "outputs": [],
   "source": [
    "pos_G09 = SkyCoord(0.8791,  +0.0893, unit=\"deg\", frame=\"galactic\")\n",
    "\n",
    "spatial_model2 = PointSpatialModel(\n",
    "            lon_0 = pos_G09.l, \n",
    "            lat_0 = pos_G09.b, \n",
    "            frame = \"galactic\")\n",
    "\n",
    "spectral_model2 = PowerLawSpectralModel(\n",
    "            #emin = 0.5* u.TeV, \n",
    "            #emax = 100* u.TeV, \n",
    "            reference = 1.0 * u.TeV,\n",
    "            index = 2.3, \n",
    "            amplitude = \"0.88e-12 cm-2 s-1 TeV-1\")\n",
    "\n",
    "modelG09 = SkyModel(\n",
    "            spatial_model = spatial_model2, \n",
    "            spectral_model = spectral_model2, \n",
    "            name = \"G0901\")\n",
    "\n",
    "modelG09.parameters[\"index\"].frozen = True\n",
    "modelG09.parameters[\"lon_0\"].frozen = True\n",
    "modelG09.parameters[\"lat_0\"].frozen = True\n",
    "modelG09.parameters[\"amplitude\"].frozen = False"
   ]
  },
  {
   "cell_type": "markdown",
   "metadata": {},
   "source": [
    "## Modelling the diffuse emission"
   ]
  },
  {
   "cell_type": "code",
   "execution_count": 22,
   "metadata": {},
   "outputs": [
    {
     "name": "stderr",
     "output_type": "stream",
     "text": [
      "Invalid value BUNIT='Count' in FITS header. Setting empty unit.\n"
     ]
    }
   ],
   "source": [
    "# GaussianSpatialModel attention pour la composante étendue et les deux sigma\n",
    "\n",
    "CSmap = Map.read(\"$GAMMAPY_DATA/CS_reproj.fits\") \n",
    "\n",
    "coords = CSmap.geom.get_coord()\n",
    "lon = coords.skycoord.l.wrap_at(180*u.deg).to_value('deg')\n",
    "factor = np.exp(-0.5*(lon)**2/1.11**2) #1.11 quand on a les 3 composantes\n",
    "CSmap.data*=factor\n",
    "\n",
    "CSmap.data = (CSmap.data > 10.0) * CSmap.data\n",
    "\n",
    "solid_angle_tot = CSmap.geom.solid_angle().sum()\n",
    "\n",
    "\n",
    "DGC = TemplateSpatialModel(CSmap) \n",
    "\n",
    "CC = GaussianSpatialModel(lon_0=\"0 deg\", lat_0=\"0 deg\", sigma=\"0.11 deg\", frame='galactic') #sigma de 0.11\n",
    "\n",
    "LSC = GaussianSpatialModel(lon_0=\"0 deg\", lat_0=\"0 deg\", sigma=\"0.97 deg\", e=np.sqrt(1-(0.22/0.97)**2), phi=\"90 deg\", frame='galactic') \n",
    "#sigma1 de 0.97 et sigma2 de 0.22, à transformer en sigma et excentricité\n",
    "\n",
    "mapCC = CC.evaluate_geom(geom2d)*geom2d.solid_angle()\n",
    "mapLSC = LSC.evaluate_geom(geom2d)*geom2d.solid_angle()\n",
    "mapDGC = DGC.evaluate_geom(geom2d)*geom2d.solid_angle()\n",
    "\n",
    "CCmax = np.sum(mapCC)\n",
    "LSCmax = np.sum(mapLSC)\n",
    "DGCmax = np.sum(mapDGC)\n",
    "\n",
    "mapCC = mapCC/CCmax\n",
    "mapLSC = mapLSC/LSCmax\n",
    "mapDGC = mapDGC/DGCmax\n",
    "\n",
    "data_combine = 2.68*mapLSC + 4.3*mapDGC +1.03*mapCC # facteurs pour avoir les bons ratios sur les max d'amplitude\n",
    "\n",
    "carte = Map.from_geom(geom2d)\n",
    "carte.quantity = data_combine\n",
    "\n",
    "# in 0.15, saving a model use TemplateSpatialModel loses the base map used as a template, so we need to save it and reference it later in the associated .yaml file\n",
    "carte.write(path/\"models/map_DE_spatial_model\", overwrite=True)"
   ]
  },
  {
   "cell_type": "code",
   "execution_count": 24,
   "metadata": {},
   "outputs": [
    {
     "data": {
      "image/png": "[encoded data removed]",
      "text/plain": [
       "<Figure size 576x576 with 1 Axes>"
      ]
     },
     "metadata": {
      "needs_background": "light"
     },
     "output_type": "display_data"
    }
   ],
   "source": [
    "#plt.figure(figsize=(8,8))\n",
    "#plt.title()\n",
    "#carte.cutout(src_pos,3*u.deg).smooth('0.1 deg').plot()\n",
    "#plt.savefig('titre_DE_model_smooth_01deg.pdf')"
   ]
  },
  {
   "cell_type": "code",
   "execution_count": 8,
   "metadata": {},
   "outputs": [],
   "source": [
    "DE_spatial = TemplateSpatialModel(carte) # à noter : on normalise la carte (le modèle spatial) à cette étape là\n",
    "\n",
    "\n",
    "powerlaw1 =  PowerLawSpectralModel(\n",
    "            reference = 1.0 * u.TeV,\n",
    "            index = 2.3, \n",
    "            amplitude = \"1.0e-12 cm-2 s-1 TeV-1\")\n",
    "\n",
    "model_diff = SkyModel(\n",
    "            spatial_model = DE_spatial, \n",
    "            spectral_model = powerlaw1, \n",
    "            name = \"DE_full\")\n",
    "\n",
    "model_diff.parameters[\"index\"].frozen = True\n",
    "model_diff.parameters[\"norm\"].frozen = True\n",
    "model_diff.parameters[\"amplitude\"].frozen = False\n",
    "model_diff.parameters[\"reference\"].frozen = True\n",
    "\n",
    "\n",
    "model_diff.spatial_model.filename = str(path/\"models/map_DE_spatial_model\")\n",
    "\n"
   ]
  },
  {
   "cell_type": "code",
   "execution_count": 9,
   "metadata": {},
   "outputs": [],
   "source": [
    "DE_spatial = TemplateSpatialModel(carte) # à noter : on normalise la carte (le modèle spatial) à cette étape là\n",
    "\n",
    "\n",
    "spectral_model = ExpCutoffPowerLawSpectralModel(\n",
    "        index=2.3, \n",
    "        amplitude=3e-12 * u.Unit(\"cm-2 s-1 TeV-1\"), \n",
    "        reference=1 * u.TeV , \n",
    "        lambda_= 1/(10*u.TeV) , \n",
    "        alpha= 1)\n",
    "\n",
    "model_diff_cutoff = SkyModel(\n",
    "            spatial_model = DE_spatial, \n",
    "            spectral_model = spectral_model, \n",
    "            name = \"DE_full\")\n",
    "\n",
    "model_diff_cutoff.parameters[\"index\"].frozen = False\n",
    "model_diff_cutoff.parameters[\"lambda_\"].frozen = False\n",
    "model_diff_cutoff.parameters[\"norm\"].frozen = True\n",
    "model_diff_cutoff.parameters[\"amplitude\"].frozen = False\n",
    "model_diff_cutoff.parameters[\"reference\"].frozen = True\n",
    "\n",
    "model_diff_cutoff.spatial_model.filename = str(path/\"models/map_DE_spatial_model\")"
   ]
  },
  {
   "cell_type": "markdown",
   "metadata": {},
   "source": [
    "## Saving the template of the model (without cutoffs)"
   ]
  },
  {
   "cell_type": "code",
   "execution_count": 13,
   "metadata": {},
   "outputs": [],
   "source": [
    "models = model.copy() + modelG09.copy()+ model_diff.copy()\n",
    "name = \"models/models_template.yaml\"\n",
    "models.write(path/name, overwrite=True)"
   ]
  },
  {
   "cell_type": "markdown",
   "metadata": {},
   "source": [
    "## Saving the template of the model (with cutoff for th GC)"
   ]
  },
  {
   "cell_type": "code",
   "execution_count": 14,
   "metadata": {},
   "outputs": [],
   "source": [
    "models = modelCG_cutoff.copy() + modelG09.copy()+ model_diff.copy()\n",
    "name = \"models/models_template_1cutoff.yaml\"\n",
    "models.write(path/name, overwrite=True)"
   ]
  },
  {
   "cell_type": "markdown",
   "metadata": {},
   "source": [
    "## Saving the template of the model (with 2 cutoffs)"
   ]
  },
  {
   "cell_type": "code",
   "execution_count": 15,
   "metadata": {},
   "outputs": [],
   "source": [
    "models = modelCG_cutoff.copy() + modelG09.copy()+ model_diff_cutoff.copy()\n",
    "name = \"models/models_template_2cutoff.yaml\"\n",
    "models.write(path/name, overwrite=True)"
   ]
  }
 ],
 "metadata": {
  "kernelspec": {
   "display_name": "Python 3",
   "language": "python",
   "name": "python3"
  },
  "language_info": {
   "codemirror_mode": {
    "name": "ipython",
    "version": 3
   },
   "file_extension": ".py",
   "mimetype": "text/x-python",
   "name": "python",
   "nbconvert_exporter": "python",
   "pygments_lexer": "ipython3",
   "version": "3.7.0"
  }
 },
 "nbformat": 4,
 "nbformat_minor": 4
}
