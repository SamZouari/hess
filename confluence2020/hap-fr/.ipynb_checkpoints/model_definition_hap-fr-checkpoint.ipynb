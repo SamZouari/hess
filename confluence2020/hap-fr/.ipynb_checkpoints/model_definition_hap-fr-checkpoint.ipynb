{
 "cells": [
  {
   "cell_type": "markdown",
   "metadata": {},
   "source": [
    "# Model definition (for hap-fr)"
   ]
  },
  {
   "cell_type": "code",
   "execution_count": 31,
   "metadata": {},
   "outputs": [
    {
     "data": {
      "text/plain": [
       "'0.15'"
      ]
     },
     "execution_count": 31,
     "metadata": {},
     "output_type": "execute_result"
    }
   ],
   "source": [
    "%matplotlib inline\n",
    "import matplotlib.pyplot as plt\n",
    "import numpy as np\n",
    "from scipy.stats import norm\n",
    "\n",
    "import astropy.units as u\n",
    "from astropy.coordinates import SkyCoord, Angle\n",
    "from astropy.convolution import Tophat2DKernel\n",
    "from regions import CircleSkyRegion, RectangleSkyRegion\n",
    "\n",
    "from gammapy.detect import compute_lima_on_off_image,compute_lima_image # quelle différence entre les deux ?\n",
    "from gammapy.data import DataStore\n",
    "from gammapy.irf import make_mean_psf\n",
    "from gammapy.maps import Map, MapAxis, WcsGeom\n",
    "from gammapy.cube import (\n",
    "    MapDatasetMaker,\n",
    "    PSFKernel,\n",
    "    MapDataset,\n",
    "    RingBackgroundMaker,\n",
    "    SafeMaskMaker,\n",
    "    #RingBackgroundEstimator,\n",
    ")\n",
    "from gammapy.modeling.models import (\n",
    "    SkyModel,\n",
    "    SkyModels,\n",
    "    BackgroundModel,\n",
    "    PowerLawSpectralModel,\n",
    "    PowerLaw2SpectralModel,\n",
    "    PointSpatialModel,\n",
    "    ExpCutoffPowerLawSpectralModel,\n",
    "    SkyDiffuseCube,\n",
    "    TemplateSpatialModel,\n",
    "    GaussianSpatialModel\n",
    ")\n",
    "from gammapy.stats import significance, excess # utiles ?\n",
    "\n",
    "from gammapy.modeling import Fit\n",
    "from astropy.time import Time\n",
    "\n",
    "src_pos = SkyCoord(359.94, -0.04, unit=\"deg\", frame=\"galactic\")\n",
    "\n",
    "import gammapy\n",
    "gammapy.__version__"
   ]
  },
  {
   "cell_type": "code",
   "execution_count": 20,
   "metadata": {},
   "outputs": [],
   "source": [
    "from pathlib import Path\n",
    "\n",
    "# Directory for outputs\n",
    "\n",
    "path = Path(\"../../../../gammapy_data/GC_variability2020/hap-fr\")\n",
    "path.mkdir(exist_ok=True)"
   ]
  },
  {
   "cell_type": "markdown",
   "metadata": {},
   "source": [
    "## Creating the geometry"
   ]
  },
  {
   "cell_type": "code",
   "execution_count": 21,
   "metadata": {},
   "outputs": [],
   "source": [
    "emin, emax = [0.5, 100] * u.TeV\n",
    "\n",
    "energy_axis = MapAxis.from_bounds(\n",
    "    emin.value, emax.value, 20, unit=\"TeV\", name=\"energy\", interp=\"log\"\n",
    ")\n",
    "geom = WcsGeom.create(\n",
    "    skydir=(0, 0),\n",
    "    binsz=0.02,\n",
    "    width=(10, 8),\n",
    "    coordsys=\"GAL\",\n",
    "    proj=\"CAR\",\n",
    "    axes=[energy_axis],\n",
    ")\n",
    "\n",
    "geom2d = WcsGeom.create(\n",
    "    skydir=(0, 0),\n",
    "    binsz=0.02,\n",
    "    width=(10, 8),\n",
    "    coordsys=\"GAL\",\n",
    "    proj=\"CAR\",\n",
    ")\n",
    "\n",
    "energy_axis_true = MapAxis.from_bounds(\n",
    "    0.3, 200, 30, unit=\"TeV\", name=\"energy\", interp=\"log\"\n",
    ")"
   ]
  },
  {
   "cell_type": "code",
   "execution_count": 22,
   "metadata": {},
   "outputs": [],
   "source": [
    "# Creating the total dataset\n",
    "\n",
    "mapdataset_tot = MapDataset.create(geom=geom, energy_axis_true=energy_axis_true)\n",
    "\n",
    "filename = \"mapdatasets/mapdataset_tot.fits.gz\"\n",
    "mapdataset_tot = MapDataset.read(path/filename)"
   ]
  },
  {
   "cell_type": "markdown",
   "metadata": {},
   "source": [
    "## Model for the central source (HESS J1745-290)"
   ]
  },
  {
   "cell_type": "code",
   "execution_count": 23,
   "metadata": {},
   "outputs": [],
   "source": [
    "src_pos = SkyCoord(359.94, -0.04, unit=\"deg\", frame=\"galactic\")\n",
    "\n",
    "spatial_model = PointSpatialModel(\n",
    "            lon_0 = src_pos.l, \n",
    "            lat_0 = src_pos.b, \n",
    "            frame = \"galactic\")\n",
    "\n",
    "spectral_model = PowerLawSpectralModel(\n",
    "            #emin = 0.5* u.TeV, \n",
    "            #emax = 100* u.TeV, \n",
    "            reference = 1.0 * u.TeV,\n",
    "            index = 2.3, \n",
    "            amplitude = \"2.9e-12 cm-2 s-1 TeV-1\")\n",
    "\n",
    "model = SkyModel(\n",
    "            spatial_model = spatial_model, \n",
    "            spectral_model = spectral_model, \n",
    "            name = \"SgrA*\")\n",
    "\n",
    "model.parameters[\"index\"].frozen = True\n",
    "model.parameters[\"lon_0\"].frozen = True\n",
    "model.parameters[\"lat_0\"].frozen = True\n",
    "model.parameters[\"amplitude\"].frozen = False\n",
    "model.parameters[\"reference\"].frozen = True # change très peu"
   ]
  },
  {
   "cell_type": "markdown",
   "metadata": {},
   "source": [
    "## Model for a nearby source (G09+01)"
   ]
  },
  {
   "cell_type": "code",
   "execution_count": 24,
   "metadata": {},
   "outputs": [],
   "source": [
    "pos_G09 = SkyCoord(0.8791,  +0.0893, unit=\"deg\", frame=\"galactic\")\n",
    "\n",
    "spatial_model2 = PointSpatialModel(\n",
    "            lon_0 = pos_G09.l, \n",
    "            lat_0 = pos_G09.b, \n",
    "            frame = \"galactic\")\n",
    "\n",
    "spectral_model2 = PowerLawSpectralModel(\n",
    "            #emin = 0.5* u.TeV, \n",
    "            #emax = 100* u.TeV, \n",
    "            reference = 1.0 * u.TeV,\n",
    "            index = 2.3, \n",
    "            amplitude = \"0.88e-12 cm-2 s-1 TeV-1\")\n",
    "\n",
    "modelG09 = SkyModel(\n",
    "            spatial_model = spatial_model2, \n",
    "            spectral_model = spectral_model2, \n",
    "            name = \"G0901\")\n",
    "\n",
    "modelG09.parameters[\"index\"].frozen = True\n",
    "modelG09.parameters[\"lon_0\"].frozen = True\n",
    "modelG09.parameters[\"lat_0\"].frozen = True\n",
    "modelG09.parameters[\"amplitude\"].frozen = False"
   ]
  },
  {
   "cell_type": "markdown",
   "metadata": {},
   "source": [
    "## Modelling the diffuse emission"
   ]
  },
  {
   "cell_type": "code",
   "execution_count": 25,
   "metadata": {},
   "outputs": [
    {
     "name": "stderr",
     "output_type": "stream",
     "text": [
      "Invalid value BUNIT='Count' in FITS header. Setting empty unit.\n"
     ]
    }
   ],
   "source": [
    "# GaussianSpatialModel attention pour la composante étendue et les deux sigma\n",
    "\n",
    "CSmap = Map.read(\"$GAMMAPY_DATA/CS_reproj.fits\") \n",
    "\n",
    "coords = CSmap.geom.get_coord()\n",
    "lon = coords.skycoord.l.wrap_at(180*u.deg).to_value('deg')\n",
    "factor = np.exp(-0.5*(lon)**2/1.11**2) #1.11 quand on a les 3 composantes\n",
    "CSmap.data*=factor\n",
    "\n",
    "CSmap.data = (CSmap.data > 10.0) * CSmap.data\n",
    "\n",
    "solid_angle_tot = CSmap.geom.solid_angle().sum()\n",
    "\n",
    "\n",
    "\n",
    "DGC = TemplateSpatialModel(CSmap) \n",
    "\n",
    "CC = GaussianSpatialModel(lon_0=\"0 deg\", lat_0=\"0 deg\", sigma=\"0.11 deg\", frame='galactic') #sigma de 0.11\n",
    "\n",
    "LSC = GaussianSpatialModel(lon_0=\"0 deg\", lat_0=\"0 deg\", sigma=\"0.97 deg\", e=np.sqrt(1-(0.22/0.97)**2), phi=\"90 deg\", frame='galactic') #sigma1 de 0.97 et sigma2 de 0.22, à transformer en sigma et excentricité\n",
    "\n",
    "mapCC = CC.evaluate_geom(geom2d)*geom2d.solid_angle()\n",
    "mapLSC = LSC.evaluate_geom(geom2d)*geom2d.solid_angle()\n",
    "mapDGC = DGC.evaluate_geom(geom2d)*geom2d.solid_angle()\n",
    "\n",
    "CCmax = np.max(mapCC)\n",
    "LSCmax = np.max(mapLSC)\n",
    "DGCmax = np.max(mapDGC)\n",
    "\n",
    "mapCC = mapCC/CCmax\n",
    "mapLSC = mapLSC/LSCmax\n",
    "mapDGC = mapDGC/DGCmax\n",
    "\n",
    "data_combine = 2.68*mapLSC + 4.3*mapDGC +1.03*mapCC # facteurs pour avoir les bons ratios sur les max d'amplitude\n",
    "\n",
    "carte = Map.from_geom(geom2d)\n",
    "carte.quantity = data_combine"
   ]
  },
  {
   "cell_type": "code",
   "execution_count": 26,
   "metadata": {},
   "outputs": [],
   "source": [
    "DE_spatial = TemplateSpatialModel(carte) # à noter : on normalise la carte (le modèle spatial) à cette étape là\n",
    "\n",
    "powerlaw1 =  PowerLawSpectralModel(\n",
    "            reference = 1.0 * u.TeV,\n",
    "            index = 2.3, \n",
    "            amplitude = \"1.0e-12 cm-2 s-1 TeV-1\")\n",
    "\n",
    "model_diff = SkyModel(\n",
    "            spatial_model = DE_spatial, \n",
    "            spectral_model = powerlaw1, \n",
    "            name = \"DE_full\")\n",
    "\n",
    "model_diff.parameters[\"index\"].frozen = True\n",
    "model_diff.parameters[\"norm\"].frozen = True\n",
    "model_diff.parameters[\"amplitude\"].frozen = False\n",
    "model_diff.parameters[\"reference\"].frozen = True"
   ]
  },
  {
   "cell_type": "markdown",
   "metadata": {},
   "source": [
    "## Constructing the mask"
   ]
  },
  {
   "cell_type": "code",
   "execution_count": 27,
   "metadata": {},
   "outputs": [],
   "source": [
    "fit_region = RectangleSkyRegion(src_pos, 4*u.deg, 2*u.deg)\n",
    "\n",
    "bizarre_region = CircleSkyRegion(SkyCoord(358.6,  -0.6, unit=\"deg\", frame=\"galactic\"), 0.5 * u.deg)\n",
    "\n",
    "fit_mask = geom.region_mask([fit_region])*geom.region_mask([bizarre_region] , inside=False)\n",
    "\n",
    "fit_mask = Map.from_geom(geom, data=fit_mask)"
   ]
  },
  {
   "cell_type": "markdown",
   "metadata": {},
   "source": [
    "## Function used to fit a given dataset"
   ]
  },
  {
   "cell_type": "code",
   "execution_count": 28,
   "metadata": {},
   "outputs": [],
   "source": [
    "def fit_dataset(mapdataset):\n",
    "    fit = Fit([mapdataset])\n",
    "    result = fit.run()\n",
    "    \n",
    "    table = result.parameters.to_table()\n",
    "    \n",
    "    rescov = fit.covariance()\n",
    "    ampSGRA = mapdataset.models.parameters[3]\n",
    "    ampdiff = mapdataset.models.parameters[12]\n",
    "    normbkg = mapdataset.background_model.parameters['norm']\n",
    "    \n",
    "    cov= rescov.parameters.get_subcovariance([ampSGRA, ampdiff, normbkg])\n",
    "    \n",
    "    return table, cov, result"
   ]
  },
  {
   "cell_type": "markdown",
   "metadata": {},
   "source": [
    "## Saving the template of the model"
   ]
  },
  {
   "cell_type": "code",
   "execution_count": 29,
   "metadata": {},
   "outputs": [],
   "source": [
    "models = model.copy() + modelG09.copy()+ model_diff.copy()\n",
    "name = \"models/models_template.yaml\"\n",
    "models.write(path/name, overwrite=True)"
   ]
  },
  {
   "cell_type": "markdown",
   "metadata": {},
   "source": [
    "# Fitting the total dataset"
   ]
  },
  {
   "cell_type": "code",
   "execution_count": 41,
   "metadata": {},
   "outputs": [],
   "source": [
    "mapdataset_tot.fit_mask = fit_mask\n",
    "mapdataset_tot.models =  model.copy() + modelG09.copy()+ model_diff.copy()\n",
    "mapdataset_tot.background_model.parameters['norm'].value = 1.0"
   ]
  },
  {
   "cell_type": "code",
   "execution_count": 42,
   "metadata": {},
   "outputs": [
    {
     "name": "stdout",
     "output_type": "stream",
     "text": [
      "CPU times: user 16.5 s, sys: 498 ms, total: 16.9 s\n",
      "Wall time: 17 s\n"
     ]
    }
   ],
   "source": [
    "%%time\n",
    "\n",
    "table, cov, result = fit_dataset(mapdataset_tot)"
   ]
  },
  {
   "cell_type": "code",
   "execution_count": 43,
   "metadata": {},
   "outputs": [
    {
     "data": {
      "text/plain": [
       "OptimizeResult\n",
       "\n",
       "\tbackend    : minuit\n",
       "\tmethod     : minuit\n",
       "\tsuccess    : False\n",
       "\tmessage    : Optimization failed.\n",
       "\tnfev       : 28\n",
       "\ttotal stat : 0.00"
      ]
     },
     "execution_count": 43,
     "metadata": {},
     "output_type": "execute_result"
    }
   ],
   "source": [
    "result"
   ]
  },
  {
   "cell_type": "markdown",
   "metadata": {},
   "source": [
    "# Results"
   ]
  },
  {
   "cell_type": "markdown",
   "metadata": {},
   "source": [
    "## Model predictions"
   ]
  },
  {
   "cell_type": "code",
   "execution_count": 44,
   "metadata": {},
   "outputs": [
    {
     "data": {
      "text/plain": [
       "0.0"
      ]
     },
     "execution_count": 44,
     "metadata": {},
     "output_type": "execute_result"
    }
   ],
   "source": [
    "np.max(mapdataset_tot.counts.data)"
   ]
  },
  {
   "cell_type": "markdown",
   "metadata": {},
   "source": [
    "## Residuals"
   ]
  },
  {
   "cell_type": "code",
   "execution_count": null,
   "metadata": {},
   "outputs": [],
   "source": [
    "region = CircleSkyRegion(\n",
    "    center=src_pos, radius=0.5 * u.deg\n",
    ")\n",
    "\n",
    "pathr = Path(path/\"residuals\")\n",
    "pathr.mkdir(exist_ok=True)\n",
    "\n",
    "mapdataset_tot.plot_residuals(\n",
    "        region=region, method=\"diff/sqrt(model)\", vmin=-1.0, vmax=1.0\n",
    "        )\n",
    "name = \"residuals_tot.pdf\"\n",
    "plt.title(\"\")\n",
    "plt.savefig(pathr/name, overwrite=True)"
   ]
  },
  {
   "cell_type": "markdown",
   "metadata": {},
   "source": [
    "## Significance map"
   ]
  },
  {
   "cell_type": "code",
   "execution_count": null,
   "metadata": {},
   "outputs": [],
   "source": [
    "paths = Path(path/\"significance\")\n",
    "paths.mkdir(exist_ok=True)\n",
    "\n",
    "kernel = Tophat2DKernel(5)\n",
    "\n",
    "plt.figure(figsize=(6,6))\n",
    "counts = mapdataset_tot.counts.sum_over_axes()\n",
    "mod = mapdataset_tot.npred().sum_over_axes()\n",
    "lima_significance = compute_lima_image(counts, mod, kernel)\n",
    "    \n",
    "lima_significance['significance'].plot(add_cbar=True)\n",
    "name = \"significance_map_tot.pdf\"\n",
    "plt.title(\"Significance map (data v. model predictions)\")\n",
    "plt.savefig(paths/name, overwrite=True)"
   ]
  },
  {
   "cell_type": "markdown",
   "metadata": {},
   "source": [
    "## Significance distribution"
   ]
  },
  {
   "cell_type": "code",
   "execution_count": null,
   "metadata": {},
   "outputs": [],
   "source": [
    "pathh = Path(paths/\"significance_distrib\")\n",
    "pathh.mkdir(exist_ok=True)\n",
    "\n",
    "plt.figure()\n",
    "signidata = lima_significance['significance'].cutout(position=src_pos, width=(3 * u.deg, 2* u.deg)).data\n",
    "    \n",
    "# on masque la région en bas à droite\n",
    "mask = fit_mask.reduce_over_axes(func=np.logical_or).cutout(position=src_pos, width=(3 * u.deg, 2 * u.deg)).data\n",
    "\n",
    "plt.hist(signidata[mask].flatten(),30, histtype='step', density=True)\n",
    "    \n",
    "mean,std=norm.fit(signidata[mask])\n",
    "xmin, xmax = plt.xlim()\n",
    "x = np.linspace(xmin, xmax, 100)\n",
    "y = norm.pdf(x, mean, std)\n",
    "plt.plot(x, y, label=r'$\\mu$ = {0:03.4f}, $\\sigma$ = {1:03.4f}'.format(mean,std))\n",
    "    \n",
    "plt.legend(loc=1)\n",
    "    \n",
    "name = \"significance_distribution_tot.pdf\"\n",
    "plt.title(\"Significance distribution for the central (3°,2°)\")\n",
    "plt.savefig(pathh/name, overwrite=True)"
   ]
  },
  {
   "cell_type": "markdown",
   "metadata": {},
   "source": [
    "# 1D spectral analysis of the central source"
   ]
  },
  {
   "cell_type": "code",
   "execution_count": 40,
   "metadata": {},
   "outputs": [],
   "source": [
    "from gammapy.spectrum import (\n",
    "    SpectrumDatasetMaker,\n",
    "    SpectrumDatasetOnOff,\n",
    "    SpectrumDataset,\n",
    "    FluxPointsEstimator,\n",
    "    FluxPointsDataset,\n",
    "    ReflectedRegionsBackgroundMaker,\n",
    "    plot_spectrum_datasets_off_regions,\n",
    ")"
   ]
  },
  {
   "cell_type": "code",
   "execution_count": 41,
   "metadata": {},
   "outputs": [],
   "source": [
    "src_pos = SkyCoord(359.94, -0.04, unit=\"deg\", frame=\"galactic\")\n",
    "\n",
    "on_region_radius = Angle(\"0.5 deg\")\n",
    "on_region = CircleSkyRegion(center=src_pos, radius=on_region_radius)"
   ]
  },
  {
   "cell_type": "code",
   "execution_count": 42,
   "metadata": {},
   "outputs": [
    {
     "data": {
      "image/png": "[encoded data removed]",
      "text/plain": [
       "<Figure size 432x288 with 1 Axes>"
      ]
     },
     "metadata": {
      "needs_background": "light"
     },
     "output_type": "display_data"
    }
   ],
   "source": [
    "# We need to define an \"off\" region as well, to estimate the background level\n",
    "\n",
    "exclusion_region = CircleSkyRegion(\n",
    "    center=SkyCoord(0, 0, unit=\"deg\", frame=\"galactic\"),\n",
    "    radius=0.5 * u.deg,\n",
    ")\n",
    "\n",
    "skydir = src_pos.galactic\n",
    "exclusion_mask = Map.create(\n",
    "    npix=(100, 100), binsz=0.05, skydir=skydir, proj=\"TAN\", coordsys=\"GAL\"\n",
    ")\n",
    "\n",
    "mask = exclusion_mask.geom.region_mask([exclusion_region], inside=False)\n",
    "exclusion_mask.data = mask\n",
    "exclusion_mask.plot();"
   ]
  },
  {
   "cell_type": "code",
   "execution_count": 45,
   "metadata": {},
   "outputs": [
    {
     "ename": "TypeError",
     "evalue": "'MapAxis' object is not subscriptable",
     "output_type": "error",
     "traceback": [
      "\u001b[0;31m---------------------------------------------------------------------------\u001b[0m",
      "\u001b[0;31mTypeError\u001b[0m                                 Traceback (most recent call last)",
      "\u001b[0;32m<ipython-input-45-d49ad97c40f8>\u001b[0m in \u001b[0;36m<module>\u001b[0;34m\u001b[0m\n\u001b[1;32m      1\u001b[0m dataset_empty = SpectrumDataset.create(\n\u001b[0;32m----> 2\u001b[0;31m     \u001b[0me_reco\u001b[0m\u001b[0;34m=\u001b[0m\u001b[0menergy_axis\u001b[0m\u001b[0;34m,\u001b[0m \u001b[0me_true\u001b[0m\u001b[0;34m=\u001b[0m\u001b[0menergy_axis_true\u001b[0m\u001b[0;34m,\u001b[0m \u001b[0mregion\u001b[0m\u001b[0;34m=\u001b[0m\u001b[0mon_region\u001b[0m\u001b[0;34m\u001b[0m\u001b[0m\n\u001b[0m\u001b[1;32m      3\u001b[0m )\n\u001b[1;32m      4\u001b[0m \u001b[0;34m\u001b[0m\u001b[0m\n\u001b[1;32m      5\u001b[0m dataset_maker = SpectrumDatasetMaker(\n",
      "\u001b[0;32m~/anaconda3/envs/gammapy-0.15/lib/python3.7/site-packages/gammapy/spectrum/dataset.py\u001b[0m in \u001b[0;36mcreate\u001b[0;34m(cls, e_reco, e_true, region, reference_time)\u001b[0m\n\u001b[1;32m    429\u001b[0m             \u001b[0me_true\u001b[0m \u001b[0;34m=\u001b[0m \u001b[0me_reco\u001b[0m\u001b[0;34m\u001b[0m\u001b[0m\n\u001b[1;32m    430\u001b[0m \u001b[0;34m\u001b[0m\u001b[0m\n\u001b[0;32m--> 431\u001b[0;31m         \u001b[0mcounts\u001b[0m \u001b[0;34m=\u001b[0m \u001b[0mCountsSpectrum\u001b[0m\u001b[0;34m(\u001b[0m\u001b[0me_reco\u001b[0m\u001b[0;34m[\u001b[0m\u001b[0;34m:\u001b[0m\u001b[0;34m-\u001b[0m\u001b[0;36m1\u001b[0m\u001b[0;34m]\u001b[0m\u001b[0;34m,\u001b[0m \u001b[0me_reco\u001b[0m\u001b[0;34m[\u001b[0m\u001b[0;36m1\u001b[0m\u001b[0;34m:\u001b[0m\u001b[0;34m]\u001b[0m\u001b[0;34m,\u001b[0m \u001b[0mregion\u001b[0m\u001b[0;34m=\u001b[0m\u001b[0mregion\u001b[0m\u001b[0;34m)\u001b[0m\u001b[0;34m\u001b[0m\u001b[0m\n\u001b[0m\u001b[1;32m    432\u001b[0m         \u001b[0mbackground\u001b[0m \u001b[0;34m=\u001b[0m \u001b[0mCountsSpectrum\u001b[0m\u001b[0;34m(\u001b[0m\u001b[0me_reco\u001b[0m\u001b[0;34m[\u001b[0m\u001b[0;34m:\u001b[0m\u001b[0;34m-\u001b[0m\u001b[0;36m1\u001b[0m\u001b[0;34m]\u001b[0m\u001b[0;34m,\u001b[0m \u001b[0me_reco\u001b[0m\u001b[0;34m[\u001b[0m\u001b[0;36m1\u001b[0m\u001b[0;34m:\u001b[0m\u001b[0;34m]\u001b[0m\u001b[0;34m,\u001b[0m \u001b[0mregion\u001b[0m\u001b[0;34m=\u001b[0m\u001b[0mregion\u001b[0m\u001b[0;34m)\u001b[0m\u001b[0;34m\u001b[0m\u001b[0m\n\u001b[1;32m    433\u001b[0m         aeff = EffectiveAreaTable(\n",
      "\u001b[0;31mTypeError\u001b[0m: 'MapAxis' object is not subscriptable"
     ]
    }
   ],
   "source": [
    "dataset_empty = SpectrumDataset.create(\n",
    "    e_reco=energy_axis, e_true=energy_axis_true, region=on_region\n",
    ")\n",
    "\n",
    "dataset_maker = SpectrumDatasetMaker(\n",
    "    containment_correction=False, selection=[\"counts\", \"aeff\", \"edisp\"]\n",
    ")\n",
    "bkg_maker = ReflectedRegionsBackgroundMaker(exclusion_mask=exclusion_mask)\n",
    "safe_mask_masker = SafeMaskMaker(methods=[\"aeff-max\"], aeff_percent=10)"
   ]
  },
  {
   "cell_type": "code",
   "execution_count": 46,
   "metadata": {},
   "outputs": [
    {
     "ename": "NameError",
     "evalue": "name 'observations' is not defined",
     "output_type": "error",
     "traceback": [
      "\u001b[0;31m---------------------------------------------------------------------------\u001b[0m",
      "\u001b[0;31mNameError\u001b[0m                                 Traceback (most recent call last)",
      "\u001b[0;32m<timed exec>\u001b[0m in \u001b[0;36m<module>\u001b[0;34m\u001b[0m\n",
      "\u001b[0;31mNameError\u001b[0m: name 'observations' is not defined"
     ]
    }
   ],
   "source": [
    "%%time\n",
    "datasets = []\n",
    "\n",
    "for observation in observations:\n",
    "    dataset = dataset_maker.run(dataset_empty, observation)\n",
    "    dataset_on_off = bkg_maker.run(dataset, observation)\n",
    "    dataset_on_off = safe_mask_masker.run(dataset_on_off, observation)\n",
    "    datasets.append(dataset_on_off)"
   ]
  },
  {
   "cell_type": "code",
   "execution_count": null,
   "metadata": {},
   "outputs": [],
   "source": []
  }
 ],
 "metadata": {
  "kernelspec": {
   "display_name": "Python 3",
   "language": "python",
   "name": "python3"
  },
  "language_info": {
   "codemirror_mode": {
    "name": "ipython",
    "version": 3
   },
   "file_extension": ".py",
   "mimetype": "text/x-python",
   "name": "python",
   "nbconvert_exporter": "python",
   "pygments_lexer": "ipython3",
   "version": "3.7.0"
  }
 },
 "nbformat": 4,
 "nbformat_minor": 4
}
