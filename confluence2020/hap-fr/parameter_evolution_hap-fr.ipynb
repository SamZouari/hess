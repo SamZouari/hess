{
 "cells": [
  {
   "cell_type": "markdown",
   "metadata": {},
   "source": [
    "# Time Evolution"
   ]
  },
  {
   "cell_type": "code",
   "execution_count": 141,
   "metadata": {},
   "outputs": [
    {
     "data": {
      "text/plain": [
       "'0.15'"
      ]
     },
     "execution_count": 141,
     "metadata": {},
     "output_type": "execute_result"
    }
   ],
   "source": [
    "%matplotlib inline\n",
    "import matplotlib.pyplot as plt\n",
    "import numpy as np\n",
    "from scipy.stats import norm\n",
    "\n",
    "import astropy.units as u\n",
    "from astropy.coordinates import SkyCoord\n",
    "from astropy.convolution import Tophat2DKernel\n",
    "from regions import CircleSkyRegion, RectangleSkyRegion\n",
    "\n",
    "from gammapy.detect import compute_lima_on_off_image,compute_lima_image # quelle différence entre les deux ?\n",
    "from gammapy.data import DataStore\n",
    "from gammapy.irf import make_mean_psf\n",
    "from gammapy.maps import Map, MapAxis, WcsGeom\n",
    "from gammapy.cube import (\n",
    "    MapDatasetMaker,\n",
    "    PSFKernel,\n",
    "    MapDataset,\n",
    "    RingBackgroundMaker,\n",
    "    SafeMaskMaker,\n",
    "    #RingBackgroundEstimator,\n",
    ")\n",
    "from gammapy.modeling.models import (\n",
    "    SkyModel,\n",
    "    SkyModels,\n",
    "    BackgroundModel,\n",
    "    PowerLawSpectralModel,\n",
    "    PowerLaw2SpectralModel,\n",
    "    PointSpatialModel,\n",
    "    ExpCutoffPowerLawSpectralModel,\n",
    "    SkyDiffuseCube,\n",
    "    TemplateSpatialModel,\n",
    "    GaussianSpatialModel\n",
    ")\n",
    "from gammapy.stats import significance, excess # utiles ?\n",
    "\n",
    "from gammapy.modeling import Fit\n",
    "from astropy.time import Time\n",
    "\n",
    "src_pos = SkyCoord(359.94, -0.04, unit=\"deg\", frame=\"galactic\")\n",
    "\n",
    "import gammapy\n",
    "gammapy.__version__"
   ]
  },
  {
   "cell_type": "code",
   "execution_count": 142,
   "metadata": {},
   "outputs": [],
   "source": [
    "emin, emax = [0.5, 100] * u.TeV\n",
    "\n",
    "energy_axis = MapAxis.from_bounds(\n",
    "    emin.value, emax.value, 20, unit=\"TeV\", name=\"energy\", interp=\"log\"\n",
    ")\n",
    "geom = WcsGeom.create(\n",
    "    skydir=(0, 0),\n",
    "    binsz=0.02,\n",
    "    width=(10, 8),\n",
    "    coordsys=\"GAL\",\n",
    "    proj=\"CAR\",\n",
    "    axes=[energy_axis],\n",
    ")\n",
    "\n",
    "geom2d = WcsGeom.create(\n",
    "    skydir=(0, 0),\n",
    "    binsz=0.02,\n",
    "    width=(10, 8),\n",
    "    coordsys=\"GAL\",\n",
    "    proj=\"CAR\",\n",
    ")\n",
    "\n",
    "energy_axis_true = MapAxis.from_bounds(\n",
    "    0.3, 200, 30, unit=\"TeV\", name=\"energy\", interp=\"log\"\n",
    ")"
   ]
  },
  {
   "cell_type": "code",
   "execution_count": 143,
   "metadata": {},
   "outputs": [],
   "source": [
    "from pathlib import Path\n",
    "\n",
    "# Directory for outputs\n",
    "\n",
    "path = Path(\"../../../../gammapy_data/GC_variability2020/hap-fr\")\n",
    "path.mkdir(exist_ok=True)\n",
    "\n",
    "pathm = Path(path/\"mapdatasets\")\n",
    "pathm.mkdir(exist_ok=True)\n",
    "\n",
    "pathp = Path(path/\"parameter_stability\")\n",
    "pathp.mkdir(exist_ok=True)"
   ]
  },
  {
   "cell_type": "markdown",
   "metadata": {},
   "source": [
    "## Creating the datasets"
   ]
  },
  {
   "cell_type": "code",
   "execution_count": 144,
   "metadata": {},
   "outputs": [],
   "source": [
    "mapdataset_dict = {}\n",
    "\n",
    "for k in range (2004,2020):\n",
    "    name = \"map\" + str(k)\n",
    "    mapdataset_dict[k] = MapDataset.create(\n",
    "    geom=geom, energy_axis_true=energy_axis_true, name=name)\n",
    "\n",
    "for year in range(2004,2020):\n",
    "    \n",
    "    filename = \"mapdataset\" +str(year)+\".fits.gz\"\n",
    "    mapdataset_dict[year] = MapDataset.read(pathm/filename)"
   ]
  },
  {
   "cell_type": "markdown",
   "metadata": {},
   "source": [
    "## Reading the model template"
   ]
  },
  {
   "cell_type": "code",
   "execution_count": 145,
   "metadata": {},
   "outputs": [],
   "source": [
    "pathmo = Path(path/\"models\")\n",
    "pathmo.mkdir(exist_ok=True)\n",
    "\n",
    "#name = pathmo/\"models_template.yaml\"\n",
    "#modelGC,modelG09, model_diff = SkyModels.read(name)\n",
    "\n",
    "name = pathmo/\"models_template_1cutoff.yaml\"\n",
    "modelGC,modelG09, modeldiff = SkyModels.read(name)\n",
    "\n",
    "#name = pathmo/\"models_template_2cutoff.yaml\"\n",
    "#modelGC,modelG09, modeldiff = SkyModels.read(name)"
   ]
  },
  {
   "cell_type": "markdown",
   "metadata": {},
   "source": [
    "## Setting which parameters will vary"
   ]
  },
  {
   "cell_type": "code",
   "execution_count": 146,
   "metadata": {},
   "outputs": [],
   "source": [
    "modelGC.parameters[\"index\"].frozen = False\n",
    "modelGC.parameters[\"lon_0\"].frozen = True\n",
    "modelGC.parameters[\"lat_0\"].frozen = True\n",
    "modelGC.parameters[\"amplitude\"].frozen = False\n",
    "modelGC.parameters[\"reference\"].frozen = True \n",
    "\n",
    "modelG09.parameters[\"index\"].frozen = True\n",
    "modelG09.parameters[\"lon_0\"].frozen = True\n",
    "modelG09.parameters[\"lat_0\"].frozen = True\n",
    "modelG09.parameters[\"amplitude\"].frozen = False\n",
    "\n",
    "model_diff.parameters[\"index\"].frozen = False\n",
    "model_diff.parameters[\"norm\"].frozen = True\n",
    "model_diff.parameters[\"amplitude\"].frozen = False\n",
    "model_diff.parameters[\"reference\"].frozen = True"
   ]
  },
  {
   "cell_type": "code",
   "execution_count": 147,
   "metadata": {},
   "outputs": [],
   "source": [
    "# if there are cutoffs in the spectra\n",
    "\n",
    "modelGC.parameters[\"lambda_\"].frozen = True \n",
    "#model_diff.parameters[\"lambda_\"].frozen = True"
   ]
  },
  {
   "cell_type": "markdown",
   "metadata": {},
   "source": [
    "## Constructing the mask"
   ]
  },
  {
   "cell_type": "code",
   "execution_count": 148,
   "metadata": {},
   "outputs": [],
   "source": [
    "fit_region = RectangleSkyRegion(src_pos, 4*u.deg, 2*u.deg)\n",
    "\n",
    "J1745_303_region = CircleSkyRegion(SkyCoord(358.6,  -0.6, unit=\"deg\", frame=\"galactic\"), 0.5 * u.deg)\n",
    "\n",
    "fit_mask = geom.region_mask([fit_region])*geom.region_mask([J1745_303_region] , inside=False)\n",
    "\n",
    "fit_mask = Map.from_geom(geom, data=fit_mask)"
   ]
  },
  {
   "cell_type": "markdown",
   "metadata": {},
   "source": [
    "## Applying the mask and the model template"
   ]
  },
  {
   "cell_type": "code",
   "execution_count": 149,
   "metadata": {},
   "outputs": [
    {
     "name": "stderr",
     "output_type": "stream",
     "text": [
      "/home/samuel/anaconda3/envs/gammapy-0.15/lib/python3.7/site-packages/astropy/units/quantity.py:464: RuntimeWarning: invalid value encountered in true_divide\n",
      "  result = super().__array_ufunc__(function, method, *arrays, **kwargs)\n",
      "/home/samuel/anaconda3/envs/gammapy-0.15/lib/python3.7/site-packages/gammapy/cube/psf_kernel.py:109: RuntimeWarning: invalid value encountered in true_divide\n",
      "  img += vals.value / vals.sum().value\n"
     ]
    }
   ],
   "source": [
    "for year in range(2004,2020):\n",
    "    mapdataset_dict[year].fit_mask = fit_mask\n",
    "    mapdataset_dict[year].models =  modelGC.copy() + modelG09.copy() +  model_diff.copy()\n",
    "    mapdataset_dict[year].background_model.parameters['norm'].value = 1.0"
   ]
  },
  {
   "cell_type": "markdown",
   "metadata": {},
   "source": [
    "# Fitting the datasets"
   ]
  },
  {
   "cell_type": "code",
   "execution_count": 150,
   "metadata": {},
   "outputs": [],
   "source": [
    "def fit_dataset(mapdataset):\n",
    "    fit = Fit([mapdataset])\n",
    "    result = fit.run()\n",
    "    \n",
    "    table = result.parameters.to_table()\n",
    "\n",
    "    rescov = fit.covariance()\n",
    "    #ampSGRA = mapdataset.models.parameters[3]\n",
    "    #ampdiff = mapdataset.models.parameters[12]\n",
    "    #normbkg = mapdataset.background_model.parameters['norm']\n",
    "    \n",
    "    #cov= rescov.parameters.get_subcovariance([ampSGRA, ampdiff, normbkg])\n",
    "    \n",
    "    return table, rescov, result"
   ]
  },
  {
   "cell_type": "code",
   "execution_count": null,
   "metadata": {},
   "outputs": [],
   "source": [
    "%%time\n",
    "\n",
    "results_per_year = dict()\n",
    "results = []\n",
    "cov_per_year = dict()\n",
    "\n",
    "\n",
    "for year in range(2004,2020):\n",
    "    \n",
    "    table, cov, result = fit_dataset(mapdataset_dict[year])\n",
    "    \n",
    "    results.append(result)\n",
    "    \n",
    "    results_per_year[year] = table\n",
    "    \n",
    "    cov_per_year[year] = cov\n",
    "    "
   ]
  },
  {
   "cell_type": "code",
   "execution_count": null,
   "metadata": {},
   "outputs": [],
   "source": [
    "years = []\n",
    "for year in range(2004,2020):\n",
    "    if results[year-2004].message =='Optimization terminated successfully.':\n",
    "        years.append(year)"
   ]
  },
  {
   "cell_type": "code",
   "execution_count": null,
   "metadata": {},
   "outputs": [],
   "source": [
    "table"
   ]
  },
  {
   "cell_type": "markdown",
   "metadata": {},
   "source": [
    "# Extracting parameters (only one cell to run)"
   ]
  },
  {
   "cell_type": "code",
   "execution_count": 72,
   "metadata": {
    "jupyter": {
     "source_hidden": true
    }
   },
   "outputs": [],
   "source": [
    "# Spectral models without cutoffs (indexes fixed)\n",
    "\n",
    "ampsGC = []\n",
    "ampsGC_err = []\n",
    "ampsdiff = []\n",
    "ampsdiff_err = []\n",
    "norms = []\n",
    "norms_err = []\n",
    "\n",
    "\n",
    "for year in years:\n",
    "\n",
    "    ampsGC.append(results_per_year[year]['value'][3])\n",
    "    ampsGC_err.append(results_per_year[year]['error'][3])\n",
    "    ampsdiff.append(results_per_year[year]['value'][12])\n",
    "    ampsdiff_err.append(results_per_year[year]['error'][12])\n",
    "   \n",
    "    norms.append(results_per_year[year]['value'][14])\n",
    "    norms_err.append(results_per_year[year]['error'][14])"
   ]
  },
  {
   "cell_type": "code",
   "execution_count": 131,
   "metadata": {
    "jupyter": {
     "source_hidden": true
    }
   },
   "outputs": [],
   "source": [
    "# Spectral models without cutoffs (indexes unfrozen)\n",
    "\n",
    "indexGC = []\n",
    "indexGC_err = []\n",
    "ampsGC = []\n",
    "ampsGC_err = []\n",
    "\n",
    "\n",
    "indexdiff = []\n",
    "indexdiff_err = []\n",
    "ampsdiff = []\n",
    "ampsdiff_err = []\n",
    "norms = []\n",
    "norms_err = []\n",
    "\n",
    "\n",
    "for year in years:\n",
    "    indexGC.append(results_per_year[year]['value'][2])\n",
    "    indexGC_err.append(results_per_year[year]['error'][2])\n",
    "    ampsGC.append(results_per_year[year]['value'][3])\n",
    "    ampsGC_err.append(results_per_year[year]['error'][3])\n",
    "    \n",
    "    indexdiff.append(results_per_year[year]['value'][11])\n",
    "    indexdiff_err.append(results_per_year[year]['error'][11])\n",
    "    ampsdiff.append(results_per_year[year]['value'][12])\n",
    "    ampsdiff_err.append(results_per_year[year]['error'][12])\n",
    "   \n",
    "    norms.append(results_per_year[year]['value'][14])\n",
    "    norms_err.append(results_per_year[year]['error'][14])"
   ]
  },
  {
   "cell_type": "code",
   "execution_count": null,
   "metadata": {},
   "outputs": [],
   "source": [
    "# Spectral models with a cutoff for the central source (both indexes unfrozen)\n",
    "\n",
    "indexGC = []\n",
    "indexGC_err = []\n",
    "ampsGC = []\n",
    "ampGC_err = []\n",
    "lambdaGC = []\n",
    "lambdaGC_err = []\n",
    "\n",
    "indexdiff = []\n",
    "indexdiff_err = []\n",
    "ampsdiff = []\n",
    "ampsdiff_err = []\n",
    "\n",
    "norms = []\n",
    "norms_err = []\n",
    "\n",
    "\n",
    "for year in years:\n",
    "\n",
    "    indexGC.append(results_per_year[year]['value'][3])\n",
    "    indexGC_err.append(results_per_year[year]['error'][3])\n",
    "    ampsGC.append(results_per_year[year]['value'][3])\n",
    "    ampsGC_err.append(results_per_year[year]['error'][3])\n",
    "    lambdaGC.append(results_per_year[year]['value'][3])\n",
    "    lambdaGC_err.append(results_per_year[year]['error'][3])\n",
    "    \n",
    "    indexdiff.append(results_per_year[year]['value'][12])\n",
    "    indexdiff_err.append(results_per_year[year]['error'][12])    \n",
    "    ampsdiff.append(results_per_year[year]['value'][12])\n",
    "    ampsdiff_err.append(results_per_year[year]['error'][12])\n",
    "   \n",
    "    norms.append(results_per_year[year]['value'][14])\n",
    "    norms_err.append(results_per_year[year]['error'][14])"
   ]
  },
  {
   "cell_type": "code",
   "execution_count": null,
   "metadata": {
    "jupyter": {
     "source_hidden": true
    }
   },
   "outputs": [],
   "source": [
    "# Spectral models with 2 cutoffs (both indexes unfrozen)\n",
    "\n",
    "indexGC = []\n",
    "indexGC_err = []\n",
    "ampsGC = []\n",
    "ampGC_err = []\n",
    "lambdaGC = []\n",
    "lambdaGC_err = []\n",
    "\n",
    "indexdiff = []\n",
    "indexdiff_err = []\n",
    "ampsdiff = []\n",
    "ampsdiff_err = []\n",
    "lambdadiff = []\n",
    "lambdadiff_err = []\n",
    "\n",
    "norms = []\n",
    "norms_err = []\n",
    "\n",
    "\n",
    "for year in years:\n",
    "\n",
    "    indexGC.append(results_per_year[year]['value'][3])\n",
    "    indexGC_err.append(results_per_year[year]['error'][3])\n",
    "    ampsGC.append(results_per_year[year]['value'][3])\n",
    "    ampsGC_err.append(results_per_year[year]['error'][3])\n",
    "    lambdaGC.append(results_per_year[year]['value'][3])\n",
    "    lambdaGC_err.append(results_per_year[year]['error'][3])\n",
    "    \n",
    "    indexdiff.append(results_per_year[year]['value'][12])\n",
    "    indexdiff_err.append(results_per_year[year]['error'][12])    \n",
    "    ampsdiff.append(results_per_year[year]['value'][12])\n",
    "    ampsdiff_err.append(results_per_year[year]['error'][12])\n",
    "    lambdadiff.append(results_per_year[year]['value'][3])\n",
    "    lambdadiff_err.append(results_per_year[year]['error'][3])\n",
    "   \n",
    "    norms.append(results_per_year[year]['value'][14])\n",
    "    norms_err.append(results_per_year[year]['error'][14])"
   ]
  },
  {
   "cell_type": "markdown",
   "metadata": {},
   "source": [
    "# Saving the results"
   ]
  },
  {
   "cell_type": "code",
   "execution_count": 151,
   "metadata": {},
   "outputs": [],
   "source": [
    "pathpar = Path(pathp/\"2amps_2indexes_1cutoff\")\n",
    "pathpar.mkdir(exist_ok=True)"
   ]
  },
  {
   "cell_type": "markdown",
   "metadata": {},
   "source": [
    "## Fitting a time evolution model"
   ]
  },
  {
   "cell_type": "code",
   "execution_count": null,
   "metadata": {},
   "outputs": [],
   "source": [
    "import scipy.stats as stats\n",
    "\n",
    "from astropy.modeling import models, fitting\n",
    "\n",
    "from scipy.stats import chisquare, chi2\n",
    "\n",
    "# chi2 non réduit\n",
    "def chisq(obs, exp, error):\n",
    "    chisq = 0\n",
    "    for i in range(len(obs)):\n",
    "        chisq = chisq + ((obs[i]-exp)**2)/(error[i]**2)\n",
    "    return chisq\n",
    "\n",
    "# chi2 réduit\n",
    "def chisqr(obs, exp, error):\n",
    "    chisqr = 0\n",
    "    for i in range(len(obs)):\n",
    "        chisqr = chisqr + ((obs[i]-exp)**2)/(error[i]**2)\n",
    "    return chisqr/(len(obs) -1)\n",
    "\n",
    "def pval(obs, exp, error, nddl): # number of DoF is the number of points minus number of fitted parameters (1 for a constant)\n",
    "    chisq = 0\n",
    "    for i in range(len(obs)):\n",
    "        chisq = chisq + ((obs[i]-exp)**2)/(error[i]**2)\n",
    "    pval = 1 - chi2.cdf(chisq, nddl)\n",
    "    return pval"
   ]
  },
  {
   "cell_type": "markdown",
   "metadata": {},
   "source": [
    "## Displaying parameters evolution"
   ]
  },
  {
   "cell_type": "code",
   "execution_count": 134,
   "metadata": {},
   "outputs": [
    {
     "name": "stderr",
     "output_type": "stream",
     "text": [
      "WARNING: Model is linear in parameters; consider using linear fitting methods. [astropy.modeling.fitting]\n"
     ]
    },
    {
     "data": {
      "image/png": "[encoded data removed]",
      "text/plain": [
       "<Figure size 720x504 with 1 Axes>"
      ]
     },
     "metadata": {
      "needs_background": "light"
     },
     "output_type": "display_data"
    }
   ],
   "source": [
    "x = years\n",
    "y = ampsGC\n",
    "y_uncs = ampsGC_err\n",
    "\n",
    "# Fit the data using a box model.\n",
    "# Bounds are not really needed but included here to demonstrate usage.\n",
    "t_init = models.Const1D(1e-12)\n",
    "fit_t = fitting.LevMarLSQFitter()\n",
    "t = fit_t(t_init, x, y) #, weights=1.0/y_uncs)\n",
    "\n",
    "# évaluation du chi2 réduit\n",
    "A1 = y\n",
    "A2 = t(2004)\n",
    "err_bars = y_uncs\n",
    "\n",
    "pv = pval(A1, A2, err_bars, len(A1)-1)\n",
    "\n",
    "\n",
    "# Plot the data with the best-fit model\n",
    "plt.figure(figsize=(10,7))\n",
    "plt.plot(x, y, 'ko')\n",
    "plt.errorbar(x, y, yerr=y_uncs, fmt='kx', label=\"data\")\n",
    "plt.plot(x, t(x), label='constante = ' + str(round(t(2004), 14)) )\n",
    "plt.xlabel('year')\n",
    "plt.ylabel(' ')\n",
    "plt.legend(loc=1)\n",
    "plt.title(\" amp GC, pval = {0:0.9f}\".format(pv))\n",
    "plt.savefig(pathpar/\"ampGC.pdf\")"
   ]
  },
  {
   "cell_type": "code",
   "execution_count": 135,
   "metadata": {},
   "outputs": [
    {
     "data": {
      "text/plain": [
       "15"
      ]
     },
     "execution_count": 135,
     "metadata": {},
     "output_type": "execute_result"
    }
   ],
   "source": [
    "len(ampsGC_err)"
   ]
  },
  {
   "cell_type": "code",
   "execution_count": 136,
   "metadata": {},
   "outputs": [
    {
     "name": "stderr",
     "output_type": "stream",
     "text": [
      "WARNING: Model is linear in parameters; consider using linear fitting methods. [astropy.modeling.fitting]\n"
     ]
    },
    {
     "data": {
      "image/png": "[encoded data removed]",
      "text/plain": [
       "<Figure size 720x504 with 1 Axes>"
      ]
     },
     "metadata": {
      "needs_background": "light"
     },
     "output_type": "display_data"
    }
   ],
   "source": [
    "x = years\n",
    "y = ampsdiff\n",
    "y_uncs = ampsdiff_err\n",
    "\n",
    "# Fit the data using a box model.\n",
    "# Bounds are not really needed but included here to demonstrate usage.\n",
    "t_init = models.Const1D(1e-12)\n",
    "fit_t = fitting.LevMarLSQFitter()\n",
    "t = fit_t(t_init, x, y) #, weights=1.0/y_uncs)\n",
    "\n",
    "# évaluation du chi2 réduit\n",
    "A1 = y\n",
    "A2 = t(2004)\n",
    "err_bars = y_uncs\n",
    "\n",
    "pv = pval(A1, A2, err_bars, len(A1)-1)\n",
    "\n",
    "\n",
    "# Plot the data with the best-fit model\n",
    "plt.figure(figsize=(10,7))\n",
    "plt.plot(x, y, 'ko')\n",
    "plt.errorbar(x, y, yerr=y_uncs, fmt='kx', label=\"données\")\n",
    "plt.plot(x, t(x), label='constante = ' + str(round(t(2004), 14)) )\n",
    "plt.xlabel('year')\n",
    "plt.ylabel(' ')\n",
    "plt.legend(loc=1)\n",
    "plt.title(\" amp diff , pval = {0:0.9f}\".format(pv))\n",
    "plt.savefig(pathpar/\"ampdiff.pdf\")"
   ]
  },
  {
   "cell_type": "code",
   "execution_count": 137,
   "metadata": {},
   "outputs": [
    {
     "name": "stderr",
     "output_type": "stream",
     "text": [
      "WARNING: Model is linear in parameters; consider using linear fitting methods. [astropy.modeling.fitting]\n"
     ]
    },
    {
     "data": {
      "image/png": "[encoded data removed]",
      "text/plain": [
       "<Figure size 720x504 with 1 Axes>"
      ]
     },
     "metadata": {
      "needs_background": "light"
     },
     "output_type": "display_data"
    }
   ],
   "source": [
    "x = years\n",
    "y = norms\n",
    "y_uncs = norms_err\n",
    "\n",
    "# Fit the data using a box model.\n",
    "# Bounds are not really needed but included here to demonstrate usage.\n",
    "t_init = models.Const1D(1)\n",
    "fit_t = fitting.LevMarLSQFitter()\n",
    "t = fit_t(t_init, x, y) #, weights=1.0/y_uncs)\n",
    "\n",
    "# évaluation du chi2 réduit\n",
    "A1 = y\n",
    "A2 = t(2004)\n",
    "err_bars = y_uncs\n",
    "\n",
    "pv = pval(A1, A2, err_bars, len(A1)-1)\n",
    "\n",
    "\n",
    "# Plot the data with the best-fit model\n",
    "plt.figure(figsize=(10,7))\n",
    "plt.plot(x, y, 'ko')\n",
    "plt.errorbar(x, y, yerr=y_uncs, fmt='kx', label=\"données\")\n",
    "plt.plot(x, t(x), label='constante = ' + str(round(t(2004), 14)) )\n",
    "plt.xlabel('year')\n",
    "plt.ylabel(' ')\n",
    "plt.legend(loc=1)\n",
    "plt.title(\" bkg norm, pval = {0:0.9f}\".format(pv))\n",
    "plt.savefig(pathpar/\"norm.pdf\")"
   ]
  },
  {
   "cell_type": "code",
   "execution_count": 138,
   "metadata": {},
   "outputs": [
    {
     "name": "stderr",
     "output_type": "stream",
     "text": [
      "WARNING: Model is linear in parameters; consider using linear fitting methods. [astropy.modeling.fitting]\n"
     ]
    },
    {
     "data": {
      "image/png": "[encoded data removed]",
      "text/plain": [
       "<Figure size 720x504 with 1 Axes>"
      ]
     },
     "metadata": {
      "needs_background": "light"
     },
     "output_type": "display_data"
    }
   ],
   "source": [
    "x = years\n",
    "y = indexGC\n",
    "y_uncs = indexGC_err\n",
    "\n",
    "# Fit the data using a box model.\n",
    "# Bounds are not really needed but included here to demonstrate usage.\n",
    "t_init = models.Const1D(1)\n",
    "fit_t = fitting.LevMarLSQFitter()\n",
    "t = fit_t(t_init, x, y) #, weights=1.0/y_uncs)\n",
    "\n",
    "# évaluation du chi2 réduit\n",
    "A1 = y\n",
    "A2 = t(2004)\n",
    "err_bars = y_uncs\n",
    "\n",
    "pv = pval(A1, A2, err_bars, len(A1)-1)\n",
    "\n",
    "\n",
    "# Plot the data with the best-fit model\n",
    "plt.figure(figsize=(10,7))\n",
    "plt.plot(x, y, 'ko')\n",
    "plt.errorbar(x, y, yerr=y_uncs, fmt='kx', label=\"données\")\n",
    "plt.plot(x, t(x), label='constante = ' + str(round(t(2004), 14)) )\n",
    "plt.xlabel('year')\n",
    "plt.ylabel(' ')\n",
    "plt.legend(loc=1)\n",
    "plt.title(\" index GC, pval = {0:0.9f}\".format(pv))\n",
    "plt.savefig(pathpar/\"index_GC.pdf\")"
   ]
  },
  {
   "cell_type": "code",
   "execution_count": 139,
   "metadata": {},
   "outputs": [
    {
     "data": {
      "text/plain": [
       "Parameter(name='index', value=2.3890424024771093, factor=2.3890424024771093, scale=1.0, unit=Unit(dimensionless), min=nan, max=nan, frozen=False, id=0x7f964c68c630)"
      ]
     },
     "execution_count": 139,
     "metadata": {},
     "output_type": "execute_result"
    }
   ],
   "source": [
    "mapdataset_dict[2004].models[2].spectral_model.parameters['index']"
   ]
  },
  {
   "cell_type": "code",
   "execution_count": 140,
   "metadata": {},
   "outputs": [
    {
     "name": "stderr",
     "output_type": "stream",
     "text": [
      "WARNING: Model is linear in parameters; consider using linear fitting methods. [astropy.modeling.fitting]\n"
     ]
    },
    {
     "data": {
      "image/png": "[encoded data removed]",
      "text/plain": [
       "<Figure size 720x504 with 1 Axes>"
      ]
     },
     "metadata": {
      "needs_background": "light"
     },
     "output_type": "display_data"
    }
   ],
   "source": [
    "x = years\n",
    "y = indexdiff\n",
    "y_uncs = indexdiff_err\n",
    "\n",
    "# Fit the data using a box model.\n",
    "# Bounds are not really needed but included here to demonstrate usage.\n",
    "t_init = models.Const1D(1)\n",
    "fit_t = fitting.LevMarLSQFitter()\n",
    "t = fit_t(t_init, x, y) #, weights=1.0/y_uncs)\n",
    "\n",
    "# évaluation du chi2 réduit\n",
    "A1 = y\n",
    "A2 = t(2004)\n",
    "err_bars = y_uncs\n",
    "\n",
    "pv = pval(A1, A2, err_bars, len(A1)-1)\n",
    "\n",
    "\n",
    "# Plot the data with the best-fit model\n",
    "plt.figure(figsize=(10,7))\n",
    "plt.plot(x, y, 'ko')\n",
    "plt.errorbar(x, y, yerr=y_uncs, fmt='kx', label=\"données\")\n",
    "plt.plot(x, t(x), label='constante = ' + str(round(t(2004), 14)) )\n",
    "plt.xlabel('year')\n",
    "plt.ylabel(' ')\n",
    "plt.legend(loc=1)\n",
    "plt.title(\" index diff , pval = {0:0.9f}\".format(pv))\n",
    "plt.savefig(pathpar/\"index_diff.pdf\")"
   ]
  },
  {
   "cell_type": "code",
   "execution_count": null,
   "metadata": {},
   "outputs": [],
   "source": [
    "x = years\n",
    "y = 1/lambdaGC\n",
    "y_uncs = x*(lambdaGC/lambdaGC_err)\n",
    "\n",
    "# Fit the data using a box model.\n",
    "# Bounds are not really needed but included here to demonstrate usage.\n",
    "t_init = models.Const1D(10)\n",
    "fit_t = fitting.LevMarLSQFitter()\n",
    "t = fit_t(t_init, x, y) #, weights=1.0/y_uncs)\n",
    "\n",
    "# évaluation du chi2 réduit\n",
    "A1 = y\n",
    "A2 = t(2004)\n",
    "err_bars = y_uncs\n",
    "\n",
    "pv = pval(A1, A2, err_bars, len(A1)-1)\n",
    "\n",
    "\n",
    "# Plot the data with the best-fit model\n",
    "plt.figure(figsize=(10,7))\n",
    "plt.plot(x, y, 'ko')\n",
    "plt.errorbar(x, y, yerr=y_uncs, fmt='kx', label=\"données\")\n",
    "plt.plot(x, t(x), label='constante = ' + str(round(t(2004), 14)) )\n",
    "plt.xlabel('year')\n",
    "plt.ylabel(' ')\n",
    "plt.legend(loc=1)\n",
    "plt.title(\" E cutoff GC, pval = {0:0.9f}\".format(pv))\n",
    "plt.savefig(pathpar/\"cutoff_GC.pdf\")"
   ]
  },
  {
   "cell_type": "code",
   "execution_count": null,
   "metadata": {},
   "outputs": [],
   "source": [
    "x = years\n",
    "y = 1/lambdadiff\n",
    "y_uncs = x*(lambdadiff/lambdadiff_err)\n",
    "\n",
    "# Fit the data using a box model.\n",
    "# Bounds are not really needed but included here to demonstrate usage.\n",
    "t_init = models.Const1D(10)\n",
    "fit_t = fitting.LevMarLSQFitter()\n",
    "t = fit_t(t_init, x, y) #, weights=1.0/y_uncs)\n",
    "\n",
    "# évaluation du chi2 réduit\n",
    "A1 = y\n",
    "A2 = t(2004)\n",
    "err_bars = y_uncs\n",
    "\n",
    "pv = pval(A1, A2, err_bars, len(A1)-1)\n",
    "\n",
    "\n",
    "# Plot the data with the best-fit model\n",
    "plt.figure(figsize=(10,7))\n",
    "plt.plot(x, y, 'ko')\n",
    "plt.errorbar(x, y, yerr=y_uncs, fmt='kx', label=\"données\")\n",
    "plt.plot(x, t(x), label='constante = ' + str(round(t(2004), 14)) )\n",
    "plt.xlabel('year')\n",
    "plt.ylabel(' ')\n",
    "plt.legend(loc=1)\n",
    "plt.title(\" E cutoff diff, pval = {0:0.9f}\".format(pv))\n",
    "plt.savefig(pathpar/\"cutoff_diff.pdf\")"
   ]
  }
 ],
 "metadata": {
  "kernelspec": {
   "display_name": "Python 3",
   "language": "python",
   "name": "python3"
  },
  "language_info": {
   "codemirror_mode": {
    "name": "ipython",
    "version": 3
   },
   "file_extension": ".py",
   "mimetype": "text/x-python",
   "name": "python",
   "nbconvert_exporter": "python",
   "pygments_lexer": "ipython3",
   "version": "3.7.0"
  }
 },
 "nbformat": 4,
 "nbformat_minor": 4
}
