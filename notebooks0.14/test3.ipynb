{
 "cells": [
  {
   "cell_type": "code",
   "execution_count": 1,
   "metadata": {},
   "outputs": [],
   "source": [
    "%matplotlib inline\n",
    "import matplotlib.pyplot as plt"
   ]
  },
  {
   "cell_type": "code",
   "execution_count": 24,
   "metadata": {},
   "outputs": [
    {
     "name": "stdout",
     "output_type": "stream",
     "text": [
      "numpy: 1.17.2\n",
      "astropy: 3.2.2\n",
      "gammapy: 0.14\n"
     ]
    }
   ],
   "source": [
    "import numpy as np\n",
    "import astropy\n",
    "import gammapy\n",
    "\n",
    "import astropy.units as u\n",
    "from astropy.coordinates import SkyCoord\n",
    "\n",
    "print(\"numpy:\", np.__version__)\n",
    "print(\"astropy:\", astropy.__version__)\n",
    "print(\"gammapy:\", gammapy.__version__)"
   ]
  },
  {
   "cell_type": "code",
   "execution_count": 26,
   "metadata": {},
   "outputs": [],
   "source": [
    "from gammapy.data import EventList\n",
    "\n",
    "path = \"../data/ash_stereo_Prod17_Calib0834_thsq64/run019800-019999/run019868/events_019868.fits.gz\"\n",
    "events = EventList.read(path)"
   ]
  },
  {
   "cell_type": "code",
   "execution_count": 27,
   "metadata": {},
   "outputs": [
    {
     "name": "stdout",
     "output_type": "stream",
     "text": [
      "EventList info:\n",
      "- Number of events: 3802\n",
      "- Median energy: 0.704 TeV\n",
      "- OBS_ID = 19868- Median azimuth: 164.15927124023438\n",
      "- Median altitude: 45.468284606933594\n",
      "\n"
     ]
    }
   ],
   "source": [
    "print(events)"
   ]
  },
  {
   "cell_type": "code",
   "execution_count": 28,
   "metadata": {},
   "outputs": [
    {
     "data": {
      "text/html": [
       "<i>Table length=10</i>\n",
       "<table id=\"table4812198464\" class=\"table-striped table-bordered table-condensed\">\n",
       "<thead><tr><th>EVENT_ID</th><th>BUNCH_ID</th><th>TIME</th><th>MULTIP</th><th>TELMASK</th><th>RA</th><th>DEC</th><th>DIR_ERR</th><th>SKYX_RADEC</th><th>SKYY_RADEC</th><th>DETX</th><th>DETY</th><th>GLON</th><th>GLAT</th><th>THETA</th><th>PHI</th><th>ALT</th><th>AZ</th><th>COREX</th><th>COREY</th><th>CORE_ERR</th><th>XMAX</th><th>XMAX_ERR</th><th>ENERGY</th><th>ENERGY_ERR</th><th>PHASE</th><th>HIL_MSW</th><th>HIL_MSW_ERR</th><th>HIL_MSL</th><th>HIL_MSL_ERR</th></tr></thead>\n",
       "<thead><tr><th></th><th></th><th>s</th><th></th><th></th><th>deg</th><th>deg</th><th>deg</th><th>deg</th><th>deg</th><th>deg</th><th>deg</th><th>deg</th><th>deg</th><th>deg</th><th>deg</th><th>deg</th><th>deg</th><th>m</th><th>m</th><th>m</th><th>m</th><th>m</th><th>TeV</th><th>TeV</th><th></th><th></th><th></th><th></th><th></th></tr></thead>\n",
       "<thead><tr><th>int64</th><th>uint32</th><th>float64</th><th>int16</th><th>int16</th><th>float32</th><th>float32</th><th>float32</th><th>float32</th><th>float32</th><th>float32</th><th>float32</th><th>float32</th><th>float32</th><th>float32</th><th>float32</th><th>float32</th><th>float32</th><th>float32</th><th>float32</th><th>float32</th><th>float32</th><th>float32</th><th>float32</th><th>float32</th><th>float64</th><th>float32</th><th>float32</th><th>float32</th><th>float32</th></tr></thead>\n",
       "<tr><td>1176821039169</td><td>274</td><td>101340604.38234472</td><td>3</td><td>22</td><td>195.53888</td><td>-62.93742</td><td>0.00043212023</td><td>-1.3954539</td><td>-0.07060802</td><td>1.1274159</td><td>-0.842339</td><td>304.15317</td><td>-0.094294794</td><td>1.3968945</td><td>127.08681</td><td>45.589737</td><td>161.1687</td><td>139.45769</td><td>-119.28755</td><td>3.4834952</td><td>101.7627</td><td>0.2292041</td><td>1.6787469</td><td>0.2510396</td><td>0.0</td><td>-0.72540003</td><td>0.2118247</td><td>1.1052839</td><td>0.51390404</td></tr>\n",
       "<tr><td>1176821039213</td><td>274</td><td>101340604.5194788</td><td>3</td><td>28</td><td>193.61552</td><td>-64.66671</td><td>0.0004153508</td><td>0.3488413</td><td>-0.8891627</td><td>0.31724966</td><td>0.9052117</td><td>303.2581</td><td>-1.8002737</td><td>0.95501024</td><td>18.561298</td><td>44.778816</td><td>163.64796</td><td>-0.114071675</td><td>-133.84901</td><td>9.888318</td><td>52.992996</td><td>0.33150673</td><td>0.77351403</td><td>0.1636899</td><td>0.0</td><td>0.5236762</td><td>0.27912846</td><td>1.622144</td><td>3.3814511</td></tr>\n",
       "<tr><td>1176821039566</td><td>274</td><td>101340605.74074888</td><td>3</td><td>26</td><td>193.18451</td><td>-63.293777</td><td>0.0020366833</td><td>-1.0168315</td><td>-1.1279068</td><td>1.5164706</td><td>0.21098109</td><td>303.08047</td><td>-0.4256714</td><td>1.5181637</td><td>82.011765</td><td>45.986214</td><td>162.67854</td><td>119.73788</td><td>-12.927494</td><td>23.813627</td><td>261.3045</td><td>0.5808194</td><td>0.486315</td><td>0.12772952</td><td>0.0</td><td>0.6160351</td><td>0.9067835</td><td>-0.35252866</td><td>1.1772275</td></tr>\n",
       "<tr><td>1176821039612</td><td>274</td><td>101340605.94794703</td><td>3</td><td>22</td><td>191.36064</td><td>-65.50769</td><td>0.002584562</td><td>1.2374086</td><td>-1.7959422</td><td>0.2188374</td><td>2.170653</td><td>302.31238</td><td>-2.6466613</td><td>2.1798055</td><td>5.4083495</td><td>44.64849</td><td>165.42616</td><td>-7.7446284</td><td>204.31076</td><td>39.591915</td><td>138.05421</td><td>0.14139462</td><td>0.69653285</td><td>0.19560121</td><td>0.0</td><td>1.140968</td><td>1.522647</td><td>-0.037742727</td><td>0.8265278</td></tr>\n",
       "<tr><td>1176821039789</td><td>274</td><td>101340606.58970118</td><td>3</td><td>22</td><td>194.43973</td><td>-62.044636</td><td>0.0</td><td>-2.2836137</td><td>-0.58859086</td><td>2.140507</td><td>-1.0156839</td><td>303.6752</td><td>0.81485456</td><td>2.3568037</td><td>115.519</td><td>46.601692</td><td>160.89919</td><td>439.48148</td><td>154.19269</td><td>-1.0</td><td>205.58862</td><td>4.4035076e-08</td><td>5.421626</td><td>1.0110209</td><td>0.0</td><td>0.661822</td><td>1.5299394</td><td>-0.41062808</td><td>0.60097003</td></tr>\n",
       "<tr><td>1176821040119</td><td>274</td><td>101340607.77932763</td><td>4</td><td>30</td><td>193.3684</td><td>-63.36419</td><td>0.0046151867</td><td>-0.94954824</td><td>-1.042695</td><td>1.4101806</td><td>0.18917112</td><td>303.16254</td><td>-0.49662596</td><td>1.4099157</td><td>82.28909</td><td>45.88241</td><td>162.65062</td><td>31.494095</td><td>103.53416</td><td>64.12585</td><td>170.77116</td><td>0.39556697</td><td>0.42255032</td><td>0.06680603</td><td>0.0</td><td>-0.5018921</td><td>0.8562561</td><td>0.85098475</td><td>2.6240442</td></tr>\n",
       "<tr><td>1176821040179</td><td>274</td><td>101340608.00547266</td><td>4</td><td>30</td><td>198.02885</td><td>-63.43888</td><td>0.0066592763</td><td>-0.8748767</td><td>1.0441842</td><td>0.013209139</td><td>-1.3618724</td><td>305.2437</td><td>-0.6632116</td><td>1.361928</td><td>-179.99336</td><td>44.469925</td><td>160.47084</td><td>13.811141</td><td>-252.94334</td><td>143.58359</td><td>95.700455</td><td>0.11513934</td><td>0.884774</td><td>0.11277607</td><td>0.0</td><td>-0.5256933</td><td>0.49581796</td><td>-0.63668734</td><td>0.1911984</td></tr>\n",
       "<tr><td>1181116006505</td><td>275</td><td>101340608.48366022</td><td>2</td><td>6</td><td>195.40656</td><td>-65.752846</td><td>0.0</td><td>1.4209896</td><td>-0.117788374</td><td>-0.99959993</td><td>1.0026762</td><td>303.98157</td><td>-2.905336</td><td>1.4255</td><td>-45.299213</td><td>43.46498</td><td>163.76169</td><td>-55.229855</td><td>133.93811</td><td>-1.0</td><td>118.929085</td><td>3.9185636e-08</td><td>0.58929884</td><td>0.070639186</td><td>0.0</td><td>0.26491964</td><td>0.6775686</td><td>-1.1831099</td><td>0.25920337</td></tr>\n",
       "<tr><td>1181116006550</td><td>275</td><td>101340608.64515615</td><td>2</td><td>6</td><td>192.69675</td><td>-65.32916</td><td>0.0</td><td>1.0266477</td><td>-1.25084</td><td>0.029839544</td><td>1.6176794</td><td>302.86642</td><td>-2.4609687</td><td>1.6177039</td><td>0.58345854</td><td>44.480762</td><td>164.64792</td><td>-265.81543</td><td>352.8828</td><td>-1.0</td><td>110.89496</td><td>5.3431833e-08</td><td>2.7919817</td><td>0.22497964</td><td>0.0</td><td>0.537932</td><td>1.6682274</td><td>-0.6632507</td><td>0.1571477</td></tr>\n",
       "<tr><td>1181116006563</td><td>275</td><td>101340608.67574596</td><td>2</td><td>18</td><td>193.34163</td><td>-64.84775</td><td>0.0</td><td>0.53391415</td><td>-0.9996115</td><td>0.2460323</td><td>1.1087917</td><td>303.13947</td><td>-1.9801933</td><td>1.1330624</td><td>11.85369</td><td>44.70888</td><td>163.94095</td><td>18.330433</td><td>81.25664</td><td>-1.0</td><td>83.880615</td><td>9.734566e-09</td><td>0.6552606</td><td>0.10277653</td><td>0.0</td><td>0.84123737</td><td>0.88285893</td><td>1.6200987</td><td>1.9082977</td></tr>\n",
       "</table>"
      ],
      "text/plain": [
       "<Table length=10>\n",
       "   EVENT_ID   BUNCH_ID        TIME        ...   HIL_MSL    HIL_MSL_ERR\n",
       "                               s          ...                         \n",
       "    int64      uint32       float64       ...   float32      float32  \n",
       "------------- -------- ------------------ ... ------------ -----------\n",
       "1176821039169      274 101340604.38234472 ...    1.1052839  0.51390404\n",
       "1176821039213      274  101340604.5194788 ...     1.622144   3.3814511\n",
       "1176821039566      274 101340605.74074888 ...  -0.35252866   1.1772275\n",
       "1176821039612      274 101340605.94794703 ... -0.037742727   0.8265278\n",
       "1176821039789      274 101340606.58970118 ...  -0.41062808  0.60097003\n",
       "1176821040119      274 101340607.77932763 ...   0.85098475   2.6240442\n",
       "1176821040179      274 101340608.00547266 ...  -0.63668734   0.1911984\n",
       "1181116006505      275 101340608.48366022 ...   -1.1831099  0.25920337\n",
       "1181116006550      275 101340608.64515615 ...   -0.6632507   0.1571477\n",
       "1181116006563      275 101340608.67574596 ...    1.6200987   1.9082977"
      ]
     },
     "execution_count": 28,
     "metadata": {},
     "output_type": "execute_result"
    }
   ],
   "source": [
    "events.table[:10]"
   ]
  },
  {
   "cell_type": "code",
   "execution_count": 29,
   "metadata": {},
   "outputs": [
    {
     "data": {
      "text/plain": [
       "<Time object: scale='tt' format='mjd' value=[53082.9244047  53082.92440629 53082.92442043 53082.92442282\n",
       " 53082.92443025 53082.92444402 53082.92444664 53082.92445217\n",
       " 53082.92445404 53082.9244544 ]>"
      ]
     },
     "execution_count": 29,
     "metadata": {},
     "output_type": "execute_result"
    }
   ],
   "source": [
    "events.time[:10]"
   ]
  },
  {
   "cell_type": "code",
   "execution_count": 30,
   "metadata": {},
   "outputs": [
    {
     "name": "stdout",
     "output_type": "stream",
     "text": [
      "['2004-03-18T22:11:08.566' '2004-03-18T22:11:08.703'\n",
      " '2004-03-18T22:11:09.925' '2004-03-18T22:11:10.132'\n",
      " '2004-03-18T22:11:10.774' '2004-03-18T22:11:11.963'\n",
      " '2004-03-18T22:11:12.189' '2004-03-18T22:11:12.668'\n",
      " '2004-03-18T22:11:12.829' '2004-03-18T22:11:12.860'\n",
      " '2004-03-18T22:11:12.888' '2004-03-18T22:11:13.272'\n",
      " '2004-03-18T22:11:13.472' '2004-03-18T22:11:13.807'\n",
      " '2004-03-18T22:11:14.484' '2004-03-18T22:11:15.353'\n",
      " '2004-03-18T22:11:15.486' '2004-03-18T22:11:15.989'\n",
      " '2004-03-18T22:11:17.355' '2004-03-18T22:11:17.449']\n"
     ]
    }
   ],
   "source": [
    "# Convert event time to more human-readable format\n",
    "print(events.time[:20].fits)"
   ]
  },
  {
   "cell_type": "code",
   "execution_count": 31,
   "metadata": {},
   "outputs": [
    {
     "name": "stdout",
     "output_type": "stream",
     "text": [
      "<class 'astropy.coordinates.sky_coordinate.SkyCoord'>\n"
     ]
    },
    {
     "data": {
      "text/plain": [
       "<SkyCoord (ICRS): (ra, dec) in deg\n",
       "    [(195.53888, -62.93742 ), (193.61552, -64.66671 ),\n",
       "     (193.18451, -63.293777), (191.36064, -65.50769 ),\n",
       "     (194.43973, -62.044636), (193.3684 , -63.36419 ),\n",
       "     (198.02885, -63.43888 ), (195.40656, -65.752846),\n",
       "     (192.69675, -65.32916 ), (193.34163, -64.84775 ),\n",
       "     (196.95969, -64.00093 ), (194.1152 , -64.10832 ),\n",
       "     (191.33975, -63.52056 ), (198.24443, -63.09561 ),\n",
       "     (196.88718, -63.462452), (196.35406, -63.773193),\n",
       "     (193.67938, -63.20357 ), (194.19908, -63.825294),\n",
       "     (195.93335, -63.299618), (193.00267, -63.38326 )]>"
      ]
     },
     "execution_count": 31,
     "metadata": {},
     "output_type": "execute_result"
    }
   ],
   "source": [
    "# Event positions can be accessed as Astropy SkyCoord objects\n",
    "print(type(events.radec))\n",
    "events.radec[:20]"
   ]
  },
  {
   "cell_type": "code",
   "execution_count": 32,
   "metadata": {},
   "outputs": [
    {
     "name": "stdout",
     "output_type": "stream",
     "text": [
      "<class 'collections.OrderedDict'>\n"
     ]
    }
   ],
   "source": [
    "# The event header information is stored\n",
    "# in the `events.table.meta` dictionary\n",
    "print(type(events.table.meta))"
   ]
  },
  {
   "cell_type": "code",
   "execution_count": 33,
   "metadata": {},
   "outputs": [
    {
     "data": {
      "text/plain": [
       "(195.7, -64.3358333333333)"
      ]
     },
     "execution_count": 33,
     "metadata": {},
     "output_type": "execute_result"
    }
   ],
   "source": [
    "# E.g. to get the observation pointing position in degrees:\n",
    "events.table.meta[\"RA_PNT\"], events.table.meta[\"DEC_PNT\"]"
   ]
  },
  {
   "cell_type": "code",
   "execution_count": 34,
   "metadata": {},
   "outputs": [
    {
     "data": {
      "text/plain": [
       "<SkyCoord (Galactic): (l, b) in deg\n",
       "    (304.16214974, -1.49122932)>"
      ]
     },
     "execution_count": 34,
     "metadata": {},
     "output_type": "execute_result"
    },
    {
     "data": {
      "image/png": "[encoded data removed]",
      "text/plain": [
       "<Figure size 432x288 with 1 Axes>"
      ]
     },
     "metadata": {
      "needs_background": "light"
     },
     "output_type": "display_data"
    }
   ],
   "source": [
    "# Event positions\n",
    "pos = events.galactic[::38]  # sub-sample every 38th event\n",
    "plt.scatter(pos.l.wrap_at(\"180 deg\").deg, pos.b.deg, s=10)\n",
    "# Pointing position\n",
    "pos_pnt = events.pointing_radec.galactic\n",
    "plt.scatter(\n",
    "    pos_pnt.l.wrap_at(\"180 deg\").deg, pos_pnt.b.deg, marker=\"*\", s=400, c=\"red\"\n",
    ")\n",
    "plt.xlabel(\"Galactic longitude (deg)\")\n",
    "plt.ylabel(\"Galactic latitude (deg)\")\n",
    "pos_pnt"
   ]
  },
  {
   "cell_type": "code",
   "execution_count": 35,
   "metadata": {},
   "outputs": [
    {
     "data": {
      "image/png": "[encoded data removed]",
      "text/plain": [
       "<Figure size 432x288 with 1 Axes>"
      ]
     },
     "metadata": {
      "needs_background": "light"
     },
     "output_type": "display_data"
    }
   ],
   "source": [
    "energy = events.table[\"ENERGY\"].data\n",
    "energy_bins = np.logspace(-2, 2, num=100)\n",
    "plt.hist(energy, bins=energy_bins)\n",
    "plt.semilogx()\n",
    "plt.xlabel(\"Event energy (TeV)\")\n",
    "plt.ylabel(\"Number of events\");"
   ]
  },
  {
   "cell_type": "code",
   "execution_count": 37,
   "metadata": {},
   "outputs": [],
   "source": [
    "#is_gamma = events.table[\"MC_ID\"] != 1\n",
    "#print(\"Number of events: \", len(events.table))\n",
    "#print(\"Number of gammas: \", is_gamma.sum())\n",
    "#print(\"Number of hadrons: \", len(events.table) - is_gamma.sum())\n",
    "\n",
    "#la colonne \"MC_ID\" n'existe pas apparemment"
   ]
  },
  {
   "cell_type": "code",
   "execution_count": 38,
   "metadata": {},
   "outputs": [
    {
     "data": {
      "text/plain": [
       "['EVENT_ID',\n",
       " 'BUNCH_ID',\n",
       " 'TIME',\n",
       " 'MULTIP',\n",
       " 'TELMASK',\n",
       " 'RA',\n",
       " 'DEC',\n",
       " 'DIR_ERR',\n",
       " 'SKYX_RADEC',\n",
       " 'SKYY_RADEC',\n",
       " 'DETX',\n",
       " 'DETY',\n",
       " 'GLON',\n",
       " 'GLAT',\n",
       " 'THETA',\n",
       " 'PHI',\n",
       " 'ALT',\n",
       " 'AZ',\n",
       " 'COREX',\n",
       " 'COREY',\n",
       " 'CORE_ERR',\n",
       " 'XMAX',\n",
       " 'XMAX_ERR',\n",
       " 'ENERGY',\n",
       " 'ENERGY_ERR',\n",
       " 'PHASE',\n",
       " 'HIL_MSW',\n",
       " 'HIL_MSW_ERR',\n",
       " 'HIL_MSL',\n",
       " 'HIL_MSL_ERR']"
      ]
     },
     "execution_count": 38,
     "metadata": {},
     "output_type": "execute_result"
    }
   ],
   "source": [
    "events.table.colnames"
   ]
  },
  {
   "cell_type": "code",
   "execution_count": 41,
   "metadata": {},
   "outputs": [
    {
     "data": {
      "text/latex": [
       "$23.862495 \\; \\mathrm{TeV}$"
      ],
      "text/plain": [
       "<Quantity 23.86249542 TeV>"
      ]
     },
     "execution_count": 41,
     "metadata": {},
     "output_type": "execute_result"
    }
   ],
   "source": [
    "# select all events within a radius of 0.5 deg around center\n",
    "center = events.pointing_radec.galactic\n",
    "\n",
    "from gammapy.utils.regions import SphericalCircleSkyRegion\n",
    "\n",
    "region = SphericalCircleSkyRegion(center, radius=0.5 * u.deg)\n",
    "events_c = events.select_region(region)\n",
    "\n",
    "# sort events by energy\n",
    "events_c.table.sort(\"ENERGY\")\n",
    "\n",
    "# and show highest energy photon\n",
    "events_c.energy[-1].to(\"TeV\")"
   ]
  },
  {
   "cell_type": "code",
   "execution_count": null,
   "metadata": {},
   "outputs": [],
   "source": []
  }
 ],
 "metadata": {
  "kernelspec": {
   "display_name": "Python 3",
   "language": "python",
   "name": "python3"
  },
  "language_info": {
   "codemirror_mode": {
    "name": "ipython",
    "version": 3
   },
   "file_extension": ".py",
   "mimetype": "text/x-python",
   "name": "python",
   "nbconvert_exporter": "python",
   "pygments_lexer": "ipython3",
   "version": "3.7.0"
  }
 },
 "nbformat": 4,
 "nbformat_minor": 4
}
