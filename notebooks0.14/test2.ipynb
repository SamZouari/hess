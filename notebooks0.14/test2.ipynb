{
 "cells": [
  {
   "cell_type": "markdown",
   "metadata": {},
   "source": [
    "Fait à partir du tuto intro_maps de la v0.14"
   ]
  },
  {
   "cell_type": "code",
   "execution_count": 2,
   "metadata": {},
   "outputs": [],
   "source": [
    "%matplotlib inline\n",
    "import numpy as np\n",
    "import matplotlib.pyplot as plt\n",
    "import os"
   ]
  },
  {
   "cell_type": "code",
   "execution_count": 3,
   "metadata": {},
   "outputs": [],
   "source": [
    "from astropy import units as u\n",
    "from astropy.io import fits\n",
    "from astropy.table import Table\n",
    "from astropy.coordinates import SkyCoord\n",
    "from gammapy.maps import Map, MapAxis, WcsGeom"
   ]
  },
  {
   "cell_type": "code",
   "execution_count": 4,
   "metadata": {},
   "outputs": [],
   "source": [
    "m_allsky = Map.create()"
   ]
  },
  {
   "cell_type": "code",
   "execution_count": 5,
   "metadata": {},
   "outputs": [
    {
     "name": "stdout",
     "output_type": "stream",
     "text": [
      "WcsGeom\n",
      "\n",
      "\taxes       : ['lon', 'lat']\n",
      "\tshape      : (3600, 1800)\n",
      "\tndim       : 2\n",
      "\tcoordsys   : CEL\n",
      "\tprojection : CAR\n",
      "\tcenter     : 0.0 deg, 0.0 deg\n",
      "\twidth      : 360.0 deg x 180.0 deg\n",
      "\n"
     ]
    }
   ],
   "source": [
    "print(m_allsky.geom)"
   ]
  },
  {
   "cell_type": "code",
   "execution_count": 6,
   "metadata": {},
   "outputs": [
    {
     "name": "stdout",
     "output_type": "stream",
     "text": [
      "WcsGeom\n",
      "\n",
      "\taxes       : ['lon', 'lat']\n",
      "\tshape      : (500, 250)\n",
      "\tndim       : 2\n",
      "\tcoordsys   : GAL\n",
      "\tprojection : TAN\n",
      "\tcenter     : 0.0 deg, 0.0 deg\n",
      "\twidth      : 10.0 deg x 5.0 deg\n",
      "\n"
     ]
    }
   ],
   "source": [
    "skydir = SkyCoord(0, 0, frame=\"galactic\", unit=\"deg\")\n",
    "m_gc = Map.create(\n",
    "    binsz=0.02, width=(10, 5), skydir=skydir, coordsys=\"GAL\", proj=\"TAN\"\n",
    ")\n",
    "print(m_gc.geom)"
   ]
  },
  {
   "cell_type": "code",
   "execution_count": 7,
   "metadata": {},
   "outputs": [
    {
     "name": "stdout",
     "output_type": "stream",
     "text": [
      "MapAxis\n",
      "\n",
      "\tname       : energy    \n",
      "\tunit       : 'TeV'     \n",
      "\tnbins      : 4         \n",
      "\tnode type  : edges     \n",
      "\tedges min  : 1.0e+00 TeV\n",
      "\tedges max  : 1.0e+02 TeV\n",
      "\tinterp     : log       \n",
      "\n"
     ]
    }
   ],
   "source": [
    "energy_axis = MapAxis.from_bounds(\n",
    "    1, 100, nbin=4, unit=\"TeV\", name=\"energy\", interp=\"log\"\n",
    ")\n",
    "print(energy_axis)"
   ]
  },
  {
   "cell_type": "code",
   "execution_count": 8,
   "metadata": {},
   "outputs": [
    {
     "name": "stdout",
     "output_type": "stream",
     "text": [
      "WcsGeom\n",
      "\n",
      "\taxes       : ['lon', 'lat', 'energy']\n",
      "\tshape      : (500, 250, 4)\n",
      "\tndim       : 3\n",
      "\tcoordsys   : GAL\n",
      "\tprojection : CAR\n",
      "\tcenter     : 0.0 deg, 0.0 deg\n",
      "\twidth      : 10.0 deg x 5.0 deg\n",
      "\n"
     ]
    }
   ],
   "source": [
    "m_cube = Map.create(\n",
    "    binsz=0.02, width=(10, 5), coordsys=\"GAL\", axes=[energy_axis]\n",
    ")\n",
    "print(m_cube.geom)"
   ]
  },
  {
   "cell_type": "code",
   "execution_count": 9,
   "metadata": {},
   "outputs": [
    {
     "name": "stdout",
     "output_type": "stream",
     "text": [
      "WcsGeom\n",
      "\n",
      "\taxes       : ['lon', 'lat', 'energy', 'time']\n",
      "\tshape      : (500, 250, 4, 24)\n",
      "\tndim       : 4\n",
      "\tcoordsys   : GAL\n",
      "\tprojection : CAR\n",
      "\tcenter     : 0.0 deg, 0.0 deg\n",
      "\twidth      : 10.0 deg x 5.0 deg\n",
      "\n"
     ]
    }
   ],
   "source": [
    "time_axis = MapAxis.from_bounds(\n",
    "    0, 24, nbin=24, unit=\"hour\", name=\"time\", interp=\"lin\"\n",
    ")\n",
    "\n",
    "m_4d = Map.create(\n",
    "    binsz=0.02, width=(10, 5), coordsys=\"GAL\", axes=[energy_axis, time_axis]\n",
    ")\n",
    "print(m_4d.geom)"
   ]
  },
  {
   "cell_type": "code",
   "execution_count": 10,
   "metadata": {},
   "outputs": [
    {
     "name": "stderr",
     "output_type": "stream",
     "text": [
      "WARNING: VerifyWarning: Invalid keyword for column 8: Column null option (TNULLn) is invalid for binary table columns of type '1E' (got -1).  The invalid value will be ignored for the purpose of formatting the data in this column. [astropy.io.fits.column]\n",
      "WARNING: VerifyWarning: Invalid keyword for column 21: Column null option (TNULLn) is invalid for binary table columns of type '1E' (got -1).  The invalid value will be ignored for the purpose of formatting the data in this column. [astropy.io.fits.column]\n",
      "WARNING: VerifyWarning: Invalid keyword for column 23: Column null option (TNULLn) is invalid for binary table columns of type '1E' (got -1).  The invalid value will be ignored for the purpose of formatting the data in this column. [astropy.io.fits.column]\n",
      "WARNING: VerifyWarning: Invalid keyword for column 25: Column null option (TNULLn) is invalid for binary table columns of type '1E' (got -1).  The invalid value will be ignored for the purpose of formatting the data in this column. [astropy.io.fits.column]\n",
      "WARNING: VerifyWarning: Invalid keyword for column 26: Column null option (TNULLn) is invalid for binary table columns of type '1D' (got -1).  The invalid value will be ignored for the purpose of formatting the data in this column. [astropy.io.fits.column]\n",
      "WARNING: VerifyWarning: Invalid keyword for column 27: Column null option (TNULLn) is invalid for binary table columns of type '1E' (got -1).  The invalid value will be ignored for the purpose of formatting the data in this column. [astropy.io.fits.column]\n",
      "WARNING: VerifyWarning: Invalid keyword for column 28: Column null option (TNULLn) is invalid for binary table columns of type '1E' (got -1).  The invalid value will be ignored for the purpose of formatting the data in this column. [astropy.io.fits.column]\n",
      "WARNING: VerifyWarning: Invalid keyword for column 29: Column null option (TNULLn) is invalid for binary table columns of type '1E' (got -1).  The invalid value will be ignored for the purpose of formatting the data in this column. [astropy.io.fits.column]\n",
      "WARNING: VerifyWarning: Invalid keyword for column 30: Column null option (TNULLn) is invalid for binary table columns of type '1E' (got -1).  The invalid value will be ignored for the purpose of formatting the data in this column. [astropy.io.fits.column]\n",
      "WARNING: FITSFixedWarning: RADECSYS= 'FK5 ' / equatorial system type \n",
      "the RADECSYS keyword is deprecated, use RADESYSa. [astropy.wcs.wcs]\n"
     ]
    },
    {
     "ename": "ValueError",
     "evalue": "Unrecognized WCS coordinate system.",
     "output_type": "error",
     "traceback": [
      "\u001b[0;31m---------------------------------------------------------------------------\u001b[0m",
      "\u001b[0;31mValueError\u001b[0m                                Traceback (most recent call last)",
      "\u001b[0;32m<ipython-input-10-0bed4735dcb3>\u001b[0m in \u001b[0;36m<module>\u001b[0;34m\u001b[0m\n\u001b[1;32m      1\u001b[0m \u001b[0mfilename\u001b[0m \u001b[0;34m=\u001b[0m \u001b[0;34m\"../data/ash_stereo_Prod17_Calib0834_thsq64/run019000-019199/run019002/events_019002.fits.gz\"\u001b[0m\u001b[0;34m\u001b[0m\u001b[0m\n\u001b[0;32m----> 2\u001b[0;31m \u001b[0mm_run019002\u001b[0m \u001b[0;34m=\u001b[0m \u001b[0mMap\u001b[0m\u001b[0;34m.\u001b[0m\u001b[0mread\u001b[0m\u001b[0;34m(\u001b[0m\u001b[0mfilename\u001b[0m\u001b[0;34m)\u001b[0m\u001b[0;34m\u001b[0m\u001b[0m\n\u001b[0m\u001b[1;32m      3\u001b[0m \u001b[0mprint\u001b[0m\u001b[0;34m(\u001b[0m\u001b[0mm_run019002\u001b[0m\u001b[0;34m)\u001b[0m\u001b[0;34m\u001b[0m\u001b[0m\n",
      "\u001b[0;32m~/anaconda3/envs/gammapy-0.14/lib/python3.7/site-packages/gammapy/maps/base.py\u001b[0m in \u001b[0;36mread\u001b[0;34m(filename, hdu, hdu_bands, map_type)\u001b[0m\n\u001b[1;32m    184\u001b[0m         \u001b[0mfilename\u001b[0m \u001b[0;34m=\u001b[0m \u001b[0mstr\u001b[0m\u001b[0;34m(\u001b[0m\u001b[0mmake_path\u001b[0m\u001b[0;34m(\u001b[0m\u001b[0mfilename\u001b[0m\u001b[0;34m)\u001b[0m\u001b[0;34m)\u001b[0m\u001b[0;34m\u001b[0m\u001b[0m\n\u001b[1;32m    185\u001b[0m         \u001b[0;32mwith\u001b[0m \u001b[0mfits\u001b[0m\u001b[0;34m.\u001b[0m\u001b[0mopen\u001b[0m\u001b[0;34m(\u001b[0m\u001b[0mfilename\u001b[0m\u001b[0;34m,\u001b[0m \u001b[0mmemmap\u001b[0m\u001b[0;34m=\u001b[0m\u001b[0;32mFalse\u001b[0m\u001b[0;34m)\u001b[0m \u001b[0;32mas\u001b[0m \u001b[0mhdulist\u001b[0m\u001b[0;34m:\u001b[0m\u001b[0;34m\u001b[0m\u001b[0m\n\u001b[0;32m--> 186\u001b[0;31m             \u001b[0;32mreturn\u001b[0m \u001b[0mMap\u001b[0m\u001b[0;34m.\u001b[0m\u001b[0mfrom_hdulist\u001b[0m\u001b[0;34m(\u001b[0m\u001b[0mhdulist\u001b[0m\u001b[0;34m,\u001b[0m \u001b[0mhdu\u001b[0m\u001b[0;34m,\u001b[0m \u001b[0mhdu_bands\u001b[0m\u001b[0;34m,\u001b[0m \u001b[0mmap_type\u001b[0m\u001b[0;34m)\u001b[0m\u001b[0;34m\u001b[0m\u001b[0m\n\u001b[0m\u001b[1;32m    187\u001b[0m \u001b[0;34m\u001b[0m\u001b[0m\n\u001b[1;32m    188\u001b[0m     \u001b[0;34m@\u001b[0m\u001b[0mstaticmethod\u001b[0m\u001b[0;34m\u001b[0m\u001b[0m\n",
      "\u001b[0;32m~/anaconda3/envs/gammapy-0.14/lib/python3.7/site-packages/gammapy/maps/base.py\u001b[0m in \u001b[0;36mfrom_hdulist\u001b[0;34m(hdulist, hdu, hdu_bands, map_type)\u001b[0m\n\u001b[1;32m    235\u001b[0m             \u001b[0mmap_type\u001b[0m \u001b[0;34m=\u001b[0m \u001b[0mMap\u001b[0m\u001b[0;34m.\u001b[0m\u001b[0m_get_map_type\u001b[0m\u001b[0;34m(\u001b[0m\u001b[0mhdulist\u001b[0m\u001b[0;34m,\u001b[0m \u001b[0mhdu\u001b[0m\u001b[0;34m)\u001b[0m\u001b[0;34m\u001b[0m\u001b[0m\n\u001b[1;32m    236\u001b[0m         \u001b[0mcls_out\u001b[0m \u001b[0;34m=\u001b[0m \u001b[0mMap\u001b[0m\u001b[0;34m.\u001b[0m\u001b[0m_get_map_cls\u001b[0m\u001b[0;34m(\u001b[0m\u001b[0mmap_type\u001b[0m\u001b[0;34m)\u001b[0m\u001b[0;34m\u001b[0m\u001b[0m\n\u001b[0;32m--> 237\u001b[0;31m         \u001b[0;32mreturn\u001b[0m \u001b[0mcls_out\u001b[0m\u001b[0;34m.\u001b[0m\u001b[0mfrom_hdulist\u001b[0m\u001b[0;34m(\u001b[0m\u001b[0mhdulist\u001b[0m\u001b[0;34m,\u001b[0m \u001b[0mhdu\u001b[0m\u001b[0;34m=\u001b[0m\u001b[0mhdu\u001b[0m\u001b[0;34m,\u001b[0m \u001b[0mhdu_bands\u001b[0m\u001b[0;34m=\u001b[0m\u001b[0mhdu_bands\u001b[0m\u001b[0;34m)\u001b[0m\u001b[0;34m\u001b[0m\u001b[0m\n\u001b[0m\u001b[1;32m    238\u001b[0m \u001b[0;34m\u001b[0m\u001b[0m\n\u001b[1;32m    239\u001b[0m     \u001b[0;34m@\u001b[0m\u001b[0mstaticmethod\u001b[0m\u001b[0;34m\u001b[0m\u001b[0m\n",
      "\u001b[0;32m~/anaconda3/envs/gammapy-0.14/lib/python3.7/site-packages/gammapy/maps/wcsmap.py\u001b[0m in \u001b[0;36mfrom_hdulist\u001b[0;34m(cls, hdu_list, hdu, hdu_bands)\u001b[0m\n\u001b[1;32m    136\u001b[0m             \u001b[0mhdu_bands\u001b[0m \u001b[0;34m=\u001b[0m \u001b[0mhdu_list\u001b[0m\u001b[0;34m[\u001b[0m\u001b[0mhdu_bands\u001b[0m\u001b[0;34m]\u001b[0m\u001b[0;34m\u001b[0m\u001b[0m\n\u001b[1;32m    137\u001b[0m \u001b[0;34m\u001b[0m\u001b[0m\n\u001b[0;32m--> 138\u001b[0;31m         \u001b[0;32mreturn\u001b[0m \u001b[0mcls\u001b[0m\u001b[0;34m.\u001b[0m\u001b[0mfrom_hdu\u001b[0m\u001b[0;34m(\u001b[0m\u001b[0mhdu\u001b[0m\u001b[0;34m,\u001b[0m \u001b[0mhdu_bands\u001b[0m\u001b[0;34m)\u001b[0m\u001b[0;34m\u001b[0m\u001b[0m\n\u001b[0m\u001b[1;32m    139\u001b[0m \u001b[0;34m\u001b[0m\u001b[0m\n\u001b[1;32m    140\u001b[0m     \u001b[0;32mdef\u001b[0m \u001b[0mto_hdulist\u001b[0m\u001b[0;34m(\u001b[0m\u001b[0mself\u001b[0m\u001b[0;34m,\u001b[0m \u001b[0mhdu\u001b[0m\u001b[0;34m=\u001b[0m\u001b[0;32mNone\u001b[0m\u001b[0;34m,\u001b[0m \u001b[0mhdu_bands\u001b[0m\u001b[0;34m=\u001b[0m\u001b[0;32mNone\u001b[0m\u001b[0;34m,\u001b[0m \u001b[0msparse\u001b[0m\u001b[0;34m=\u001b[0m\u001b[0;32mFalse\u001b[0m\u001b[0;34m,\u001b[0m \u001b[0mconv\u001b[0m\u001b[0;34m=\u001b[0m\u001b[0;34m\"gadf\"\u001b[0m\u001b[0;34m)\u001b[0m\u001b[0;34m:\u001b[0m\u001b[0;34m\u001b[0m\u001b[0m\n",
      "\u001b[0;32m~/anaconda3/envs/gammapy-0.14/lib/python3.7/site-packages/gammapy/maps/wcsnd.py\u001b[0m in \u001b[0;36mfrom_hdu\u001b[0;34m(cls, hdu, hdu_bands)\u001b[0m\n\u001b[1;32m     80\u001b[0m             \u001b[0mThe\u001b[0m \u001b[0mBANDS\u001b[0m \u001b[0mtable\u001b[0m \u001b[0mHDU\u001b[0m\u001b[0;34m.\u001b[0m\u001b[0;34m\u001b[0m\u001b[0m\n\u001b[1;32m     81\u001b[0m         \"\"\"\n\u001b[0;32m---> 82\u001b[0;31m         \u001b[0mgeom\u001b[0m \u001b[0;34m=\u001b[0m \u001b[0mWcsGeom\u001b[0m\u001b[0;34m.\u001b[0m\u001b[0mfrom_header\u001b[0m\u001b[0;34m(\u001b[0m\u001b[0mhdu\u001b[0m\u001b[0;34m.\u001b[0m\u001b[0mheader\u001b[0m\u001b[0;34m,\u001b[0m \u001b[0mhdu_bands\u001b[0m\u001b[0;34m)\u001b[0m\u001b[0;34m\u001b[0m\u001b[0m\n\u001b[0m\u001b[1;32m     83\u001b[0m         \u001b[0mshape\u001b[0m \u001b[0;34m=\u001b[0m \u001b[0mtuple\u001b[0m\u001b[0;34m(\u001b[0m\u001b[0;34m[\u001b[0m\u001b[0max\u001b[0m\u001b[0;34m.\u001b[0m\u001b[0mnbin\u001b[0m \u001b[0;32mfor\u001b[0m \u001b[0max\u001b[0m \u001b[0;32min\u001b[0m \u001b[0mgeom\u001b[0m\u001b[0;34m.\u001b[0m\u001b[0maxes\u001b[0m\u001b[0;34m]\u001b[0m\u001b[0;34m)\u001b[0m\u001b[0;34m\u001b[0m\u001b[0m\n\u001b[1;32m     84\u001b[0m         \u001b[0mshape_wcs\u001b[0m \u001b[0;34m=\u001b[0m \u001b[0mtuple\u001b[0m\u001b[0;34m(\u001b[0m\u001b[0;34m[\u001b[0m\u001b[0mnp\u001b[0m\u001b[0;34m.\u001b[0m\u001b[0mmax\u001b[0m\u001b[0;34m(\u001b[0m\u001b[0mgeom\u001b[0m\u001b[0;34m.\u001b[0m\u001b[0mnpix\u001b[0m\u001b[0;34m[\u001b[0m\u001b[0;36m0\u001b[0m\u001b[0;34m]\u001b[0m\u001b[0;34m)\u001b[0m\u001b[0;34m,\u001b[0m \u001b[0mnp\u001b[0m\u001b[0;34m.\u001b[0m\u001b[0mmax\u001b[0m\u001b[0;34m(\u001b[0m\u001b[0mgeom\u001b[0m\u001b[0;34m.\u001b[0m\u001b[0mnpix\u001b[0m\u001b[0;34m[\u001b[0m\u001b[0;36m1\u001b[0m\u001b[0;34m]\u001b[0m\u001b[0;34m)\u001b[0m\u001b[0;34m]\u001b[0m\u001b[0;34m)\u001b[0m\u001b[0;34m\u001b[0m\u001b[0m\n",
      "\u001b[0;32m~/anaconda3/envs/gammapy-0.14/lib/python3.7/site-packages/gammapy/maps/wcs.py\u001b[0m in \u001b[0;36mfrom_header\u001b[0;34m(cls, header, hdu_bands)\u001b[0m\n\u001b[1;32m    487\u001b[0m             \u001b[0mcdelt\u001b[0m \u001b[0;34m=\u001b[0m \u001b[0;32mNone\u001b[0m\u001b[0;34m\u001b[0m\u001b[0m\n\u001b[1;32m    488\u001b[0m \u001b[0;34m\u001b[0m\u001b[0m\n\u001b[0;32m--> 489\u001b[0;31m         \u001b[0;32mreturn\u001b[0m \u001b[0mcls\u001b[0m\u001b[0;34m(\u001b[0m\u001b[0mwcs\u001b[0m\u001b[0;34m,\u001b[0m \u001b[0mnpix\u001b[0m\u001b[0;34m,\u001b[0m \u001b[0mcdelt\u001b[0m\u001b[0;34m=\u001b[0m\u001b[0mcdelt\u001b[0m\u001b[0;34m,\u001b[0m \u001b[0maxes\u001b[0m\u001b[0;34m=\u001b[0m\u001b[0maxes\u001b[0m\u001b[0;34m)\u001b[0m\u001b[0;34m\u001b[0m\u001b[0m\n\u001b[0m\u001b[1;32m    490\u001b[0m \u001b[0;34m\u001b[0m\u001b[0m\n\u001b[1;32m    491\u001b[0m     \u001b[0;32mdef\u001b[0m \u001b[0m_make_bands_cols\u001b[0m\u001b[0;34m(\u001b[0m\u001b[0mself\u001b[0m\u001b[0;34m,\u001b[0m \u001b[0mhdu\u001b[0m\u001b[0;34m=\u001b[0m\u001b[0;32mNone\u001b[0m\u001b[0;34m,\u001b[0m \u001b[0mconv\u001b[0m\u001b[0;34m=\u001b[0m\u001b[0;32mNone\u001b[0m\u001b[0;34m)\u001b[0m\u001b[0;34m:\u001b[0m\u001b[0;34m\u001b[0m\u001b[0m\n",
      "\u001b[0;32m~/anaconda3/envs/gammapy-0.14/lib/python3.7/site-packages/gammapy/maps/wcs.py\u001b[0m in \u001b[0;36m__init__\u001b[0;34m(self, wcs, npix, cdelt, crpix, axes)\u001b[0m\n\u001b[1;32m    188\u001b[0m     \u001b[0;32mdef\u001b[0m \u001b[0m__init__\u001b[0m\u001b[0;34m(\u001b[0m\u001b[0mself\u001b[0m\u001b[0;34m,\u001b[0m \u001b[0mwcs\u001b[0m\u001b[0;34m,\u001b[0m \u001b[0mnpix\u001b[0m\u001b[0;34m,\u001b[0m \u001b[0mcdelt\u001b[0m\u001b[0;34m=\u001b[0m\u001b[0;32mNone\u001b[0m\u001b[0;34m,\u001b[0m \u001b[0mcrpix\u001b[0m\u001b[0;34m=\u001b[0m\u001b[0;32mNone\u001b[0m\u001b[0;34m,\u001b[0m \u001b[0maxes\u001b[0m\u001b[0;34m=\u001b[0m\u001b[0;32mNone\u001b[0m\u001b[0;34m)\u001b[0m\u001b[0;34m:\u001b[0m\u001b[0;34m\u001b[0m\u001b[0m\n\u001b[1;32m    189\u001b[0m         \u001b[0mself\u001b[0m\u001b[0;34m.\u001b[0m\u001b[0m_wcs\u001b[0m \u001b[0;34m=\u001b[0m \u001b[0mwcs\u001b[0m\u001b[0;34m\u001b[0m\u001b[0m\n\u001b[0;32m--> 190\u001b[0;31m         \u001b[0mself\u001b[0m\u001b[0;34m.\u001b[0m\u001b[0m_coordsys\u001b[0m \u001b[0;34m=\u001b[0m \u001b[0mget_coordys\u001b[0m\u001b[0;34m(\u001b[0m\u001b[0mwcs\u001b[0m\u001b[0;34m)\u001b[0m\u001b[0;34m\u001b[0m\u001b[0m\n\u001b[0m\u001b[1;32m    191\u001b[0m         \u001b[0mself\u001b[0m\u001b[0;34m.\u001b[0m\u001b[0m_projection\u001b[0m \u001b[0;34m=\u001b[0m \u001b[0mget_projection\u001b[0m\u001b[0;34m(\u001b[0m\u001b[0mwcs\u001b[0m\u001b[0;34m)\u001b[0m\u001b[0;34m\u001b[0m\u001b[0m\n\u001b[1;32m    192\u001b[0m         \u001b[0mself\u001b[0m\u001b[0;34m.\u001b[0m\u001b[0m_axes\u001b[0m \u001b[0;34m=\u001b[0m \u001b[0mmake_axes\u001b[0m\u001b[0;34m(\u001b[0m\u001b[0maxes\u001b[0m\u001b[0;34m)\u001b[0m\u001b[0;34m\u001b[0m\u001b[0m\n",
      "\u001b[0;32m~/anaconda3/envs/gammapy-0.14/lib/python3.7/site-packages/gammapy/maps/wcs.py\u001b[0m in \u001b[0;36mget_coordys\u001b[0;34m(wcs)\u001b[0m\n\u001b[1;32m   1038\u001b[0m         \u001b[0;32mreturn\u001b[0m \u001b[0;34m\"GAL\"\u001b[0m\u001b[0;34m\u001b[0m\u001b[0m\n\u001b[1;32m   1039\u001b[0m     \u001b[0;32melse\u001b[0m\u001b[0;34m:\u001b[0m\u001b[0;34m\u001b[0m\u001b[0m\n\u001b[0;32m-> 1040\u001b[0;31m         \u001b[0;32mraise\u001b[0m \u001b[0mValueError\u001b[0m\u001b[0;34m(\u001b[0m\u001b[0;34m\"Unrecognized WCS coordinate system.\"\u001b[0m\u001b[0;34m)\u001b[0m\u001b[0;34m\u001b[0m\u001b[0m\n\u001b[0m",
      "\u001b[0;31mValueError\u001b[0m: Unrecognized WCS coordinate system."
     ]
    }
   ],
   "source": [
    "filename = \"../data/ash_stereo_Prod17_Calib0834_thsq64/run019000-019199/run019002/events_019002.fits.gz\"\n",
    "m_run019002 = Map.read(filename)\n",
    "print(m_run019002)"
   ]
  },
  {
   "cell_type": "code",
   "execution_count": 1,
   "metadata": {},
   "outputs": [
    {
     "name": "stdout",
     "output_type": "stream",
     "text": [
      "test1.ipynb        test2-Copy1.ipynb  test2.ipynb\n"
     ]
    }
   ],
   "source": [
    "ls"
   ]
  },
  {
   "cell_type": "code",
   "execution_count": null,
   "metadata": {},
   "outputs": [],
   "source": []
  }
 ],
 "metadata": {
  "kernelspec": {
   "display_name": "Python 3",
   "language": "python",
   "name": "python3"
  },
  "language_info": {
   "codemirror_mode": {
    "name": "ipython",
    "version": 3
   },
   "file_extension": ".py",
   "mimetype": "text/x-python",
   "name": "python",
   "nbconvert_exporter": "python",
   "pygments_lexer": "ipython3",
   "version": "3.7.0"
  }
 },
 "nbformat": 4,
 "nbformat_minor": 4
}
