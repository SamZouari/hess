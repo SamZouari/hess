{
 "cells": [
  {
   "cell_type": "markdown",
   "metadata": {},
   "source": [
    "# Courbe de lumière via analyse 2D"
   ]
  },
  {
   "cell_type": "code",
   "execution_count": 1,
   "metadata": {},
   "outputs": [],
   "source": [
    "%matplotlib inline\n",
    "import matplotlib.pyplot as plt\n",
    "from scipy.stats import norm\n",
    "import numpy as np\n",
    "\n",
    "import astropy.units as u\n",
    "from astropy.coordinates import SkyCoord\n",
    "from astropy.time import Time"
   ]
  },
  {
   "cell_type": "code",
   "execution_count": 86,
   "metadata": {},
   "outputs": [],
   "source": [
    "# à partir de l'analyse 2D\n",
    "\n",
    "from astropy.convolution import Tophat2DKernel\n",
    "from regions import CircleSkyRegion\n",
    "\n",
    "from gammapy.detect import compute_lima_on_off_image\n",
    "from gammapy.data import DataStore\n",
    "from gammapy.irf import make_mean_psf\n",
    "from gammapy.maps import Map, MapAxis, WcsGeom\n",
    "from gammapy.cube import (\n",
    "    MapMaker,\n",
    "    PSFKernel,\n",
    "    MapDataset,\n",
    "    MapMakerRing,\n",
    "    RingBackgroundEstimator,\n",
    ")\n",
    "from gammapy.modeling.models import (\n",
    "    SkyModel,\n",
    "    BackgroundModel,\n",
    "    PowerLaw2SpectralModel,\n",
    "    PointSpatialModel,\n",
    "    TemplateSpatialModel,\n",
    "    GaussianSpatialModel,\n",
    ")\n",
    "from gammapy.modeling import Fit"
   ]
  },
  {
   "cell_type": "code",
   "execution_count": 3,
   "metadata": {},
   "outputs": [],
   "source": [
    "# à partir du code pour les courbes de lumière 3D\n",
    "\n",
    "from gammapy.data import ObservationFilter\n",
    "from gammapy.modeling.models import PowerLawSpectralModel\n",
    "from gammapy.modeling.models import PointSpatialModel, SkyDiffuseCube\n",
    "\n",
    "from gammapy.maps import WcsNDMap\n",
    "from gammapy.irf import make_mean_edisp  # pas utile en 2D a priori\n",
    "from gammapy.time import LightCurveEstimator\n",
    "from astropy.coordinates import Angle"
   ]
  },
  {
   "cell_type": "code",
   "execution_count": 317,
   "metadata": {},
   "outputs": [],
   "source": [
    "data_store = DataStore.from_dir(\"../data/ash_stereo_Prod17_Calib0834_thsq64\")\n",
    "\n",
    "selection = dict(type='sky_circle', frame='galactic',\n",
    "                 lon=Angle(0, 'deg'),\n",
    "                 lat=Angle(0, 'deg'),\n",
    "                 radius=Angle(3, 'deg'),\n",
    "                 border=Angle(0, 'deg'))\n",
    "selected_obs_table = data_store.obs_table.select_observations(selection)\n",
    "obs_ids = list(selected_obs_table[\"OBS_ID\"].data)\n",
    "gc_obs = data_store.get_observations(obs_ids)"
   ]
  },
  {
   "cell_type": "code",
   "execution_count": 318,
   "metadata": {},
   "outputs": [
    {
     "name": "stderr",
     "output_type": "stream",
     "text": [
      "Found multiple HDU matching: OBS_ID = 20191, HDU_TYPE = psf, HDU_CLASS = None. Returning the first entry, which has HDU_TYPE = psf and HDU_CLASS = psf_3gauss\n",
      "Found multiple HDU matching: OBS_ID = 20193, HDU_TYPE = psf, HDU_CLASS = None. Returning the first entry, which has HDU_TYPE = psf and HDU_CLASS = psf_3gauss\n",
      "Found multiple HDU matching: OBS_ID = 20194, HDU_TYPE = psf, HDU_CLASS = None. Returning the first entry, which has HDU_TYPE = psf and HDU_CLASS = psf_3gauss\n"
     ]
    },
    {
     "name": "stdout",
     "output_type": "stream",
     "text": [
      "Observation retirée : 20191\n",
      "Observation retirée : 20193\n",
      "Observation retirée : 20194\n",
      "Observation retirée : 31539\n",
      "Observation retirée : 31577\n",
      "Observation retirée : 31578\n",
      "Observation retirée : 31579\n",
      "Observation retirée : 31580\n"
     ]
    }
   ],
   "source": [
    "for obs in gc_obs:\n",
    "    try:\n",
    "        obs.aeff\n",
    "        obs.edisp #pas utile en 2D\n",
    "        obs.psf\n",
    "    except:\n",
    "        obs_ids.remove(obs.obs_id)\n",
    "        print(\"Observation retirée : \" + str(obs.obs_id))\n",
    "\n",
    "observations = data_store.get_observations(obs_ids)"
   ]
  },
  {
   "cell_type": "code",
   "execution_count": 319,
   "metadata": {},
   "outputs": [],
   "source": [
    "t2004 = Time(['2004-01-01T00:00:00', '2004-12-31T23:59:59'])\n",
    "t2005 = Time(['2005-01-01T00:00:00', '2005-12-31T23:59:59'])\n",
    "t2006 = Time(['2006-01-01T00:00:00', '2006-12-31T23:59:59'])\n",
    "t2007 = Time(['2007-01-01T00:00:00', '2007-12-31T23:59:59'])\n",
    "t2008 = Time(['2008-01-01T00:00:00', '2008-12-31T23:59:59'])\n",
    "t2009 = Time(['2009-01-01T00:00:00', '2009-12-31T23:59:59'])\n",
    "t2010 = Time(['2010-01-01T00:00:00', '2010-12-31T23:59:59'])\n",
    "t2011 = Time(['2011-01-01T00:00:00', '2011-12-31T23:59:59'])\n",
    "t2012 = Time(['2012-01-01T00:00:00', '2012-12-31T23:59:59'])\n",
    "t2013 = Time(['2013-01-01T00:00:00', '2013-12-31T23:59:59'])\n",
    "t2014 = Time(['2014-01-01T00:00:00', '2014-12-31T23:59:59'])\n",
    "t2015 = Time(['2015-01-01T00:00:00', '2015-12-31T23:59:59'])\n",
    "t2016 = Time(['2016-01-01T00:00:00', '2016-12-31T23:59:59'])\n",
    "t2017 = Time(['2017-01-01T00:00:00', '2017-12-31T23:59:59'])\n",
    "t2018 = Time(['2018-01-01T00:00:00', '2018-12-31T23:59:59'])\n",
    "t2019 = Time(['2019-01-01T00:00:00', '2019-12-31T23:59:59'])\n",
    "\n",
    "year_intervals = [t2004, t2005,t2006, t2007,t2008, t2009,t2010, t2011,t2012, t2013,t2014, t2015,t2016, t2017,t2018, t2019]"
   ]
  },
  {
   "cell_type": "code",
   "execution_count": 320,
   "metadata": {},
   "outputs": [],
   "source": [
    "obs2004 = observations.select_time(t2004)\n",
    "obs2005 = observations.select_time(t2005)\n",
    "obs2006 = observations.select_time(t2006)\n",
    "obs2007 = observations.select_time(t2007)\n",
    "obs2008 = observations.select_time(t2008)\n",
    "obs2009 = observations.select_time(t2009)\n",
    "obs2010 = observations.select_time(t2010)\n",
    "obs2011 = observations.select_time(t2011)\n",
    "obs2012 = observations.select_time(t2012)\n",
    "obs2013 = observations.select_time(t2013)\n",
    "obs2014 = observations.select_time(t2014)\n",
    "obs2015 = observations.select_time(t2015)\n",
    "obs2016 = observations.select_time(t2016)\n",
    "obs2017 = observations.select_time(t2017)\n",
    "obs2018 = observations.select_time(t2018)\n",
    "obs2019 = observations.select_time(t2019)\n",
    "\n",
    "obs_set = [obs2004,obs2005,obs2006,obs2007,obs2008,obs2009,obs2010,obs2011,obs2012,obs2013,obs2014,obs2015,obs2016,obs2017,obs2018,obs2019]"
   ]
  },
  {
   "cell_type": "code",
   "execution_count": 321,
   "metadata": {},
   "outputs": [],
   "source": [
    "# Target definition\n",
    "target_position = SkyCoord(359.94, -0.04, frame=\"galactic\", unit=\"deg\")\n",
    "\n",
    "# Define geoms\n",
    "emin, emax = [0.5, 100] * u.TeV\n",
    "energy_axis = MapAxis.from_bounds(\n",
    "    emin.value, emax.value, 10, unit=\"TeV\", name=\"energy\", interp=\"log\"\n",
    ")\n",
    "geom = WcsGeom.create(\n",
    "    skydir=target_position,\n",
    "    binsz=0.03,\n",
    "    width=(3, 3),\n",
    "    coordsys=\"GAL\",\n",
    "    proj=\"CAR\",\n",
    "    axes=[energy_axis],\n",
    ")\n",
    "\n",
    "geom2D = WcsGeom.create(\n",
    "    skydir=target_position,\n",
    "    binsz=0.03,\n",
    "    width=(3, 3),\n",
    "    coordsys=\"GAL\",\n",
    "    proj=\"CAR\",\n",
    ")"
   ]
  },
  {
   "cell_type": "code",
   "execution_count": 322,
   "metadata": {},
   "outputs": [],
   "source": [
    "# on essaie de pas refaire tout ça\n",
    "maker = MapMaker(geom, offset_max=2.5 * u.deg)\n",
    "\n",
    "spectrum = PowerLaw2SpectralModel(index=2.3)"
   ]
  },
  {
   "cell_type": "code",
   "execution_count": 323,
   "metadata": {},
   "outputs": [
    {
     "name": "stderr",
     "output_type": "stream",
     "text": [
      "WARNING: VerifyWarning: Invalid keyword for column 8: Column null option (TNULLn) is invalid for binary table columns of type '1E' (got -1).  The invalid value will be ignored for the purpose of formatting the data in this column. [astropy.io.fits.column]\n",
      "WARNING: VerifyWarning: Invalid keyword for column 21: Column null option (TNULLn) is invalid for binary table columns of type '1E' (got -1).  The invalid value will be ignored for the purpose of formatting the data in this column. [astropy.io.fits.column]\n",
      "WARNING: VerifyWarning: Invalid keyword for column 23: Column null option (TNULLn) is invalid for binary table columns of type '1E' (got -1).  The invalid value will be ignored for the purpose of formatting the data in this column. [astropy.io.fits.column]\n",
      "WARNING: VerifyWarning: Invalid keyword for column 25: Column null option (TNULLn) is invalid for binary table columns of type '1E' (got -1).  The invalid value will be ignored for the purpose of formatting the data in this column. [astropy.io.fits.column]\n",
      "WARNING: VerifyWarning: Invalid keyword for column 26: Column null option (TNULLn) is invalid for binary table columns of type '1D' (got -1).  The invalid value will be ignored for the purpose of formatting the data in this column. [astropy.io.fits.column]\n",
      "WARNING: VerifyWarning: Invalid keyword for column 27: Column null option (TNULLn) is invalid for binary table columns of type '1E' (got -1).  The invalid value will be ignored for the purpose of formatting the data in this column. [astropy.io.fits.column]\n",
      "WARNING: VerifyWarning: Invalid keyword for column 28: Column null option (TNULLn) is invalid for binary table columns of type '1E' (got -1).  The invalid value will be ignored for the purpose of formatting the data in this column. [astropy.io.fits.column]\n",
      "WARNING: VerifyWarning: Invalid keyword for column 29: Column null option (TNULLn) is invalid for binary table columns of type '1E' (got -1).  The invalid value will be ignored for the purpose of formatting the data in this column. [astropy.io.fits.column]\n",
      "WARNING: VerifyWarning: Invalid keyword for column 30: Column null option (TNULLn) is invalid for binary table columns of type '1E' (got -1).  The invalid value will be ignored for the purpose of formatting the data in this column. [astropy.io.fits.column]\n"
     ]
    },
    {
     "name": "stdout",
     "output_type": "stream",
     "text": [
      "CPU times: user 2min 6s, sys: 7.92 s, total: 2min 14s\n",
      "Wall time: 2min 18s\n"
     ]
    }
   ],
   "source": [
    "%%time\n",
    "\n",
    "# maps 3D de taille (50, 50, 1)\n",
    "\n",
    "maps2D2004 = maker.run_images(obs2004, spectrum=spectrum, keepdims=True)\n",
    "maps2D2005 = maker.run_images(obs2005, spectrum=spectrum, keepdims=True)\n",
    "maps2D2006 = maker.run_images(obs2006, spectrum=spectrum, keepdims=True)\n",
    "maps2D2007 = maker.run_images(obs2007, spectrum=spectrum, keepdims=True)\n",
    "maps2D2008 = maker.run_images(obs2008, spectrum=spectrum, keepdims=True)\n",
    "maps2D2009 = maker.run_images(obs2009, spectrum=spectrum, keepdims=True)\n",
    "maps2D2010 = maker.run_images(obs2010, spectrum=spectrum, keepdims=True)\n",
    "maps2D2011 = maker.run_images(obs2011, spectrum=spectrum, keepdims=True)\n",
    "maps2D2012 = maker.run_images(obs2012, spectrum=spectrum, keepdims=True)\n",
    "maps2D2013 = maker.run_images(obs2013, spectrum=spectrum, keepdims=True)\n",
    "maps2D2014 = maker.run_images(obs2014, spectrum=spectrum, keepdims=True)\n",
    "maps2D2015 = maker.run_images(obs2015, spectrum=spectrum, keepdims=True)\n",
    "maps2D2016 = maker.run_images(obs2016, spectrum=spectrum, keepdims=True)\n",
    "maps2D2017 = maker.run_images(obs2017, spectrum=spectrum, keepdims=True)\n",
    "maps2D2018 = maker.run_images(obs2018, spectrum=spectrum, keepdims=True)\n",
    "maps2D2019 = maker.run_images(obs2019, spectrum=spectrum, keepdims=True)"
   ]
  },
  {
   "cell_type": "code",
   "execution_count": 353,
   "metadata": {},
   "outputs": [
    {
     "name": "stderr",
     "output_type": "stream",
     "text": [
      "WARNING: VerifyWarning: Invalid keyword for column 8: Column null option (TNULLn) is invalid for binary table columns of type '1E' (got -1).  The invalid value will be ignored for the purpose of formatting the data in this column. [astropy.io.fits.column]\n",
      "WARNING: VerifyWarning: Invalid keyword for column 21: Column null option (TNULLn) is invalid for binary table columns of type '1E' (got -1).  The invalid value will be ignored for the purpose of formatting the data in this column. [astropy.io.fits.column]\n",
      "WARNING: VerifyWarning: Invalid keyword for column 23: Column null option (TNULLn) is invalid for binary table columns of type '1E' (got -1).  The invalid value will be ignored for the purpose of formatting the data in this column. [astropy.io.fits.column]\n",
      "WARNING: VerifyWarning: Invalid keyword for column 25: Column null option (TNULLn) is invalid for binary table columns of type '1E' (got -1).  The invalid value will be ignored for the purpose of formatting the data in this column. [astropy.io.fits.column]\n",
      "WARNING: VerifyWarning: Invalid keyword for column 26: Column null option (TNULLn) is invalid for binary table columns of type '1D' (got -1).  The invalid value will be ignored for the purpose of formatting the data in this column. [astropy.io.fits.column]\n",
      "WARNING: VerifyWarning: Invalid keyword for column 27: Column null option (TNULLn) is invalid for binary table columns of type '1E' (got -1).  The invalid value will be ignored for the purpose of formatting the data in this column. [astropy.io.fits.column]\n",
      "WARNING: VerifyWarning: Invalid keyword for column 28: Column null option (TNULLn) is invalid for binary table columns of type '1E' (got -1).  The invalid value will be ignored for the purpose of formatting the data in this column. [astropy.io.fits.column]\n",
      "WARNING: VerifyWarning: Invalid keyword for column 29: Column null option (TNULLn) is invalid for binary table columns of type '1E' (got -1).  The invalid value will be ignored for the purpose of formatting the data in this column. [astropy.io.fits.column]\n",
      "WARNING: VerifyWarning: Invalid keyword for column 30: Column null option (TNULLn) is invalid for binary table columns of type '1E' (got -1).  The invalid value will be ignored for the purpose of formatting the data in this column. [astropy.io.fits.column]\n"
     ]
    }
   ],
   "source": [
    "maps2Dbis = []\n",
    "\n",
    "for obs in obs_set:\n",
    "    maker = MapMaker(geom, offset_max=2.5 * u.deg)\n",
    "    maps2Dbis.append(maker.run_images(obs, spectrum=spectrum, keepdims=True))"
   ]
  },
  {
   "cell_type": "code",
   "execution_count": 362,
   "metadata": {},
   "outputs": [
    {
     "data": {
      "text/plain": [
       "array([[[ -2.,  -1.,  -2., ...,  -2., -10.,   0.],\n",
       "        [  1.,   5.,  -3., ...,  -1.,  -1.,  -1.],\n",
       "        [  3.,  -1.,  -1., ...,   0.,  -3.,  -1.],\n",
       "        ...,\n",
       "        [ -2.,   4.,  -2., ...,   0.,   1.,   2.],\n",
       "        [  0.,  -1.,  -1., ...,  -8.,  -4.,  -5.],\n",
       "        [  8.,   1.,   5., ...,   3.,   0.,  -1.]]], dtype=float32)"
      ]
     },
     "execution_count": 362,
     "metadata": {},
     "output_type": "execute_result"
    }
   ],
   "source": [
    "maps2Dbis[0][\"counts\"].data - maps2Dbis[1][\"counts\"].data"
   ]
  },
  {
   "cell_type": "code",
   "execution_count": 163,
   "metadata": {},
   "outputs": [],
   "source": [
    "from pathlib import Path\n",
    "\n",
    "path = Path(\"cartes2D_gc_temporelle_Emin500GeV\")"
   ]
  },
  {
   "cell_type": "code",
   "execution_count": 164,
   "metadata": {
    "jupyter": {
     "source_hidden": true
    }
   },
   "outputs": [],
   "source": [
    "def readmaps(year, path=path) :\n",
    "\n",
    "    mapc = Map.read(str(path / \"counts\") + year +\".fits\")\n",
    "    mapb = Map.read(str(path / \"background\") + year +\".fits\")\n",
    "    mape = Map.read(str(path / \"exposure\")+ year +\".fits\")\n",
    "\n",
    "    return {\"counts \" : mapc , \"background\" : mapb , \"exposure\" : mape}"
   ]
  },
  {
   "cell_type": "code",
   "execution_count": 165,
   "metadata": {
    "jupyter": {
     "source_hidden": true
    }
   },
   "outputs": [],
   "source": [
    "# Cartes avec des bins en espace très fins (500, 400, 1)\n",
    "\n",
    "mapL2004 = readmaps(\"2004\")\n",
    "mapL2005 = readmaps(\"2005\")\n",
    "mapL2006 = readmaps(\"2006\")\n",
    "mapL2007 = readmaps(\"2007\")\n",
    "mapL2008 = readmaps(\"2008\")\n",
    "mapL2009 = readmaps(\"2009\")\n",
    "mapL2010 = readmaps(\"2010\")\n",
    "mapL2011 = readmaps(\"2011\")\n",
    "mapL2012 = readmaps(\"2012\")\n",
    "mapL2013 = readmaps(\"2013\")\n",
    "mapL2014 = readmaps(\"2014\")\n",
    "mapL2015 = readmaps(\"2015\")\n",
    "mapL2016 = readmaps(\"2016\")\n",
    "mapL2017 = readmaps(\"2017\")\n",
    "mapL2018 = readmaps(\"2018\")\n",
    "mapL2019 = readmaps(\"2019\")"
   ]
  },
  {
   "cell_type": "code",
   "execution_count": 324,
   "metadata": {},
   "outputs": [
    {
     "name": "stdout",
     "output_type": "stream",
     "text": [
      "CPU times: user 2min 34s, sys: 2.87 s, total: 2min 37s\n",
      "Wall time: 2min 46s\n"
     ]
    }
   ],
   "source": [
    "%%time\n",
    "\n",
    "def Calculate_psf_kernel(obs, maps2D):\n",
    "    geom2d = maps2D[\"exposure\"].geom\n",
    "    table_psf = make_mean_psf(obs, target_position)\n",
    "\n",
    "    table_psf_2d = table_psf.table_psf_in_energy_band((emin, emax), spectrum=spectrum)\n",
    "\n",
    "    # PSF kernel used for the model convolution\n",
    "    psf_kernel = PSFKernel.from_table_psf(table_psf_2d, geom2d, max_radius=\"0.3 deg\")\n",
    "    return psf_kernel\n",
    "\n"
   ]
  },
  {
   "cell_type": "code",
   "execution_count": null,
   "metadata": {
    "jupyter": {
     "source_hidden": true
    }
   },
   "outputs": [],
   "source": [
    "psf_kernel2004 = Calculate_psf_kernel(obs2004, maps2D2004)\n",
    "psf_kernel2005 = Calculate_psf_kernel(obs2005, maps2D2005)\n",
    "psf_kernel2006 = Calculate_psf_kernel(obs2006, maps2D2006)\n",
    "psf_kernel2007 = Calculate_psf_kernel(obs2007, maps2D2007)\n",
    "psf_kernel2008 = Calculate_psf_kernel(obs2008, maps2D2008)\n",
    "psf_kernel2009 = Calculate_psf_kernel(obs2009, maps2D2009)\n",
    "psf_kernel2010 = Calculate_psf_kernel(obs2010, maps2D2010)\n",
    "psf_kernel2011 = Calculate_psf_kernel(obs2011, maps2D2011)\n",
    "psf_kernel2012 = Calculate_psf_kernel(obs2012, maps2D2012)\n",
    "psf_kernel2013 = Calculate_psf_kernel(obs2013, maps2D2013)\n",
    "psf_kernel2014 = Calculate_psf_kernel(obs2014, maps2D2014)\n",
    "psf_kernel2015 = Calculate_psf_kernel(obs2015, maps2D2015)\n",
    "psf_kernel2016 = Calculate_psf_kernel(obs2016, maps2D2016)\n",
    "psf_kernel2017 = Calculate_psf_kernel(obs2017, maps2D2017)\n",
    "psf_kernel2018 = Calculate_psf_kernel(obs2018, maps2D2018)\n",
    "psf_kernel2019 = Calculate_psf_kernel(obs2019, maps2D2019)"
   ]
  },
  {
   "cell_type": "code",
   "execution_count": 354,
   "metadata": {},
   "outputs": [],
   "source": [
    "psf_kernelsbis = []\n",
    "\n",
    "for obs,maps2D in zip(obs_set,maps2Dbis):\n",
    "    psf_kernelsbis.append(Calculate_psf_kernel(obs, maps2D))"
   ]
  },
  {
   "cell_type": "code",
   "execution_count": 325,
   "metadata": {},
   "outputs": [],
   "source": [
    "maps2D = [maps2D2004,maps2D2005,\n",
    "        maps2D2006,maps2D2007,\n",
    "        maps2D2008, maps2D2009,\n",
    "        maps2D2010,maps2D2011,\n",
    "        maps2D2012,maps2D2013, \n",
    "        maps2D2014, maps2D2015, \n",
    "        maps2D2016, maps2D2017, \n",
    "        maps2D2018, maps2D2019]\n",
    "\n",
    "psf_kernels = [psf_kernel2004 ,psf_kernel2005,\n",
    "               psf_kernel2006,psf_kernel2007 ,\n",
    "               psf_kernel2008,psf_kernel2009,\n",
    "               psf_kernel2010,psf_kernel2011,\n",
    "               psf_kernel2012 ,psf_kernel2013 ,\n",
    "               psf_kernel2014 ,psf_kernel2015 ,\n",
    "               psf_kernel2016,psf_kernel2017 ,\n",
    "               psf_kernel2018, psf_kernel2019]"
   ]
  },
  {
   "cell_type": "code",
   "execution_count": 355,
   "metadata": {},
   "outputs": [],
   "source": [
    "# Define the source model - Use a pointsource + integrated power law model to directly get flux\n",
    "\n",
    "spatial_model = PointSpatialModel(\n",
    "    lon_0=target_position.l, lat_0=target_position.b, frame=\"galactic\"\n",
    ")\n",
    "\n",
    "spectral_model = PowerLawSpectralModel(\n",
    "    index=2.3,\n",
    "    amplitude=2.0e-11 * u.Unit(\"1 / (cm2 s TeV)\"),\n",
    "    reference=1 * u.TeV,\n",
    ")\n",
    "\n",
    "spectral_model.parameters[\"index\"].frozen = True\n",
    "\n",
    "sky_model = SkyModel(\n",
    "    spatial_model=spatial_model, spectral_model=spectral_model, name=\"SgrA*\"\n",
    ")\n",
    "\n",
    "sky_model.parameters[\"lon_0\"].frozen = True\n",
    "sky_model.parameters[\"lat_0\"].frozen = True"
   ]
  },
  {
   "cell_type": "code",
   "execution_count": 356,
   "metadata": {},
   "outputs": [
    {
     "name": "stderr",
     "output_type": "stream",
     "text": [
      "Invalid value BUNIT='Count' in FITS header. Setting empty unit.\n",
      "/Users/user/anaconda3/envs/gammapy-0.14/lib/python3.7/site-packages/reproject/interpolation/core_celestial.py:26: FutureWarning: Conversion of the second argument of issubdtype from `float` to `np.floating` is deprecated. In future, it will be treated as `np.float64 == np.dtype(float).type`.\n",
      "  if not np.issubdtype(array.dtype, np.float):\n",
      "Diffuse map has negative values. Check and fix this!\n"
     ]
    }
   ],
   "source": [
    "CS_map = Map.read(\"../data/CS_reproj.fits\")\n",
    "\n",
    "CS_reproj = CS_map.reproject(geom2D)\n",
    "\n",
    "CS_distro_model = TemplateSpatialModel(CS_reproj)\n",
    "\n",
    "\n",
    "# pas besoin (à convoluer avec une gaussienne de sigma de 0.9°)\n",
    "\n",
    "# inutile\n",
    "#gauss = GaussianSpatialModel(target_position.l, target_position.b, sigma= \"0.9 deg\", frame=\"galactic\")\n",
    "\n",
    "# NON some_map_convolved = some_map.convolve(psf_kernel)\n",
    "# NON donc la bonne méthode c'est de prendre la distro de CS et de la convoluer par la PSF de chaque année\n",
    "\n",
    "spectral_diffuse_model = PowerLawSpectralModel(\n",
    "    index=2,\n",
    "    amplitude=2.0e-12 * u.Unit(\"1 / (cm2 s TeV)\"),\n",
    "    reference=1 * u.TeV,\n",
    ")\n",
    "\n",
    "sky_diffuse_model = SkyModel(\n",
    "    spatial_model=CS_distro_model, \n",
    "    spectral_model=spectral_diffuse_model, \n",
    "    name=\"diffuse emission\"\n",
    ")\n",
    "\n",
    "sky_diffuse_model.parameters[\"index\"].frozen = True"
   ]
  },
  {
   "cell_type": "code",
   "execution_count": 306,
   "metadata": {},
   "outputs": [],
   "source": [
    "def fit_model_to_maps(maps2D, psf_kernel):\n",
    "    region = CircleSkyRegion(center=target_position, radius=1 * u.deg)\n",
    "    mask = maps2D[\"counts\"].geom.region_mask([region])\n",
    "    print(mask.shape, maps2D[\"counts\"].data.shape)\n",
    "    background_model = BackgroundModel(maps2D[\"background\"])\n",
    "    background_model.parameters[\"norm\"].frozen = False\n",
    "    background_model.parameters[\"tilt\"].frozen = True\n",
    "\n",
    "    dataset = MapDataset(\n",
    "        model=sky_model + sky_diffuse_model,\n",
    "        counts=maps2D[\"counts\"],\n",
    "        exposure=maps2D[\"exposure\"],\n",
    "        background_model=background_model,\n",
    "        mask_fit=mask,\n",
    "        psf=psf_kernel,\n",
    "    )\n",
    "    fit = Fit(dataset)\n",
    "    result = fit.run()\n",
    "    return result"
   ]
  },
  {
   "cell_type": "code",
   "execution_count": 222,
   "metadata": {
    "collapsed": true,
    "jupyter": {
     "outputs_hidden": true,
     "source_hidden": true
    }
   },
   "outputs": [
    {
     "name": "stdout",
     "output_type": "stream",
     "text": [
      "(1, 50, 50) (1, 50, 50)\n"
     ]
    }
   ],
   "source": [
    "result = fit_model_to_maps(maps2D2004, psf_kernel2004)"
   ]
  },
  {
   "cell_type": "code",
   "execution_count": 250,
   "metadata": {
    "jupyter": {
     "source_hidden": true
    }
   },
   "outputs": [],
   "source": [
    "t = result.parameters.to_table()"
   ]
  },
  {
   "cell_type": "code",
   "execution_count": 251,
   "metadata": {
    "collapsed": true,
    "jupyter": {
     "outputs_hidden": true,
     "source_hidden": true
    }
   },
   "outputs": [
    {
     "data": {
      "text/html": [
       "<i>Table length=12</i>\n",
       "<table id=\"table5102251144\" class=\"table-striped table-bordered table-condensed\">\n",
       "<thead><tr><th>name</th><th>value</th><th>error</th><th>unit</th><th>min</th><th>max</th><th>frozen</th></tr></thead>\n",
       "<thead><tr><th>str9</th><th>float64</th><th>float64</th><th>str14</th><th>float64</th><th>float64</th><th>bool</th></tr></thead>\n",
       "<tr><td>lon_0</td><td>3.599e+02</td><td>0.000e+00</td><td>deg</td><td>nan</td><td>nan</td><td>True</td></tr>\n",
       "<tr><td>lat_0</td><td>-4.000e-02</td><td>0.000e+00</td><td>deg</td><td>-9.000e+01</td><td>9.000e+01</td><td>True</td></tr>\n",
       "<tr><td>index</td><td>2.300e+00</td><td>0.000e+00</td><td></td><td>nan</td><td>nan</td><td>True</td></tr>\n",
       "<tr><td>amplitude</td><td>4.593e-12</td><td>1.618e-13</td><td>cm-2 s-1 TeV-1</td><td>nan</td><td>nan</td><td>False</td></tr>\n",
       "<tr><td>reference</td><td>1.000e+00</td><td>0.000e+00</td><td>TeV</td><td>nan</td><td>nan</td><td>True</td></tr>\n",
       "<tr><td>norm</td><td>1.405e+00</td><td>9.962e-01</td><td></td><td>nan</td><td>nan</td><td>False</td></tr>\n",
       "<tr><td>index</td><td>2.000e+00</td><td>0.000e+00</td><td></td><td>nan</td><td>nan</td><td>True</td></tr>\n",
       "<tr><td>amplitude</td><td>2.811e-12</td><td>1.993e-12</td><td>cm-2 s-1 TeV-1</td><td>nan</td><td>nan</td><td>False</td></tr>\n",
       "<tr><td>reference</td><td>1.000e+00</td><td>0.000e+00</td><td>TeV</td><td>nan</td><td>nan</td><td>True</td></tr>\n",
       "<tr><td>norm</td><td>1.043e+00</td><td>5.672e-03</td><td></td><td>0.000e+00</td><td>nan</td><td>False</td></tr>\n",
       "<tr><td>tilt</td><td>0.000e+00</td><td>0.000e+00</td><td></td><td>nan</td><td>nan</td><td>True</td></tr>\n",
       "<tr><td>reference</td><td>1.000e+00</td><td>0.000e+00</td><td>TeV</td><td>nan</td><td>nan</td><td>True</td></tr>\n",
       "</table>"
      ],
      "text/plain": [
       "<Table length=12>\n",
       "   name     value      error        unit         min        max    frozen\n",
       "   str9    float64    float64      str14       float64    float64   bool \n",
       "--------- ---------- --------- -------------- ---------- --------- ------\n",
       "    lon_0  3.599e+02 0.000e+00            deg        nan       nan   True\n",
       "    lat_0 -4.000e-02 0.000e+00            deg -9.000e+01 9.000e+01   True\n",
       "    index  2.300e+00 0.000e+00                       nan       nan   True\n",
       "amplitude  4.593e-12 1.618e-13 cm-2 s-1 TeV-1        nan       nan  False\n",
       "reference  1.000e+00 0.000e+00            TeV        nan       nan   True\n",
       "     norm  1.405e+00 9.962e-01                       nan       nan  False\n",
       "    index  2.000e+00 0.000e+00                       nan       nan   True\n",
       "amplitude  2.811e-12 1.993e-12 cm-2 s-1 TeV-1        nan       nan  False\n",
       "reference  1.000e+00 0.000e+00            TeV        nan       nan   True\n",
       "     norm  1.043e+00 5.672e-03                 0.000e+00       nan  False\n",
       "     tilt  0.000e+00 0.000e+00                       nan       nan   True\n",
       "reference  1.000e+00 0.000e+00            TeV        nan       nan   True"
      ]
     },
     "execution_count": 251,
     "metadata": {},
     "output_type": "execute_result"
    }
   ],
   "source": [
    "t"
   ]
  },
  {
   "cell_type": "code",
   "execution_count": 386,
   "metadata": {},
   "outputs": [
    {
     "name": "stdout",
     "output_type": "stream",
     "text": [
      "CPU times: user 45.7 s, sys: 666 ms, total: 46.4 s\n",
      "Wall time: 47 s\n"
     ]
    }
   ],
   "source": [
    "%%time\n",
    "\n",
    "region = CircleSkyRegion(center=target_position, radius=1 * u.deg)\n",
    "mask = maps2Dbis[0][\"counts\"].geom.region_mask([region])\n",
    "\n",
    "\n",
    "datasets = []\n",
    "results = []\n",
    "\n",
    "for  maps, psf_kernel in zip(maps2Dbis, psf_kernelsbis):\n",
    "    \n",
    "    background_model = BackgroundModel(maps[\"background\"])\n",
    "    background_model.parameters[\"norm\"].frozen = False\n",
    "    background_model.parameters[\"tilt\"].frozen = True\n",
    "\n",
    "    dataset = MapDataset(\n",
    "        model=sky_model + sky_diffuse_model,\n",
    "        counts=maps[\"counts\"],\n",
    "        exposure=maps[\"exposure\"],\n",
    "        background_model=background_model,\n",
    "        mask_fit=mask,\n",
    "        psf=psf_kernel,\n",
    "    )\n",
    "    \n",
    "    datasets.append(dataset)\n",
    "    fit = Fit(dataset)\n",
    "    result = fit.run()\n",
    "    results.append(result.parameters)"
   ]
  },
  {
   "cell_type": "code",
   "execution_count": 387,
   "metadata": {},
   "outputs": [
    {
     "data": {
      "image/png": "[encoded data removed]",
      "text/plain": [
       "<Figure size 432x288 with 2 Axes>"
      ]
     },
     "metadata": {
      "needs_background": "light"
     },
     "output_type": "display_data"
    }
   ],
   "source": [
    "datasets[0].npred().plot_interactive(\n",
    "    cmap=\"coolwarm\", add_cbar=True\n",
    ")"
   ]
  },
  {
   "cell_type": "code",
   "execution_count": 388,
   "metadata": {},
   "outputs": [
    {
     "data": {
      "image/png": "[encoded data removed]",
      "text/plain": [
       "<Figure size 432x288 with 2 Axes>"
      ]
     },
     "metadata": {
      "needs_background": "light"
     },
     "output_type": "display_data"
    }
   ],
   "source": [
    "maps2Dbis[0][\"counts\"].smooth(width=0.05 *u.deg).plot_interactive(\n",
    "    cmap=\"coolwarm\", add_cbar=True\n",
    ")"
   ]
  },
  {
   "cell_type": "code",
   "execution_count": 389,
   "metadata": {},
   "outputs": [],
   "source": [
    "residual2004 = maps2Dbis[0][\"counts\"] - datasets[0].npred()"
   ]
  },
  {
   "cell_type": "code",
   "execution_count": 390,
   "metadata": {},
   "outputs": [
    {
     "data": {
      "image/png": "[encoded data removed]",
      "text/plain": [
       "<Figure size 432x288 with 2 Axes>"
      ]
     },
     "metadata": {
      "needs_background": "light"
     },
     "output_type": "display_data"
    }
   ],
   "source": [
    "residual2004.smooth(width=0.05 * u.deg).plot_interactive(\n",
    "    cmap=\"coolwarm\", add_cbar=True\n",
    ");"
   ]
  },
  {
   "cell_type": "code",
   "execution_count": 391,
   "metadata": {},
   "outputs": [
    {
     "ename": "KeyError",
     "evalue": "0",
     "output_type": "error",
     "traceback": [
      "\u001b[0;31m---------------------------------------------------------------------------\u001b[0m",
      "\u001b[0;31mKeyError\u001b[0m                                  Traceback (most recent call last)",
      "\u001b[0;32m<ipython-input-391-56453e8a9bca>\u001b[0m in \u001b[0;36m<module>\u001b[0;34m\u001b[0m\n\u001b[1;32m      2\u001b[0m \u001b[0;34m\u001b[0m\u001b[0m\n\u001b[1;32m      3\u001b[0m \u001b[0;32mfor\u001b[0m \u001b[0mk\u001b[0m \u001b[0;32min\u001b[0m \u001b[0mrange\u001b[0m\u001b[0;34m(\u001b[0m\u001b[0;36m15\u001b[0m\u001b[0;34m)\u001b[0m\u001b[0;34m:\u001b[0m\u001b[0;34m\u001b[0m\u001b[0m\n\u001b[0;32m----> 4\u001b[0;31m     \u001b[0mresiduals\u001b[0m\u001b[0;34m.\u001b[0m\u001b[0mappend\u001b[0m\u001b[0;34m(\u001b[0m \u001b[0mmaps2D\u001b[0m\u001b[0;34m[\u001b[0m\u001b[0mk\u001b[0m\u001b[0;34m]\u001b[0m\u001b[0;34m[\u001b[0m\u001b[0;34m\"counts\"\u001b[0m\u001b[0;34m]\u001b[0m\u001b[0;34m-\u001b[0m \u001b[0mdatasets\u001b[0m\u001b[0;34m[\u001b[0m\u001b[0mk\u001b[0m\u001b[0;34m]\u001b[0m\u001b[0;34m.\u001b[0m\u001b[0mnpred\u001b[0m\u001b[0;34m(\u001b[0m\u001b[0;34m)\u001b[0m\u001b[0;34m)\u001b[0m\u001b[0;34m\u001b[0m\u001b[0m\n\u001b[0m",
      "\u001b[0;31mKeyError\u001b[0m: 0"
     ]
    }
   ],
   "source": [
    "residuals = []\n",
    "\n",
    "for k in range(15):\n",
    "    residuals.append(maps2D[k][\"counts\"]- datasets[k].npred())"
   ]
  },
  {
   "cell_type": "code",
   "execution_count": 392,
   "metadata": {},
   "outputs": [
    {
     "ename": "IndexError",
     "evalue": "list index out of range",
     "output_type": "error",
     "traceback": [
      "\u001b[0;31m---------------------------------------------------------------------------\u001b[0m",
      "\u001b[0;31mIndexError\u001b[0m                                Traceback (most recent call last)",
      "\u001b[0;32m<ipython-input-392-b8c14ffad2f9>\u001b[0m in \u001b[0;36m<module>\u001b[0;34m\u001b[0m\n\u001b[0;32m----> 1\u001b[0;31m residuals[0].smooth(width=0.05 * u.deg).plot_interactive(\n\u001b[0m\u001b[1;32m      2\u001b[0m     \u001b[0mcmap\u001b[0m\u001b[0;34m=\u001b[0m\u001b[0;34m\"coolwarm\"\u001b[0m\u001b[0;34m,\u001b[0m\u001b[0madd_cbar\u001b[0m\u001b[0;34m=\u001b[0m\u001b[0;32mTrue\u001b[0m\u001b[0;34m\u001b[0m\u001b[0m\n\u001b[1;32m      3\u001b[0m );\n",
      "\u001b[0;31mIndexError\u001b[0m: list index out of range"
     ]
    }
   ],
   "source": [
    "residuals[0].smooth(width=0.05 * u.deg).plot_interactive(\n",
    "    cmap=\"coolwarm\",add_cbar=True\n",
    ");"
   ]
  },
  {
   "cell_type": "code",
   "execution_count": 347,
   "metadata": {},
   "outputs": [
    {
     "data": {
      "text/plain": [
       "array([[[6., 4., 3., ..., 6., 2., 3.],\n",
       "        [7., 6., 3., ..., 5., 7., 2.],\n",
       "        [7., 4., 5., ..., 6., 7., 5.],\n",
       "        ...,\n",
       "        [2., 6., 4., ..., 6., 5., 4.],\n",
       "        [4., 6., 4., ..., 3., 4., 2.],\n",
       "        [9., 5., 8., ..., 6., 4., 4.]]], dtype=float32)"
      ]
     },
     "execution_count": 347,
     "metadata": {},
     "output_type": "execute_result"
    }
   ],
   "source": [
    "(maps2D[1][\"counts\"]).data"
   ]
  },
  {
   "cell_type": "code",
   "execution_count": 396,
   "metadata": {},
   "outputs": [
    {
     "name": "stdout",
     "output_type": "stream",
     "text": [
      "Parameters\n",
      "\n",
      "\tlon_0        (frozen)   : 359.940  deg\n",
      "\tlat_0        (frozen)   : -0.040  deg\n",
      "\tindex        (frozen)   : 2.300  \n",
      "\tamplitude               : -3.53e+02  1 / (cm2 s TeV)\n",
      "\treference    (frozen)   : 1.000  TeV\n",
      "\tnorm                    : 2.250  \n",
      "\tindex        (frozen)   : 2.000  \n",
      "\tamplitude               : 4.21e-12  1 / (cm2 s TeV)\n",
      "\treference    (frozen)   : 1.000  TeV\n",
      "\tnorm                    : 1.020  \n",
      "\ttilt         (frozen)   : 0.000  \n",
      "\treference    (frozen)   : 1.000  TeV\n",
      "\n"
     ]
    }
   ],
   "source": [
    "# problème : l'amplitude du spectre de la source est négatif et très grand en valeur absolue, et les résultat sont les mêmes pour chaque année (peut être pas un problème)\n",
    "print(results[2])"
   ]
  },
  {
   "cell_type": "code",
   "execution_count": 368,
   "metadata": {},
   "outputs": [
    {
     "name": "stdout",
     "output_type": "stream",
     "text": [
      "<gammapy.modeling.fit.Fit object at 0x11d5f2c88>\n"
     ]
    }
   ],
   "source": [
    "print(fit)"
   ]
  },
  {
   "cell_type": "code",
   "execution_count": null,
   "metadata": {},
   "outputs": [],
   "source": []
  }
 ],
 "metadata": {
  "kernelspec": {
   "display_name": "Python 3",
   "language": "python",
   "name": "python3"
  },
  "language_info": {
   "codemirror_mode": {
    "name": "ipython",
    "version": 3
   },
   "file_extension": ".py",
   "mimetype": "text/x-python",
   "name": "python",
   "nbconvert_exporter": "python",
   "pygments_lexer": "ipython3",
   "version": "3.7.0"
  }
 },
 "nbformat": 4,
 "nbformat_minor": 4
}
