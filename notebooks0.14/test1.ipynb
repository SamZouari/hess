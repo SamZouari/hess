{
 "cells": [
  {
   "cell_type": "markdown",
   "metadata": {},
   "source": [
    "Fait à partir du notebook hess des tutorials de la v0.14"
   ]
  },
  {
   "cell_type": "code",
   "execution_count": 1,
   "metadata": {},
   "outputs": [],
   "source": [
    "path = \"../data/ash_stereo_Prod17_Calib0834_thsq64\""
   ]
  },
  {
   "cell_type": "code",
   "execution_count": 2,
   "metadata": {},
   "outputs": [],
   "source": [
    "%matplotlib inline\n",
    "import matplotlib.pyplot as plt"
   ]
  },
  {
   "cell_type": "code",
   "execution_count": 4,
   "metadata": {},
   "outputs": [],
   "source": [
    "import yaml\n",
    "from pathlib import Path\n",
    "from regions import CircleSkyRegion\n",
    "from astropy import units as u\n",
    "from astropy.coordinates import SkyCoord\n",
    "from gammapy.scripts import Analysis, AnalysisConfig\n",
    "from gammapy.modeling.models import create_crab_spectral_model"
   ]
  },
  {
   "cell_type": "code",
   "execution_count": 32,
   "metadata": {},
   "outputs": [],
   "source": [
    "config_str = \"\"\"\n",
    "general:\n",
    "    logging:\n",
    "        level: INFO\n",
    "    outdir: .\n",
    "\n",
    "observations:\n",
    "    datastore: ../data/ash_stereo_Prod17_Calib0834_thsq64/hdu-index.fits.gz\n",
    "    filters:\n",
    "        - filter_type: par_value\n",
    "          value_param: GC\n",
    "          variable: \n",
    "datasets:\n",
    "    dataset-type: MapDataset\n",
    "    stack-datasets: true\n",
    "    offset-max: 2.5 deg\n",
    "    geom:\n",
    "        skydir: [0, 0]\n",
    "        width: [5, 5]\n",
    "        binsz: 0.02\n",
    "        coordsys: CEL\n",
    "        proj: TAN\n",
    "        axes:\n",
    "          - name: energy\n",
    "            hi_bnd: 10\n",
    "            lo_bnd: 1\n",
    "            nbin: 5\n",
    "            interp: log\n",
    "            node_type: edges\n",
    "            unit: TeV\n",
    "\n",
    "fit:\n",
    "    fit_range:\n",
    "        max: 30 TeV\n",
    "        min: 1 TeV\n",
    "\n",
    "flux-points:\n",
    "    fp_binning:\n",
    "        lo_bnd: 1\n",
    "        hi_bnd: 10\n",
    "        interp: log\n",
    "        nbin: 3\n",
    "        unit: TeV\n",
    "\"\"\""
   ]
  },
  {
   "cell_type": "code",
   "execution_count": 33,
   "metadata": {},
   "outputs": [],
   "source": [
    "config = AnalysisConfig(config_str)"
   ]
  },
  {
   "cell_type": "code",
   "execution_count": 34,
   "metadata": {},
   "outputs": [
    {
     "name": "stderr",
     "output_type": "stream",
     "text": [
      "INFO:gammapy.scripts.analysis:Setting logging config: {'level': 'INFO'}\n"
     ]
    }
   ],
   "source": [
    "analysis = Analysis(config)"
   ]
  },
  {
   "cell_type": "code",
   "execution_count": 35,
   "metadata": {},
   "outputs": [
    {
     "name": "stderr",
     "output_type": "stream",
     "text": [
      "INFO:gammapy.scripts.analysis:Fetching observations.\n"
     ]
    },
    {
     "ename": "KeyError",
     "evalue": "'variable'",
     "output_type": "error",
     "traceback": [
      "\u001b[0;31m---------------------------------------------------------------------------\u001b[0m",
      "\u001b[0;31mKeyError\u001b[0m                                  Traceback (most recent call last)",
      "\u001b[0;32m<ipython-input-35-dc3f7f8d6504>\u001b[0m in \u001b[0;36m<module>\u001b[0;34m\u001b[0m\n\u001b[0;32m----> 1\u001b[0;31m \u001b[0manalysis\u001b[0m\u001b[0;34m.\u001b[0m\u001b[0mget_observations\u001b[0m\u001b[0;34m(\u001b[0m\u001b[0;34m)\u001b[0m\u001b[0;34m\u001b[0m\u001b[0m\n\u001b[0m",
      "\u001b[0;32m~/anaconda3/envs/gammapy-0.14/lib/python3.7/site-packages/gammapy/scripts/analysis.py\u001b[0m in \u001b[0;36mget_observations\u001b[0;34m(self)\u001b[0m\n\u001b[1;32m    113\u001b[0m             \u001b[0;32mif\u001b[0m \u001b[0mselection\u001b[0m\u001b[0;34m[\u001b[0m\u001b[0;34m\"type\"\u001b[0m\u001b[0;34m]\u001b[0m \u001b[0;34m==\u001b[0m \u001b[0;34m\"par_value\"\u001b[0m\u001b[0;34m:\u001b[0m\u001b[0;34m\u001b[0m\u001b[0m\n\u001b[1;32m    114\u001b[0m                 mask = (\n\u001b[0;32m--> 115\u001b[0;31m                     \u001b[0mdatastore\u001b[0m\u001b[0;34m.\u001b[0m\u001b[0mobs_table\u001b[0m\u001b[0;34m[\u001b[0m\u001b[0mcriteria\u001b[0m\u001b[0;34m[\u001b[0m\u001b[0;34m\"variable\"\u001b[0m\u001b[0;34m]\u001b[0m\u001b[0;34m]\u001b[0m \u001b[0;34m==\u001b[0m \u001b[0mcriteria\u001b[0m\u001b[0;34m[\u001b[0m\u001b[0;34m\"value_param\"\u001b[0m\u001b[0;34m]\u001b[0m\u001b[0;34m\u001b[0m\u001b[0m\n\u001b[0m\u001b[1;32m    116\u001b[0m                 )\n\u001b[1;32m    117\u001b[0m                 \u001b[0mselected_obs\u001b[0m \u001b[0;34m=\u001b[0m \u001b[0mdatastore\u001b[0m\u001b[0;34m.\u001b[0m\u001b[0mobs_table\u001b[0m\u001b[0;34m[\u001b[0m\u001b[0mmask\u001b[0m\u001b[0;34m]\u001b[0m\u001b[0;34m\u001b[0m\u001b[0m\n",
      "\u001b[0;31mKeyError\u001b[0m: 'variable'"
     ]
    }
   ],
   "source": [
    "analysis.get_observations()"
   ]
  },
  {
   "cell_type": "code",
   "execution_count": null,
   "metadata": {},
   "outputs": [],
   "source": []
  }
 ],
 "metadata": {
  "kernelspec": {
   "display_name": "Python 3",
   "language": "python",
   "name": "python3"
  },
  "language_info": {
   "codemirror_mode": {
    "name": "ipython",
    "version": 3
   },
   "file_extension": ".py",
   "mimetype": "text/x-python",
   "name": "python",
   "nbconvert_exporter": "python",
   "pygments_lexer": "ipython3",
   "version": "3.7.0"
  }
 },
 "nbformat": 4,
 "nbformat_minor": 4
}
