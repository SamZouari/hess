{
 "cells": [
  {
   "cell_type": "markdown",
   "metadata": {},
   "source": [
    "# Courbes de lumière du centre galactique (avec prise en compte de l'émission diffuse)"
   ]
  },
  {
   "cell_type": "code",
   "execution_count": 193,
   "metadata": {},
   "outputs": [],
   "source": [
    "%matplotlib inline\n",
    "import matplotlib.pyplot as plt\n",
    "import numpy as np\n",
    "\n",
    "import astropy.units as u\n",
    "from astropy.coordinates import SkyCoord\n",
    "from astropy.time import Time\n"
   ]
  },
  {
   "cell_type": "code",
   "execution_count": 27,
   "metadata": {},
   "outputs": [],
   "source": [
    "from gammapy.data import ObservationFilter, DataStore\n",
    "from gammapy.modeling.models import PowerLawSpectralModel\n",
    "from gammapy.modeling.models import PointSpatialModel, SkyDiffuseCube\n",
    "from gammapy.modeling.models import SkyModel, BackgroundModel\n",
    "from gammapy.cube import PSFKernel, MapMaker, MapDataset,RingBackgroundEstimator\n",
    "\n",
    "from gammapy.maps import WcsGeom, MapAxis, Map, WcsNDMap\n",
    "from gammapy.irf import make_mean_psf, make_mean_edisp\n",
    "from gammapy.time import LightCurveEstimator\n",
    "from astropy.coordinates import Angle"
   ]
  },
  {
   "cell_type": "code",
   "execution_count": 3,
   "metadata": {},
   "outputs": [],
   "source": [
    "data_store = DataStore.from_dir(\"../data/ash_stereo_Prod17_Calib0834_thsq64\")\n",
    "\n",
    "selection = dict(type='sky_circle', frame='galactic',\n",
    "                 lon=Angle(0, 'deg'),\n",
    "                 lat=Angle(0, 'deg'),\n",
    "                 radius=Angle(2, 'deg'),\n",
    "                 border=Angle(0, 'deg'))\n",
    "selected_obs_table = data_store.obs_table.select_observations(selection)\n",
    "obs_ids = list(selected_obs_table[\"OBS_ID\"].data)\n",
    "gc_obs = data_store.get_observations(obs_ids)"
   ]
  },
  {
   "cell_type": "code",
   "execution_count": 4,
   "metadata": {},
   "outputs": [
    {
     "name": "stderr",
     "output_type": "stream",
     "text": [
      "Found multiple HDU matching: OBS_ID = 20191, HDU_TYPE = psf, HDU_CLASS = None. Returning the first entry, which has HDU_TYPE = psf and HDU_CLASS = psf_3gauss\n",
      "Found multiple HDU matching: OBS_ID = 20193, HDU_TYPE = psf, HDU_CLASS = None. Returning the first entry, which has HDU_TYPE = psf and HDU_CLASS = psf_3gauss\n",
      "Found multiple HDU matching: OBS_ID = 20194, HDU_TYPE = psf, HDU_CLASS = None. Returning the first entry, which has HDU_TYPE = psf and HDU_CLASS = psf_3gauss\n"
     ]
    },
    {
     "name": "stdout",
     "output_type": "stream",
     "text": [
      "Observation retirée : 20191\n",
      "Observation retirée : 20193\n",
      "Observation retirée : 20194\n",
      "Observation retirée : 31539\n",
      "Observation retirée : 31577\n",
      "Observation retirée : 31578\n",
      "Observation retirée : 31579\n",
      "Observation retirée : 31580\n"
     ]
    }
   ],
   "source": [
    "for obs in gc_obs:\n",
    "    try:\n",
    "        obs.aeff\n",
    "        obs.edisp\n",
    "        obs.psf\n",
    "    except:\n",
    "        obs_ids.remove(obs.obs_id)\n",
    "        print(\"Observation retirée : \" + str(obs.obs_id))\n",
    "\n",
    "observations = data_store.get_observations(obs_ids)"
   ]
  },
  {
   "cell_type": "code",
   "execution_count": 5,
   "metadata": {},
   "outputs": [],
   "source": [
    "t2004 = Time(['2004-01-01T00:00:00', '2004-12-31T23:59:59'])\n",
    "t2005 = Time(['2005-01-01T00:00:00', '2005-12-31T23:59:59'])\n",
    "t2006 = Time(['2006-01-01T00:00:00', '2006-12-31T23:59:59'])\n",
    "t2007 = Time(['2007-01-01T00:00:00', '2007-12-31T23:59:59'])\n",
    "t2008 = Time(['2008-01-01T00:00:00', '2008-12-31T23:59:59'])\n",
    "t2009 = Time(['2009-01-01T00:00:00', '2009-12-31T23:59:59'])\n",
    "t2010 = Time(['2010-01-01T00:00:00', '2010-12-31T23:59:59'])\n",
    "t2011 = Time(['2011-01-01T00:00:00', '2011-12-31T23:59:59'])\n",
    "t2012 = Time(['2012-01-01T00:00:00', '2012-12-31T23:59:59'])\n",
    "t2013 = Time(['2013-01-01T00:00:00', '2013-12-31T23:59:59'])\n",
    "t2014 = Time(['2014-01-01T00:00:00', '2014-12-31T23:59:59'])\n",
    "t2015 = Time(['2015-01-01T00:00:00', '2015-12-31T23:59:59'])\n",
    "t2016 = Time(['2016-01-01T00:00:00', '2016-12-31T23:59:59'])\n",
    "t2017 = Time(['2017-01-01T00:00:00', '2017-12-31T23:59:59'])\n",
    "t2018 = Time(['2018-01-01T00:00:00', '2018-12-31T23:59:59'])\n",
    "t2019 = Time(['2019-01-01T00:00:00', '2019-12-31T23:59:59'])\n",
    "\n",
    "year_intervals = [t2004, t2005,t2006, t2007,t2008, t2009,t2010, t2011,t2012, t2013,t2014, t2015,t2016, t2017,t2018, t2019]"
   ]
  },
  {
   "cell_type": "code",
   "execution_count": 7,
   "metadata": {},
   "outputs": [
    {
     "name": "stdout",
     "output_type": "stream",
     "text": [
      "CPU times: user 6min 21s, sys: 11.5 s, total: 6min 32s\n",
      "Wall time: 6min 38s\n"
     ]
    }
   ],
   "source": [
    "%%time\n",
    "# à changer pour qqch de plus rapide que select_time\n",
    "\n",
    "\n",
    "obs2004 = observations.select_time(t2004)\n",
    "obs2005 = observations.select_time(t2005)\n",
    "obs2006 = observations.select_time(t2006)\n",
    "obs2007 = observations.select_time(t2007)\n",
    "obs2008 = observations.select_time(t2008)\n",
    "obs2009 = observations.select_time(t2009)\n",
    "obs2010 = observations.select_time(t2010)\n",
    "obs2011 = observations.select_time(t2011)\n",
    "obs2012 = observations.select_time(t2012)\n",
    "obs2013 = observations.select_time(t2013)\n",
    "obs2014 = observations.select_time(t2014)\n",
    "obs2015 = observations.select_time(t2015)\n",
    "obs2016 = observations.select_time(t2016)\n",
    "obs2017 = observations.select_time(t2017)\n",
    "obs2018 = observations.select_time(t2018)\n",
    "obs2019 = observations.select_time(t2019)\n",
    "\n",
    "obs_set = [obs2004,obs2005,obs2006,obs2007,obs2008,obs2009,obs2010,obs2011,obs2012,obs2013,obs2014,obs2015,obs2016,obs2017,obs2018,obs2019]"
   ]
  },
  {
   "cell_type": "code",
   "execution_count": 170,
   "metadata": {},
   "outputs": [],
   "source": [
    "# Target definition\n",
    "target_position = SkyCoord(359.94, -00.04, frame=\"galactic\", unit=\"deg\")\n",
    "\n",
    "# Define geoms\n",
    "emin, emax = [0.5, 100] * u.TeV\n",
    "energy_axis = MapAxis.from_bounds(\n",
    "    emin.value, emax.value, 1, unit=\"TeV\", name=\"energy\", interp=\"log\"\n",
    ")\n",
    "geom = WcsGeom.create(\n",
    "    skydir=target_position,\n",
    "    binsz=0.04,\n",
    "    width=(2, 2),\n",
    "    coordsys=\"CEL\",\n",
    "    proj=\"CAR\",\n",
    "    axes=[energy_axis],\n",
    ")\n",
    "\n",
    "etrue_axis = MapAxis.from_bounds(\n",
    "    0.1, 200, 10, unit=\"TeV\", name=\"energy\", interp=\"log\"\n",
    ")\n",
    "\n",
    "geom_true = WcsGeom.create(\n",
    "    skydir=target_position,\n",
    "    binsz=0.04,\n",
    "    width=(2, 2),\n",
    "    coordsys=\"CEL\",\n",
    "    proj=\"CAR\",\n",
    "    axes=[etrue_axis],\n",
    ")"
   ]
  },
  {
   "cell_type": "markdown",
   "metadata": {},
   "source": [
    "## Modèle de la source ponctuelle"
   ]
  },
  {
   "cell_type": "code",
   "execution_count": 276,
   "metadata": {},
   "outputs": [],
   "source": [
    "# Define the source model - Use a pointsource + integrated power law model to directly get flux\n",
    "\n",
    "spatial_model = PointSpatialModel(\n",
    "    lon_0=target_position.l, lat_0=target_position.b, frame=\"galactic\"\n",
    ")\n",
    "\n",
    "spectral_model = PowerLawSpectralModel(\n",
    "    index=2.3,\n",
    "    amplitude=2.0e-11 * u.Unit(\"1 / (cm2 s TeV)\"),\n",
    "    reference=1 * u.TeV,\n",
    ")\n",
    "\n",
    "spectral_model.parameters[\"index\"].frozen = False\n",
    "spectral_model.parameters[\"amplitude\"].frozen = False\n",
    "\n",
    "sky_model = SkyModel(\n",
    "    spatial_model=spatial_model, spectral_model=spectral_model, name=\"SgrA*\"\n",
    ")\n",
    "\n",
    "sky_model.parameters[\"lon_0\"].frozen = True\n",
    "sky_model.parameters[\"lat_0\"].frozen = True"
   ]
  },
  {
   "cell_type": "markdown",
   "metadata": {},
   "source": [
    "## Modèle de l'émission diffuse"
   ]
  },
  {
   "cell_type": "code",
   "execution_count": 28,
   "metadata": {},
   "outputs": [],
   "source": [
    "# pas utile pour obtenir un modèle\n",
    "\n",
    "diffuse_gal = Map.read(\"../data/fermi-3fhl-gc/gll_iem_v06_gc.fits.gz\")\n",
    "\n",
    "# on va vouloir redimensionner cette carte\n",
    "\n",
    "coord = geom.get_coord()\n",
    "\n",
    "datadif = diffuse_gal.interp_by_coord(\n",
    "    {\"skycoord\": coord.skycoord, \"energy\": coord[\"energy\"]}, interp=3\n",
    ")\n",
    "\n",
    "diffuse_galactic = WcsNDMap(geom, datadif)\n",
    "\n",
    "# au cas où\n",
    "# diffuse = diffuse_galactic.sum_over_axes()"
   ]
  },
  {
   "cell_type": "code",
   "execution_count": 143,
   "metadata": {},
   "outputs": [
    {
     "data": {
      "image/png": "[encoded data removed]",
      "text/plain": [
       "<Figure size 432x288 with 1 Axes>"
      ]
     },
     "metadata": {
      "needs_background": "light"
     },
     "output_type": "display_data"
    }
   ],
   "source": [
    "diffuse_galactic.plot_interactive()"
   ]
  },
  {
   "cell_type": "code",
   "execution_count": 161,
   "metadata": {},
   "outputs": [],
   "source": [
    "# le modèle pour l'émission diffuse se crée juste comme ça\n",
    "\n",
    "diffuse_model = SkyDiffuseCube.read(\"../data/fermi-3fhl-gc/gll_iem_v06_gc.fits.gz\")"
   ]
  },
  {
   "cell_type": "code",
   "execution_count": 171,
   "metadata": {},
   "outputs": [],
   "source": [
    "#diffuse_model = Map.read(\"../data/CS_reproj.fits\")"
   ]
  },
  {
   "cell_type": "code",
   "execution_count": 175,
   "metadata": {},
   "outputs": [],
   "source": [
    "diffuse_model.norm.value = 0.01\n",
    "diffuse_model.norm.frozen = False"
   ]
  },
  {
   "cell_type": "code",
   "execution_count": 154,
   "metadata": {},
   "outputs": [
    {
     "name": "stdout",
     "output_type": "stream",
     "text": [
      "SkyDiffuseCube\n",
      "\n",
      "Parameters: \n",
      "\n",
      "\t   name     value   error unit min max frozen\n",
      "\t--------- --------- ----- ---- --- --- ------\n",
      "\t     norm 1.000e-02   nan      nan nan  False\n",
      "\t     tilt 0.000e+00   nan      nan nan   True\n",
      "\treference 1.000e+00   nan  TeV nan nan   True\n"
     ]
    }
   ],
   "source": [
    "print(diffuse_model)"
   ]
  },
  {
   "cell_type": "code",
   "execution_count": 107,
   "metadata": {},
   "outputs": [],
   "source": [
    "# psf_kernel and MapMaker for each segment, avec méthode basique pour l'estimation du fond\n",
    "\n",
    "def make_map_dataset(\n",
    "    observations, target_pos, geom, geom_true, offset_max=2 * u.deg\n",
    "    ):\n",
    "    \n",
    "    maker = MapMaker(geom, offset_max, geom_true=geom_true)\n",
    "    maps = maker.run(observations)\n",
    "    table_psf = make_mean_psf(observations, target_pos)\n",
    "\n",
    "    # PSF kernel used for the model convolution,\n",
    "    # est-ce que ce max_radius est approprié ?\n",
    "    \n",
    "    psf_kernel = PSFKernel.from_table_psf(\n",
    "        table_psf, geom_true, max_radius=\"0.3 deg\"\n",
    "    )\n",
    "    edisp = make_mean_edisp(\n",
    "        observations,\n",
    "        target_pos,\n",
    "        e_true=geom_true.axes[0].edges,\n",
    "        e_reco=geom.axes[0].edges,\n",
    "    )\n",
    "    \n",
    "    # méthode basique\n",
    "    background_model = BackgroundModel(maps[\"background\"])\n",
    "    background_model.parameters[\"norm\"].frozen = False\n",
    "    background_model.parameters[\"tilt\"].frozen = True\n",
    "\n",
    "    dataset = MapDataset(\n",
    "        counts=maps[\"counts\"],\n",
    "        exposure=maps[\"exposure\"],\n",
    "        background_model=background_model,\n",
    "        psf=psf_kernel,\n",
    "        edisp=edisp,\n",
    "    )\n",
    "    return dataset"
   ]
  },
  {
   "cell_type": "code",
   "execution_count": 172,
   "metadata": {},
   "outputs": [
    {
     "name": "stderr",
     "output_type": "stream",
     "text": [
      "WARNING: VerifyWarning: Invalid keyword for column 8: Column null option (TNULLn) is invalid for binary table columns of type '1E' (got -1).  The invalid value will be ignored for the purpose of formatting the data in this column. [astropy.io.fits.column]\n",
      "WARNING: VerifyWarning: Invalid keyword for column 21: Column null option (TNULLn) is invalid for binary table columns of type '1E' (got -1).  The invalid value will be ignored for the purpose of formatting the data in this column. [astropy.io.fits.column]\n",
      "WARNING: VerifyWarning: Invalid keyword for column 23: Column null option (TNULLn) is invalid for binary table columns of type '1E' (got -1).  The invalid value will be ignored for the purpose of formatting the data in this column. [astropy.io.fits.column]\n",
      "WARNING: VerifyWarning: Invalid keyword for column 25: Column null option (TNULLn) is invalid for binary table columns of type '1E' (got -1).  The invalid value will be ignored for the purpose of formatting the data in this column. [astropy.io.fits.column]\n",
      "WARNING: VerifyWarning: Invalid keyword for column 26: Column null option (TNULLn) is invalid for binary table columns of type '1D' (got -1).  The invalid value will be ignored for the purpose of formatting the data in this column. [astropy.io.fits.column]\n",
      "WARNING: VerifyWarning: Invalid keyword for column 27: Column null option (TNULLn) is invalid for binary table columns of type '1E' (got -1).  The invalid value will be ignored for the purpose of formatting the data in this column. [astropy.io.fits.column]\n",
      "WARNING: VerifyWarning: Invalid keyword for column 28: Column null option (TNULLn) is invalid for binary table columns of type '1E' (got -1).  The invalid value will be ignored for the purpose of formatting the data in this column. [astropy.io.fits.column]\n",
      "WARNING: VerifyWarning: Invalid keyword for column 29: Column null option (TNULLn) is invalid for binary table columns of type '1E' (got -1).  The invalid value will be ignored for the purpose of formatting the data in this column. [astropy.io.fits.column]\n",
      "WARNING: VerifyWarning: Invalid keyword for column 30: Column null option (TNULLn) is invalid for binary table columns of type '1E' (got -1).  The invalid value will be ignored for the purpose of formatting the data in this column. [astropy.io.fits.column]\n"
     ]
    },
    {
     "name": "stdout",
     "output_type": "stream",
     "text": [
      "CPU times: user 10min 45s, sys: 12.8 s, total: 10min 58s\n",
      "Wall time: 11min 3s\n"
     ]
    }
   ],
   "source": [
    "%%time\n",
    "\n",
    "datasets = []\n",
    "\n",
    "for time_interval,obs in zip(year_intervals,obs_set):\n",
    "    dataset = make_map_dataset(obs, target_position, geom, geom_true)\n",
    "    dataset.counts.meta[\"t_start\"] = time_interval[0]\n",
    "    dataset.counts.meta[\"t_stop\"] = time_interval[1]\n",
    "    datasets.append(dataset)"
   ]
  },
  {
   "cell_type": "code",
   "execution_count": 176,
   "metadata": {},
   "outputs": [],
   "source": [
    "# on met le modèle dans chaque dataset, en 3D\n",
    "\n",
    "for dataset in datasets:\n",
    "    # Copy the source model\n",
    "    model = sky_model.copy(name=\"SgrA*\") + diffuse_model\n",
    "    dataset.model = model"
   ]
  },
  {
   "cell_type": "code",
   "execution_count": 177,
   "metadata": {},
   "outputs": [
    {
     "name": "stdout",
     "output_type": "stream",
     "text": [
      "MapDataset\n",
      "\n",
      "    Name                            :  \n",
      "\n",
      "    Total counts                    : 60230 \n",
      "    Total predicted counts          : 52322.88\n",
      "    Total background counts         : 36389.20\n",
      "\n",
      "    Exposure min                    : 2.39e+09 m2 s\n",
      "    Exposure max                    : 5.29e+10 m2 s\n",
      "\n",
      "    Number of total bins            : 2500 \n",
      "    Number of fit bins              : 0 \n",
      "\n",
      "    Fit statistic type              : cash\n",
      "    Fit statistic value (-2 log(L)) : -242977.55\n",
      "\n",
      "    Number of models                : 2 \n",
      "    Number of parameters            : 11\n",
      "    Number of free parameters       : 4\n",
      "\n",
      "    Component 0: \n",
      "        Name                        : SgrA*\n",
      "        Type                        : SkyModel\n",
      "        Spatial  model type         : PointSpatialModel\n",
      "        Spectral model type         : PowerLawSpectralModel\n",
      "        Parameters:\n",
      "            lon_0        (frozen)   : 359.940  deg\n",
      "            lat_0        (frozen)   : -0.040  deg\n",
      "            index                   : 2.300  \n",
      "            amplitude               : 2.00e-11  1 / (cm2 s TeV)\n",
      "            reference    (frozen)   : 1.000  TeV\n",
      "\n",
      "    Component 1: \n",
      "        Name                        : gll_iem_v06_gc.fits\n",
      "        Type                        : SkyDiffuseCube\n",
      "        Parameters:\n",
      "            norm                    : 0.010  \n",
      "            tilt         (frozen)   : 0.000  \n",
      "            reference    (frozen)   : 1.000  TeV\n",
      "\n",
      "    Component 2: \n",
      "        Name                        : background\n",
      "        Type                        : BackgroundModel\n",
      "        Parameters:\n",
      "            norm                    : 1.000  \n",
      "            tilt         (frozen)   : 0.000  \n",
      "            reference    (frozen)   : 1.000  TeV\n",
      "\n",
      "\n"
     ]
    }
   ],
   "source": [
    "print(datasets[0])"
   ]
  },
  {
   "cell_type": "code",
   "execution_count": 178,
   "metadata": {},
   "outputs": [],
   "source": [
    "#on n'ajuste le flux que d'une source, celle de CG, on peut pas encore le faire pour deux\n",
    "\n",
    "lc_maker = LightCurveEstimator(datasets, source=\"SgrA*\", reoptimize=False) "
   ]
  },
  {
   "cell_type": "code",
   "execution_count": 179,
   "metadata": {},
   "outputs": [
    {
     "name": "stderr",
     "output_type": "stream",
     "text": [
      "Fit failed for time bin between 2016-01-01T00:00:00.000 and 2016-12-31T23:59:59.000, setting NaN.\n",
      "Fit failed for time bin between 2017-01-01T00:00:00.000 and 2017-12-31T23:59:59.000, setting NaN.\n",
      "Fit failed for time bin between 2018-01-01T00:00:00.000 and 2018-12-31T23:59:59.000, setting NaN.\n"
     ]
    },
    {
     "name": "stdout",
     "output_type": "stream",
     "text": [
      "CPU times: user 2min 3s, sys: 1.8 s, total: 2min 5s\n",
      "Wall time: 2min 5s\n"
     ]
    }
   ],
   "source": [
    "%%time\n",
    "\n",
    "lc = lc_maker.run(e_ref=1 * u.TeV, e_min=1.0 * u.TeV, e_max=10.0 * u.TeV) # bon intervalle en énergie"
   ]
  },
  {
   "cell_type": "code",
   "execution_count": 180,
   "metadata": {},
   "outputs": [
    {
     "data": {
      "text/html": [
       "<i>Table length=16</i>\n",
       "<table id=\"table4842915208\" class=\"table-striped table-bordered table-condensed\">\n",
       "<thead><tr><th>time_min</th><th>time_max</th><th>flux</th><th>flux_err</th></tr></thead>\n",
       "<thead><tr><th></th><th></th><th>1 / (cm2 s)</th><th>1 / (cm2 s)</th></tr></thead>\n",
       "<thead><tr><th>float64</th><th>float64</th><th>float64</th><th>float64</th></tr></thead>\n",
       "<tr><td>53005.0</td><td>53370.99998842592</td><td>1.6098641290916133e-12</td><td>5.35996346383731e-14</td></tr>\n",
       "<tr><td>53371.0</td><td>53735.99997685212</td><td>1.6674488190779166e-12</td><td>5.198851041480319e-14</td></tr>\n",
       "<tr><td>53736.0</td><td>54100.99998842592</td><td>1.5611932859383747e-12</td><td>8.956552253320425e-14</td></tr>\n",
       "<tr><td>54101.0</td><td>54465.99998842592</td><td>1.4823492625775324e-12</td><td>1.4656851914275883e-13</td></tr>\n",
       "<tr><td>54466.0</td><td>54831.99997685212</td><td>1.7808189421196008e-12</td><td>1.2317754876076796e-13</td></tr>\n",
       "<tr><td>54832.0</td><td>55196.99998842592</td><td>1.3881521132901335e-12</td><td>2.2137088951054273e-13</td></tr>\n",
       "<tr><td>55197.0</td><td>55561.99998842592</td><td>1.6498735840914363e-12</td><td>1.2800959528815746e-13</td></tr>\n",
       "<tr><td>55562.0</td><td>55926.99998842592</td><td>1.3959583287601242e-12</td><td>1.2470400418628654e-13</td></tr>\n",
       "<tr><td>55927.0</td><td>56292.99998842592</td><td>1.611856268148387e-12</td><td>6.243768698580326e-14</td></tr>\n",
       "<tr><td>56293.0</td><td>56657.99998842592</td><td>1.3988548242487116e-12</td><td>5.0540836463068154e-14</td></tr>\n",
       "<tr><td>56658.0</td><td>57022.99998842592</td><td>1.423925378012597e-12</td><td>5.324118248541956e-14</td></tr>\n",
       "<tr><td>57023.0</td><td>57387.99998842592</td><td>1.427668054753862e-12</td><td>8.097514422262663e-14</td></tr>\n",
       "<tr><td>57388.0</td><td>57753.99997685212</td><td>nan</td><td>1.3691241903292258e-13</td></tr>\n",
       "<tr><td>57754.0</td><td>58118.99998842592</td><td>nan</td><td>4.4559616086781215e-13</td></tr>\n",
       "<tr><td>58119.0</td><td>58483.99998842592</td><td>nan</td><td>2.782719581835501e-13</td></tr>\n",
       "<tr><td>58484.0</td><td>58848.99998842592</td><td>1.6682068169946161e-12</td><td>9.1706413833298e-14</td></tr>\n",
       "</table>"
      ],
      "text/plain": [
       "<Table length=16>\n",
       "time_min      time_max              flux                 flux_err       \n",
       "                                1 / (cm2 s)            1 / (cm2 s)      \n",
       "float64       float64             float64                float64        \n",
       "-------- ----------------- ---------------------- ----------------------\n",
       " 53005.0 53370.99998842592 1.6098641290916133e-12   5.35996346383731e-14\n",
       " 53371.0 53735.99997685212 1.6674488190779166e-12  5.198851041480319e-14\n",
       " 53736.0 54100.99998842592 1.5611932859383747e-12  8.956552253320425e-14\n",
       " 54101.0 54465.99998842592 1.4823492625775324e-12 1.4656851914275883e-13\n",
       " 54466.0 54831.99997685212 1.7808189421196008e-12 1.2317754876076796e-13\n",
       " 54832.0 55196.99998842592 1.3881521132901335e-12 2.2137088951054273e-13\n",
       " 55197.0 55561.99998842592 1.6498735840914363e-12 1.2800959528815746e-13\n",
       " 55562.0 55926.99998842592 1.3959583287601242e-12 1.2470400418628654e-13\n",
       " 55927.0 56292.99998842592  1.611856268148387e-12  6.243768698580326e-14\n",
       " 56293.0 56657.99998842592 1.3988548242487116e-12 5.0540836463068154e-14\n",
       " 56658.0 57022.99998842592  1.423925378012597e-12  5.324118248541956e-14\n",
       " 57023.0 57387.99998842592  1.427668054753862e-12  8.097514422262663e-14\n",
       " 57388.0 57753.99997685212                    nan 1.3691241903292258e-13\n",
       " 57754.0 58118.99998842592                    nan 4.4559616086781215e-13\n",
       " 58119.0 58483.99998842592                    nan  2.782719581835501e-13\n",
       " 58484.0 58848.99998842592 1.6682068169946161e-12    9.1706413833298e-14"
      ]
     },
     "execution_count": 180,
     "metadata": {},
     "output_type": "execute_result"
    }
   ],
   "source": [
    "lc.table[\"time_min\", \"time_max\", \"flux\", \"flux_err\"]"
   ]
  },
  {
   "cell_type": "code",
   "execution_count": 182,
   "metadata": {},
   "outputs": [
    {
     "data": {
      "image/png": "[encoded data removed]",
      "text/plain": [
       "<Figure size 576x432 with 1 Axes>"
      ]
     },
     "metadata": {
      "needs_background": "light"
     },
     "output_type": "display_data"
    }
   ],
   "source": [
    "plt.figure(figsize=(8,6))\n",
    "lc.plot(marker=\"o\")\n",
    "plt.savefig(\"light_curveGC_DE.pdf\")"
   ]
  },
  {
   "cell_type": "code",
   "execution_count": 205,
   "metadata": {},
   "outputs": [],
   "source": [
    "def chisq(obs, exp):\n",
    "    chisq = 0\n",
    "    for i in range(len(obs)):\n",
    "        chisq = chisq + ((obs[i]-exp)**2)/(exp**2)\n",
    "    return chisq\n",
    "\n",
    "\n",
    "def chisqr(obs, exp, error):\n",
    "    chisqr = 0\n",
    "    for i in range(len(obs)):\n",
    "        chisqr = chisqr + ((obs[i]-exp)**2)/(error[i]**2)\n",
    "    return chisqr"
   ]
  },
  {
   "cell_type": "code",
   "execution_count": 208,
   "metadata": {},
   "outputs": [
    {
     "name": "stdout",
     "output_type": "stream",
     "text": [
      "1.3360020144347616e-13 1.0 32.05451417735498\n"
     ]
    }
   ],
   "source": [
    "flux = np.delete(lc.table[\"flux\"].data, [12,13,14])\n",
    "flux_err = np.delete(lc.table[\"flux_err\"].data, [12,13,14])\n",
    "import scipy.stats as stats\n",
    "\n",
    "\n",
    "A1 = flux\n",
    "A2 = np.mean(flux)\n",
    "err_bars = flux_err\n",
    "chi2, pval = stats.chisquare(A1, A2)\n",
    "chi2r = chisqr(A1, A2, err_bars)\n",
    "print(chi2, pval, chi2r)"
   ]
  },
  {
   "cell_type": "code",
   "execution_count": 211,
   "metadata": {},
   "outputs": [
    {
     "data": {
      "text/plain": [
       "<matplotlib.legend.Legend at 0x121378160>"
      ]
     },
     "execution_count": 211,
     "metadata": {},
     "output_type": "execute_result"
    },
    {
     "data": {
      "image/png": "[encoded data removed]",
      "text/plain": [
       "<Figure size 576x360 with 1 Axes>"
      ]
     },
     "metadata": {
      "needs_background": "light"
     },
     "output_type": "display_data"
    }
   ],
   "source": [
    "from astropy.modeling import models, fitting\n",
    "\n",
    "x = (lc.table[\"time_min\"].data + lc.table[\"time_max\"].data)/2\n",
    "y = A1\n",
    "y_uncs = lc.table[\"flux_err\"].data\n",
    "\n",
    "x = np.delete(x, [12,13,14])\n",
    "\n",
    "y_uncs = np.delete(y_uncs, [12,13,14])\n",
    "\n",
    "\n",
    "# Fit the data using a box model.\n",
    "# Bounds are not really needed but included here to demonstrate usage.\n",
    "t_init = models.Const1D(1e-12)\n",
    "fit_t = fitting.LevMarLSQFitter()\n",
    "t = fit_t(t_init, x, y, weights=1.0/y_uncs)\n",
    "\n",
    "\n",
    "# Plot the data with the best-fit model\n",
    "plt.figure(figsize=(8,5))\n",
    "plt.plot(x, y, 'ko')\n",
    "plt.errorbar(x, y, yerr=y_uncs, fmt='kx', label=\"data\")\n",
    "plt.plot(x, t(x), label='constant')\n",
    "plt.xlabel('time')\n",
    "plt.ylabel('Flux')\n",
    "plt.legend(loc=2)"
   ]
  },
  {
   "cell_type": "code",
   "execution_count": 214,
   "metadata": {},
   "outputs": [
    {
     "name": "stdout",
     "output_type": "stream",
     "text": [
      "1.338977407905207e-13 1.0 32.03702720848416\n"
     ]
    }
   ],
   "source": [
    "A1 = flux\n",
    "A2 = t(55000)\n",
    "err_bars = flux_err\n",
    "chi2, pval = stats.chisquare(A1, A2)\n",
    "chi2r = chisqr(A1, A2, err_bars)\n",
    "print(chi2, pval, chi2r)"
   ]
  },
  {
   "cell_type": "code",
   "execution_count": 215,
   "metadata": {},
   "outputs": [
    {
     "data": {
      "text/plain": [
       "1.5408369685467088e-12"
      ]
     },
     "execution_count": 215,
     "metadata": {},
     "output_type": "execute_result"
    }
   ],
   "source": [
    "t(55000)"
   ]
  },
  {
   "cell_type": "code",
   "execution_count": 226,
   "metadata": {},
   "outputs": [
    {
     "name": "stdout",
     "output_type": "stream",
     "text": [
      "MapDataset\n",
      "\n",
      "    Name                            :  \n",
      "\n",
      "    Total counts                    : 60230 \n",
      "    Total predicted counts          : 62715.30\n",
      "    Total background counts         : 49551.53\n",
      "\n",
      "    Exposure min                    : 2.39e+09 m2 s\n",
      "    Exposure max                    : 5.29e+10 m2 s\n",
      "\n",
      "    Number of total bins            : 2500 \n",
      "    Number of fit bins              : 0 \n",
      "\n",
      "    Fit statistic type              : cash\n",
      "    Fit statistic value (-2 log(L)) : -265493.32\n",
      "\n",
      "    Number of models                : 2 \n",
      "    Number of parameters            : 9\n",
      "    Number of free parameters       : 2\n",
      "\n",
      "    Component 0: \n",
      "        Name                        : SgrA*\n",
      "        Type                        : SkyModel\n",
      "        Spatial  model type         : PointSpatialModel\n",
      "        Spectral model type         : ScaleSpectralModel\n",
      "        Parameters:\n",
      "            lon_0        (frozen)   : 359.940  deg\n",
      "            lat_0        (frozen)   : -0.040  deg\n",
      "            norm         (frozen)   : 0.000  \n",
      "\n",
      "    Component 1: \n",
      "        Name                        : gll_iem_v06_gc.fits\n",
      "        Type                        : SkyDiffuseCube\n",
      "        Parameters:\n",
      "            norm                    : 11.118  \n",
      "            tilt         (frozen)   : 0.000  \n",
      "            reference    (frozen)   : 1.000  TeV\n",
      "\n",
      "    Component 2: \n",
      "        Name                        : background\n",
      "        Type                        : BackgroundModel\n",
      "        Parameters:\n",
      "            norm                    : 1.362  \n",
      "            tilt         (frozen)   : 0.000  \n",
      "            reference    (frozen)   : 1.000  TeV\n",
      "\n",
      "\n"
     ]
    }
   ],
   "source": [
    "# la classe/fonction light curve modifie le dataset, notamment on passe d'un modèle ponctuel pour SgrA* à un ScaleSpectralModel, ce n'est pas censé faire ça\n",
    "\n",
    "\n",
    "print(datasets[0])"
   ]
  },
  {
   "cell_type": "code",
   "execution_count": 227,
   "metadata": {},
   "outputs": [],
   "source": [
    "dataset2004 = datasets[0]"
   ]
  },
  {
   "cell_type": "code",
   "execution_count": 274,
   "metadata": {},
   "outputs": [
    {
     "data": {
      "text/plain": [
       "(<matplotlib.axes._subplots.WCSAxesSubplot at 0x11e437128>, None)"
      ]
     },
     "execution_count": 274,
     "metadata": {},
     "output_type": "execute_result"
    },
    {
     "data": {
      "image/png": "[encoded data removed]",
      "text/plain": [
       "<Figure size 720x720 with 2 Axes>"
      ]
     },
     "metadata": {
      "needs_background": "light"
     },
     "output_type": "display_data"
    }
   ],
   "source": [
    "datasets[0].plot_residuals(smooth_kernel='gauss', smooth_radius='0.1 deg', region=None, figsize=(10, 10))"
   ]
  },
  {
   "cell_type": "code",
   "execution_count": 261,
   "metadata": {
    "collapsed": true,
    "jupyter": {
     "outputs_hidden": true,
     "source_hidden": true
    }
   },
   "outputs": [
    {
     "data": {
      "text/plain": [
       "(<Figure size 720x720 with 2 Axes>,\n",
       " <matplotlib.axes._subplots.WCSAxesSubplot at 0x122136438>,\n",
       " <matplotlib.colorbar.Colorbar at 0x11ffc2e80>)"
      ]
     },
     "execution_count": 261,
     "metadata": {},
     "output_type": "execute_result"
    },
    {
     "data": {
      "image/png": "[encoded data removed]",
      "text/plain": [
       "<Figure size 720x720 with 2 Axes>"
      ]
     },
     "metadata": {
      "needs_background": "light"
     },
     "output_type": "display_data"
    }
   ],
   "source": [
    "fig = plt.figure(figsize=(10,10))\n",
    "smooth_radius=\"0.1 deg\"\n",
    "smooth_kernel = 'gauss'\n",
    "method=\"diff\"\n",
    "\n",
    "counts, npred = dataset2004.counts, dataset2004.npred()\n",
    "\n",
    "if dataset2004.mask is not None:\n",
    "        counts = counts * dataset2004.mask\n",
    "        npred = npred * dataset2004.mask\n",
    "\n",
    "counts_spatial = counts.sum_over_axes().smooth(\n",
    "        width=smooth_radius, kernel=smooth_kernel\n",
    ")\n",
    "npred_spatial = npred.sum_over_axes().smooth(\n",
    "                width=smooth_radius, kernel=smooth_kernel\n",
    "            )\n",
    "spatial_residuals = dataset2004._compute_residuals(\n",
    "                counts_spatial, npred_spatial, method\n",
    "            )\n",
    "\n",
    "spatial_residuals.data[dataset2004.exposure.data[0] == 0] = np.nan\n",
    "\n",
    "# If no region is provided, skip spectral residuals\n",
    "ncols = 2\n",
    "ax_image = fig.add_subplot(1, ncols, 1, projection=spatial_residuals.geom.wcs)\n",
    "ax_spec = None\n",
    "\n",
    "#kwargs.setdefault(\"cmap\", \"coolwarm\")\n",
    "#kwargs.setdefault(\"stretch\", \"linear\")\n",
    "#kwargs.setdefault(\"vmin\", -5)\n",
    "#kwargs.setdefault(\"vmax\", 5)\n",
    "spatial_residuals.plot(ax=ax_image, add_cbar=True, cmap=\"coolwarm\", stretch=\"linear\")"
   ]
  },
  {
   "cell_type": "code",
   "execution_count": 272,
   "metadata": {},
   "outputs": [
    {
     "data": {
      "image/png": "[encoded data removed]",
      "text/plain": [
       "<Figure size 432x288 with 2 Axes>"
      ]
     },
     "metadata": {
      "needs_background": "light"
     },
     "output_type": "display_data"
    }
   ],
   "source": [
    "dataset2004.counts.smooth(\"0.1 deg\").plot_interactive(cmap=\"coolwarm\", add_cbar=True, stretch=\"linear\", vmin=15, vmax=50)"
   ]
  },
  {
   "cell_type": "code",
   "execution_count": 273,
   "metadata": {},
   "outputs": [
    {
     "data": {
      "image/png": "[encoded data removed]",
      "text/plain": [
       "<Figure size 432x288 with 2 Axes>"
      ]
     },
     "metadata": {
      "needs_background": "light"
     },
     "output_type": "display_data"
    }
   ],
   "source": [
    "dataset2004.npred().smooth(\"0.1 deg\").plot_interactive(cmap=\"coolwarm\", add_cbar=True, stretch=\"linear\", vmin=15, vmax=50)"
   ]
  },
  {
   "cell_type": "code",
   "execution_count": null,
   "metadata": {},
   "outputs": [],
   "source": []
  }
 ],
 "metadata": {
  "kernelspec": {
   "display_name": "Python 3",
   "language": "python",
   "name": "python3"
  },
  "language_info": {
   "codemirror_mode": {
    "name": "ipython",
    "version": 3
   },
   "file_extension": ".py",
   "mimetype": "text/x-python",
   "name": "python",
   "nbconvert_exporter": "python",
   "pygments_lexer": "ipython3",
   "version": "3.7.0"
  }
 },
 "nbformat": 4,
 "nbformat_minor": 4
}
